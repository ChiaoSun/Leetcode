{
 "cells": [
  {
   "cell_type": "markdown",
   "metadata": {},
   "source": [
    "You are given N records.\n",
    "The content of the i-th record is represented by a string Si.\n",
    "These records are managed in pages, as follows:\n",
    "\n",
    "The first page: contains the first, ..., K-th records.\n",
    "The second page: contains the (K+1)-th, ..., 2K-th records.\n",
    "The third page: contains the (2K+1)-th, ..., 3K-th records.\n",
    ":\n",
    "The ceil(N⁄K)-th page: contains the ((ceil(N⁄K)−1)K+1)-th, ..., N-th records.\n",
    "Here, ceil(X) represents the smallest integer not less than X.\n",
    "Print the contents of the records contained in the M-th page, in the order given.\n",
    "\n",
    "Constraints\n",
    "1≤N≤100\n",
    "1≤K≤N\n",
    "1≤M≤ceil(N⁄K)\n",
    "1≤|Si|≤100 (1≤i≤N), where |S| is the length of S.\n",
    "Si is a string consisting of lowercase English letters.\n",
    "Input\n",
    "Input is given from Standard Input in the following format:\n",
    "\n",
    "N K M\n",
    "S1\n",
    "S2\n",
    ":\n",
    "SN\n",
    "Output\n",
    "Print the contents of the records contained in the M-th page, in the order given.\n",
    "Use L lines, where L is the number of records that should be printed.\n",
    "The i-th line (1≤i≤L) should contain the content of the i-th record contained in the M-th page."
   ]
  },
  {
   "cell_type": "code",
   "execution_count": 36,
   "metadata": {},
   "outputs": [
    {
     "name": "stdout",
     "output_type": "stream",
     "text": [
      "[0, 0, 0, 0, 0]\n",
      "[1, 0, 0, 1, 0]\n",
      "OK\n",
      "NG\n",
      "OK\n"
     ]
    }
   ],
   "source": [
    "def ReservingRoom(N, array1, array2):\n",
    "    rooms = [0]*N\n",
    "    print(rooms)\n",
    "    for i in array1:\n",
    "        start, end = i[0],i[1]\n",
    "        for i in range(start-1, end):\n",
    "            rooms[i] = 1\n",
    "    print(rooms)\n",
    "    for j in array2:\n",
    "        start, end = j[0],j[1]\n",
    "        temp = rooms[start-1: end]\n",
    "        if sum(temp) > 0:\n",
    "            print(\"NG\")\n",
    "        else:\n",
    "            print(\"OK\")\n",
    "            for i in range(start-1, end):\n",
    "                rooms[i] = 1\n",
    "N = 5    \n",
    "array1 = [ [1,1], [4,4] ]\n",
    "array2 = [ [3,3], [2,3], [5,5] ]\n",
    "\n",
    "# N = 1000000000  \n",
    "# array1 = [ [2,999999999] ]\n",
    "# array2 = [ [1,1000000000], [500000000,500000000], [1,1], [1000000000,1000000000] ]\n",
    "ReservingRoom(N, array1, array2)"
   ]
  },
  {
   "cell_type": "markdown",
   "metadata": {},
   "source": [
    "Problem Statement\n",
    "You are given an array of length N consisting of integers, a={a1,…,aN}, and an integer L.\n",
    "\n",
    "Consider the following subproblem:\n",
    "\n",
    "You are given an integer S.\n",
    "Find the largest value in the interval [S,S+L−1] in the sequence a, that is, find max(aS,…,aS+L−1).\n",
    "Solve this subproblem for every S=1,…,N−L+1.\n",
    "\n",
    "Constraints\n",
    "1≤N≤105\n",
    "1≤L≤N\n",
    "−109≤ai≤109\n",
    "Input\n",
    "Input is given from Standard Input in the following format:\n",
    "\n",
    "N L\n",
    "a1 … aN\n",
    "Output\n",
    "Print the answers in N−L+1 lines.\n",
    "The i-th line should contain the answer to the subproblem where S=i."
   ]
  },
  {
   "cell_type": "code",
   "execution_count": 22,
   "metadata": {},
   "outputs": [
    {
     "name": "stdout",
     "output_type": "stream",
     "text": [
      "[-1000000000]\n",
      "-1000000000\n",
      "\n",
      "[1000000000]\n",
      "1000000000\n",
      "\n",
      "[-1000000000]\n",
      "-1000000000\n",
      "\n",
      "[1000000000]\n",
      "1000000000\n",
      "\n"
     ]
    }
   ],
   "source": [
    "def Max_mum_inter(N, L, array):\n",
    "    S = N-L\n",
    "    for i in range(S+1):\n",
    "        print(max(array[i:i+L]))\n",
    "# N = 5\n",
    "# L = 3\n",
    "# array = [3, 4, 2, 1, 5]\n",
    "\n",
    "# N = 10\n",
    "# L = 5\n",
    "# array = [-253230108, 363756450, 712662868, 735867677, 193944314, 586260100, -192321079, 95834122, 802780784, 418379342]\n",
    "\n",
    "N = 4\n",
    "L = 1\n",
    "array = [-1000000000, 1000000000, -1000000000, 1000000000]\n",
    "\n",
    "Max_mum_inter(N,L,array)"
   ]
  },
  {
   "cell_type": "code",
   "execution_count": null,
   "metadata": {
    "collapsed": true
   },
   "outputs": [],
   "source": [
    "N, L = map(int, input().split(\" \"))\n",
    "array = list(map(int, input().split(\" \") ) )\n",
    "S = N-L+1\n",
    "for i in range(S):\n",
    "    print(max(array[i:i+L]))"
   ]
  },
  {
   "cell_type": "code",
   "execution_count": null,
   "metadata": {},
   "outputs": [],
   "source": [
    "N, K, M = map(int, input().split(\" \") )\n",
    "\n",
    "K_record_per_page = K\n",
    "N_records = []\n",
    "for i in range(0, N):\n",
    "    N_records.append(input())\n",
    "M_th_page = M\n",
    "\n",
    "i_start = K_record_per_page*(M_th_page - 1)\n",
    "i_end = K_record_per_page*(M_th_page)\n",
    "if i_end > len(N_records):\n",
    "    i_end = len(N_records)\n",
    "\n",
    "for i in range(i_start,i_end):\n",
    "    print(N_records[i])"
   ]
  },
  {
   "cell_type": "code",
   "execution_count": null,
   "metadata": {},
   "outputs": [],
   "source": [
    "N, M = map(int, input().split(\" \"))\n",
    "interval_M = []\n",
    "interval_Q = []\n",
    "M_a, M_b = 0,0 \n",
    "\n",
    "for i in range(M):\n",
    "    M_a, M_b = map(int, input().split(\" \"))\n",
    "    interval_M.append([M_a, M_b])\n",
    "\n",
    "\n",
    "Q = int(input())\n",
    "for i in range(Q):\n",
    "    Q_c, Q_d = map(int, input().split(\" \"))\n",
    "    interval_Q.append([Q_c, Q_d])\n",
    "\n",
    "array = [ 0 for i in range(1,N+1)]\n",
    "\n",
    "for i in range(len(interval_M)):\n",
    "    if \n",
    "    "
   ]
  },
  {
   "cell_type": "code",
   "execution_count": null,
   "metadata": {},
   "outputs": [],
   "source": [
    "N, M = map(int, input().split(\" \"))\n",
    "rooms =  [0] * N\n",
    "interval_M = []\n",
    "interval_Q = []\n",
    "M_a, M_b = 0,0 \n",
    "\n",
    "for i in range(M):\n",
    "    M_a, M_b = map(int, input().split(\" \"))\n",
    "\n",
    "for i in range(M_a-1, M_b-1):\n",
    "    rooms[i] = 1\n",
    "    \n",
    "f= False \n",
    "Q = int(input())\n",
    "for i in range(Q):\n",
    "    Q_c, Q_d = map(int, input().split(\" \"))\n",
    "    for i in range(Q_c-1, Q_d-1):\n",
    "        if (rooms[i] == 1) :\n",
    "            print(\"NG\")\n",
    "            f = False \n",
    "            break\n",
    "    else: \n",
    "      f = True\n",
    "  if (f) :   \n",
    "    print(\"OK\")"
   ]
  },
  {
   "cell_type": "code",
   "execution_count": 6,
   "metadata": {},
   "outputs": [
    {
     "name": "stdout",
     "output_type": "stream",
     "text": [
      "NG\n",
      "NG\n",
      "OK\n",
      "OK\n"
     ]
    }
   ],
   "source": [
    "class Solution:\n",
    "    def sol(self, occupied):\n",
    "        occupied = sorted(occupied, key = lambda x:x[0])\n",
    "        res = [occupied[0]]\n",
    "        for i in occupied[1:]:\n",
    "            if i[0] <= res[-1][1] or i[0]==res[-1][1]+1:\n",
    "                res[-1][1] = max(i[1], res[-1][1])\n",
    "            else:\n",
    "                res.append(i)\n",
    "        return res\n",
    "    def merge(self, occupied, constrain):\n",
    "        occupied = self.sol(occupied)\n",
    "        for c in constrain:\n",
    "            cnt = 0\n",
    "            for o in occupied:\n",
    "                if c[0] > o[1] or c[1] < o[0]:\n",
    "                    cnt+=1\n",
    "            if cnt == len(occupied):\n",
    "                occupied.append(c)\n",
    "                occupied = self.sol(occupied)\n",
    "                print(\"OK\")\n",
    "            else:\n",
    "                print(\"NG\")\n",
    "# a = [[1,1],[4,4]]\n",
    "# b = [[2, 3], [2, 3], [5, 5]]\n",
    "a = [[2,999999999]]\n",
    "b = [[1,1000000000 ], [500000000, 500000000], [1, 1], [1000000000, 1000000000]]\n",
    "A = Solution()\n",
    "A.merge(a,b)"
   ]
  },
  {
   "cell_type": "code",
   "execution_count": null,
   "metadata": {},
   "outputs": [],
   "source": []
  }
 ],
 "metadata": {
  "kernelspec": {
   "display_name": "Python 3",
   "language": "python",
   "name": "python3"
  },
  "language_info": {
   "codemirror_mode": {
    "name": "ipython",
    "version": 3
   },
   "file_extension": ".py",
   "mimetype": "text/x-python",
   "name": "python",
   "nbconvert_exporter": "python",
   "pygments_lexer": "ipython3",
   "version": "3.6.2"
  }
 },
 "nbformat": 4,
 "nbformat_minor": 2
}
