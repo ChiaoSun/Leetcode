{
 "cells": [
  {
   "cell_type": "code",
   "execution_count": 14,
   "metadata": {},
   "outputs": [
    {
     "name": "stdout",
     "output_type": "stream",
     "text": [
      "['X', 'X', 'X', 'X']\n",
      "['X', 'O', 'O', 'X']\n",
      "['X', 'X', 'O', 'X']\n",
      "['X', '1', 'X', 'X']\n"
     ]
    }
   ],
   "source": [
    "## 130. Surrounded Regions\n",
    "class Solution:\n",
    "    def solve(self, board):\n",
    "        \"\"\"\n",
    "        :type board: List[List[str]]\n",
    "        :rtype: void Do not return anything, modify board in-place instead.\n",
    "        \"\"\"\n",
    "        def dfs(i,j):\n",
    "            if 0 <= i < height and 0 <= width:\n",
    "                board[i][j] = 1\n",
    "                if board[i-1][j] == \"O\":\n",
    "                    dfs(i-1,j)\n",
    "                if board[i+1][j] == \"O\":\n",
    "                    dfs(i+1,j)        \n",
    "                if board[i][j-1] == \"O\":\n",
    "                    dfs(i,j-1)\n",
    "                if board[i][j+1] == \"O\":\n",
    "                    dfs(i,j+1)                    \n",
    "                    \n",
    "        height, width = len(grid), len(grid[0])\n",
    "        for i in range(height):\n",
    "            for j in range(width):\n",
    "                if (i == 0 or i == height-1) and board[i][j]==\"O\":\n",
    "                    board[i][j] = \"1\"\n",
    "                if (j == 0 or j == width-1) and board[i][j] == \"O\":\n",
    "                    board[i][j] = \"1\"\n",
    "        for i in range(height):\n",
    "            print(grid[i])\n",
    "            \n",
    "grid = [[\"X\",\"X\",\"X\",\"X\"],[\"X\",\"O\",\"O\",\"X\"],[\"X\",\"X\",\"O\",\"X\"],[\"X\",\"O\",\"X\",\"X\"]]\n",
    "a = Solution()\n",
    "a.solve(grid)\n"
   ]
  },
  {
   "cell_type": "code",
   "execution_count": 8,
   "metadata": {},
   "outputs": [
    {
     "name": "stdout",
     "output_type": "stream",
     "text": [
      "[1, 0, 0, 1]\n",
      "[0, 1, 1, 0]\n",
      "[0, 1, 1, 1]\n",
      "[1, 0, 1, 1]\n"
     ]
    },
    {
     "data": {
      "text/plain": [
       "4"
      ]
     },
     "execution_count": 8,
     "metadata": {},
     "output_type": "execute_result"
    }
   ],
   "source": [
    "## 547. Friend Circles\n",
    "class Solution:\n",
    "    def findCircleNum(self, grid):\n",
    "        \"\"\"\n",
    "        :type M: List[List[int]]\n",
    "        :rtype: int\n",
    "        \"\"\"\n",
    "        def dfs(i, j):\n",
    "            if 0 <= i < height and 0 <= j < width and grid[i][j]==1:\n",
    "                grid[i][j] = 0\n",
    "                return 1 + dfs(i,j-1) + dfs(i, j+1) + dfs(i-1,j) + dfs(i+1,j)\n",
    "            return 0\n",
    "        areas = []\n",
    "        height, width = len(grid), len(grid[0])\n",
    "\n",
    "        for i in range(height):\n",
    "            for j in range(width):\n",
    "                if grid[i][j]==1:\n",
    "                    areas.append(dfs(i,j))\n",
    "        return len(areas) if areas else 0       \n",
    "grid = [[1,0,0,1],[0,1,1,0],[0,1,1,1],[1,0,1,1]]\n",
    "for i in range(len(grid)):\n",
    "    print(grid[i])\n",
    "a = Solution()\n",
    "a.findCircleNum(grid)"
   ]
  },
  {
   "cell_type": "code",
   "execution_count": 2,
   "metadata": {},
   "outputs": [
    {
     "name": "stdout",
     "output_type": "stream",
     "text": [
      "[9]\n"
     ]
    },
    {
     "data": {
      "text/plain": [
       "1"
      ]
     },
     "execution_count": 2,
     "metadata": {},
     "output_type": "execute_result"
    }
   ],
   "source": [
    "##200. Number of Islands\n",
    "class Solution:\n",
    "    def numIslands(self, grid):\n",
    "        \"\"\"\n",
    "        :type grid: List[List[str]]\n",
    "        :rtype: int\n",
    "        \"\"\"\n",
    "        def dfs(i, j):\n",
    "            if 0 <= i < height and 0 <= j < width and grid[i][j]==\"1\":\n",
    "                grid[i][j] = \"0\"\n",
    "                return 1 + dfs(i,j-1) + dfs(i, j+1) + dfs(i-1,j) + dfs(i+1,j)\n",
    "            return 0\n",
    "        areas = []\n",
    "        height, width = len(grid), len(grid[0])\n",
    "\n",
    "        for i in range(height):\n",
    "            for j in range(width):\n",
    "                if grid[i][j]==\"1\":\n",
    "                    areas.append(dfs(i,j))\n",
    "        return len(areas) if areas else 0\n",
    "\n",
    "grid = [[\"1\",\"1\",\"1\",\"1\",\"0\"],[\"1\",\"1\",\"0\",\"1\",\"0\"],[\"1\",\"1\",\"0\",\"0\",\"0\"],[\"0\",\"0\",\"0\",\"0\",\"0\"]]\n",
    "a = Solution()\n",
    "a.numIslands(grid)\n"
   ]
  },
  {
   "cell_type": "code",
   "execution_count": 78,
   "metadata": {},
   "outputs": [
    {
     "data": {
      "text/plain": [
       "6"
      ]
     },
     "execution_count": 78,
     "metadata": {},
     "output_type": "execute_result"
    }
   ],
   "source": [
    "## 695. Max Area of Island\n",
    "class Solution:\n",
    "    def maxAreaOfIsland(self, grid):\n",
    "        \"\"\"\n",
    "        :type grid: List[List[int]]\n",
    "        :rtype: int\n",
    "        \"\"\"\n",
    "        \n",
    "        def dfs(i, j):\n",
    "            if 0 <= i < height and 0 <= j < width and grid[i][j]:\n",
    "                grid[i][j] = 0\n",
    "                return 1 + dfs(i,j-1) + dfs(i, j+1) + dfs(i-1,j) + dfs(i+1,j)\n",
    "            return 0\n",
    "        areas = []\n",
    "        height, width = len(grid), len(grid[0])\n",
    "\n",
    "        for i in range(height):\n",
    "            for j in range(width):\n",
    "                if grid[i][j]==1:\n",
    "                    areas.append(dfs(i,j))\n",
    "        return max(areas) if areas else 0\n",
    "    \n",
    "grid =[[0,0,1,0,0,0,0,1,0,0,0,0,0],\n",
    " [0,0,0,0,0,0,0,1,1,1,0,0,0],\n",
    " [0,1,1,0,1,0,0,0,0,0,0,0,0],\n",
    " [0,1,0,0,1,1,0,0,1,0,1,0,0],\n",
    " [0,1,0,0,1,1,0,0,1,1,1,0,0],\n",
    " [0,0,0,0,0,0,0,0,0,0,1,0,0],\n",
    " [0,0,0,0,0,0,0,1,1,1,0,0,0],\n",
    " [0,0,0,0,0,0,0,1,1,0,0,0,0]]\n",
    "\n",
    "# grid = [[0,0,0,0,0,0,0,0]]\n",
    "\n",
    "a = Solution()\n",
    "a.maxAreaOfIsland(grid)\n"
   ]
  },
  {
   "cell_type": "code",
   "execution_count": 65,
   "metadata": {},
   "outputs": [
    {
     "name": "stdout",
     "output_type": "stream",
     "text": [
      "2\n",
      "3\n"
     ]
    },
    {
     "data": {
      "text/plain": [
       "1"
      ]
     },
     "execution_count": 65,
     "metadata": {},
     "output_type": "execute_result"
    }
   ],
   "source": [
    "## 153. Find Minimum in Rotated Sorted Array\n",
    "\n",
    "class Solution:\n",
    "    def findMin(self, nums):\n",
    "        \"\"\"\n",
    "        :type nums: List[int]\n",
    "        :rtype: int\n",
    "        \"\"\"        \n",
    "        l, r = 0, len(nums)-1\n",
    "        while l < r:\n",
    "            mid = l+(r-l)//2\n",
    "            print(mid)\n",
    "            if nums[mid] > nums[r]:\n",
    "                l = mid +1\n",
    "            else:\n",
    "                r = mid\n",
    "        return nums[l]\n",
    "a = Solution()\n",
    "Input = [3,4,5,1,2]\n",
    "a.findMin(Input)        "
   ]
  },
  {
   "cell_type": "code",
   "execution_count": 60,
   "metadata": {},
   "outputs": [
    {
     "data": {
      "text/plain": [
       "2"
      ]
     },
     "execution_count": 60,
     "metadata": {},
     "output_type": "execute_result"
    }
   ],
   "source": [
    "## 540. Single Element in a Sorted Array\n",
    "class Solution:\n",
    "    def singleNonDuplicate(self, nums):\n",
    "        \"\"\"\n",
    "        :type nums: List[int]\n",
    "        :rtype: int\n",
    "        \"\"\"\n",
    "        l, r = 0, len(nums)-1\n",
    "        while l < r:\n",
    "            mid = l + (r - l)/2\n",
    "            if mid % 2 == 0:\n",
    "                if nums[int(mid)] == nums[int(mid)+1]:\n",
    "                    l = mid + 2\n",
    "                else:\n",
    "                    r = mid\n",
    "            else:\n",
    "                if nums[int(mid)] == nums[int(mid)-1]:\n",
    "                    l = mid + 1\n",
    "                else:\n",
    "                    r = mid - 1\n",
    "        return nums[int(l)]\n",
    "a = Solution()\n",
    "Input = [1,1,2,3,3,4,4,8,8]\n",
    "a.singleNonDuplicate(Input)\n",
    "    "
   ]
  },
  {
   "cell_type": "code",
   "execution_count": 44,
   "metadata": {},
   "outputs": [
    {
     "data": {
      "text/plain": [
       "2"
      ]
     },
     "execution_count": 44,
     "metadata": {},
     "output_type": "execute_result"
    }
   ],
   "source": [
    "## 69. Sqrt(x)\n",
    "import math\n",
    "class Solution:\n",
    "    def mySqrt(self, x):\n",
    "        \"\"\"\n",
    "        :type x: int\n",
    "        :rtype: int\n",
    "        \"\"\"\n",
    "        left, right = 0, x\n",
    "        while left <= right:\n",
    "            mid = (right-left)//2\n",
    "\n",
    "            if mid*mid <= x < (mid+1)*(mid+1):\n",
    "                return mid\n",
    "            elif mid*mid > x:\n",
    "                right = mid\n",
    "            elif mid*mid < x :\n",
    "                left = mid-1\n",
    "        return mid\n",
    "                \n",
    "        \n",
    "a = Solution()\n",
    "Input = 8\n",
    "a.mySqrt(Input)"
   ]
  },
  {
   "cell_type": "code",
   "execution_count": 36,
   "metadata": {},
   "outputs": [
    {
     "data": {
      "text/plain": [
       "26"
      ]
     },
     "execution_count": 36,
     "metadata": {},
     "output_type": "execute_result"
    }
   ],
   "source": [
    "class Solution:\n",
    "    def maxProfit(self, prices):\n",
    "        \"\"\"\n",
    "        :type prices: List[int]\n",
    "        :rtype: int\n",
    "        \"\"\"\n",
    "        max_profit, min_price = 0, float('inf')\n",
    "        for price in prices:\n",
    "            min_price = min(min_price, price)\n",
    "            profit = price - min_price\n",
    "            max_profit = max(max_profit, profit)\n",
    "        return max_profit\n",
    "\n",
    "\n",
    "a = Solution()\n",
    "Input = [7,1,5,3,6,4]\n",
    "# Input = [7,6,4,3,1]\n",
    "a.maxProfit(Input)"
   ]
  },
  {
   "cell_type": "code",
   "execution_count": 23,
   "metadata": {},
   "outputs": [
    {
     "name": "stdout",
     "output_type": "stream",
     "text": [
      "[-2, 1, -2, 4, 3, 5, 6, 1, 5]\n"
     ]
    },
    {
     "data": {
      "text/plain": [
       "6"
      ]
     },
     "execution_count": 23,
     "metadata": {},
     "output_type": "execute_result"
    }
   ],
   "source": [
    "## 53. Maximum Subarray\n",
    "class Solution:\n",
    "    def maxSubArray(self, nums):\n",
    "        \"\"\"\n",
    "        :type nums: List[int]\n",
    "        :rtype: int\n",
    "        \"\"\"\n",
    "        dp = [0] * len(nums)\n",
    "        dp[0] = nums[0]\n",
    "        for i in range(1,len(dp)):\n",
    "            dp[i] = max(dp[i-1] + nums[i], nums[i])\n",
    "        return max(dp)\n",
    "a = Solution()\n",
    "Input = [-2,1,-3,4,-1,2,1,-5,4]\n",
    "a.maxSubArray(Input)\n",
    "    "
   ]
  },
  {
   "cell_type": "code",
   "execution_count": 19,
   "metadata": {},
   "outputs": [
    {
     "data": {
      "text/plain": [
       "7"
      ]
     },
     "execution_count": 19,
     "metadata": {},
     "output_type": "execute_result"
    }
   ],
   "source": [
    "## 122. Best Time to Buy and Sell Stock II\n",
    "def maxProfit(prices):\n",
    "    \"\"\"\n",
    "    :type prices: List[int]\n",
    "    :rtype: int\n",
    "    \"\"\"\n",
    "    profit = 0\n",
    "    for i in range(1,len(prices)):\n",
    "        if prices[i] - prices[i-1] > 0:\n",
    "            profit += prices[i] - prices[i-1]\n",
    "    return profit\n",
    "Input = [7,1,5,3,6,4]\n",
    "maxProfit(Input)"
   ]
  },
  {
   "cell_type": "code",
   "execution_count": 18,
   "metadata": {},
   "outputs": [
    {
     "name": "stdout",
     "output_type": "stream",
     "text": [
      "3\n"
     ]
    },
    {
     "data": {
      "text/plain": [
       "True"
      ]
     },
     "execution_count": 18,
     "metadata": {},
     "output_type": "execute_result"
    }
   ],
   "source": [
    "## 392. Is Subsequence\n",
    "def isSubsequence(s, t):\n",
    "    \"\"\"\n",
    "    :type s: str\n",
    "    :type t: str\n",
    "    :rtype: bool\n",
    "    \"\"\"\n",
    "    s_pointer, t_pointer = 0,0\n",
    "    while s_pointer < len(s) and t_pointer < len(t):\n",
    "        if s[s_pointer] == t[t_pointer]:\n",
    "            s_pointer += 1\n",
    "        t_pointer += 1\n",
    "    print(s_pointer)\n",
    "    if s_pointer == len(s):\n",
    "        return True\n",
    "    else:\n",
    "        return False\n",
    "    \n",
    "s = \"abc\"\n",
    "t = \"ahbgdc\"\n",
    "isSubsequence(s, t)"
   ]
  },
  {
   "cell_type": "code",
   "execution_count": 1,
   "metadata": {},
   "outputs": [
    {
     "data": {
      "text/plain": [
       "True"
      ]
     },
     "execution_count": 1,
     "metadata": {},
     "output_type": "execute_result"
    }
   ],
   "source": [
    "## 605. Can Place Flowers\n",
    "\n",
    "def canPlaceFlowers(flowerbed, n):\n",
    "    \"\"\"\n",
    "    :type flowerbed: List[int]\n",
    "    :type n: int\n",
    "    :rtype: bool\n",
    "    \"\"\"\n",
    "    flowerbed = [0] + flowerbed + [0]\n",
    "    for i in range(1,len(flowerbed)-1):\n",
    "        if flowerbed[i-1] == 0 and flowerbed[i+1]==0 and flowerbed[i]==0:\n",
    "            flowerbed[i] = 1\n",
    "            n-=1\n",
    "            if n == 0 :\n",
    "                return True\n",
    "\n",
    "            return False\n",
    "    \n",
    "flowerbed = [0,0,1,0,0]\n",
    "n = 1\n",
    "\n",
    "canPlaceFlowers (flowerbed, n)"
   ]
  },
  {
   "cell_type": "code",
   "execution_count": 6,
   "metadata": {},
   "outputs": [
    {
     "name": "stdout",
     "output_type": "stream",
     "text": [
      "{'a': 8, 'b': 5, 'c': 7, 'd': 14, 'e': 15, 'f': 11, 'g': 13, 'h': 19, 'i': 22, 'j': 23, 'k': 20, 'l': 21}\n"
     ]
    },
    {
     "data": {
      "text/plain": [
       "[9, 7, 8]"
      ]
     },
     "execution_count": 6,
     "metadata": {},
     "output_type": "execute_result"
    }
   ],
   "source": [
    "## 763. Partition Labels\n",
    "def partitionLabels(S):\n",
    "    d = {c:i for i,c in enumerate(S)}\n",
    "    print(d)\n",
    "    ans = []\n",
    "    i = pre = 0\n",
    "    while i < len(S):\n",
    "        end = d[S[i]]\n",
    "        while i <= end:\n",
    "            end = max(end, d[S[i]])\n",
    "            i += 1\n",
    "        ans.append(i-pre)\n",
    "        pre = i\n",
    "    \n",
    "    return ans\n",
    "S = \"ababcbacadefegdehijhklij\"\n",
    "partitionLabels(S)"
   ]
  },
  {
   "cell_type": "code",
   "execution_count": 4,
   "metadata": {},
   "outputs": [
    {
     "data": {
      "text/plain": [
       "2"
      ]
     },
     "execution_count": 4,
     "metadata": {},
     "output_type": "execute_result"
    }
   ],
   "source": [
    "## 455. Assign Cookies\n",
    "def findContentChildren(g, s):\n",
    "    gi, si = 0, 0\n",
    "    g.sort()\n",
    "    s.sort()\n",
    "    while gi < len(g) and si< len(s):\n",
    "        if g[gi]<=s[si]:\n",
    "            si+=1\n",
    "        gi+=1\n",
    "    return si\n",
    "# Input = [1,2,3]\n",
    "# cookie = [1,1]\n",
    "\n",
    "Input = [1,2]\n",
    "cookie = [1,2,3]\n",
    "findContentChildren(Input,cookie)"
   ]
  },
  {
   "cell_type": "code",
   "execution_count": 2,
   "metadata": {},
   "outputs": [
    {
     "name": "stdout",
     "output_type": "stream",
     "text": [
      "[0, 0, 1, 1, 2, 2]\n"
     ]
    }
   ],
   "source": [
    "## 75. Sort Colors\n",
    "def sortColors(nums):\n",
    "    \"\"\"\n",
    "    :type nums: List[int]\n",
    "    :rtype: void Do not return anything, modify nums in-place instead.\n",
    "    \"\"\"\n",
    "    i, j = 0, 0\n",
    "    for k in range(len(nums)):\n",
    "        v = nums[k]\n",
    "        nums[k] = 2\n",
    "        if v < 2:\n",
    "            nums[j] = 1\n",
    "            j += 1\n",
    "        if v == 0:\n",
    "            nums[i] = 0\n",
    "            i += 1\n",
    "    print(nums)\n",
    "Input = [2,0,2,1,1,0]\n",
    "sortColors(Input)"
   ]
  },
  {
   "cell_type": "code",
   "execution_count": 72,
   "metadata": {},
   "outputs": [
    {
     "data": {
      "text/plain": [
       "[1, 2]"
      ]
     },
     "execution_count": 72,
     "metadata": {},
     "output_type": "execute_result"
    }
   ],
   "source": [
    "## 347. Top K Frequent Elements\n",
    "import collections\n",
    "def topKFrequent(nums, k):\n",
    "    \"\"\"\n",
    "    :type nums: List[int]\n",
    "    :type k: int\n",
    "    :rtype: List[int]\n",
    "    \"\"\"\n",
    "    temp = collections.Counter(nums).most_common(k)\n",
    "    result = []\n",
    "    for i in temp:\n",
    "        result.append(i[0])\n",
    "    return result\n",
    "\n",
    "nums = [1,1,1,2,2,3]\n",
    "k = 2\n",
    "topKFrequent(nums,k)\n"
   ]
  },
  {
   "cell_type": "code",
   "execution_count": null,
   "metadata": {
    "collapsed": true
   },
   "outputs": [],
   "source": [
    "## 215. Kth Largest Element in an Array\n",
    "def findKthLargest(nums, k):\n",
    "    \"\"\"\n",
    "    :type nums: List[int]\n",
    "    :type k: int\n",
    "    :rtype: int\n",
    "    \"\"\"\n",
    "    nums.sort()\n",
    "    return nums[-k]"
   ]
  },
  {
   "cell_type": "code",
   "execution_count": 67,
   "metadata": {},
   "outputs": [
    {
     "data": {
      "text/plain": [
       "'apple'"
      ]
     },
     "execution_count": 67,
     "metadata": {},
     "output_type": "execute_result"
    }
   ],
   "source": [
    "## 524. Longest Word in Dictionary through Deleting\n",
    "def findLongestWord(s, d):\n",
    "    result = []\n",
    "    max_len = 0\n",
    "    longest_word = \"\"\n",
    "    for word in d:\n",
    "        w_pointer = 0\n",
    "        s_pointer = 0\n",
    "        while s_pointer < len(s) and w_pointer < len(word):\n",
    "            if s[s_pointer] == word[w_pointer]:\n",
    "                s_pointer, w_pointer = s_pointer+1, w_pointer+1\n",
    "            else:\n",
    "                s_pointer+=1\n",
    "        if w_pointer == len(word):\n",
    "            result.append(word)\n",
    "            if len(word) > max_len:\n",
    "                max_len = len(word)\n",
    "                longest_word = word\n",
    "    return longest_word\n",
    "\n",
    "s = \"abpcplea\"\n",
    "d = [\"ale\",\"apple\",\"monkey\",\"plea\"]\n",
    "findLongestWord(s, d)"
   ]
  },
  {
   "cell_type": "code",
   "execution_count": null,
   "metadata": {
    "collapsed": true
   },
   "outputs": [],
   "source": [
    "## 141. Linked List Cycle\n",
    "class ListNode(object):\n",
    "    def __init__(self, x):\n",
    "        self.val = x\n",
    "        self.next = None\n",
    "\n",
    "def hasCycle(self, head):\n",
    "    \"\"\"\n",
    "    :type head: ListNode\n",
    "    :rtype: bool\n",
    "    \"\"\"\n",
    "    try:\n",
    "        fast = head.next\n",
    "        slow = head\n",
    "        while slow != fast:\n",
    "            slow = slow.next\n",
    "            fast = fast.next.next\n",
    "        return True\n",
    "    except:\n",
    "        return False\n",
    "Input = [3,2,0,-4]\n",
    "\n",
    "    "
   ]
  },
  {
   "cell_type": "code",
   "execution_count": 2,
   "metadata": {},
   "outputs": [
    {
     "name": "stdout",
     "output_type": "stream",
     "text": [
      "[1, 2, 2, 3, 5, 6]\n"
     ]
    }
   ],
   "source": [
    "## 88. Merge Sorted Array\n",
    "def merge(nums1, m, nums2, n):\n",
    "    \"\"\"\n",
    "    :type nums1: List[int]\n",
    "    :type m: int\n",
    "    :type nums2: List[int]\n",
    "    :type n: int\n",
    "    :rtype: void Do not return anything, modify nums1 in-place instead.\n",
    "    \"\"\"\n",
    "    while m > 0 and n > 0:\n",
    "        if nums1[m-1] >= nums2[n-1]:\n",
    "            nums1[n+m-1] = nums1[m-1]\n",
    "            m-=1\n",
    "        else:\n",
    "            nums1[n+m-1] = nums2[n-1]\n",
    "            n-=1\n",
    "    if n > 0:\n",
    "        nums1[:n] = nums2[:n]\n",
    "    print(nums1)\n",
    "nums1 = [1,2,3,0,0,0]\n",
    "m = 3\n",
    "nums2 = [2,5,6]\n",
    "n = 3\n",
    "merge(nums1, m, nums2, n)\n"
   ]
  },
  {
   "cell_type": "code",
   "execution_count": 43,
   "metadata": {},
   "outputs": [
    {
     "name": "stdout",
     "output_type": "stream",
     "text": [
      "['a', 'm', 'a', 'n', 'a', 'p', 'l', 'a', 'n', 'a', 'c', 'a', 'n', 'a', 'l', 'p', 'a', 'n', 'a', 'm', 'a']\n"
     ]
    },
    {
     "data": {
      "text/plain": [
       "True"
      ]
     },
     "execution_count": 43,
     "metadata": {},
     "output_type": "execute_result"
    }
   ],
   "source": [
    "## 125. Valid Palindrome\n",
    "def isPalindrome(s):\n",
    "    \"\"\"\n",
    "    :type s: str\n",
    "    :rtype: bool\n",
    "    \"\"\"\n",
    "    ascii_letters = '0123456789abcdefghijklmnopqrstuvwxyzABCDEFGHIJKLMNOPQRSTUVWXYZ'\n",
    "\n",
    "    result = []\n",
    "    for i in s:\n",
    "        if i in ascii_letters:\n",
    "            result.append(i.lower())\n",
    "    return result == result[::-1]\n",
    "Input = 'A man, a plan, a canal: Panama'\n",
    "isPalindrome(Input)"
   ]
  },
  {
   "cell_type": "code",
   "execution_count": 2,
   "metadata": {},
   "outputs": [
    {
     "data": {
      "text/plain": [
       "True"
      ]
     },
     "execution_count": 2,
     "metadata": {},
     "output_type": "execute_result"
    }
   ],
   "source": [
    "## 680. Valid Palindrome II\n",
    "## \n",
    "def validPalindrome(s):\n",
    "    \"\"\"\n",
    "    :type s: str\n",
    "    :rtype: bool\n",
    "    \"\"\"\n",
    "    left, right = 0, len(s) - 1\n",
    "    while left < right:\n",
    "        if s[left] != s[right]:\n",
    "            one, two = s[left:right], s[left + 1:right + 1]\n",
    "            return one == one[::-1] or two == two[::-1]\n",
    "        left, right = left + 1, right - 1\n",
    "    return True\n",
    "# Input = 'aba'\n",
    "Input = 'abca'\n",
    "validPalindrome(Input)"
   ]
  },
  {
   "cell_type": "code",
   "execution_count": 28,
   "metadata": {},
   "outputs": [
    {
     "ename": "TypeError",
     "evalue": "'str' object does not support item assignment",
     "output_type": "error",
     "traceback": [
      "\u001b[1;31m---------------------------------------------------------------------------\u001b[0m",
      "\u001b[1;31mTypeError\u001b[0m                                 Traceback (most recent call last)",
      "\u001b[1;32m<ipython-input-28-d22ff2a1d2dd>\u001b[0m in \u001b[0;36m<module>\u001b[1;34m()\u001b[0m\n\u001b[0;32m     19\u001b[0m     \u001b[1;32mreturn\u001b[0m \u001b[1;34m''\u001b[0m\u001b[1;33m.\u001b[0m\u001b[0mjoin\u001b[0m\u001b[1;33m(\u001b[0m\u001b[0ms\u001b[0m\u001b[1;33m)\u001b[0m\u001b[1;33m\u001b[0m\u001b[0m\n\u001b[0;32m     20\u001b[0m \u001b[0mInput\u001b[0m \u001b[1;33m=\u001b[0m \u001b[1;34m\"hello\"\u001b[0m\u001b[1;33m\u001b[0m\u001b[0m\n\u001b[1;32m---> 21\u001b[1;33m \u001b[0mreverseVowels\u001b[0m\u001b[1;33m(\u001b[0m\u001b[0mInput\u001b[0m\u001b[1;33m)\u001b[0m\u001b[1;33m\u001b[0m\u001b[0m\n\u001b[0m",
      "\u001b[1;32m<ipython-input-28-d22ff2a1d2dd>\u001b[0m in \u001b[0;36mreverseVowels\u001b[1;34m(s)\u001b[0m\n\u001b[0;32m     10\u001b[0m     \u001b[1;32mwhile\u001b[0m \u001b[0mleft\u001b[0m \u001b[1;33m<\u001b[0m \u001b[0mright\u001b[0m\u001b[1;33m:\u001b[0m\u001b[1;33m\u001b[0m\u001b[0m\n\u001b[0;32m     11\u001b[0m         \u001b[1;32mif\u001b[0m \u001b[0ms\u001b[0m\u001b[1;33m[\u001b[0m\u001b[0mleft\u001b[0m\u001b[1;33m]\u001b[0m \u001b[1;32min\u001b[0m \u001b[0mVowels\u001b[0m \u001b[1;32mand\u001b[0m \u001b[0ms\u001b[0m\u001b[1;33m[\u001b[0m\u001b[0mleft\u001b[0m\u001b[1;33m]\u001b[0m \u001b[1;32min\u001b[0m \u001b[0mVowels\u001b[0m\u001b[1;33m:\u001b[0m\u001b[1;33m\u001b[0m\u001b[0m\n\u001b[1;32m---> 12\u001b[1;33m             \u001b[0ms\u001b[0m\u001b[1;33m[\u001b[0m\u001b[0mleft\u001b[0m\u001b[1;33m]\u001b[0m\u001b[1;33m,\u001b[0m \u001b[0ms\u001b[0m\u001b[1;33m[\u001b[0m\u001b[0mright\u001b[0m\u001b[1;33m]\u001b[0m \u001b[1;33m=\u001b[0m \u001b[0ms\u001b[0m\u001b[1;33m[\u001b[0m\u001b[0mright\u001b[0m\u001b[1;33m]\u001b[0m\u001b[1;33m,\u001b[0m \u001b[0ms\u001b[0m\u001b[1;33m[\u001b[0m\u001b[0mleft\u001b[0m\u001b[1;33m]\u001b[0m\u001b[1;33m\u001b[0m\u001b[0m\n\u001b[0m\u001b[0;32m     13\u001b[0m             \u001b[0mright\u001b[0m \u001b[1;33m-=\u001b[0m \u001b[1;36m1\u001b[0m\u001b[1;33m\u001b[0m\u001b[0m\n\u001b[0;32m     14\u001b[0m             \u001b[0mleft\u001b[0m \u001b[1;33m+=\u001b[0m \u001b[1;36m1\u001b[0m\u001b[1;33m\u001b[0m\u001b[0m\n",
      "\u001b[1;31mTypeError\u001b[0m: 'str' object does not support item assignment"
     ]
    }
   ],
   "source": [
    "## 345. Reverse Vowels of a String\n",
    "\n",
    "def reverseVowels(s):\n",
    "    \"\"\"\n",
    "    :type s: str\n",
    "    :rtype: str\n",
    "    \"\"\"\n",
    "    Vowels = list(\"aeiouAEIOU\")\n",
    "    left, right = 0, len(s)-1\n",
    "    while left < right:\n",
    "        if s[left] in Vowels and s[left] in Vowels:\n",
    "            s[left], s[right] = s[right], s[left]\n",
    "            right -= 1\n",
    "            left += 1\n",
    "        if s[left] not in Vowels:\n",
    "            left += 1\n",
    "        elif s[right] not in Vowels:\n",
    "            right -= 1\n",
    "    return ''.join(s)\n",
    "Input = \"hello\"\n",
    "reverseVowels(Input)"
   ]
  },
  {
   "cell_type": "code",
   "execution_count": 24,
   "metadata": {},
   "outputs": [
    {
     "name": "stdout",
     "output_type": "stream",
     "text": [
      "1 1\n"
     ]
    },
    {
     "data": {
      "text/plain": [
       "True"
      ]
     },
     "execution_count": 24,
     "metadata": {},
     "output_type": "execute_result"
    }
   ],
   "source": [
    "## 633. Sum of Square Numbers\n",
    "import math\n",
    "def judgeSquareSum(c):\n",
    "    \"\"\"\n",
    "    :type c: int\n",
    "    :rtype: bool\n",
    "    \"\"\"\n",
    "    target = math.floor(math.sqrt(c))\n",
    "    if c == target*target:\n",
    "        return True\n",
    "    else:\n",
    "        left, right = 1, target\n",
    "        result = False\n",
    "        while left <= right:\n",
    "            temp = left*left + right*right\n",
    "            if temp == c:\n",
    "                result = True\n",
    "                break\n",
    "            elif temp < c:\n",
    "                left+=1\n",
    "            else:\n",
    "                right -= 1\n",
    "        return result\n",
    "        \n",
    "Input = 1\n",
    "judgeSquareSum(Input)"
   ]
  },
  {
   "cell_type": "code",
   "execution_count": 6,
   "metadata": {},
   "outputs": [
    {
     "data": {
      "text/plain": [
       "[1, 3]"
      ]
     },
     "execution_count": 6,
     "metadata": {},
     "output_type": "execute_result"
    }
   ],
   "source": [
    "##167. Two Sum II - Input array is sorted\n",
    "\n",
    "def twoSum(numbers, target):\n",
    "    left, right = 0, len(numbers)-1\n",
    "    while left < right:\n",
    "        temp = target - numbers[left]\n",
    "        if numbers[right] > temp:\n",
    "            right -= 1\n",
    "        elif numbers[right] < temp:\n",
    "            left += 1\n",
    "        elif numbers[right] == temp:\n",
    "            break\n",
    "\n",
    "    return [left+1,right+1]\n",
    "\n",
    "numbers = [2,7,11,15]\n",
    "target = 13\n",
    "twoSum(numbers, target)"
   ]
  },
  {
   "cell_type": "code",
   "execution_count": null,
   "metadata": {
    "collapsed": true
   },
   "outputs": [],
   "source": []
  }
 ],
 "metadata": {
  "kernelspec": {
   "display_name": "Python 3",
   "language": "python",
   "name": "python3"
  },
  "language_info": {
   "codemirror_mode": {
    "name": "ipython",
    "version": 3
   },
   "file_extension": ".py",
   "mimetype": "text/x-python",
   "name": "python",
   "nbconvert_exporter": "python",
   "pygments_lexer": "ipython3",
   "version": "3.6.2"
  }
 },
 "nbformat": 4,
 "nbformat_minor": 2
}
