{
 "cells": [
  {
   "cell_type": "code",
   "execution_count": 13,
   "metadata": {},
   "outputs": [
    {
     "name": "stdout",
     "output_type": "stream",
     "text": [
      "[[1, 6], [4, 6], [8, 10], [15, 18]]\n"
     ]
    }
   ],
   "source": [
    "def merge(a):\n",
    "    if len(a) == 0 or len(b) == 0: return []\n",
    "    a = sorted(a, key = lambda i: i[0])\n",
    "    res = [a[0]]\n",
    "    for n in a[1:]:\n",
    "        if n[0] <= res[-1][1] or n[0] == res[-1][1]+1: \n",
    "            res[-1][1] = max(n[1], res[-1][1])\n",
    "        else: res.append(n)\n",
    "    return res\n",
    "\n",
    "def sol3(a, b):\n",
    "    \n",
    "    res = merge(a)\n",
    "    print(a)\n",
    "#     for i in b:\n",
    "#         if i[0] \n",
    "\n",
    "a = [[1,3],[4,6],[8,10],[15,18]]#[[4,4], [1,1]]\n",
    "b = [[3, 3],[2, 3],[5, 5]]\n",
    "sol3(a,a)\n"
   ]
  },
  {
   "cell_type": "code",
   "execution_count": null,
   "metadata": {
    "collapsed": true
   },
   "outputs": [],
   "source": []
  }
 ],
 "metadata": {
  "kernelspec": {
   "display_name": "Python 3",
   "language": "python",
   "name": "python3"
  },
  "language_info": {
   "codemirror_mode": {
    "name": "ipython",
    "version": 3
   },
   "file_extension": ".py",
   "mimetype": "text/x-python",
   "name": "python",
   "nbconvert_exporter": "python",
   "pygments_lexer": "ipython3",
   "version": "3.5.2"
  }
 },
 "nbformat": 4,
 "nbformat_minor": 2
}
