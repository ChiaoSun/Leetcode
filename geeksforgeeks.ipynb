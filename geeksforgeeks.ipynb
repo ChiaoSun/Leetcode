{
 "cells": [
  {
   "cell_type": "markdown",
   "metadata": {},
   "source": [
    "## Recursively remove all adjacent duplicates\n",
    "https://practice.geeksforgeeks.org/problems/recursively-remove-all-adjacent-duplicates/0\n",
    "    \n",
    "Given a string s, recursively remove adjacent duplicate characters from the string s. The output string should not have any adjacent duplicates.    "
   ]
  },
  {
   "cell_type": "code",
   "execution_count": 34,
   "metadata": {},
   "outputs": [
    {
     "ename": "TypeError",
     "evalue": "check() missing 1 required positional argument: 'result'",
     "output_type": "error",
     "traceback": [
      "\u001b[1;31m---------------------------------------------------------------------------\u001b[0m",
      "\u001b[1;31mTypeError\u001b[0m                                 Traceback (most recent call last)",
      "\u001b[1;32m<ipython-input-34-78ac2b6c8440>\u001b[0m in \u001b[0;36m<module>\u001b[1;34m()\u001b[0m\n\u001b[0;32m     14\u001b[0m \u001b[1;31m# Input = \"geeksforgeek\"\u001b[0m\u001b[1;33m\u001b[0m\u001b[1;33m\u001b[0m\u001b[0m\n\u001b[0;32m     15\u001b[0m \u001b[0mInput\u001b[0m \u001b[1;33m=\u001b[0m \u001b[1;34m\"acaaabbbacdddd\"\u001b[0m\u001b[1;33m\u001b[0m\u001b[0m\n\u001b[1;32m---> 16\u001b[1;33m \u001b[0mprint\u001b[0m\u001b[1;33m(\u001b[0m\u001b[0mans\u001b[0m\u001b[1;33m(\u001b[0m\u001b[0mInput\u001b[0m\u001b[1;33m)\u001b[0m\u001b[1;33m)\u001b[0m\u001b[1;33m\u001b[0m\u001b[0m\n\u001b[0m",
      "\u001b[1;32m<ipython-input-34-78ac2b6c8440>\u001b[0m in \u001b[0;36mans\u001b[1;34m(s)\u001b[0m\n\u001b[0;32m     11\u001b[0m     \u001b[0mresult\u001b[0m \u001b[1;33m=\u001b[0m \u001b[0ms\u001b[0m\u001b[1;33m[\u001b[0m\u001b[1;36m0\u001b[0m\u001b[1;33m]\u001b[0m\u001b[1;33m\u001b[0m\u001b[0m\n\u001b[0;32m     12\u001b[0m \u001b[1;33m\u001b[0m\u001b[0m\n\u001b[1;32m---> 13\u001b[1;33m     \u001b[1;32mreturn\u001b[0m \u001b[0mcheck\u001b[0m\u001b[1;33m(\u001b[0m\u001b[0ms\u001b[0m\u001b[1;33m[\u001b[0m\u001b[1;36m1\u001b[0m\u001b[1;33m:\u001b[0m\u001b[1;33m]\u001b[0m\u001b[1;33m,\u001b[0m \u001b[0ms\u001b[0m\u001b[1;33m[\u001b[0m\u001b[1;36m0\u001b[0m\u001b[1;33m]\u001b[0m\u001b[1;33m,\u001b[0m \u001b[0mresult\u001b[0m\u001b[1;33m)\u001b[0m\u001b[1;33m\u001b[0m\u001b[0m\n\u001b[0m\u001b[0;32m     14\u001b[0m \u001b[1;31m# Input = \"geeksforgeek\"\u001b[0m\u001b[1;33m\u001b[0m\u001b[1;33m\u001b[0m\u001b[0m\n\u001b[0;32m     15\u001b[0m \u001b[0mInput\u001b[0m \u001b[1;33m=\u001b[0m \u001b[1;34m\"acaaabbbacdddd\"\u001b[0m\u001b[1;33m\u001b[0m\u001b[0m\n",
      "\u001b[1;32m<ipython-input-34-78ac2b6c8440>\u001b[0m in \u001b[0;36mcheck\u001b[1;34m(s, prev, result)\u001b[0m\n\u001b[0;32m      7\u001b[0m             \u001b[0mresult\u001b[0m\u001b[1;33m+=\u001b[0m\u001b[0ms\u001b[0m\u001b[1;33m[\u001b[0m\u001b[1;36m0\u001b[0m\u001b[1;33m]\u001b[0m\u001b[1;33m\u001b[0m\u001b[0m\n\u001b[0;32m      8\u001b[0m \u001b[1;33m\u001b[0m\u001b[0m\n\u001b[1;32m----> 9\u001b[1;33m         \u001b[1;32mreturn\u001b[0m \u001b[0mcheck\u001b[0m\u001b[1;33m(\u001b[0m\u001b[0ms\u001b[0m\u001b[1;33m[\u001b[0m\u001b[1;36m1\u001b[0m\u001b[1;33m:\u001b[0m\u001b[1;33m]\u001b[0m\u001b[1;33m,\u001b[0m\u001b[0mresult\u001b[0m\u001b[1;33m)\u001b[0m\u001b[1;33m\u001b[0m\u001b[0m\n\u001b[0m\u001b[0;32m     10\u001b[0m \u001b[1;33m\u001b[0m\u001b[0m\n\u001b[0;32m     11\u001b[0m     \u001b[0mresult\u001b[0m \u001b[1;33m=\u001b[0m \u001b[0ms\u001b[0m\u001b[1;33m[\u001b[0m\u001b[1;36m0\u001b[0m\u001b[1;33m]\u001b[0m\u001b[1;33m\u001b[0m\u001b[0m\n",
      "\u001b[1;31mTypeError\u001b[0m: check() missing 1 required positional argument: 'result'"
     ]
    }
   ],
   "source": [
    "def ans(s):\n",
    "\n",
    "    def check(s, prev, result):\n",
    "        if not s:\n",
    "            return result\n",
    "        if result[-1] != s[0] and prev != s[0]:\n",
    "            result+=s[0]\n",
    "\n",
    "        return check(s[1:],result)\n",
    "        \n",
    "    result = s[0]\n",
    "\n",
    "    return check(s[1:], s[0], result)\n",
    "# Input = \"geeksforgeek\"\n",
    "Input = \"acaaabbbacdddd\"\n",
    "print(ans(Input))"
   ]
  },
  {
   "cell_type": "markdown",
   "metadata": {},
   "source": [
    "## Longest Palindrome in a String\n",
    "https://practice.geeksforgeeks.org/problems/longest-palindrome-in-a-string/0\n",
    "\n",
    "Given a string S, find the longest palindromic substring in S. Substring of string S: S[ i . . . . j ] where 0 ≤ i ≤ j < len(S). Palindrome string: A string which reads the same backwards. More formally, S is palindrome if reverse(S) = S. Incase of conflict, return the substring which occurs first ( with the least starting index ).\n",
    "\n",
    "NOTE: Required Time Complexity O(n2)."
   ]
  },
  {
   "cell_type": "code",
   "execution_count": 10,
   "metadata": {},
   "outputs": [
    {
     "name": "stdout",
     "output_type": "stream",
     "text": [
      "aaaabbaa\n",
      "aaaabba\n",
      "aaaabb\n",
      "aaaab\n",
      "aaaa\n",
      "aaa\n",
      "aa\n",
      "a\n",
      "aaabbaa\n",
      "aaabba\n",
      "aaabb\n",
      "aaab\n",
      "aaa\n",
      "aa\n",
      "a\n",
      "aabbaa\n",
      "aabba\n",
      "aabb\n",
      "aab\n",
      "aa\n",
      "a\n",
      "abbaa\n",
      "abba\n",
      "abb\n",
      "ab\n",
      "a\n",
      "bbaa\n",
      "bba\n",
      "bb\n",
      "b\n",
      "baa\n",
      "ba\n",
      "b\n",
      "aa\n",
      "a\n",
      "a\n"
     ]
    },
    {
     "data": {
      "text/plain": [
       "'aabbaa'"
      ]
     },
     "execution_count": 10,
     "metadata": {},
     "output_type": "execute_result"
    }
   ],
   "source": [
    "def ans(s):\n",
    "    \n",
    "    max_str = \"\"\n",
    "    for i in range(len(s)):\n",
    "        for j in range(len(s),i,-1):\n",
    "            temp = s[i:j]\n",
    "            print(temp)\n",
    "            if temp == temp[::-1]:\n",
    "                if len(max_str) < len(temp):\n",
    "                    max_str = temp\n",
    "    return max_str\n",
    "Input = \"aaaabbaa\"\n",
    "ans(Input)"
   ]
  },
  {
   "cell_type": "markdown",
   "metadata": {},
   "source": [
    "## https://practice.geeksforgeeks.org/problems/permutations-of-a-given-string/0\n",
    "\n",
    "Given a string S. The task is to print all permutations of a given string.\n",
    "\n",
    "Input:\n",
    "The first line of input contains an integer T, denoting the number of test cases. Each test case contains a single string S in capital letter.\n",
    "\n",
    "Output:\n",
    "For each test case, print all permutations of a given string S with single space and all permutations should be in lexicographically increasing order.\n",
    "\n",
    "Constraints:\n",
    "1 ≤ T ≤ 10\n",
    "1 ≤ size of string ≤ 5\n",
    "\n",
    "Example:\n",
    "Input:\n",
    "2\n",
    "ABC\n",
    "ABSG\n",
    "\n",
    "Output:\n",
    "ABC ACB BAC BCA CAB CBA \n",
    "ABGS ABSG AGBS AGSB ASBG ASGB BAGS BASG BGAS BGSA BSAG BSGA GABS GASB GBAS GBSA GSAB GSBA SABG SAGB SBAG SBGA SGAB SGBA"
   ]
  },
  {
   "cell_type": "code",
   "execution_count": 6,
   "metadata": {},
   "outputs": [
    {
     "name": "stdout",
     "output_type": "stream",
     "text": [
      "ABC\n",
      "ACB\n",
      "BAC\n",
      "BCA\n",
      "CAB\n",
      "CBA\n"
     ]
    }
   ],
   "source": [
    "import itertools\n",
    "def permu(s):\n",
    "    \n",
    "    for i in list(itertools.permutations(s)):\n",
    "        res = \"\"\n",
    "        for j in i:\n",
    "            res+=j\n",
    "\n",
    "\n",
    "Input = \"ABC\"\n",
    "\n",
    "permu(Input)\n",
    "    \n"
   ]
  },
  {
   "cell_type": "code",
   "execution_count": null,
   "metadata": {
    "collapsed": true
   },
   "outputs": [],
   "source": []
  }
 ],
 "metadata": {
  "kernelspec": {
   "display_name": "Python 3",
   "language": "python",
   "name": "python3"
  },
  "language_info": {
   "codemirror_mode": {
    "name": "ipython",
    "version": 3
   },
   "file_extension": ".py",
   "mimetype": "text/x-python",
   "name": "python",
   "nbconvert_exporter": "python",
   "pygments_lexer": "ipython3",
   "version": "3.5.2"
  }
 },
 "nbformat": 4,
 "nbformat_minor": 2
}
