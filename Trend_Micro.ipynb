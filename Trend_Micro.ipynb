{
 "cells": [
  {
   "cell_type": "code",
   "execution_count": 44,
   "metadata": {},
   "outputs": [
    {
     "name": "stdout",
     "output_type": "stream",
     "text": [
      "25937424601\n"
     ]
    },
    {
     "data": {
      "text/plain": [
       "1"
      ]
     },
     "execution_count": 44,
     "metadata": {},
     "output_type": "execute_result"
    }
   ],
   "source": [
    "def solution(N):\n",
    "    # write your code in Python 3.6\n",
    "    pass\n",
    "\n",
    "    number = str(11 ** N)\n",
    "    print(number)\n",
    "    count = 0\n",
    "    for i in number:\n",
    "        if i == \"1\":\n",
    "            count += 1\n",
    "            \n",
    "    return count\n",
    "\n",
    "    \n",
    "N = 10\n",
    "\n",
    "solution(N)\n"
   ]
  },
  {
   "cell_type": "code",
   "execution_count": 42,
   "metadata": {},
   "outputs": [],
   "source": [
    "def solution(A):\n",
    "    # write your code in Python 3.6\n",
    "    pass\n",
    "    moment_count = 0\n",
    "    \n",
    "    list_turn_on = [0] * len(A)\n",
    "    \n",
    "    for i in A:\n",
    "        real_order = i - 1\n",
    "        list_turn_on[real_order] = 1\n",
    "        \n",
    "        if real_order == 0:\n",
    "            moment_count += 1\n",
    "            continue\n",
    "        \n",
    "        if sum(list_turn_on[:i]) == i:\n",
    "            moment_count += 1\n",
    "    return moment_count "
   ]
  },
  {
   "cell_type": "code",
   "execution_count": 21,
   "metadata": {},
   "outputs": [
    {
     "name": "stdout",
     "output_type": "stream",
     "text": [
      "Yese\n"
     ]
    },
    {
     "ename": "TypeError",
     "evalue": "unsupported operand type(s) for ^: 'str' and 'str'",
     "output_type": "error",
     "traceback": [
      "\u001b[1;31m---------------------------------------------------------------------------\u001b[0m",
      "\u001b[1;31mTypeError\u001b[0m                                 Traceback (most recent call last)",
      "\u001b[1;32m<ipython-input-21-6b424d6aab4d>\u001b[0m in \u001b[0;36m<module>\u001b[1;34m()\u001b[0m\n\u001b[0;32m      1\u001b[0m \u001b[1;32mif\u001b[0m \u001b[1;34m\"ill\"\u001b[0m \u001b[1;32min\u001b[0m \u001b[1;34m\"will\"\u001b[0m\u001b[1;33m:\u001b[0m\u001b[1;33m\u001b[0m\u001b[0m\n\u001b[0;32m      2\u001b[0m     \u001b[0mprint\u001b[0m\u001b[1;33m(\u001b[0m\u001b[1;34m\"Yese\"\u001b[0m\u001b[1;33m)\u001b[0m\u001b[1;33m\u001b[0m\u001b[0m\n\u001b[1;32m----> 3\u001b[1;33m \u001b[0mprint\u001b[0m\u001b[1;33m(\u001b[0m\u001b[1;34m\"will\"\u001b[0m\u001b[1;33m^\u001b[0m\u001b[1;34m\"ill\"\u001b[0m\u001b[1;33m)\u001b[0m\u001b[1;33m\u001b[0m\u001b[0m\n\u001b[0m",
      "\u001b[1;31mTypeError\u001b[0m: unsupported operand type(s) for ^: 'str' and 'str'"
     ]
    }
   ],
   "source": [
    "def solution(S, T):\n",
    "    # write your code in Python 3.6\n",
    "    pass\n",
    "    len_T = len(T)\n",
    "    len_S = len(S)\n",
    "    if len_T - len_S >= 2:\n",
    "        return \"IMPOSSIBLE\"\n",
    "        \n",
    "    if abs( len_T - len_S ) == 1:\n",
    "        if len_T > len_S and S+T[-1] == T:\n",
    "            return \"INSERT \" + T[-1]\n",
    "        \n",
    "        if len_T < len_S and S[1:] == T:\n",
    "            return \"REMOVE \" + S[0]\n",
    "            \n",
    "    if len_T == len_S:\n",
    "        swap_p1 = -1\n",
    "        swap_p2 = -1\n",
    "        for i in range(len_S):\n",
    "            if S[i] != T[i]:\n",
    "                if swap_p1 < 0:\n",
    "                    swap_p1 = i\n",
    "                elif swap_p2 < 0:\n",
    "                    swap_p2 = i\n",
    "                else:\n",
    "                    break\n",
    "        \n",
    "        tmp = list(S)\n",
    "        tmp_p1 = tmp[swap_p1]\n",
    "        tmp[swap_p1] = tmp[swap_p2]\n",
    "        tmp[swap_p2] = tmp_p1\n",
    "        tmp_str = ''.join(str(e) for e in tmp)\n",
    "        \n",
    "        if (tmp_str == T):\n",
    "            return \"SWAP \" + S[swap_p1] + \" \" + S[swap_p2]\n",
    "    return \"IMPOSSIBLE\""
   ]
  },
  {
   "cell_type": "code",
   "execution_count": null,
   "metadata": {},
   "outputs": [],
   "source": [
    "def solution(S, T):\n",
    "    s_len = len(S)\n",
    "    t_len = len(T)\n",
    "    diff = t_len - s_len\n",
    "    if S == T:\n",
    "        return \"EQUAL\"\n",
    "    \n",
    "    if diff > 1:\n",
    "        return \"IMPOSSIBLE\"\n",
    "    if diff == 0:\n",
    "        #consider SWAP\n",
    "        count = 0\n",
    "        swap1 = \"\"\n",
    "        swap2 = \"\"\n",
    "        for i in range(0, len(S)):\n",
    "            if S[i] != T[i]:\n",
    "                if count == 0:\n",
    "                    swap1 = S[i]\n",
    "                if count == 1:\n",
    "                    swap2 = S[i]\n",
    "                if count > 1:\n",
    "                    return \"IMPOSSIBLE\"\n",
    "                count += 1\n",
    "        if count == 2:\n",
    "            return \"SWAP \" + swap1 + \" \" + swap2\n",
    "        return \"IMPOSSIBLE\"\n",
    "    if diff == 1:\n",
    "        #consider ADD\n",
    "        for i in range(0, len(S)):\n",
    "            if S[i] != T[i]:\n",
    "                return \"IMPOSSIBLE\"\n",
    "            return \"INSERT \" + T[len(S)]\n",
    "    if diff == -1:\n",
    "        #consider REMOVE\n",
    "        for i in range(1, len(S)):\n",
    "            if S[i] != T[i-1]:\n",
    "                return \"IMPOSSIBLE\"\n",
    "            return \"REMOVE \" + S[0]"
   ]
  },
  {
   "cell_type": "code",
   "execution_count": 41,
   "metadata": {},
   "outputs": [
    {
     "data": {
      "text/plain": [
       "'SWAP w l'"
      ]
     },
     "execution_count": 41,
     "metadata": {},
     "output_type": "execute_result"
    }
   ],
   "source": [
    "def solution(S, T):\n",
    "    # write your code in Python 3.6\n",
    "    pass\n",
    "    len_T = len(T)\n",
    "    len_S = len(S)\n",
    "    if len_T - len_S >= 2:\n",
    "        return \"IMPOSSIBLE\"\n",
    "        \n",
    "    if abs( len_T - len_S ) == 1:\n",
    "        if len_T > len_S and S+T[-1] == T:\n",
    "            return \"INSERT \" + T[-1]\n",
    "        \n",
    "        if len_T < len_S and S[1:] == T:\n",
    "            return \"REMOVE\" + S[0]\n",
    "            \n",
    "    if len_T == len_S:\n",
    "        dic_T = {}\n",
    "        dic_S = {}\n",
    "        for i in range(len(S)):\n",
    "            dic_T[T[i]] = i\n",
    "            dic_S[S[i]] = i\n",
    "            \n",
    "        result = dict(set(dic_S.items()) - set(dic_T.items()))\n",
    "        temp = []\n",
    "        for word in result:\n",
    "            temp.append(word)\n",
    "        return \"SWAP \" + temp[0] + \" \" + temp[1]\n",
    "    return \"IMPOSSIBLE\"\n",
    "\n",
    "S = \"later\"\n",
    "T = \"tale\"\n",
    "\n",
    "S = \"will\"\n",
    "T = \"illi\"\n",
    "\n",
    "\n",
    "solution(S, T)"
   ]
  },
  {
   "cell_type": "code",
   "execution_count": null,
   "metadata": {},
   "outputs": [],
   "source": []
  }
 ],
 "metadata": {
  "kernelspec": {
   "display_name": "Python 3",
   "language": "python",
   "name": "python3"
  },
  "language_info": {
   "codemirror_mode": {
    "name": "ipython",
    "version": 3
   },
   "file_extension": ".py",
   "mimetype": "text/x-python",
   "name": "python",
   "nbconvert_exporter": "python",
   "pygments_lexer": "ipython3",
   "version": "3.6.2"
  }
 },
 "nbformat": 4,
 "nbformat_minor": 2
}
