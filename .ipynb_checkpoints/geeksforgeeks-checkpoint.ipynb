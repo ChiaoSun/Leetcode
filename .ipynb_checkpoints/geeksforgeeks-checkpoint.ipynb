{
 "cells": [
  {
   "cell_type": "markdown",
   "metadata": {},
   "source": [
    "## Linked list"
   ]
  },
  {
   "cell_type": "markdown",
   "metadata": {},
   "source": [
    "## Reverse a Linked List in groups of given size.\n",
    "https://practice.geeksforgeeks.org/problems/reverse-a-linked-list-in-groups-of-given-size/1\n",
    "\n",
    "Given a linked list of size N. The task is to reverse every k nodes (where k is an input to the function) in the linked list.\n",
    "\n",
    "Input:\n",
    "First line of input contains number of testcases T. For each testcase, first line contains length of linked list and next line contains the linked list elements.\n",
    "\n",
    "Output:\n",
    "For each testcase, there will be a single line of output which contains the linked list with every k group elements reversed."
   ]
  },
  {
   "cell_type": "code",
   "execution_count": null,
   "metadata": {},
   "outputs": [],
   "source": [
    "def reverse(head, k):\n",
    "    # Code here\n",
    "    current = head\n",
    "    prev = 0\n",
    "    next_ = 0\n",
    "    count = 0\n",
    "    while head and count < k:\n",
    "        next_ = current\n",
    "        current.next = prev\n",
    "        prev = current\n",
    "        current = current.next\n",
    "        count += 1\n",
    "        \n",
    "    if next_ :\n",
    "        head.next = reverse(next_, k)\n",
    "    \n",
    "    return prev\n",
    "        "
   ]
  },
  {
   "cell_type": "markdown",
   "metadata": {},
   "source": [
    "## Finding middle element in a linked list\n",
    "https://practice.geeksforgeeks.org/problems/finding-middle-element-in-a-linked-list/1\n",
    "    \n",
    "Given a singly linked list of N nodes. The task is to find middle of the linked list. For example, if given linked list is 1->2->3->4->5 then output should be 3. \n",
    "\n",
    "If there are even nodes, then there would be two middle nodes, we need to print second middle element. For example, if given linked list is 1->2->3->4->5->6 then output should be 4.\n",
    "\n",
    "Input:\n",
    "First line of input contains number of testcases T. For each testcase, first line of input contains length of linked list and next line contains data of nodes of linked list.\n",
    "\n",
    "Output:\n",
    "For each testcase, there will be a single line of output containing data of middle element of linked list."
   ]
  },
  {
   "cell_type": "code",
   "execution_count": null,
   "metadata": {},
   "outputs": [],
   "source": [
    "import math\n",
    "def findMid(head):\n",
    "    # Code here\n",
    "    temp = head\n",
    "    count = 0\n",
    "    while head:\n",
    "        head = head.next\n",
    "        count += 1\n",
    "    if count % 2 == 1:\n",
    "        mid = count//2\n",
    "    else:\n",
    "        mid = math.ceil(count/2)\n",
    "    count = 0\n",
    "    while count < mid:\n",
    "        temp = temp.next\n",
    "        count+=1\n",
    "    return temp"
   ]
  },
  {
   "cell_type": "markdown",
   "metadata": {},
   "source": [
    "## Detect Loop in linked list\n",
    "\n",
    "https://practice.geeksforgeeks.org/problems/detect-loop-in-linked-list/1\n",
    "\n",
    "Given a linked list of N nodes. The task is to check if the the linked list has a loop. Linked list can contain self loop."
   ]
  },
  {
   "cell_type": "code",
   "execution_count": null,
   "metadata": {},
   "outputs": [],
   "source": [
    "def detectLoop(head):\n",
    "    # code here\n",
    "    slow = fast = head\n",
    "    \n",
    "    while fast and fast.next:\n",
    "\n",
    "        fast = fast.next.next\n",
    "        slow = slow.next\n",
    "        if fast == slow:\n",
    "            return True\n",
    "    return False"
   ]
  },
  {
   "cell_type": "code",
   "execution_count": null,
   "metadata": {},
   "outputs": [],
   "source": []
  },
  {
   "cell_type": "markdown",
   "metadata": {},
   "source": [
    "## Longest Common Prefix in an Array\n",
    "https://practice.geeksforgeeks.org/problems/longest-common-prefix-in-an-array/0\n",
    "    \n",
    "Given a array of N strings, find the longest common prefix among all strings present in the array.\n",
    "\n",
    "Input:\n",
    "The first line of the input contains an integer T which denotes the number of test cases to follow. Each test case contains an integer N. Next line has space separated N strings.\n",
    "\n",
    "Output:\n",
    "Print the longest common prefix as a string in the given array. If no such prefix exists print \"-1\"(without quotes)."
   ]
  },
  {
   "cell_type": "code",
   "execution_count": 29,
   "metadata": {},
   "outputs": [
    {
     "data": {
      "text/plain": [
       "'ap'"
      ]
     },
     "execution_count": 29,
     "metadata": {},
     "output_type": "execute_result"
    }
   ],
   "source": [
    "def ans(s):\n",
    "    str_array = list(map(str,s.split(\" \")))\n",
    "    len_array = [ len(x) for x in map(str,s.split(\" \"))]\n",
    "#     print(str_array)\n",
    "    min_len = min(len_array)\n",
    "    res = \"\"\n",
    "    \n",
    "    for i in range(min_len, -1, -1):\n",
    "        index = 0\n",
    "        while index+1<len(str_array) and str_array[index][:i] == str_array[index+1][:i]:\n",
    "#             print(str_array[index][:i], str_array[index+1][:i],index)\n",
    "            index+=1\n",
    "\n",
    "        if index+1 == len(str_array) and len(res)<len(str_array[index][:i]):\n",
    "             res = str_array[index][:i]\n",
    "    return res\n",
    "Input = \"geeksforgeeks geeks geek geezer\"\n",
    "Input = \"apple ape april\"\n",
    "ans(Input)"
   ]
  },
  {
   "cell_type": "markdown",
   "metadata": {},
   "source": [
    "## Check if string is rotated by two places\n",
    "https://practice.geeksforgeeks.org/problems/check-if-string-is-rotated-by-two-places/0\n",
    "Given two strings, the task is to find if a string ('a') can be obtained by rotating another string ('b') by two places.\n",
    "Examples:\n",
    "Input : a = \"amazon\" \n",
    "           b = \"azonam\" // rotated anti-clockwise \n",
    "Output : 1 \n",
    "Input : a = \"amazon\" \n",
    "           b = \"onamaz\" // rotated clockwise \n",
    "Output : 1    "
   ]
  },
  {
   "cell_type": "code",
   "execution_count": 1,
   "metadata": {},
   "outputs": [
    {
     "name": "stdout",
     "output_type": "stream",
     "text": [
      "1\n"
     ]
    }
   ],
   "source": [
    "def ans(str1, str2):\n",
    "    if len(str1) != len(str2):\n",
    "        res = 0\n",
    "    res = 0\n",
    "    rot_str1, rot_str2 = \"\", \"\"\n",
    "    rot_str1 = str1[2:]+str1[:2]\n",
    "    rot_str2 = str1[len(str1)-2:]+str1[:len(str1)-2]\n",
    "    \n",
    "    if rot_str1 == str2 or rot_str2 == str2:\n",
    "        res = 1\n",
    "    print(res)\n",
    "\n",
    "Input1 = \"amazon\"\n",
    "Input2 = \"azonam\"\n",
    "ans(Input1, Input2) "
   ]
  },
  {
   "cell_type": "markdown",
   "metadata": {},
   "source": [
    "## Roman Number to Integer\n",
    "Given an string in roman no format (s)  your task is to convert it to integer .\n",
    "\n",
    "Input:\n",
    "The first line of each test case contains the no of test cases T. Then T test cases follow. Each test case contains a string s denoting the roman no.\n",
    "\n",
    "Output:\n",
    "For each test case in a new line print the integer representation of roman number s. "
   ]
  },
  {
   "cell_type": "code",
   "execution_count": 2,
   "metadata": {},
   "outputs": [
    {
     "data": {
      "text/plain": [
       "2018"
      ]
     },
     "execution_count": 2,
     "metadata": {},
     "output_type": "execute_result"
    }
   ],
   "source": [
    "def ans(s):\n",
    "    dic = {\"I\":1, \"V\":5, \"X\":10, \"L\":50, \"C\":100, \"D\":500, \"M\":1000}\n",
    "    number = int(dic[s[0]])\n",
    "    for i in range(1,len(s)):\n",
    "        if dic[s[i-1]] >= dic[s[i]]:\n",
    "            number += dic[s[i]]\n",
    "        else:\n",
    "            number += dic[s[i]]-2*dic[s[i-1]]\n",
    "    return number\n",
    "# Input = \"III\"\n",
    "# Input = \"XVIII\"\n",
    "# Input = \"XIX\"\n",
    "Input = \"MMXVIII\"\n",
    "ans(Input)"
   ]
  },
  {
   "cell_type": "markdown",
   "metadata": {},
   "source": [
    "## Anagram\n",
    "Given two strings, check whether two given strings are anagram of each other or not. An anagram of a string is another string that contains same characters, only the order of characters can be different. For example, “act” and “tac” are anagram of each other.\n",
    "\n",
    "Input: \n",
    "The first line of input contains an integer T denoting the number of test cases. Each test case consist of two strings in 'lowercase' only, in a single line.\n",
    "\n",
    "Output:\n",
    "Print \"YES\" without quotes if the two strings are anagram else print \"NO\"."
   ]
  },
  {
   "cell_type": "code",
   "execution_count": null,
   "metadata": {},
   "outputs": [],
   "source": [
    "import collections\n",
    "def ans(s):\n",
    "    s1, s2 = s.split(\" \")\n",
    "    coll_1, coll_2 = collections.Counter(s1), collections.Counter(s2)\n",
    "    if coll_1 == coll_2:\n",
    "        return True\n",
    "    else:\n",
    "        return False\n",
    "# s = \"geeksforgeeks forgeeksgeeks\"\n",
    "s = \"allergy allergic\"\n",
    "ans(s)"
   ]
  },
  {
   "cell_type": "markdown",
   "metadata": {},
   "source": [
    "## Implement strstr\n",
    "https://practice.geeksforgeeks.org/problems/implement-strstr/1\n",
    "Your task is to implement the function strstr. The function takes two strings as arguments (s,x) and  locates the occurrence of the string x in the string s. The function returns and integer denoting the first occurrence of the string x in s.\n",
    "\n",
    "Input Format:\n",
    "The first line of input contains an integer T denoting the no of test cases . Then T test cases follow. The first line of each test case contains two strings s and x.\n",
    "\n",
    "Output Format:\n",
    "For each test case, in a new line, output will be an integer denoting the first occurrence of the x in the string s. Return -1 if no match found."
   ]
  },
  {
   "cell_type": "code",
   "execution_count": 44,
   "metadata": {},
   "outputs": [
    {
     "data": {
      "text/plain": [
       "-1"
      ]
     },
     "execution_count": 44,
     "metadata": {},
     "output_type": "execute_result"
    }
   ],
   "source": [
    "def ans(s1,s2):\n",
    "    res = -1\n",
    "    for i in range(len(s1)):\n",
    "        if s1[i:i+len(s2)] == s2:\n",
    "            res = i\n",
    "            break\n",
    "    return res\n",
    "# Input1 = \"GeeksForGeeks\"\n",
    "# Input2 = \"Fr\"\n",
    "\n",
    "Input1 = \"GeeksForGeeks\"\n",
    "Input2 = \"Fr\"\n",
    "ans(Input1, Input2)\n",
    "    "
   ]
  },
  {
   "cell_type": "markdown",
   "metadata": {},
   "source": [
    "## Implement Atoi\n",
    "https://practice.geeksforgeeks.org/problems/implement-atoi/1\n",
    "    \n",
    "Your task  is to implement the function atoi. The function takes a string(str) as argument and converts it to an integer and returns it.\n",
    " \n",
    "Input:\n",
    "The first line of input contains an integer T denoting the no of test cases . Then T test cases follow. Each test case contains a string str .\n",
    "\n",
    "Output:\n",
    "For each test case in a new line output will be an integer denoting the converted integer, if the input string is not a numerical string then output will be -1."
   ]
  },
  {
   "cell_type": "code",
   "execution_count": 41,
   "metadata": {},
   "outputs": [
    {
     "data": {
      "text/plain": [
       "-1"
      ]
     },
     "execution_count": 41,
     "metadata": {},
     "output_type": "execute_result"
    }
   ],
   "source": [
    "def ans(string):\n",
    "    count = len(string)-1\n",
    "    result = 0\n",
    "    neg = 1\n",
    "    for i in range(len(string)):\n",
    "        if not string[i].isdigit() and string[i] != \"-\":\n",
    "            result = -1\n",
    "            break\n",
    "        elif string[i] == \"-\":\n",
    "            neg = -1\n",
    "        else:\n",
    "            result += int(string[i])*10**(count-i)\n",
    "    return result * neg\n",
    "Input = \"a\"\n",
    "\n",
    "ans(Input)"
   ]
  },
  {
   "cell_type": "markdown",
   "metadata": {},
   "source": [
    "## Longest Distinct characters in string\n",
    "https://practice.geeksforgeeks.org/problems/longest-distinct-characters-in-string/0\n",
    "    \n",
    "Given a string S, find length of the longest substring with all distinct characters.  For example, for input \"abca\", the output is 3 as \"abc\" is the longest substring with all distinct characters.\n",
    "\n",
    "Input:\n",
    "The first line of input contains an integer T denoting the number of test cases.\n",
    "The first line of each test case is String str.\n",
    "\n",
    "Output:\n",
    "Print length of smallest substring with maximum number of distinct characters.\n",
    "Note: The output substring should have all distinct characters."
   ]
  },
  {
   "cell_type": "code",
   "execution_count": 33,
   "metadata": {},
   "outputs": [
    {
     "name": "stdout",
     "output_type": "stream",
     "text": [
      "abcdef\n"
     ]
    },
    {
     "data": {
      "text/plain": [
       "6"
      ]
     },
     "execution_count": 33,
     "metadata": {},
     "output_type": "execute_result"
    }
   ],
   "source": [
    "def ans(s):\n",
    "    seen =  {}\n",
    "    max_count = 0\n",
    "    max_res = \"\"\n",
    "    count = 0\n",
    "    res = \"\"\n",
    "    for i in range(len(s)):\n",
    "        if s[i] not in seen:\n",
    "            seen[s[i]] = i\n",
    "            count += 1\n",
    "            res += s[i]\n",
    "            max_count = max(count, max_count)\n",
    "            if len(res) > len(max_res):\n",
    "                max_res = res\n",
    "        else:\n",
    "            seen = {s[i]:i}\n",
    "            count = 1\n",
    "            res = \"\"+s[i]\n",
    "    return max_count\n",
    "\n",
    "Input = \"abababcdefababcdab\"\n",
    "ans(Input)"
   ]
  },
  {
   "cell_type": "markdown",
   "metadata": {},
   "source": [
    "## Form a palindrome\n",
    "https://practice.geeksforgeeks.org/problems/form-a-palindrome/0\n",
    "\n",
    "Given a string, find the minimum number of characters to be inserted to convert it to palindrome.\n",
    "For Example:\n",
    "ab: Number of insertions required is 1. bab or aba\n",
    "aa: Number of insertions required is 0. aa\n",
    "abcd: Number of insertions required is 3. dcbabcd\n",
    "\n",
    "Input:\n",
    "\n",
    "The first line of input contains an integer T denoting the number of test cases.\n",
    "The first line of each test case is S."
   ]
  },
  {
   "cell_type": "code",
   "execution_count": 25,
   "metadata": {},
   "outputs": [],
   "source": [
    "def ans(s):\n",
    "    mid = len(s)//2\n",
    "    rever = s[mid:]\n",
    "    if s[:mid] == rever[::-1]:\n",
    "        return 0\n",
    "    if list(set(s)) == list(s):\n",
    "        return len(s)-1\n",
    "    count = 0\n",
    "    \n",
    "#     while s[:mid] != rever[::-1]:\n",
    "        \n",
    "Input = \"abcd\"\n",
    "ans(Input)"
   ]
  },
  {
   "cell_type": "code",
   "execution_count": 29,
   "metadata": {},
   "outputs": [
    {
     "data": {
      "text/plain": [
       "['a', 'd', 'b', 'c']"
      ]
     },
     "execution_count": 29,
     "metadata": {},
     "output_type": "execute_result"
    }
   ],
   "source": [
    "list(\"abcd\")\n",
    "list(set(\"abcd\"))"
   ]
  },
  {
   "cell_type": "markdown",
   "metadata": {},
   "source": [
    "## Remove Duplicates\n",
    "https://practice.geeksforgeeks.org/problems/remove-duplicates/0\n",
    "    \n",
    "Given a string, the task is to remove duplicates from it. Expected time complexity O(n) where n is length of input string and extra space O(1) under the assumption that there are total 256 possible characters in a string.\n",
    "\n",
    "Note: that original order of characters must be kept same. \n",
    "\n",
    "Input: \n",
    "First line of the input is the number of test cases T. And first line of test case contains a string.\n",
    "\n",
    "Output:  \n",
    "Modified string without duplicates and same order of characters."
   ]
  },
  {
   "cell_type": "code",
   "execution_count": 14,
   "metadata": {},
   "outputs": [
    {
     "name": "stdout",
     "output_type": "stream",
     "text": [
      "geks for\n"
     ]
    }
   ],
   "source": [
    "def ans(s):\n",
    "    dic = {}\n",
    "    res = \"\"\n",
    "    for i in range(len(s)):\n",
    "        if s[i] not in dic:\n",
    "            dic[s[i]] = i\n",
    "            res+=s[i]\n",
    "            \n",
    "    print(res)\n",
    "    \n",
    "# Input = \"geeksforgeeks\"\n",
    "Input = \"geeks for geeks\"\n",
    "ans(Input)"
   ]
  },
  {
   "cell_type": "markdown",
   "metadata": {},
   "source": [
    "## Longest Common Substring\n",
    "https://practice.geeksforgeeks.org/problems/longest-common-substring/0\n",
    "\n",
    "Given two strings X and Y. The task is to find the length of the longest common substring.\n",
    "\n",
    "Input:\n",
    "First line of the input contains number of test cases T. Each test case consist of three lines, first of which contains 2 space separated integers N and M denoting the size of string X and Y strings respectively. The next two lines contains the string X and Y.\n",
    "\n",
    "Output:\n",
    "For each test case print the length of longest  common substring of the two strings."
   ]
  },
  {
   "cell_type": "code",
   "execution_count": 12,
   "metadata": {},
   "outputs": [
    {
     "name": "stdout",
     "output_type": "stream",
     "text": [
      "W\n"
     ]
    }
   ],
   "source": [
    "def LCS(s1,s2):\n",
    "    str1_len, str2_len = len(s1), len(s2)\n",
    "    res = \"\"\n",
    "    i, j = 0, 0\n",
    "    max_len = 0\n",
    "    for i in range(str1_len):\n",
    "        for j in range(i,str2_len+1):\n",
    "            if s1[i:j] in s2:\n",
    "#                 print(s1[i:j])\n",
    "                if len(s1[i:j]) > max_len:\n",
    "                    res = s1[i:j]\n",
    "                    max_len = len(res)\n",
    "    print(res)\n",
    "                    \n",
    "# Input1 = \"ABCDGH\"\n",
    "# Input2 = \"ACDGHR\"\n",
    "Input1 = \"VYDDWYVVBURCZMGYJGFDXVTNUNNESLSPLWUIUPFXLZBKNHKWPPANLTCFIRJCDDSOZOYVEGURFW\"\n",
    "Input2 = \"CSFMOXEQMRJOWRGHWLKOBMEAHK\"\n",
    "LCS(Input1, Input2)"
   ]
  },
  {
   "cell_type": "markdown",
   "metadata": {},
   "source": [
    "## Recursively remove all adjacent duplicates\n",
    "https://practice.geeksforgeeks.org/problems/recursively-remove-all-adjacent-duplicates/0\n",
    "    \n",
    "Given a string s, recursively remove adjacent duplicate characters from the string s. The output string should not have any adjacent duplicates.    "
   ]
  },
  {
   "cell_type": "code",
   "execution_count": 34,
   "metadata": {},
   "outputs": [
    {
     "ename": "TypeError",
     "evalue": "check() missing 1 required positional argument: 'result'",
     "output_type": "error",
     "traceback": [
      "\u001b[1;31m---------------------------------------------------------------------------\u001b[0m",
      "\u001b[1;31mTypeError\u001b[0m                                 Traceback (most recent call last)",
      "\u001b[1;32m<ipython-input-34-78ac2b6c8440>\u001b[0m in \u001b[0;36m<module>\u001b[1;34m()\u001b[0m\n\u001b[0;32m     14\u001b[0m \u001b[1;31m# Input = \"geeksforgeek\"\u001b[0m\u001b[1;33m\u001b[0m\u001b[1;33m\u001b[0m\u001b[0m\n\u001b[0;32m     15\u001b[0m \u001b[0mInput\u001b[0m \u001b[1;33m=\u001b[0m \u001b[1;34m\"acaaabbbacdddd\"\u001b[0m\u001b[1;33m\u001b[0m\u001b[0m\n\u001b[1;32m---> 16\u001b[1;33m \u001b[0mprint\u001b[0m\u001b[1;33m(\u001b[0m\u001b[0mans\u001b[0m\u001b[1;33m(\u001b[0m\u001b[0mInput\u001b[0m\u001b[1;33m)\u001b[0m\u001b[1;33m)\u001b[0m\u001b[1;33m\u001b[0m\u001b[0m\n\u001b[0m",
      "\u001b[1;32m<ipython-input-34-78ac2b6c8440>\u001b[0m in \u001b[0;36mans\u001b[1;34m(s)\u001b[0m\n\u001b[0;32m     11\u001b[0m     \u001b[0mresult\u001b[0m \u001b[1;33m=\u001b[0m \u001b[0ms\u001b[0m\u001b[1;33m[\u001b[0m\u001b[1;36m0\u001b[0m\u001b[1;33m]\u001b[0m\u001b[1;33m\u001b[0m\u001b[0m\n\u001b[0;32m     12\u001b[0m \u001b[1;33m\u001b[0m\u001b[0m\n\u001b[1;32m---> 13\u001b[1;33m     \u001b[1;32mreturn\u001b[0m \u001b[0mcheck\u001b[0m\u001b[1;33m(\u001b[0m\u001b[0ms\u001b[0m\u001b[1;33m[\u001b[0m\u001b[1;36m1\u001b[0m\u001b[1;33m:\u001b[0m\u001b[1;33m]\u001b[0m\u001b[1;33m,\u001b[0m \u001b[0ms\u001b[0m\u001b[1;33m[\u001b[0m\u001b[1;36m0\u001b[0m\u001b[1;33m]\u001b[0m\u001b[1;33m,\u001b[0m \u001b[0mresult\u001b[0m\u001b[1;33m)\u001b[0m\u001b[1;33m\u001b[0m\u001b[0m\n\u001b[0m\u001b[0;32m     14\u001b[0m \u001b[1;31m# Input = \"geeksforgeek\"\u001b[0m\u001b[1;33m\u001b[0m\u001b[1;33m\u001b[0m\u001b[0m\n\u001b[0;32m     15\u001b[0m \u001b[0mInput\u001b[0m \u001b[1;33m=\u001b[0m \u001b[1;34m\"acaaabbbacdddd\"\u001b[0m\u001b[1;33m\u001b[0m\u001b[0m\n",
      "\u001b[1;32m<ipython-input-34-78ac2b6c8440>\u001b[0m in \u001b[0;36mcheck\u001b[1;34m(s, prev, result)\u001b[0m\n\u001b[0;32m      7\u001b[0m             \u001b[0mresult\u001b[0m\u001b[1;33m+=\u001b[0m\u001b[0ms\u001b[0m\u001b[1;33m[\u001b[0m\u001b[1;36m0\u001b[0m\u001b[1;33m]\u001b[0m\u001b[1;33m\u001b[0m\u001b[0m\n\u001b[0;32m      8\u001b[0m \u001b[1;33m\u001b[0m\u001b[0m\n\u001b[1;32m----> 9\u001b[1;33m         \u001b[1;32mreturn\u001b[0m \u001b[0mcheck\u001b[0m\u001b[1;33m(\u001b[0m\u001b[0ms\u001b[0m\u001b[1;33m[\u001b[0m\u001b[1;36m1\u001b[0m\u001b[1;33m:\u001b[0m\u001b[1;33m]\u001b[0m\u001b[1;33m,\u001b[0m\u001b[0mresult\u001b[0m\u001b[1;33m)\u001b[0m\u001b[1;33m\u001b[0m\u001b[0m\n\u001b[0m\u001b[0;32m     10\u001b[0m \u001b[1;33m\u001b[0m\u001b[0m\n\u001b[0;32m     11\u001b[0m     \u001b[0mresult\u001b[0m \u001b[1;33m=\u001b[0m \u001b[0ms\u001b[0m\u001b[1;33m[\u001b[0m\u001b[1;36m0\u001b[0m\u001b[1;33m]\u001b[0m\u001b[1;33m\u001b[0m\u001b[0m\n",
      "\u001b[1;31mTypeError\u001b[0m: check() missing 1 required positional argument: 'result'"
     ]
    }
   ],
   "source": [
    "def ans(s):\n",
    "\n",
    "    def check(s, prev, result):\n",
    "        if not s:\n",
    "            return result\n",
    "        if result[-1] != s[0] and prev != s[0]:\n",
    "            result+=s[0]\n",
    "\n",
    "        return check(s[1:],result)\n",
    "        \n",
    "    result = s[0]\n",
    "\n",
    "    return check(s[1:], s[0], result)\n",
    "# Input = \"geeksforgeek\"\n",
    "Input = \"acaaabbbacdddd\"\n",
    "print(ans(Input))"
   ]
  },
  {
   "cell_type": "markdown",
   "metadata": {},
   "source": [
    "## Longest Palindrome in a String\n",
    "https://practice.geeksforgeeks.org/problems/longest-palindrome-in-a-string/0\n",
    "\n",
    "Given a string S, find the longest palindromic substring in S. Substring of string S: S[ i . . . . j ] where 0 ≤ i ≤ j < len(S). Palindrome string: A string which reads the same backwards. More formally, S is palindrome if reverse(S) = S. Incase of conflict, return the substring which occurs first ( with the least starting index ).\n",
    "\n",
    "NOTE: Required Time Complexity O(n2)."
   ]
  },
  {
   "cell_type": "code",
   "execution_count": 10,
   "metadata": {},
   "outputs": [
    {
     "name": "stdout",
     "output_type": "stream",
     "text": [
      "aaaabbaa\n",
      "aaaabba\n",
      "aaaabb\n",
      "aaaab\n",
      "aaaa\n",
      "aaa\n",
      "aa\n",
      "a\n",
      "aaabbaa\n",
      "aaabba\n",
      "aaabb\n",
      "aaab\n",
      "aaa\n",
      "aa\n",
      "a\n",
      "aabbaa\n",
      "aabba\n",
      "aabb\n",
      "aab\n",
      "aa\n",
      "a\n",
      "abbaa\n",
      "abba\n",
      "abb\n",
      "ab\n",
      "a\n",
      "bbaa\n",
      "bba\n",
      "bb\n",
      "b\n",
      "baa\n",
      "ba\n",
      "b\n",
      "aa\n",
      "a\n",
      "a\n"
     ]
    },
    {
     "data": {
      "text/plain": [
       "'aabbaa'"
      ]
     },
     "execution_count": 10,
     "metadata": {},
     "output_type": "execute_result"
    }
   ],
   "source": [
    "def ans(s):\n",
    "    \n",
    "    max_str = \"\"\n",
    "    for i in range(len(s)):\n",
    "        for j in range(len(s),i,-1):\n",
    "            temp = s[i:j]\n",
    "            print(temp)\n",
    "            if temp == temp[::-1]:\n",
    "                if len(max_str) < len(temp):\n",
    "                    max_str = temp\n",
    "    return max_str\n",
    "Input = \"aaaabbaa\"\n",
    "ans(Input)"
   ]
  },
  {
   "cell_type": "markdown",
   "metadata": {},
   "source": [
    "## https://practice.geeksforgeeks.org/problems/permutations-of-a-given-string/0\n",
    "\n",
    "Given a string S. The task is to print all permutations of a given string.\n",
    "\n",
    "Input:\n",
    "The first line of input contains an integer T, denoting the number of test cases. Each test case contains a single string S in capital letter.\n",
    "\n",
    "Output:\n",
    "For each test case, print all permutations of a given string S with single space and all permutations should be in lexicographically increasing order.\n",
    "\n",
    "Constraints:\n",
    "1 ≤ T ≤ 10\n",
    "1 ≤ size of string ≤ 5\n",
    "\n",
    "Example:\n",
    "Input:\n",
    "2\n",
    "ABC\n",
    "ABSG\n",
    "\n",
    "Output:\n",
    "ABC ACB BAC BCA CAB CBA \n",
    "ABGS ABSG AGBS AGSB ASBG ASGB BAGS BASG BGAS BGSA BSAG BSGA GABS GASB GBAS GBSA GSAB GSBA SABG SAGB SBAG SBGA SGAB SGBA"
   ]
  },
  {
   "cell_type": "code",
   "execution_count": 6,
   "metadata": {},
   "outputs": [
    {
     "name": "stdout",
     "output_type": "stream",
     "text": [
      "ABC\n",
      "ACB\n",
      "BAC\n",
      "BCA\n",
      "CAB\n",
      "CBA\n"
     ]
    }
   ],
   "source": [
    "import itertools\n",
    "def permu(s):\n",
    "    \n",
    "    for i in list(itertools.permutations(s)):\n",
    "        res = \"\"\n",
    "        for j in i:\n",
    "            res+=j\n",
    "\n",
    "\n",
    "Input = \"ABC\"\n",
    "\n",
    "permu(Input)\n",
    "    \n"
   ]
  },
  {
   "cell_type": "code",
   "execution_count": null,
   "metadata": {
    "collapsed": true
   },
   "outputs": [],
   "source": []
  }
 ],
 "metadata": {
  "kernelspec": {
   "display_name": "Python 3",
   "language": "python",
   "name": "python3"
  },
  "language_info": {
   "codemirror_mode": {
    "name": "ipython",
    "version": 3
   },
   "file_extension": ".py",
   "mimetype": "text/x-python",
   "name": "python",
   "nbconvert_exporter": "python",
   "pygments_lexer": "ipython3",
   "version": "3.6.2"
  }
 },
 "nbformat": 4,
 "nbformat_minor": 2
}
