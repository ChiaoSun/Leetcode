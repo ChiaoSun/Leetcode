{
 "cells": [
  {
   "cell_type": "markdown",
   "metadata": {},
   "source": [
    "## Equilibrium point"
   ]
  },
  {
   "cell_type": "code",
   "execution_count": 21,
   "metadata": {},
   "outputs": [],
   "source": [
    "def Equilibrium_point(arr):\n",
    "    arr = list(map(int, arr.split()))\n",
    "    total_sum = sum(arr)\n",
    "#     print(total_sum)\n",
    "\n",
    "    left_sum = arr[0]\n",
    "    for i in range(1, len(arr)):\n",
    "#         print(int((total_sum - arr[i])/2), left_sum)\n",
    "        if (total_sum - arr[i])/2 == left_sum:\n",
    "            print(i)\n",
    "            break\n",
    "        left_sum += arr[i]\n",
    "        \n",
    "Input = \"4 42 27 16 28 3 4 5 9 3 31 5 5 29 10 18 35 35 33 19 41 23 8 32 9 5 8 18 35 13 6 7 6 10 11 13 37 2 25 7 28 43\"\n",
    "Input = \"27 4 25 6 6 1 27 22 19 29 6 9 36 24 6 15 5\"\n",
    "\n",
    "Equilibrium_point(Input)"
   ]
  },
  {
   "cell_type": "markdown",
   "metadata": {},
   "source": [
    "## Sort an array of 0s, 1s and 2s"
   ]
  },
  {
   "cell_type": "code",
   "execution_count": 1,
   "metadata": {
    "collapsed": true
   },
   "outputs": [],
   "source": [
    "def Sort_zeros(array):\n",
    "    zero, one = 0, 0\n",
    "    for i in range(len(array)):\n",
    "        v = array[i]\n",
    "        array[i] = 2\n",
    "        if v < 2:\n",
    "            array[one] = 1\n",
    "            one+=1\n",
    "        if v == 0:\n",
    "            array[zero] = 0\n",
    "            zero += 1\n",
    "    return array\n",
    "    "
   ]
  },
  {
   "cell_type": "markdown",
   "metadata": {},
   "source": [
    "## Subarray with given sum"
   ]
  },
  {
   "cell_type": "code",
   "execution_count": 10,
   "metadata": {},
   "outputs": [
    {
     "data": {
      "text/plain": [
       "[2, 5]"
      ]
     },
     "execution_count": 10,
     "metadata": {},
     "output_type": "execute_result"
    }
   ],
   "source": [
    "def given_sum(array, target_sum):\n",
    "    \n",
    "    cur_sum = array[0]\n",
    "    start = 0\n",
    "    for i in range(1, len(array)):\n",
    "        cur_sum += array[i]\n",
    "        while start <= i and cur_sum >= target_sum:\n",
    "            if cur_sum == target_sum:\n",
    "                return [start+1, i+1]\n",
    "            cur_sum -= array[start]\n",
    "            start+=1\n",
    "\n",
    "    return False\n",
    "\n",
    "array = [1,2,3, 7, 5]\n",
    "target_sum = 12\n",
    "\n",
    "# array = [1, 2, 3, 4, 5, 6, 7, 8, 9, 10]\n",
    "# target_sum = 15\n",
    "array = [15, 2, 4, 8, 9, 5, 10, 23]\n",
    "target_sum = 23\n",
    "given_sum(array, target_sum)"
   ]
  },
  {
   "cell_type": "code",
   "execution_count": null,
   "metadata": {
    "collapsed": true
   },
   "outputs": [],
   "source": []
  }
 ],
 "metadata": {
  "kernelspec": {
   "display_name": "Python 3",
   "language": "python",
   "name": "python3"
  },
  "language_info": {
   "codemirror_mode": {
    "name": "ipython",
    "version": 3
   },
   "file_extension": ".py",
   "mimetype": "text/x-python",
   "name": "python",
   "nbconvert_exporter": "python",
   "pygments_lexer": "ipython3",
   "version": "3.5.2"
  }
 },
 "nbformat": 4,
 "nbformat_minor": 2
}
