{
 "cells": [
  {
   "cell_type": "code",
   "execution_count": 72,
   "metadata": {},
   "outputs": [
    {
     "data": {
      "text/plain": [
       "[1, 2]"
      ]
     },
     "execution_count": 72,
     "metadata": {},
     "output_type": "execute_result"
    }
   ],
   "source": [
    "## 347. Top K Frequent Elements\n",
    "import collections\n",
    "def topKFrequent(nums, k):\n",
    "    \"\"\"\n",
    "    :type nums: List[int]\n",
    "    :type k: int\n",
    "    :rtype: List[int]\n",
    "    \"\"\"\n",
    "    temp = collections.Counter(nums).most_common(k)\n",
    "    result = []\n",
    "    for i in temp:\n",
    "        result.append(i[0])\n",
    "    return result\n",
    "\n",
    "nums = [1,1,1,2,2,3]\n",
    "k = 2\n",
    "topKFrequent(nums,k)\n"
   ]
  },
  {
   "cell_type": "code",
   "execution_count": null,
   "metadata": {},
   "outputs": [],
   "source": [
    "## 215. Kth Largest Element in an Array\n",
    "def findKthLargest(nums, k):\n",
    "    \"\"\"\n",
    "    :type nums: List[int]\n",
    "    :type k: int\n",
    "    :rtype: int\n",
    "    \"\"\"\n",
    "    nums.sort()\n",
    "    return nums[-k]"
   ]
  },
  {
   "cell_type": "code",
   "execution_count": 67,
   "metadata": {},
   "outputs": [
    {
     "data": {
      "text/plain": [
       "'apple'"
      ]
     },
     "execution_count": 67,
     "metadata": {},
     "output_type": "execute_result"
    }
   ],
   "source": [
    "## 524. Longest Word in Dictionary through Deleting\n",
    "def findLongestWord(s, d):\n",
    "    result = []\n",
    "    max_len = 0\n",
    "    longest_word = \"\"\n",
    "    for word in d:\n",
    "        w_pointer = 0\n",
    "        s_pointer = 0\n",
    "        while s_pointer < len(s) and w_pointer < len(word):\n",
    "            if s[s_pointer] == word[w_pointer]:\n",
    "                s_pointer, w_pointer = s_pointer+1, w_pointer+1\n",
    "            else:\n",
    "                s_pointer+=1\n",
    "        if w_pointer == len(word):\n",
    "            result.append(word)\n",
    "            if len(word) > max_len:\n",
    "                max_len =len(word)\n",
    "                longest_word = word\n",
    "    return longest_word\n",
    "\n",
    "s = \"abpcplea\"\n",
    "d = [\"ale\",\"apple\",\"monkey\",\"plea\"]\n",
    "findLongestWord(s, d)"
   ]
  },
  {
   "cell_type": "code",
   "execution_count": null,
   "metadata": {},
   "outputs": [],
   "source": [
    "## 141. Linked List Cycle\n",
    "class ListNode(object):\n",
    "    def __init__(self, x):\n",
    "        self.val = x\n",
    "        self.next = None\n",
    "\n",
    "def hasCycle(self, head):\n",
    "    \"\"\"\n",
    "    :type head: ListNode\n",
    "    :rtype: bool\n",
    "    \"\"\"\n",
    "    try:\n",
    "        fast = head.next\n",
    "        slow = head\n",
    "        while slow != fast:\n",
    "            slow = slow.next\n",
    "            fast = fast.next.next\n",
    "        return True\n",
    "    except:\n",
    "        return False\n",
    "Input = [3,2,0,-4]\n",
    "\n",
    "    "
   ]
  },
  {
   "cell_type": "code",
   "execution_count": null,
   "metadata": {},
   "outputs": [],
   "source": [
    "## 88. Merge Sorted Array\n",
    "def merge(self, nums1, m, nums2, n):\n",
    "    \"\"\"\n",
    "    :type nums1: List[int]\n",
    "    :type m: int\n",
    "    :type nums2: List[int]\n",
    "    :type n: int\n",
    "    :rtype: void Do not return anything, modify nums1 in-place instead.\n",
    "    \"\"\"\n",
    "    while m > 0 and n > 0:\n",
    "        if nums1[m-1] >= nums2[n-1]:\n",
    "            nums1[n+m-1] = nums1[m-1]\n",
    "            m-=1\n",
    "        else:\n",
    "            nums[n+m-1] = nums2[n-1]\n",
    "            n-=1\n",
    "    if n > 0:\n",
    "        nums1[:n] = nums2[:n]\n",
    "        \n"
   ]
  },
  {
   "cell_type": "code",
   "execution_count": 43,
   "metadata": {},
   "outputs": [
    {
     "name": "stdout",
     "output_type": "stream",
     "text": [
      "['a', 'm', 'a', 'n', 'a', 'p', 'l', 'a', 'n', 'a', 'c', 'a', 'n', 'a', 'l', 'p', 'a', 'n', 'a', 'm', 'a']\n"
     ]
    },
    {
     "data": {
      "text/plain": [
       "True"
      ]
     },
     "execution_count": 43,
     "metadata": {},
     "output_type": "execute_result"
    }
   ],
   "source": [
    "## 125. Valid Palindrome\n",
    "def isPalindrome(s):\n",
    "    \"\"\"\n",
    "    :type s: str\n",
    "    :rtype: bool\n",
    "    \"\"\"\n",
    "    ascii_letters = '0123456789abcdefghijklmnopqrstuvwxyzABCDEFGHIJKLMNOPQRSTUVWXYZ'\n",
    "\n",
    "    result = []\n",
    "    for i in s:\n",
    "        if i in ascii_letters:\n",
    "            result.append(i.lower())\n",
    "    return result == result[::-1]\n",
    "Input = 'A man, a plan, a canal: Panama'\n",
    "isPalindrome(Input)"
   ]
  },
  {
   "cell_type": "code",
   "execution_count": 33,
   "metadata": {},
   "outputs": [
    {
     "data": {
      "text/plain": [
       "True"
      ]
     },
     "execution_count": 33,
     "metadata": {},
     "output_type": "execute_result"
    }
   ],
   "source": [
    "## 680. Valid Palindrome II\n",
    "## \n",
    "def validPalindrome(s):\n",
    "    \"\"\"\n",
    "    :type s: str\n",
    "    :rtype: bool\n",
    "    \"\"\"\n",
    "    left, right = 0, len(s) - 1\n",
    "    while left < right:\n",
    "        if s[left] != s[right]:\n",
    "            one, two = s[left:right], s[left + 1:right + 1]\n",
    "            return one == one[::-1] or two == two[::-1]\n",
    "        left, right = left + 1, right - 1\n",
    "    return True\n",
    "Input = 'aba'\n",
    "validPalindrome(Input)"
   ]
  },
  {
   "cell_type": "code",
   "execution_count": 28,
   "metadata": {},
   "outputs": [
    {
     "ename": "TypeError",
     "evalue": "'str' object does not support item assignment",
     "output_type": "error",
     "traceback": [
      "\u001b[1;31m---------------------------------------------------------------------------\u001b[0m",
      "\u001b[1;31mTypeError\u001b[0m                                 Traceback (most recent call last)",
      "\u001b[1;32m<ipython-input-28-d22ff2a1d2dd>\u001b[0m in \u001b[0;36m<module>\u001b[1;34m()\u001b[0m\n\u001b[0;32m     19\u001b[0m     \u001b[1;32mreturn\u001b[0m \u001b[1;34m''\u001b[0m\u001b[1;33m.\u001b[0m\u001b[0mjoin\u001b[0m\u001b[1;33m(\u001b[0m\u001b[0ms\u001b[0m\u001b[1;33m)\u001b[0m\u001b[1;33m\u001b[0m\u001b[0m\n\u001b[0;32m     20\u001b[0m \u001b[0mInput\u001b[0m \u001b[1;33m=\u001b[0m \u001b[1;34m\"hello\"\u001b[0m\u001b[1;33m\u001b[0m\u001b[0m\n\u001b[1;32m---> 21\u001b[1;33m \u001b[0mreverseVowels\u001b[0m\u001b[1;33m(\u001b[0m\u001b[0mInput\u001b[0m\u001b[1;33m)\u001b[0m\u001b[1;33m\u001b[0m\u001b[0m\n\u001b[0m",
      "\u001b[1;32m<ipython-input-28-d22ff2a1d2dd>\u001b[0m in \u001b[0;36mreverseVowels\u001b[1;34m(s)\u001b[0m\n\u001b[0;32m     10\u001b[0m     \u001b[1;32mwhile\u001b[0m \u001b[0mleft\u001b[0m \u001b[1;33m<\u001b[0m \u001b[0mright\u001b[0m\u001b[1;33m:\u001b[0m\u001b[1;33m\u001b[0m\u001b[0m\n\u001b[0;32m     11\u001b[0m         \u001b[1;32mif\u001b[0m \u001b[0ms\u001b[0m\u001b[1;33m[\u001b[0m\u001b[0mleft\u001b[0m\u001b[1;33m]\u001b[0m \u001b[1;32min\u001b[0m \u001b[0mVowels\u001b[0m \u001b[1;32mand\u001b[0m \u001b[0ms\u001b[0m\u001b[1;33m[\u001b[0m\u001b[0mleft\u001b[0m\u001b[1;33m]\u001b[0m \u001b[1;32min\u001b[0m \u001b[0mVowels\u001b[0m\u001b[1;33m:\u001b[0m\u001b[1;33m\u001b[0m\u001b[0m\n\u001b[1;32m---> 12\u001b[1;33m             \u001b[0ms\u001b[0m\u001b[1;33m[\u001b[0m\u001b[0mleft\u001b[0m\u001b[1;33m]\u001b[0m\u001b[1;33m,\u001b[0m \u001b[0ms\u001b[0m\u001b[1;33m[\u001b[0m\u001b[0mright\u001b[0m\u001b[1;33m]\u001b[0m \u001b[1;33m=\u001b[0m \u001b[0ms\u001b[0m\u001b[1;33m[\u001b[0m\u001b[0mright\u001b[0m\u001b[1;33m]\u001b[0m\u001b[1;33m,\u001b[0m \u001b[0ms\u001b[0m\u001b[1;33m[\u001b[0m\u001b[0mleft\u001b[0m\u001b[1;33m]\u001b[0m\u001b[1;33m\u001b[0m\u001b[0m\n\u001b[0m\u001b[0;32m     13\u001b[0m             \u001b[0mright\u001b[0m \u001b[1;33m-=\u001b[0m \u001b[1;36m1\u001b[0m\u001b[1;33m\u001b[0m\u001b[0m\n\u001b[0;32m     14\u001b[0m             \u001b[0mleft\u001b[0m \u001b[1;33m+=\u001b[0m \u001b[1;36m1\u001b[0m\u001b[1;33m\u001b[0m\u001b[0m\n",
      "\u001b[1;31mTypeError\u001b[0m: 'str' object does not support item assignment"
     ]
    }
   ],
   "source": [
    "## 345. Reverse Vowels of a String\n",
    "\n",
    "def reverseVowels(s):\n",
    "    \"\"\"\n",
    "    :type s: str\n",
    "    :rtype: str\n",
    "    \"\"\"\n",
    "    Vowels = list(\"aeiouAEIOU\")\n",
    "    left, right = 0, len(s)-1\n",
    "    while left < right:\n",
    "        if s[left] in Vowels and s[left] in Vowels:\n",
    "            s[left], s[right] = s[right], s[left]\n",
    "            right -= 1\n",
    "            left += 1\n",
    "        if s[left] not in Vowels:\n",
    "            left += 1\n",
    "        elif s[right] not in Vowels:\n",
    "            right -= 1\n",
    "    return ''.join(s)\n",
    "Input = \"hello\"\n",
    "reverseVowels(Input)"
   ]
  },
  {
   "cell_type": "code",
   "execution_count": 24,
   "metadata": {},
   "outputs": [
    {
     "name": "stdout",
     "output_type": "stream",
     "text": [
      "1 1\n"
     ]
    },
    {
     "data": {
      "text/plain": [
       "True"
      ]
     },
     "execution_count": 24,
     "metadata": {},
     "output_type": "execute_result"
    }
   ],
   "source": [
    "## 633. Sum of Square Numbers\n",
    "import math\n",
    "def judgeSquareSum(c):\n",
    "    \"\"\"\n",
    "    :type c: int\n",
    "    :rtype: bool\n",
    "    \"\"\"\n",
    "    target = math.floor(math.sqrt(c))\n",
    "    if c == target*target:\n",
    "        return True\n",
    "    else:\n",
    "        left, right = 1, target\n",
    "        result = False\n",
    "        while left <= right:\n",
    "            temp = left*left + right*right\n",
    "            if temp == c:\n",
    "                result = True\n",
    "                break\n",
    "            elif temp < c:\n",
    "                left+=1\n",
    "            else:\n",
    "                right -= 1\n",
    "        return result\n",
    "        \n",
    "Input = 1\n",
    "judgeSquareSum(Input)"
   ]
  },
  {
   "cell_type": "code",
   "execution_count": 6,
   "metadata": {},
   "outputs": [
    {
     "data": {
      "text/plain": [
       "[1, 3]"
      ]
     },
     "execution_count": 6,
     "metadata": {},
     "output_type": "execute_result"
    }
   ],
   "source": [
    "##167. Two Sum II - Input array is sorted\n",
    "\n",
    "def twoSum(numbers, target):\n",
    "    left, right = 0, len(numbers)-1\n",
    "    while left < right:\n",
    "        temp = target - numbers[left]\n",
    "        if numbers[right] > temp:\n",
    "            right -= 1\n",
    "        elif numbers[right] < temp:\n",
    "            left += 1\n",
    "        elif numbers[right] == temp:\n",
    "            break\n",
    "\n",
    "    return [left+1,right+1]\n",
    "\n",
    "numbers = [2,7,11,15]\n",
    "target = 13\n",
    "twoSum(numbers, target)"
   ]
  },
  {
   "cell_type": "code",
   "execution_count": null,
   "metadata": {},
   "outputs": [],
   "source": []
  }
 ],
 "metadata": {
  "kernelspec": {
   "display_name": "Python 3",
   "language": "python",
   "name": "python3"
  },
  "language_info": {
   "codemirror_mode": {
    "name": "ipython",
    "version": 3
   },
   "file_extension": ".py",
   "mimetype": "text/x-python",
   "name": "python",
   "nbconvert_exporter": "python",
   "pygments_lexer": "ipython3",
   "version": "3.6.2"
  }
 },
 "nbformat": 4,
 "nbformat_minor": 2
}
