{
 "cells": [
  {
   "cell_type": "markdown",
   "metadata": {},
   "source": [
    "## 417. Pacific Atlantic Water Flow\n",
    "\n",
    "Given an m x n matrix of non-negative integers representing the height of each unit cell in a continent, the \"Pacific ocean\" touches the left and top edges of the matrix and the \"Atlantic ocean\" touches the right and bottom edges.\n",
    "\n",
    "Water can only flow in four directions (up, down, left, or right) from a cell to another one with height equal or lower.\n",
    "\n",
    "Find the list of grid coordinates where water can flow to both the Pacific and Atlantic ocean.\n",
    "\n",
    "Note:\n",
    "The order of returned grid coordinates does not matter.\n",
    "Both m and n are less than 150.\n",
    "Example:\n",
    "\n",
    "Given the following 5x5 matrix:\n",
    "\n",
    "  Pacific ~   ~   ~   ~   ~ \n",
    "  \n",
    "       ~  1   2   2   3  (5) *\n",
    "       \n",
    "       ~  3   2   3  (4) (4) *\n",
    "       \n",
    "       ~  2   4  (5)  3   1  *\n",
    "       \n",
    "       ~ (6) (7)  1   4   5  *\n",
    "       \n",
    "       ~ (5)  1   1   2   4  *\n",
    "       \n",
    "          *   *   *   *   * Atlantic\n",
    "\n",
    "\n",
    "Return:\n",
    "\n",
    "[[0, 4], [1, 3], [1, 4], [2, 2], [3, 0], [3, 1], [4, 0]] (positions with parentheses in above matrix)."
   ]
  },
  {
   "cell_type": "code",
   "execution_count": 21,
   "metadata": {},
   "outputs": [
    {
     "name": "stdout",
     "output_type": "stream",
     "text": [
      "[1, 2, 2, 3, 5]\n",
      "[3, 2, 3, 4, 4]\n",
      "[2, 4, 5, 3, 1]\n",
      "[6, 7, 1, 4, 5]\n",
      "[5, 1, 1, 2, 4]\n",
      " \n",
      "[1, 2, -1, 3, 5]\n",
      "[3, 2, 3, -1, 4]\n",
      "[2, 4, 5, 3, 1]\n",
      "[6, 7, 1, 4, 5]\n",
      "[5, 1, 1, -1, 4]\n",
      "\n",
      "[1, 2, -1, 3, 5]\n",
      "[3, 2, -1, 4, -1]\n",
      "[2, 4, 5, -1, 1]\n",
      "[6, 7, 1, 4, 5]\n",
      "[5, 1, 1, -1, 4]\n",
      "\n",
      "(1, 0)\n",
      "[]\n"
     ]
    }
   ],
   "source": [
    "def pacificAtlantic(matrix):\n",
    "    \"\"\"\n",
    "    :type matrix: List[List[int]]\n",
    "    :rtype: List[List[int]]\n",
    "    \"\"\"\n",
    "    result = []\n",
    "    height, width = len(matrix),len(matrix[0])\n",
    "                \n",
    "    def dfs(i,j):\n",
    "        if matrix[i][j] == -1:\n",
    "            return\n",
    "        if (i == 0 or j == 0) and (i == height-1 or j == width-1):\n",
    "            if (i == 0 or j == 0):\n",
    "                Flag[0] = 1\n",
    "            if i == height-1 or j == width-1:\n",
    "                Flag[1] = 1\n",
    "            \n",
    "        Visited = matrix[i][j]\n",
    "        matrix[i][j] = -1\n",
    "        for (h,w) in ((-1, 0), (1, 0), (0, -1), (0, 1)):\n",
    "            if 0 <= i+h < height and 0 <= j+w < width and matrix[i+h][j+w] != -1 and Visited >= matrix[i+h][j+w]:\n",
    "                dfs(i+h,j+w)\n",
    "        matrix[i][j] = Visited\n",
    "    \n",
    "Input = [\n",
    "    [1,2,2,3,5],\n",
    "    [3,2,3,4,4],\n",
    "    [2,4,5,3,1],\n",
    "    [6,7,1,4,5],\n",
    "    [5,1,1,2,4]\n",
    "]\n",
    "pacificAtlantic(Input)\n"
   ]
  },
  {
   "cell_type": "markdown",
   "metadata": {},
   "source": [
    "## 130. Surrounded Regions\n",
    "\n",
    "Given a 2D board containing 'X' and 'O' (the letter O), capture all regions surrounded by 'X'.\n",
    "\n",
    "A region is captured by flipping all 'O's into 'X's in that surrounded region.\n",
    "\n",
    "Example:\n",
    "\n",
    "X X X X\n",
    "\n",
    "X O O X\n",
    "\n",
    "X X O X\n",
    "\n",
    "X O X X\n",
    "\n",
    "After running your function, the board should be:\n",
    "\n",
    "X X X X\n",
    "\n",
    "X X X X\n",
    "\n",
    "X X X X\n",
    "\n",
    "X O X X\n",
    "\n",
    "Explanation:\n",
    "\n",
    "Surrounded regions shouldn’t be on the border, which means that any 'O' on the border of the board are not flipped to 'X'. Any 'O' that is not on the border and it is not connected to an 'O' on the border will be flipped to 'X'. Two cells are connected if they are adjacent cells connected horizontally or vertically."
   ]
  },
  {
   "cell_type": "code",
   "execution_count": 14,
   "metadata": {},
   "outputs": [
    {
     "name": "stdout",
     "output_type": "stream",
     "text": [
      "['O', 'X', 'X', 'O', 'X']\n",
      "['X', 'X', 'X', 'X', 'O']\n",
      "['X', 'X', 'X', 'O', 'X']\n",
      "['O', 'X', 'O', 'O', 'O']\n",
      "['X', 'X', 'O', 'X', 'O']\n"
     ]
    }
   ],
   "source": [
    "def solve(board):\n",
    "    \"\"\"\n",
    "    :type board: List[List[str]]\n",
    "    :rtype: void Do not return anything, modify board in-place instead.\n",
    "    \"\"\"\n",
    "    height, width = len(board), len(board[0])\n",
    "    \n",
    "    def dfs(i,j):\n",
    "        if 0 <= i < height and 0 <= j < width:\n",
    "            board[i][j] = '1'\n",
    "            if board[i-1][j] == 'O':\n",
    "                dfs(i-1,j)\n",
    "                \n",
    "            if i < height-1 and board[i+1][j] == 'O':\n",
    "                dfs(i+1,j)\n",
    "                \n",
    "            if board[i][j-1] == 'O':\n",
    "                dfs(i,j-1)\n",
    "                \n",
    "            if j < width-1 and board[i][j+1] == 'O':\n",
    "                dfs(i,j+1)\n",
    "    \n",
    "    for i in range(height):\n",
    "        for j in range(width):\n",
    "            if (i == 0 or i == height-1) and board[i][j] == 'O':\n",
    "                board[i][j] = '1'\n",
    "            if (j == 0 or j == width - 1 ) and board[i][j] == 'O':\n",
    "                board[i][j] = '1'\n",
    "                \n",
    "    for i in range(height):\n",
    "        for j in range(width):\n",
    "            if board[i][j] == '1':\n",
    "                dfs(i,j)\n",
    "    for i in range(height):\n",
    "        for j in range(width):\n",
    "            if board[i][j] == '1':\n",
    "                board[i][j] = 'O'\n",
    "            elif board[i][j] == 'O':\n",
    "                board[i][j] = 'X'\n",
    "                \n",
    "    for i in range(len(board)):\n",
    "        print(board[i])\n",
    "\n",
    "# Input = [\n",
    "#     [\"X\",\"X\",\"X\",\"X\"],\n",
    "#     [\"O\",\"O\",\"O\",\"X\"],\n",
    "#     [\"X\",\"X\",\"O\",\"X\"],\n",
    "#     [\"X\",\"O\",\"X\",\"X\"]   \n",
    "# ]   \n",
    "Input = [\n",
    "    [\"O\",\"X\",\"X\",\"O\",\"X\"],\n",
    "    [\"X\",\"O\",\"O\",\"X\",\"O\"],\n",
    "    [\"X\",\"O\",\"X\",\"O\",\"X\"],\n",
    "    [\"O\",\"X\",\"O\",\"O\",\"O\"],\n",
    "    [\"X\",\"X\",\"O\",\"X\",\"O\"]\n",
    "]\n",
    "solve(Input)"
   ]
  },
  {
   "cell_type": "markdown",
   "metadata": {},
   "source": [
    "## 547. Friend Circles\n",
    "\n",
    "There are N students in a class. Some of them are friends, while some are not. Their friendship is transitive in nature. For example, if A is a direct friend of B, and B is a direct friend of C, then A is an indirect friend of C. And we defined a friend circle is a group of students who are direct or indirect friends.\n",
    "\n",
    "\n",
    "Given a N*N matrix M representing the friend relationship between students in the class. If M[i][j] = 1, then the ith and jth students are direct friends with each other, otherwise not. And you have to output the total number of friend circles among all the students.\n",
    "\n",
    "Example 1:\n",
    "\n",
    "Input: \n",
    "\n",
    "[[1,1,0],\n",
    " [1,1,0],\n",
    " [0,0,1]]\n",
    " \n",
    "Output: 2\n",
    "\n",
    "Explanation:The 0th and 1st students are direct friends, so they are in a friend circle. \n",
    "The 2nd student himself is in a friend circle. So return 2.\n",
    "\n",
    "Example 2:\n",
    "\n",
    "Input: \n",
    "[[1,1,0],\n",
    " [1,1,1],\n",
    " [0,1,1]]\n",
    "Output: 1\n",
    "\n",
    "Explanation:The 0th and 1st students are direct friends, the 1st and 2nd students are direct friends, \n",
    "so the 0th and 2nd students are indirect friends. All of them are in the same friend circle, so return 1."
   ]
  },
  {
   "cell_type": "code",
   "execution_count": null,
   "metadata": {},
   "outputs": [],
   "source": [
    "def findCircleNum(self, M):\n",
    "    \"\"\"\n",
    "    :type M: List[List[int]]\n",
    "    :rtype: int\n",
    "    \"\"\"\n",
    "    def findCircleNum(self, A):\n",
    "        N = len(A)\n",
    "        seen = set()\n",
    "        def dfs(node):\n",
    "            for nei, adj in enumerate(A[node]):\n",
    "                if adj and nei not in seen:\n",
    "                    seen.add(nei)\n",
    "                    dfs(nei)\n",
    "\n",
    "        ans = 0\n",
    "        for i in xrange(N):\n",
    "            if i not in seen:\n",
    "                dfs(i)\n",
    "                ans += 1\n",
    "        return ans"
   ]
  },
  {
   "cell_type": "markdown",
   "metadata": {},
   "source": [
    "## 695. Max Area of Island\n",
    "\n",
    "Given a non-empty 2D array grid of 0's and 1's, an island is a group of 1's (representing land) connected 4-directionally (horizontal or vertical.) You may assume all four edges of the grid are surrounded by water.\n",
    "\n",
    "Find the maximum area of an island in the given 2D array. (If there is no island, the maximum area is 0.)\n",
    "\n",
    "Example 1:\n",
    "\n",
    "[[0,0,1,0,0,0,0,1,0,0,0,0,0],\n",
    "\n",
    " [0,0,0,0,0,0,0,1,1,1,0,0,0],\n",
    " \n",
    " [0,1,1,0,1,0,0,0,0,0,0,0,0],\n",
    " \n",
    " [0,1,0,0,1,1,0,0,1,0,1,0,0],\n",
    " \n",
    " [0,1,0,0,1,1,0,0,1,1,1,0,0],\n",
    " \n",
    " [0,0,0,0,0,0,0,0,0,0,1,0,0],\n",
    " \n",
    " [0,0,0,0,0,0,0,1,1,1,0,0,0],\n",
    " \n",
    " [0,0,0,0,0,0,0,1,1,0,0,0,0]]\n",
    " \n",
    "Given the above grid, return 6. Note the answer is not 11, because the island must be connected 4-directionally.\n",
    "\n",
    "Example 2:\n",
    "\n",
    "[[0,0,0,0,0,0,0,0]]\n",
    "\n",
    "Given the above grid, return 0.\n",
    "Note: The length of each dimension in the given grid does not exceed 50."
   ]
  },
  {
   "cell_type": "code",
   "execution_count": 16,
   "metadata": {},
   "outputs": [
    {
     "name": "stdout",
     "output_type": "stream",
     "text": [
      "8\n",
      "0\n",
      "0 0\n",
      "1\n",
      "2\n",
      "2 3\n",
      "3\n"
     ]
    },
    {
     "data": {
      "text/plain": [
       "4"
      ]
     },
     "execution_count": 16,
     "metadata": {},
     "output_type": "execute_result"
    }
   ],
   "source": [
    "def maxAreaOfIsland(grid):\n",
    "    \"\"\"\n",
    "    :type grid: List[List[int]]\n",
    "    :rtype: int\n",
    "    \"\"\"\n",
    "    height, width = len(grid), len(grid[0])\n",
    "    areas = []\n",
    "    def dfs(i,j):\n",
    "        if 0 <= i < height and 0 <= j < width and grid[i][j]:\n",
    "            grid[i][j] = 0\n",
    "            return 1 + dfs(i,j-1) + dfs(i,j+1) + dfs(i-1,j) + dfs(i+1,j)\n",
    "        return 0\n",
    "    \n",
    "    for i in range(height):\n",
    "        for j in range(width):\n",
    "            if grid[i][j]:\n",
    "                areas.append(dfs(i,j))\n",
    "    return max(areas) if areas else 0\n",
    "    \n",
    "print(len(Input))\n",
    "# Input = [[0,0,1,0,0,0,0,1,0,0,0,0,0],\n",
    "#  [0,0,0,0,0,0,0,1,1,1,0,0,0],\n",
    "#  [0,1,1,0,1,0,0,0,0,0,0,0,0],\n",
    "#  [0,1,0,0,1,1,0,0,1,0,1,0,0],\n",
    "#  [0,1,0,0,1,1,0,0,1,1,1,0,0],\n",
    "#  [0,0,0,0,0,0,0,0,0,0,1,0,0],\n",
    "#  [0,0,0,0,0,0,0,1,1,1,0,0,0],\n",
    "#  [0,0,0,0,0,0,0,1,1,0,0,0,0]]\n",
    "\n",
    "Input = [[1,1,0,0,0],[1,1,0,0,0],[0,0,0,1,1],[0,0,0,1,1]]\n",
    "maxAreaOfIsland(Input)\n",
    "                \n"
   ]
  },
  {
   "cell_type": "code",
   "execution_count": 3,
   "metadata": {},
   "outputs": [
    {
     "name": "stdout",
     "output_type": "stream",
     "text": [
      "2\n"
     ]
    }
   ],
   "source": [
    "a = [[2,3],[2,3],[2,3]]\n",
    "print(len(a[0]))"
   ]
  },
  {
   "cell_type": "markdown",
   "metadata": {},
   "source": [
    "## Sort\n"
   ]
  },
  {
   "cell_type": "markdown",
   "metadata": {},
   "source": [
    "## 241. Different Ways to Add Parentheses\n",
    "\n",
    "Given a string of numbers and operators, return all possible results from computing all the different possible ways to group numbers and operators. The valid operators are +, - and *.\n",
    "\n",
    "Example 1:\n",
    "\n",
    "Input: \"2-1-1\"\n",
    "\n",
    "Output: [0, 2]\n",
    "\n",
    "Explanation: \n",
    "\n",
    "((2-1)-1) = 0 \n",
    "\n",
    "(2-(1-1)) = 2\n",
    "\n",
    "Example 2:\n",
    "\n",
    "Input: \"2*3-4*5\"\n",
    "\n",
    "Output: [-34, -14, -10, -10, 10]\n",
    "\n",
    "Explanation: \n",
    "\n",
    "(2x(3-(4x5))) = -34 \n",
    "\n",
    "((2x3)-(4x5)) = -14 \n",
    "\n",
    "((2x(3-4))x5) = -10 \n",
    "\n",
    "(2x((3-4)x5)) = -10 \n",
    "\n",
    "(((2x3)-4)x5) = 10"
   ]
  },
  {
   "cell_type": "code",
   "execution_count": 22,
   "metadata": {},
   "outputs": [
    {
     "data": {
      "text/plain": [
       "[-34, -10, -14, -10, 10]"
      ]
     },
     "execution_count": 22,
     "metadata": {},
     "output_type": "execute_result"
    }
   ],
   "source": [
    "\n",
    "def diffWaysToCompute(Input):\n",
    "    \"\"\"\n",
    "    :type input: str\n",
    "    :rtype: List[int]\n",
    "    \"\"\"\n",
    "    if Input.isdigit():\n",
    "        return [int(Input)]\n",
    "    result = []\n",
    "    for i in range(len(Input)):\n",
    "        if Input[i] == '+' or Input[i] == '-' or Input[i] == '*':\n",
    "            left = diffWaysToCompute(Input[:i])\n",
    "            right = diffWaysToCompute(Input[i+1:])\n",
    "            for l in left:\n",
    "                for r in right:\n",
    "                    result.append(Operate(l,r,Input[i]))\n",
    "    return result\n",
    "\n",
    "def Operate(l,r,operator):\n",
    "    if operator == '+':\n",
    "        return l + r\n",
    "    elif operator == '-':\n",
    "        return l - r\n",
    "    else:\n",
    "        return l * r\n",
    "\n",
    "Input = \"2*3-4*5\"\n",
    "diffWaysToCompute(Input)"
   ]
  },
  {
   "cell_type": "markdown",
   "metadata": {},
   "source": [
    "## 75. Sort Colors\n",
    "\n",
    "Given an array with n objects colored red, white or blue, sort them in-place so that objects of the same color are adjacent, with the colors in the order red, white and blue.\n",
    "\n",
    "Here, we will use the integers 0, 1, and 2 to represent the color red, white, and blue respectively.\n",
    "\n",
    "Note: You are not suppose to use the library's sort function for this problem.\n",
    "\n",
    "Example:\n",
    "\n",
    "Input: [2,0,2,1,1,0]\n",
    "\n",
    "Output: [0,0,1,1,2,2]\n",
    "\n",
    "Follow up:\n",
    "\n",
    "A rather straight forward solution is a two-pass algorithm using counting sort.\n",
    "First, iterate the array counting number of 0's, 1's, and 2's, then overwrite array with total number of 0's, then 1's and followed by 2's.\n",
    "Could you come up with a one-pass algorithm using only constant space?"
   ]
  },
  {
   "cell_type": "code",
   "execution_count": 3,
   "metadata": {},
   "outputs": [
    {
     "name": "stdout",
     "output_type": "stream",
     "text": [
      "[0, 0, 1, 1, 2, 2]\n"
     ]
    }
   ],
   "source": [
    "def sortColors(nums):\n",
    "    \"\"\"\n",
    "    :type nums: List[int]\n",
    "    :rtype: void Do not return anything, modify nums in-place instead.\n",
    "    \"\"\"\n",
    "    red = white = 0\n",
    "    for i in range(len(nums)):\n",
    "        v = nums[i]\n",
    "        nums[i] = 2\n",
    "        if v < 2 :\n",
    "            nums[white] = 1\n",
    "            white += 1\n",
    "        if v == 0:\n",
    "            nums[red] = 0\n",
    "            red += 1\n",
    "    print(nums)\n",
    "\n",
    "Input = [2,0,2,1,1,0]\n",
    "sortColors(Input)"
   ]
  },
  {
   "cell_type": "markdown",
   "metadata": {},
   "source": [
    "## 451. Sort Characters By Frequency\n",
    "Given a string, sort it in decreasing order based on the frequency of characters.\n",
    "\n",
    "Example 1:\n",
    "\n",
    "Input:\n",
    "\"tree\"\n",
    "\n",
    "Output:\n",
    "\"eert\"\n",
    "\n",
    "Explanation:\n",
    "\n",
    "'e' appears twice while 'r' and 't' both appear once.\n",
    "So 'e' must appear before both 'r' and 't'. Therefore \"eetr\" is also a valid answer.\n",
    "\n",
    "Example 2:\n",
    "\n",
    "Input:\n",
    "\"cccaaa\"\n",
    "\n",
    "Output:\n",
    "\"cccaaa\"\n",
    "\n",
    "Explanation:\n",
    "\n",
    "Both 'c' and 'a' appear three times, so \"aaaccc\" is also a valid answer.\n",
    "Note that \"cacaca\" is incorrect, as the same characters must be together.\n",
    "\n",
    "Example 3:\n",
    "\n",
    "Input:\n",
    "\"Aabb\"\n",
    "\n",
    "Output:\n",
    "\"bbAa\"\n",
    "\n",
    "Explanation:\n",
    "\n",
    "\"bbaA\" is also a valid answer, but \"Aabb\" is incorrect.\n",
    "Note that 'A' and 'a' are treated as two different characters.\n"
   ]
  },
  {
   "cell_type": "markdown",
   "metadata": {},
   "source": [
    "## 347. Top K Frequent Elements\n",
    "Given a non-empty array of integers, return the k most frequent elements.\n",
    "\n",
    "Example 1:\n",
    "\n",
    "Input: nums = [1,1,1,2,2,3], k = 2\n",
    "Output: [1,2]\n",
    "\n",
    "Example 2:\n",
    "\n",
    "Input: nums = [1], k = 1\n",
    "Output: [1]\n",
    "Note:\n",
    "\n",
    "You may assume k is always valid, 1 ≤ k ≤ number of unique elements.\n",
    "Your algorithm's time complexity must be better than O(n log n), where n is the array's size.\n"
   ]
  },
  {
   "cell_type": "code",
   "execution_count": 11,
   "metadata": {},
   "outputs": [
    {
     "data": {
      "text/plain": [
       "[-1, 2]"
      ]
     },
     "execution_count": 11,
     "metadata": {},
     "output_type": "execute_result"
    }
   ],
   "source": [
    "import collections\n",
    "def topKFrequent(nums, k):\n",
    "        \"\"\"\n",
    "        :type nums: List[int]\n",
    "        :type k: int\n",
    "        :rtype: List[int]\n",
    "        \"\"\"\n",
    "        temp = collections.Counter(nums).most_common(k)\n",
    "        result = []\n",
    "        for i in temp:\n",
    "            result.append(i[0])\n",
    "        return result\n",
    "        \n",
    "    \n",
    "# nums = [1,1,1,2,2,3] \n",
    "# k = 2\n",
    "\n",
    "# nums = [1]\n",
    "# k = 1\n",
    "\n",
    "nums = [4,1,-1,2,-1,2,3]\n",
    "k = 2\n",
    "topKFrequent(nums, k)\n"
   ]
  },
  {
   "cell_type": "markdown",
   "metadata": {},
   "source": [
    "## 215. Kth Largest Element in an Array\n",
    "Find the kth largest element in an unsorted array. Note that it is the kth largest element in the sorted order, not the kth distinct element.\n",
    "\n",
    "Example 1:\n",
    "\n",
    "Input: [3,2,1,5,6,4] and k = 2\n",
    "Output: 5\n",
    "Example 2:\n",
    "\n",
    "Input: [3,2,3,1,2,4,5,5,6] and k = 4\n",
    "Output: 4"
   ]
  },
  {
   "cell_type": "code",
   "execution_count": null,
   "metadata": {},
   "outputs": [],
   "source": [
    "def findKthLargest(self, nums, k):\n",
    "    \"\"\"\n",
    "    :type nums: List[int]\n",
    "    :type k: int\n",
    "    :rtype: int\n",
    "    \"\"\"\n",
    "    nums.sort()\n",
    "    return nums[-k]\n",
    "        "
   ]
  },
  {
   "cell_type": "markdown",
   "metadata": {},
   "source": [
    "## Double Pointer"
   ]
  },
  {
   "cell_type": "markdown",
   "metadata": {},
   "source": [
    "## 524. Longest Word in Dictionary through Deleting\n",
    "\n",
    "Given a string and a string dictionary, find the longest string in the dictionary that can be formed by deleting some characters of the given string. If there are more than one possible results, return the longest word with the smallest lexicographical order. If there is no possible result, return the empty string.\n",
    "\n",
    "Example 1:\n",
    "\n",
    "Input:\n",
    "\n",
    "s = \"abpcplea\", d = [\"ale\",\"apple\",\"monkey\",\"plea\"]\n",
    "\n",
    "Output: \"apple\"\n",
    "\n",
    "Example 2:\n",
    "\n",
    "Input:\n",
    "\n",
    "s = \"abpcplea\", d = [\"a\",\"b\",\"c\"]\n",
    "\n",
    "Output: \n",
    "\"a\"\n",
    "\n",
    "Note:\n",
    "All the strings in the input will only contain lower-case letters.\n",
    "The size of the dictionary won't exceed 1,000.\n",
    "The length of all the strings in the input won't exceed 1,000.\n"
   ]
  },
  {
   "cell_type": "code",
   "execution_count": 64,
   "metadata": {},
   "outputs": [
    {
     "data": {
      "text/plain": [
       "'ab'"
      ]
     },
     "execution_count": 64,
     "metadata": {},
     "output_type": "execute_result"
    }
   ],
   "source": [
    "def findLongestWord(s, d):\n",
    "        \"\"\"\n",
    "        :type s: str\n",
    "        :type d: List[str]\n",
    "        :rtype: str\n",
    "        \"\"\"\n",
    "        s_len = len(s)\n",
    "        index = 0\n",
    "        longest_word = \"\"\n",
    "        max_index = 0\n",
    "        for i in d:\n",
    "            s_pointer = 0\n",
    "            d_pointer = 0\n",
    "            d_len = len(i)\n",
    "            while s_pointer < s_len and d_pointer < d_len:\n",
    "                if s[s_pointer] == i[d_pointer]:\n",
    "                    d_pointer += 1\n",
    "                s_pointer += 1\n",
    "            if d_pointer == d_len :\n",
    "                if d_len > len(longest_word):\n",
    "                    longest_word = i\n",
    "                elif d_len == len(longest_word) and longest_word > i:\n",
    "                    longest_word = i\n",
    "        return longest_word\n",
    "            \n",
    "# s = \"abpcplea\"\n",
    "# d = [\"ale\",\"apple\",\"monkey\",\"plea\"]\n",
    "# s = \"abpcplea\"\n",
    "# d = [\"a\",\"b\",\"c\"]\n",
    "s = \"bab\"\n",
    "d = [\"ba\",\"ab\",\"a\",\"b\"]\n",
    "findLongestWord(s, d)"
   ]
  },
  {
   "cell_type": "markdown",
   "metadata": {},
   "source": [
    "## 141. Linked List Cycle\n",
    "\n",
    "Given a linked list, determine if it has a cycle in it.\n",
    "\n",
    "Follow up:\n",
    "\n",
    "Can you solve it without using extra space?"
   ]
  },
  {
   "cell_type": "code",
   "execution_count": null,
   "metadata": {},
   "outputs": [],
   "source": [
    "class ListNode(object):\n",
    "    def __init__(self, x):\n",
    "        self.val = x\n",
    "        self.next = None\n",
    "\n",
    "class Solution(object):\n",
    "    def hasCycle(self, head):\n",
    "        \"\"\"\n",
    "        :type head: ListNode\n",
    "        :rtype: bool\n",
    "        \"\"\"\n",
    "        try:\n",
    "            i = head\n",
    "            j = head\n",
    "            while j.next != None and i != j.next:\n",
    "                i = head.next\n",
    "                j = head.next.next\n",
    "                if i == j:\n",
    "                    return True\n",
    "        except: \n",
    "            return False"
   ]
  },
  {
   "cell_type": "markdown",
   "metadata": {},
   "source": [
    "## 88. Merge Sorted Array\n",
    "Given two sorted integer arrays nums1 and nums2, merge nums2 into nums1 as one sorted array.\n",
    "\n",
    "Note:\n",
    "\n",
    "The number of elements initialized in nums1 and nums2 are m and n respectively.\n",
    "You may assume that nums1 has enough space (size that is greater or equal to m + n) to hold additional elements from nums2.\n",
    "\n",
    "Example:\n",
    "\n",
    "Input:\n",
    "\n",
    "nums1 = [1,2,3,0,0,0], m = 3\n",
    "\n",
    "nums2 = [2,5,6],       n = 3\n",
    "\n",
    "Output: [1,2,2,3,5,6]"
   ]
  },
  {
   "cell_type": "code",
   "execution_count": 14,
   "metadata": {},
   "outputs": [
    {
     "data": {
      "text/plain": [
       "[1]"
      ]
     },
     "execution_count": 14,
     "metadata": {},
     "output_type": "execute_result"
    }
   ],
   "source": [
    "def merge(nums1, m, nums2, n):\n",
    "    while ( m > 0 and n > 0):\n",
    "        if nums1[m-1] >= nums2[n-1]:\n",
    "            nums1[n+m-1] = nums1[m-1]\n",
    "            m-=1\n",
    "        else:\n",
    "            nums1[m+n-1] = nums2[n-1]\n",
    "            n -= 1\n",
    "    if n>0 :\n",
    "        nums1[:n] = nums2[:n]\n",
    "    return nums1\n",
    "\n",
    "# nums1 = [1,2,3,0,0,0]\n",
    "# m = 3\n",
    "\n",
    "# nums2 = [2,5,6]\n",
    "# n = 3\n",
    "nums1 = [0]\n",
    "m = 0\n",
    "nums2 = [1]\n",
    "1\n",
    "\n",
    "merge(nums1, m, nums2, n)\n",
    "\n"
   ]
  },
  {
   "cell_type": "markdown",
   "metadata": {},
   "source": [
    "## 345. Reverse Vowels of a String\n",
    "\n",
    "Write a function that takes a string as input and reverse only the vowels of a string.\n",
    "\n",
    "Example 1:\n",
    "\n",
    "Given s = \"hello\", return \"holle\".\n",
    "\n",
    "Example 2:\n",
    "\n",
    "Given s = \"leetcode\", return \"leotcede\".\n",
    "\n",
    "Note:\n",
    "\n",
    "The vowels does not include the letter \"y\"."
   ]
  },
  {
   "cell_type": "code",
   "execution_count": 13,
   "metadata": {},
   "outputs": [
    {
     "data": {
      "text/plain": [
       "'holle'"
      ]
     },
     "execution_count": 13,
     "metadata": {},
     "output_type": "execute_result"
    }
   ],
   "source": [
    "def reverseVowels(s):\n",
    "    \"\"\"\n",
    "    :type s: str\n",
    "    :rtype: str\n",
    "    \"\"\"\n",
    "    i, j = 0, len(s)-1\n",
    "    vowels = set(list(\"aeiouAEIOU\"))\n",
    "    s = list(s)\n",
    "    while(i<j):\n",
    "        if s[i] in vowels and s[j] in vowels: \n",
    "            s[i], s[j] = s[j], s[i]\n",
    "            i += 1\n",
    "            j -= 1\n",
    "        if s[i] not in vowels:\n",
    "            i += 1\n",
    "        elif s[j] not in vowels:\n",
    "            j -= 1\n",
    "    return ''.join(s)\n",
    "\n",
    "s = \"hello\"\n",
    "reverseVowels(s)"
   ]
  },
  {
   "cell_type": "code",
   "execution_count": 10,
   "metadata": {},
   "outputs": [
    {
     "ename": "TypeError",
     "evalue": "'str' object does not support item assignment",
     "output_type": "error",
     "traceback": [
      "\u001b[1;31m---------------------------------------------------------------------------\u001b[0m",
      "\u001b[1;31mTypeError\u001b[0m                                 Traceback (most recent call last)",
      "\u001b[1;32m<ipython-input-10-359b18427abd>\u001b[0m in \u001b[0;36m<module>\u001b[1;34m()\u001b[0m\n\u001b[0;32m      1\u001b[0m \u001b[0ms\u001b[0m \u001b[1;33m=\u001b[0m \u001b[1;34m\"foobar\"\u001b[0m\u001b[1;33m\u001b[0m\u001b[0m\n\u001b[0;32m      2\u001b[0m \u001b[0mlist\u001b[0m\u001b[1;33m(\u001b[0m\u001b[0ms\u001b[0m\u001b[1;33m)\u001b[0m\u001b[1;33m\u001b[0m\u001b[0m\n\u001b[1;32m----> 3\u001b[1;33m \u001b[0ms\u001b[0m\u001b[1;33m[\u001b[0m\u001b[1;36m0\u001b[0m\u001b[1;33m]\u001b[0m \u001b[1;33m=\u001b[0m \u001b[0ms\u001b[0m\u001b[1;33m[\u001b[0m\u001b[1;36m2\u001b[0m\u001b[1;33m]\u001b[0m\u001b[1;33m\u001b[0m\u001b[0m\n\u001b[0m",
      "\u001b[1;31mTypeError\u001b[0m: 'str' object does not support item assignment"
     ]
    }
   ],
   "source": [
    "s = \"foobar\"\n",
    "list(s)\n",
    "s[0] = s[2]"
   ]
  },
  {
   "cell_type": "markdown",
   "metadata": {},
   "source": [
    "## 167. Two Sum II - Input array is sorted\n",
    "Given an array of integers that is already sorted in ascending order, find two numbers such that they add up to a specific target number.\n",
    "\n",
    "The function twoSum should return indices of the two numbers such that they add up to the target, where index1 must be less than index2.\n",
    "\n",
    "Note:\n",
    "\n",
    "Your returned answers (both index1 and index2) are not zero-based.\n",
    "You may assume that each input would have exactly one solution and you may not use the same element twice.\n",
    "\n",
    "Example:\n",
    "\n",
    "Input: numbers = [2,7,11,15], target = 9\n",
    "\n",
    "Output: [1,2]\n",
    "\n",
    "Explanation: The sum of 2 and 7 is 9. Therefore index1 = 1, index2 = 2."
   ]
  },
  {
   "cell_type": "code",
   "execution_count": 38,
   "metadata": {},
   "outputs": [
    {
     "data": {
      "text/plain": [
       "[1, 6]"
      ]
     },
     "execution_count": 38,
     "metadata": {},
     "output_type": "execute_result"
    }
   ],
   "source": [
    "def twoSum(numbers, target):\n",
    "    \"\"\"\n",
    "    :type numbers: List[int]\n",
    "    :type target: int\n",
    "    :rtype: List[int]\n",
    "    \"\"\"\n",
    "    left, right = 0,len(numbers)-1\n",
    "    result_sum = 0\n",
    "    while (left<right):\n",
    "        result_sum = numbers[left]+numbers[right]\n",
    "        if result_sum > target:\n",
    "            right-=1\n",
    "        elif result_sum < target:\n",
    "            left += 1\n",
    "        elif result_sum == target:\n",
    "            return [left+1,right+1]\n",
    "        else:\n",
    "            return 0\n",
    "\n",
    "# numbers = [12,13,23,28,43,44,59,60,61,68,70,86,88,92,124,125,136,168,173,173,180,199,212,221,227,230,277,282,306,314,316,321,325,328,336,337,363,365,368,370,370,371,375,384,387,394,400,404,414,422,422,427,430,435,457,493,506,527,531,538,541,546,568,583,585,587,650,652,677,691,730,737,740,751,755,764,778,783,785,789,794,803,809,815,847,858,863,863,874,887,896,916,920,926,927,930,933,957,981,997]\n",
    "numbers = [0,1,2,3,5,8]\n",
    "target = 8\n",
    "twoSum(numbers,target)\n"
   ]
  },
  {
   "cell_type": "markdown",
   "metadata": {},
   "source": [
    "## 665. Non-decreasing Array\n",
    "Given an array with n integers, your task is to check if it could become non-decreasing by modifying at most 1 element.\n",
    "\n",
    "We define an array is non-decreasing if array[i] <= array[i + 1] holds for every i (1 <= i < n).\n",
    "\n",
    "Example 1:\n",
    "\n",
    "Input: [4,2,3]\n",
    "\n",
    "Output: True\n",
    "\n",
    "Explanation: You could modify the first 4 to 1 to get a non-decreasing array.\n",
    "\n",
    "Example 2:\n",
    "\n",
    "Input: [4,2,1]\n",
    "\n",
    "Output: False\n",
    "\n",
    "Explanation: You can't get a non-decreasing array by modify at most one element.\n",
    "\n",
    "Note: The n belongs to [1, 10,000]."
   ]
  },
  {
   "cell_type": "code",
   "execution_count": 23,
   "metadata": {},
   "outputs": [
    {
     "name": "stdout",
     "output_type": "stream",
     "text": [
      "1\n",
      "[3, 4, 2, 3]\n",
      "[3, 4, 2, 3]\n",
      "2\n",
      "[3, 4, 2, 3]\n",
      "[3, 4, 4, 3]\n",
      "3\n",
      "[3, 4, 4, 3]\n",
      "[3, 4, 4, 4]\n"
     ]
    },
    {
     "data": {
      "text/plain": [
       "False"
      ]
     },
     "execution_count": 23,
     "metadata": {},
     "output_type": "execute_result"
    }
   ],
   "source": [
    "def checkPossibility(nums):\n",
    "    \"\"\"\n",
    "    :type nums: List[int]\n",
    "    :rtype: bool\n",
    "    \"\"\"\n",
    "    count = 0\n",
    "    for i in range(1, len(nums)):\n",
    "        print(i)\n",
    "        print(nums)\n",
    "        if nums[i-1]>nums[i]:\n",
    "            count += 1\n",
    "            if i<2 or nums[i] >= nums[i-2]:\n",
    "                nums[i-1] = nums[i]\n",
    "            else:\n",
    "                nums[i] = nums[i-1]\n",
    "        print(nums)\n",
    "    return count<=1\n",
    "# Input = [4,2,1]\n",
    "# Input = [4,2,3]\n",
    "Input =[3,4,2,3]\n",
    "checkPossibility(Input)"
   ]
  },
  {
   "cell_type": "markdown",
   "metadata": {},
   "source": [
    "## Greedy Algorithms"
   ]
  },
  {
   "cell_type": "markdown",
   "metadata": {},
   "source": [
    "## 392. Is Subsequence\n",
    "\n",
    "Given a string s and a string t, check if s is subsequence of t.\n",
    "\n",
    "You may assume that there is only lower case English letters in both s and t. t is potentially a very long (length ~= 500,000) string, and s is a short string (<=100).\n",
    "\n",
    "A subsequence of a string is a new string which is formed from the original string by deleting some (can be none) of the characters without disturbing the relative positions of the remaining characters. (ie, \"ace\" is a subsequence of \"abcde\" while \"aec\" is not).\n",
    "\n",
    "Example 1:\n",
    "\n",
    "s = \"abc\", t = \"ahbgdc\"\n",
    "\n",
    "Return true.\n",
    "\n",
    "Example 2:\n",
    "\n",
    "s = \"axc\", t = \"ahbgdc\"\n",
    "\n",
    "Return false.\n",
    "\n",
    "Follow up:\n",
    "If there are lots of incoming S, say S1, S2, ... , Sk where k >= 1B, and you want to check one by one to see if T has its subsequence. In this scenario, how would you change your code?"
   ]
  },
  {
   "cell_type": "code",
   "execution_count": 14,
   "metadata": {},
   "outputs": [
    {
     "name": "stdout",
     "output_type": "stream",
     "text": [
      "a\n",
      "a  and  a\n",
      "x  and  h\n",
      "x  and  b\n",
      "x  and  g\n",
      "x  and  d\n",
      "x  and  c\n",
      "1 and 6\n"
     ]
    },
    {
     "data": {
      "text/plain": [
       "False"
      ]
     },
     "execution_count": 14,
     "metadata": {},
     "output_type": "execute_result"
    }
   ],
   "source": [
    "def isSubsequence(s, t):\n",
    "    \"\"\"\n",
    "    :type s: str\n",
    "    :type t: str\n",
    "    :rtype: bool\n",
    "    \"\"\"\n",
    "    s_count = 0\n",
    "    t_count = 0\n",
    "    while (s_count < len(s) and t_count < len(t)):\n",
    "        print(s[s_count],\" and \", t[t_count])\n",
    "        if s[s_count] == t[t_count]:\n",
    "            s_count += 1\n",
    "        t_count += 1\n",
    "    print(s_count,\"and\",t_count)\n",
    "    return s_count == len(s)\n",
    "# s = \"abc\" \n",
    "# t = \"ahbgdc\"\n",
    "s = \"axc\"\n",
    "t = \"ahbgdc\"\n",
    "print(s[0])\n",
    "isSubsequence(s,t)"
   ]
  },
  {
   "cell_type": "code",
   "execution_count": null,
   "metadata": {},
   "outputs": [],
   "source": []
  },
  {
   "cell_type": "markdown",
   "metadata": {},
   "source": [
    "### 605. Can Place Flowers\n",
    "\n",
    "Suppose you have a long flowerbed in which some of the plots are planted and some are not. However, flowers cannot be planted in adjacent plots - they would compete for water and both would die.\n",
    "\n",
    "Given a flowerbed (represented as an array containing 0 and 1, where 0 means empty and 1 means not empty), and a number n, return if n new flowers can be planted in it without violating the no-adjacent-flowers rule.\n",
    "\n",
    "Example 1:\n",
    "\n",
    "Input: flowerbed = [1,0,0,0,1], n = 1\n",
    "\n",
    "Output: True\n",
    "\n",
    "Example 2:\n",
    "\n",
    "Input: flowerbed = [1,0,0,0,1], n = 2\n",
    "\n",
    "Output: False\n",
    "\n",
    "1. The input array won't violate no-adjacent-flowers rule.\n",
    "2. The input array size is in the range of [1, 20000].\n",
    "3. n is a non-negative integer which won't exceed the input array size."
   ]
  },
  {
   "cell_type": "code",
   "execution_count": 84,
   "metadata": {},
   "outputs": [
    {
     "name": "stdout",
     "output_type": "stream",
     "text": [
      "2\n",
      "[]\n"
     ]
    },
    {
     "data": {
      "text/plain": [
       "True"
      ]
     },
     "execution_count": 84,
     "metadata": {},
     "output_type": "execute_result"
    }
   ],
   "source": [
    "import math\n",
    "def canPlaceFlowers(flowerbed, n):\n",
    "        \"\"\"\n",
    "        :type flowerbed: List[int]\n",
    "        :type n: int\n",
    "        :rtype: bool\n",
    "        \"\"\"\n",
    "        count = 0\n",
    "        end = len(flowerbed)-1\n",
    "        print(end)\n",
    "        if len(flowerbed) == 1 and sum(flowerbed) == 0:\n",
    "            return True\n",
    "        \n",
    "        test = [i for i, e in enumerate(flowerbed) if e == 1]\n",
    "        print(test)    \n",
    "        if len(test) == 0:\n",
    "            count = math.ceil(len(flowerbed)/2)\n",
    "        else :\n",
    "            for i in range(1,len(test)):            \n",
    "                if ((test[i]-test[i-1])%2) != 0 :\n",
    "                    count += math.ceil((test[i]-test[i-1]-2)/2)-1\n",
    "                else:\n",
    "                    count += math.ceil((test[i]-test[i-1]-1)/2)-1\n",
    "            if (end - test[-1]) >= 2 : \n",
    "                count += math.floor((end - test[-1])/2)\n",
    "            if test[0]>=2:\n",
    "                count += math.floor(test[0]/2)\n",
    "\n",
    "        if n <= count : return True\n",
    "        else : return False\n",
    "           \n",
    "flowerbed = [0,0,0]\n",
    "n = 2\n",
    "canPlaceFlowers(flowerbed,n)"
   ]
  },
  {
   "cell_type": "markdown",
   "metadata": {},
   "source": [
    "## 406. Queue Reconstruction by Height\n",
    "\n",
    "Suppose you have a random list of people standing in a queue. Each person is described by a pair of integers (h, k), where h is the height of the person and k is the number of people in front of this person who have a height greater than or equal to h. Write an algorithm to reconstruct the queue.\n",
    "\n",
    "Note:\n",
    "The number of people is less than 1,100.\n",
    "\n",
    "\n",
    "Example\n",
    "\n",
    "Input:\n",
    "[[7,0], [4,4], [7,1], [5,0], [6,1], [5,2]]\n",
    "\n",
    "Output:\n",
    "[[5,0], [7,0], [5,2], [6,1], [4,4], [7,1]]"
   ]
  },
  {
   "cell_type": "code",
   "execution_count": 16,
   "metadata": {},
   "outputs": [
    {
     "name": "stdout",
     "output_type": "stream",
     "text": [
      "[7, 0]\n",
      "7\n",
      "0\n",
      "[4, 4]\n",
      "4\n",
      "4\n",
      "[7, 1]\n",
      "7\n",
      "1\n",
      "[5, 0]\n",
      "5\n",
      "0\n",
      "[6, 1]\n",
      "6\n",
      "1\n",
      "[5, 2]\n",
      "5\n",
      "2\n"
     ]
    }
   ],
   "source": [
    "def reconstructQueue(people):\n",
    "    \"\"\"\n",
    "    :type people: List[List[int]]\n",
    "    :rtype: List[List[int]]\n",
    "    \"\"\"\n",
    "\n",
    "    for i in people:\n",
    "        print(i)\n",
    "        for j in i :\n",
    "            print(j)\n",
    "\n",
    "people = [[7,0], [4,4], [7,1], [5,0], [6,1], [5,2]]\n",
    "\n",
    "reconstructQueue(people)"
   ]
  },
  {
   "cell_type": "markdown",
   "metadata": {},
   "source": [
    "## 435. Non-overlapping Intervals\n",
    "\n",
    "\n",
    "Given a collection of intervals, find the minimum number of intervals you need to remove to make the rest of the intervals non-overlapping.\n",
    "\n",
    "Note:\n",
    "You may assume the interval's end point is always bigger than its start point.\n",
    "Intervals like [1,2] and [2,3] have borders \"touching\" but they don't overlap each other.\n",
    "\n",
    "Example 1:\n",
    "Input: [ [1,2], [2,3], [3,4], [1,3] ]\n",
    "\n",
    "Output: 1\n",
    "\n",
    "Explanation: [1,3] can be removed and the rest of intervals are non-overlapping.\n",
    "\n",
    "Example 2:\n",
    "Input: [ [1,2], [1,2], [1,2] ]\n",
    "\n",
    "Output: 2\n",
    "\n",
    "Explanation: You need to remove two [1,2] to make the rest of intervals non-overlapping.\n",
    "\n",
    "Example 3:\n",
    "Input: [ [1,2], [2,3] ]\n",
    "\n",
    "Output: 0\n",
    "\n",
    "Explanation: You don't need to remove any of the intervals since they're already non-overlapping."
   ]
  },
  {
   "cell_type": "code",
   "execution_count": 3,
   "metadata": {},
   "outputs": [
    {
     "ename": "AttributeError",
     "evalue": "'list' object has no attribute 'start'",
     "output_type": "error",
     "traceback": [
      "\u001b[1;31m---------------------------------------------------------------------------\u001b[0m",
      "\u001b[1;31mAttributeError\u001b[0m                            Traceback (most recent call last)",
      "\u001b[1;32m<ipython-input-3-accc8c2fa187>\u001b[0m in \u001b[0;36m<module>\u001b[1;34m()\u001b[0m\n\u001b[0;32m     20\u001b[0m \u001b[1;31m# a = [ [1,2], [2,3] ]\u001b[0m\u001b[1;33m\u001b[0m\u001b[1;33m\u001b[0m\u001b[0m\n\u001b[0;32m     21\u001b[0m \u001b[0ma\u001b[0m \u001b[1;33m=\u001b[0m \u001b[1;33m[\u001b[0m\u001b[1;33m[\u001b[0m\u001b[1;36m1\u001b[0m\u001b[1;33m,\u001b[0m\u001b[1;36m2\u001b[0m\u001b[1;33m]\u001b[0m\u001b[1;33m]\u001b[0m\u001b[1;33m\u001b[0m\u001b[0m\n\u001b[1;32m---> 22\u001b[1;33m \u001b[0meraseOverlapIntervals\u001b[0m\u001b[1;33m(\u001b[0m\u001b[0ma\u001b[0m\u001b[1;33m)\u001b[0m\u001b[1;33m\u001b[0m\u001b[0m\n\u001b[0m",
      "\u001b[1;32m<ipython-input-3-accc8c2fa187>\u001b[0m in \u001b[0;36meraseOverlapIntervals\u001b[1;34m(intervals)\u001b[0m\n\u001b[0;32m      5\u001b[0m         \"\"\"\n\u001b[0;32m      6\u001b[0m         \u001b[1;32mif\u001b[0m \u001b[1;32mnot\u001b[0m \u001b[0mintervals\u001b[0m\u001b[1;33m:\u001b[0m \u001b[1;32mreturn\u001b[0m \u001b[1;36m0\u001b[0m\u001b[1;33m\u001b[0m\u001b[0m\n\u001b[1;32m----> 7\u001b[1;33m         \u001b[0mintervals\u001b[0m\u001b[1;33m.\u001b[0m\u001b[0msort\u001b[0m\u001b[1;33m(\u001b[0m\u001b[0mkey\u001b[0m\u001b[1;33m=\u001b[0m\u001b[1;32mlambda\u001b[0m \u001b[0mx\u001b[0m\u001b[1;33m:\u001b[0m \u001b[0mx\u001b[0m\u001b[1;33m.\u001b[0m\u001b[0mstart\u001b[0m\u001b[1;33m)\u001b[0m  \u001b[1;31m# sort on start time\u001b[0m\u001b[1;33m\u001b[0m\u001b[0m\n\u001b[0m\u001b[0;32m      8\u001b[0m         \u001b[0mintervals\u001b[0m \u001b[1;33m=\u001b[0m \u001b[0miter\u001b[0m\u001b[1;33m(\u001b[0m\u001b[0mintervals\u001b[0m\u001b[1;33m)\u001b[0m\u001b[1;33m\u001b[0m\u001b[0m\n\u001b[0;32m      9\u001b[0m         \u001b[0mcurrEnd\u001b[0m\u001b[1;33m,\u001b[0m \u001b[0mcnt\u001b[0m \u001b[1;33m=\u001b[0m \u001b[0mnext\u001b[0m\u001b[1;33m(\u001b[0m\u001b[0mintervals\u001b[0m\u001b[1;33m)\u001b[0m\u001b[1;33m.\u001b[0m\u001b[0mend\u001b[0m\u001b[1;33m,\u001b[0m \u001b[1;36m0\u001b[0m\u001b[1;33m\u001b[0m\u001b[0m\n",
      "\u001b[1;32m<ipython-input-3-accc8c2fa187>\u001b[0m in \u001b[0;36m<lambda>\u001b[1;34m(x)\u001b[0m\n\u001b[0;32m      5\u001b[0m         \"\"\"\n\u001b[0;32m      6\u001b[0m         \u001b[1;32mif\u001b[0m \u001b[1;32mnot\u001b[0m \u001b[0mintervals\u001b[0m\u001b[1;33m:\u001b[0m \u001b[1;32mreturn\u001b[0m \u001b[1;36m0\u001b[0m\u001b[1;33m\u001b[0m\u001b[0m\n\u001b[1;32m----> 7\u001b[1;33m         \u001b[0mintervals\u001b[0m\u001b[1;33m.\u001b[0m\u001b[0msort\u001b[0m\u001b[1;33m(\u001b[0m\u001b[0mkey\u001b[0m\u001b[1;33m=\u001b[0m\u001b[1;32mlambda\u001b[0m \u001b[0mx\u001b[0m\u001b[1;33m:\u001b[0m \u001b[0mx\u001b[0m\u001b[1;33m.\u001b[0m\u001b[0mstart\u001b[0m\u001b[1;33m)\u001b[0m  \u001b[1;31m# sort on start time\u001b[0m\u001b[1;33m\u001b[0m\u001b[0m\n\u001b[0m\u001b[0;32m      8\u001b[0m         \u001b[0mintervals\u001b[0m \u001b[1;33m=\u001b[0m \u001b[0miter\u001b[0m\u001b[1;33m(\u001b[0m\u001b[0mintervals\u001b[0m\u001b[1;33m)\u001b[0m\u001b[1;33m\u001b[0m\u001b[0m\n\u001b[0;32m      9\u001b[0m         \u001b[0mcurrEnd\u001b[0m\u001b[1;33m,\u001b[0m \u001b[0mcnt\u001b[0m \u001b[1;33m=\u001b[0m \u001b[0mnext\u001b[0m\u001b[1;33m(\u001b[0m\u001b[0mintervals\u001b[0m\u001b[1;33m)\u001b[0m\u001b[1;33m.\u001b[0m\u001b[0mend\u001b[0m\u001b[1;33m,\u001b[0m \u001b[1;36m0\u001b[0m\u001b[1;33m\u001b[0m\u001b[0m\n",
      "\u001b[1;31mAttributeError\u001b[0m: 'list' object has no attribute 'start'"
     ]
    }
   ],
   "source": [
    "def eraseOverlapIntervals(intervals):\n",
    "        \"\"\"\n",
    "        :type intervals: List[Interval]\n",
    "        :rtype: int\n",
    "        \"\"\"\n",
    "        if not intervals: return 0\n",
    "        intervals.sort(key=lambda x: x.start)  # sort on start time\n",
    "        intervals = iter(intervals)\n",
    "        currEnd, cnt = next(intervals).end, 0\n",
    "        for x in intervals:\n",
    "            if x.start < currEnd:  # find overlapping interval\n",
    "                cnt += 1\n",
    "                currEnd = min(currEnd, x.end)  # erase the one with larger end time\n",
    "            else:\n",
    "                currEnd = x.end   # update end time\n",
    "        return cnt\n",
    "\n",
    "# a = [[1,2], [2,3], [3,4], [1,3]]  \n",
    "# a = [ [1,2], [1,2], [1,2] ]\n",
    "# a = [ [1,2], [2,3] ]\n",
    "a = [[1,2]]\n",
    "eraseOverlapIntervals(a)\n"
   ]
  },
  {
   "cell_type": "markdown",
   "metadata": {},
   "source": [
    "## 455. Assign Cookies (Easy)\n",
    "Assume you are an awesome parent and want to give your children some cookies. But, you should give each child at most one cookie. Each child i has a greed factor gi, which is the minimum size of a cookie that the child will be content with; and each cookie j has a size sj. If sj >= gi, we can assign the cookie j to the child i, and the child i will be content. Your goal is to maximize the number of your content children and output the maximum number.\n",
    "\n",
    "Note:\n",
    "You may assume the greed factor is always positive. \n",
    "You cannot assign more than one cookie to one child.\n",
    "\n",
    "Example 1:\n",
    "\n",
    "Input: \n",
    "[1,2,3], \n",
    "[1,1]\n",
    "\n",
    "Output: 1\n",
    "\n",
    "Explanation: You have 3 children and 2 cookies. The greed factors of 3 children are 1, 2, 3. \n",
    "And even though you have 2 cookies, since their size is both 1, you could only make the child whose greed factor is 1 content.\n",
    "You need to output 1.\n",
    "\n",
    "Example 2:\n",
    "\n",
    "Input: [1,2], [1,2,3]\n",
    "\n",
    "Output: 2\n",
    "\n",
    "Explanation: You have 2 children and 3 cookies. The greed factors of 2 children are 1, 2. \n",
    "You have 3 cookies and their sizes are big enough to gratify all of the children, \n",
    "You need to output 2."
   ]
  },
  {
   "cell_type": "code",
   "execution_count": 8,
   "metadata": {},
   "outputs": [
    {
     "data": {
      "text/plain": [
       "1"
      ]
     },
     "execution_count": 8,
     "metadata": {},
     "output_type": "execute_result"
    }
   ],
   "source": [
    "def findContentChildren(g, s):\n",
    "    \"\"\"\n",
    "    :type g: List[int]\n",
    "    :type s: List[int]\n",
    "    :rtype: int\n",
    "    \"\"\"\n",
    "    g = sorted(g) \n",
    "    s = sorted(s)\n",
    "    count_g = 0\n",
    "    count_s = 0\n",
    "    while count_g <= len(g)-1 and count_s <= len(s)-1:\n",
    "        if g[count_g] <= s[count_s]:\n",
    "            count_g += 1\n",
    "        count_s += 1\n",
    "    return count_g\n",
    "\n",
    "g = [1,2,3]\n",
    "s = [3]\n",
    "\n",
    "findContentChildren(g,s)\n",
    "        "
   ]
  },
  {
   "cell_type": "markdown",
   "metadata": {},
   "source": [
    "## 153. Find Minimum in Rotated Sorted Array\n",
    "Suppose an array sorted in ascending order is rotated at some pivot unknown to you beforehand.\n",
    "\n",
    "(i.e.,  [0,1,2,4,5,6,7] might become  [4,5,6,7,0,1,2]).\n",
    "\n",
    "Find the minimum element.\n",
    "\n",
    "You may assume no duplicate exists in the array.\n",
    "\n",
    "Example 1:\n",
    "\n",
    "Input: [3,4,5,1,2] \n",
    "\n",
    "Output: 1\n",
    "\n",
    "Example 2:\n",
    "\n",
    "Input: [4,5,6,7,0,1,2]\n",
    "\n",
    "Output: 0"
   ]
  },
  {
   "cell_type": "code",
   "execution_count": null,
   "metadata": {},
   "outputs": [],
   "source": [
    "def findMin(self, nums):\n",
    "    \"\"\"\n",
    "    :type nums: List[int]\n",
    "    :rtype: int\n",
    "    \"\"\"\n",
    "    left = 0\n",
    "    right = len(nums)-1\n",
    "    while(left<right):\n",
    "        \n",
    "        "
   ]
  },
  {
   "cell_type": "code",
   "execution_count": 10,
   "metadata": {},
   "outputs": [
    {
     "data": {
      "text/plain": [
       "[1580, 1480, 1680, 1380, 3880, 2460]"
      ]
     },
     "metadata": {},
     "output_type": "display_data"
    },
    {
     "data": {
      "text/plain": [
       "[860, 805, 914, 751, 2111, 1338]"
      ]
     },
     "metadata": {},
     "output_type": "display_data"
    }
   ],
   "source": [
    "import math\n",
    "Original_price = [1580, 1480, 1680, 1380, 3880, 2460]\n",
    "discount_price = [0]*6\n",
    "discount = [0.1268, 0.1187, 0.1348, 0.1107, 0.3113, 0.1974]\n",
    "final_price = [0]*6\n",
    "count = 0\n",
    "for i in Original_price:\n",
    "    discount_price[count] = i*0.6\n",
    "    count = count + 1\n",
    "count = 0\n",
    "for i in discount:\n",
    "    final_price[count] = math.ceil(discount_price[count] - discount[count] * 700)\n",
    "    count = count + 1\n",
    "display(Original_price)\n",
    "display(final_price)"
   ]
  },
  {
   "cell_type": "markdown",
   "metadata": {},
   "source": [
    "## 744. Find Smallest Letter Greater Than Target"
   ]
  },
  {
   "cell_type": "code",
   "execution_count": 33,
   "metadata": {},
   "outputs": [
    {
     "data": {
      "text/plain": [
       "'n'"
      ]
     },
     "execution_count": 33,
     "metadata": {},
     "output_type": "execute_result"
    }
   ],
   "source": [
    "import math\n",
    "def Find_Smallest_Letter(array, target):\n",
    "    l = 0 \n",
    "    r = len(array)-1\n",
    "    while(l<=r):\n",
    "        mid = l + math.floor((r-l)/2)\n",
    "        if ord(target) >= ord(array[-1]):\n",
    "            return array[0]\n",
    "        elif ord(target) < ord(array[mid]):\n",
    "            r = mid - 1\n",
    "        else:\n",
    "            l = mid + 1\n",
    "    return array[l]\n",
    "\n",
    "array = [\"e\",\"e\",\"e\",\"e\",\"e\",\"e\",\"n\",\"n\",\"n\",\"n\"]\n",
    "# array = [\"c\", \"f\", \"j\"]\n",
    "target = \"e\"\n",
    "Find_Smallest_Letter(array, target)"
   ]
  },
  {
   "cell_type": "code",
   "execution_count": 9,
   "metadata": {},
   "outputs": [
    {
     "data": {
      "text/plain": [
       "97"
      ]
     },
     "metadata": {},
     "output_type": "display_data"
    }
   ],
   "source": [
    "display(ord(\"a\"))"
   ]
  },
  {
   "cell_type": "code",
   "execution_count": null,
   "metadata": {},
   "outputs": [],
   "source": []
  }
 ],
 "metadata": {
  "kernelspec": {
   "display_name": "Python 3",
   "language": "python",
   "name": "python3"
  },
  "language_info": {
   "codemirror_mode": {
    "name": "ipython",
    "version": 3
   },
   "file_extension": ".py",
   "mimetype": "text/x-python",
   "name": "python",
   "nbconvert_exporter": "python",
   "pygments_lexer": "ipython3",
   "version": "3.6.2"
  }
 },
 "nbformat": 4,
 "nbformat_minor": 2
}
