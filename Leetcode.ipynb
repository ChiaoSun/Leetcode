{
 "cells": [
  {
   "cell_type": "markdown",
   "metadata": {},
   "source": [
    "## Bit compute\n",
    "\n",
    "## Basic tips\n",
    "\n",
    "1. x ^ 0s = x\n",
    "\n",
    "2. x ^ 1s = ~x\n",
    "\n",
    "3. x ^ x = 0\n",
    "\n",
    "4. x & 0s = 0\n",
    "\n",
    "5. x & 1s = x\n",
    "\n",
    "6. x & x = x\n",
    "\n",
    "7. x | 0s = x\n",
    "\n",
    "8. x | 1s = 1s\n",
    "\n",
    "9. x | x = x\n",
    "\n",
    "## Some bit compute tips\n",
    "\n",
    "1. Get the rightmost bit    --> n & (-n)\n",
    "\n",
    "2. Delete the rightmost bit --> n & (n-1)\n",
    "\n",
    "3. Get the highest bit      --> n-n & (~n+1)\n",
    "\n",
    "## Bit shift\n",
    "\n",
    "1. x >> 1 --> n / 2\n",
    "\n",
    "2. x << 1 --> n * 2 "
   ]
  },
  {
   "cell_type": "markdown",
   "metadata": {},
   "source": [
    "## 338. Counting Bits\n",
    "\n",
    "Given a non negative integer number num. For every numbers i in the range 0 ≤ i ≤ num calculate the number of 1's in their binary representation and return them as an array.\n",
    "\n",
    "Example 1:\n",
    "\n",
    "Input: 2\n",
    "\n",
    "Output: [0,1,1]\n",
    "\n",
    "Example 2:\n",
    "\n",
    "Input: 5\n",
    "\n",
    "Output: [0,1,1,2,1,2]\n",
    "\n",
    "Follow up:\n",
    "\n",
    "It is very easy to come up with a solution with run time O(n*sizeof(integer)). But can you do it in linear time O(n) /possibly in a single pass?\n",
    "\n",
    "Space complexity should be O(n).\n",
    "\n",
    "Can you do it like a boss? Do it without using any builtin function like __builtin_popcount in c++ or in any other language."
   ]
  },
  {
   "cell_type": "code",
   "execution_count": 7,
   "metadata": {},
   "outputs": [
    {
     "data": {
      "text/plain": [
       "[0, 1, 1, 2, 1, 2]"
      ]
     },
     "execution_count": 7,
     "metadata": {},
     "output_type": "execute_result"
    }
   ],
   "source": [
    "class Solution:\n",
    "    def countBits(self, num: 'int') -> 'List[int]':\n",
    "        dp = [0] * (num+1)\n",
    "        \n",
    "        for i in range(num+1):\n",
    "            dp[i] = bin(i).count('1')\n",
    "        return dp\n",
    "a = Solution()\n",
    "Input = 5\n",
    "a.countBits(Input)"
   ]
  },
  {
   "cell_type": "markdown",
   "metadata": {},
   "source": [
    "## 318. Maximum Product of Word Lengths\n",
    "Given a string array words, find the maximum value of length(word[i]) * length(word[j]) where the two words do not share common letters. You may assume that each word will contain only lower case letters. If no such two words exist, return 0.\n",
    "\n",
    "Example 1:\n",
    "\n",
    "Input: [\"abcw\",\"baz\",\"foo\",\"bar\",\"xtfn\",\"abcdef\"]\n",
    "    \n",
    "Output: 16 \n",
    "    \n",
    "Explanation: The two words can be \"abcw\", \"xtfn\".\n",
    "    \n",
    "Example 2:\n",
    "\n",
    "Input: [\"a\",\"ab\",\"abc\",\"d\",\"cd\",\"bcd\",\"abcd\"]\n",
    "    \n",
    "Output: 4 \n",
    "    \n",
    "Explanation: The two words can be \"ab\", \"cd\".\n",
    "    \n",
    "Example 3:\n",
    "\n",
    "Input: [\"a\",\"aa\",\"aaa\",\"aaaa\"]\n",
    "    \n",
    "Output: 0 \n",
    "    \n",
    "Explanation: No such pair of words."
   ]
  },
  {
   "cell_type": "code",
   "execution_count": 3,
   "metadata": {
    "collapsed": true
   },
   "outputs": [],
   "source": [
    "class Solution(object):\n",
    "    def maxProduct(self, words):\n",
    "        d = {}\n",
    "        for w in words:\n",
    "            mask = 0\n",
    "            for c in set(w):\n",
    "                mask |= (1 << (ord(c) - 97))\n",
    "            d[mask] = max(d.get(mask, 0), len(w))\n",
    "        return max([d[x] * d[y] for x in d for y in d if not x & y] or [0])"
   ]
  },
  {
   "cell_type": "markdown",
   "metadata": {},
   "source": [
    "## 371. Sum of Two Integers\n",
    "\n",
    "Calculate the sum of two integers a and b, but you are not allowed to use the operator + and -.\n",
    "\n",
    "Example 1:\n",
    "\n",
    "Input: a = 1, b = 2\n",
    "\n",
    "Output: 3\n",
    "\n",
    "Example 2:\n",
    "\n",
    "Input: a = -2, b = 3\n",
    "\n",
    "Output: 1"
   ]
  },
  {
   "cell_type": "code",
   "execution_count": 1,
   "metadata": {
    "collapsed": true
   },
   "outputs": [],
   "source": [
    "class Solution(object):\n",
    "    def getSum(self, a, b):\n",
    "        \"\"\"\n",
    "        :type a: int\n",
    "        :type b: int\n",
    "        :rtype: int\n",
    "        \"\"\"\n",
    "        # 32 bits integer max\n",
    "        MAX = 0x7FFFFFFF\n",
    "        # 32 bits interger min\n",
    "        MIN = 0x80000000\n",
    "        # mask to get last 32 bits\n",
    "        mask = 0xFFFFFFFF\n",
    "        while b != 0:\n",
    "            # ^ get different bits and & gets double 1s, << moves carry\n",
    "            a, b = (a ^ b) & mask, ((a & b) << 1) & mask\n",
    "        # if a is negative, get a's 32 bits complement positive first\n",
    "        # then get 32-bit positive's Python complement negative\n",
    "        return a if a <= MAX else ~(a ^ mask)"
   ]
  },
  {
   "cell_type": "markdown",
   "metadata": {},
   "source": [
    "## 476. Number Complement\n",
    "\n",
    "Given a positive integer, output its complement number. The complement strategy is to flip the bits of its binary representation.\n",
    "\n",
    "Note:\n",
    "\n",
    "The given integer is guaranteed to fit within the range of a 32-bit signed integer.\n",
    "\n",
    "You could assume no leading zero bit in the integer’s binary representation.\n",
    "\n",
    "Example 1:\n",
    "\n",
    "Input: 5\n",
    "\n",
    "Output: 2\n",
    "\n",
    "Explanation: The binary representation of 5 is 101 (no leading zero bits), and its complement is 010. So you need to output 2.\n",
    "\n",
    "Example 2:\n",
    "\n",
    "Input: 1\n",
    "\n",
    "Output: 0\n",
    "\n",
    "Explanation: The binary representation of 1 is 1 (no leading zero bits), and its complement is 0. So you need to output 0."
   ]
  },
  {
   "cell_type": "code",
   "execution_count": 4,
   "metadata": {},
   "outputs": [
    {
     "name": "stdout",
     "output_type": "stream",
     "text": [
      "8\n"
     ]
    },
    {
     "data": {
      "text/plain": [
       "2"
      ]
     },
     "execution_count": 4,
     "metadata": {},
     "output_type": "execute_result"
    }
   ],
   "source": [
    "class Solution:\n",
    "    def findComplement(self, num: 'int') -> 'int':\n",
    "        i = 1\n",
    "        while i <= num:\n",
    "            i = i << 1\n",
    "        return (i-1) ^ num\n",
    "##Find the highest bit position then reverse the bit.\n",
    "##1000   111 101\n",
    "a = Solution()\n",
    "Input = 5\n",
    "a.findComplement(Input)"
   ]
  },
  {
   "cell_type": "markdown",
   "metadata": {},
   "source": [
    "## 693. Binary Number with Alternating Bits\n",
    "\n",
    "Given a positive integer, check whether it has alternating bits: namely, if two adjacent bits will always have different values.\n",
    "\n",
    "Example 1:\n",
    "\n",
    "Input: 5\n",
    "\n",
    "Output: True\n",
    "\n",
    "Explanation:\n",
    "\n",
    "The binary representation of 5 is: 101\n",
    "\n",
    "Example 2:\n",
    "\n",
    "Input: 7\n",
    "\n",
    "Output: False\n",
    "\n",
    "Explanation:\n",
    "\n",
    "The binary representation of 7 is: 111.\n",
    "\n",
    "Example 3:\n",
    "\n",
    "Input: 11\n",
    "\n",
    "Output: False\n",
    "\n",
    "Explanation:\n",
    "\n",
    "The binary representation of 11 is: 1011.\n",
    "\n",
    "Example 4:\n",
    "\n",
    "Input: 10\n",
    "\n",
    "Output: True\n",
    "\n",
    "Explanation:\n",
    "\n",
    "The binary representation of 10 is: 1010."
   ]
  },
  {
   "cell_type": "code",
   "execution_count": 29,
   "metadata": {},
   "outputs": [
    {
     "name": "stdout",
     "output_type": "stream",
     "text": [
      "0b111\n"
     ]
    },
    {
     "data": {
      "text/plain": [
       "True"
      ]
     },
     "execution_count": 29,
     "metadata": {},
     "output_type": "execute_result"
    }
   ],
   "source": [
    "class Solution:\n",
    "    def hasAlternatingBits(self, n: 'int') -> 'bool':\n",
    "        res = n ^ (n>>1)\n",
    "#         print(bin(res))\n",
    "        return False if bin(res)[2:].count(\"0\")>0 else True\n",
    "\n",
    "a = Solution()\n",
    "Input = 5\n",
    "a.hasAlternatingBits(Input)"
   ]
  },
  {
   "cell_type": "markdown",
   "metadata": {},
   "source": [
    "## 342. Power of Four\n",
    "\n",
    "Given an integer (signed 32 bits), write a function to check whether it is a power of 4.\n",
    "\n",
    "Example 1:\n",
    "\n",
    "Input: 16\n",
    "    \n",
    "Output: true\n",
    "    \n",
    "Example 2:\n",
    "\n",
    "Input: 5\n",
    "    \n",
    "Output: false\n",
    "    \n",
    "Follow up: Could you solve it without loops/recursion?"
   ]
  },
  {
   "cell_type": "code",
   "execution_count": 14,
   "metadata": {},
   "outputs": [
    {
     "name": "stdout",
     "output_type": "stream",
     "text": [
      "-0b10000000000000000000000000000000\n"
     ]
    },
    {
     "data": {
      "text/plain": [
       "True"
      ]
     },
     "execution_count": 14,
     "metadata": {},
     "output_type": "execute_result"
    }
   ],
   "source": [
    "class Solution:\n",
    "    def isPowerOfFour(self, num: 'int') -> 'bool':\n",
    "        \n",
    "        return num != 0 and num &(num-1) == 0 and num & 1431655765== num\n",
    "    \n",
    "a = Solution()\n",
    "Input = -2147483648\n",
    "a.isPowerOfFour(Input)"
   ]
  },
  {
   "cell_type": "markdown",
   "metadata": {},
   "source": [
    "## 231. Power of Two\n",
    "\n",
    "Given an integer, write a function to determine if it is a power of two.\n",
    "\n",
    "Example 1:\n",
    "\n",
    "Input: 1\n",
    "\n",
    "Output: true \n",
    "\n",
    "Explanation: 20 = 1\n",
    "\n",
    "Example 2:\n",
    "\n",
    "Input: 16\n",
    "\n",
    "Output: true\n",
    "\n",
    "Explanation: 24 = 16\n",
    "\n",
    "Example 3:\n",
    "\n",
    "Input: 218\n",
    "\n",
    "Output: false"
   ]
  },
  {
   "cell_type": "code",
   "execution_count": 15,
   "metadata": {},
   "outputs": [
    {
     "data": {
      "text/plain": [
       "False"
      ]
     },
     "execution_count": 15,
     "metadata": {},
     "output_type": "execute_result"
    }
   ],
   "source": [
    "class Solution:\n",
    "    def isPowerOfTwo(self, n: 'int') -> 'bool':\n",
    "        if n == 1:\n",
    "            return True\n",
    "        if n <= 0 :\n",
    "            return False\n",
    "        return False if bin(n).count(\"1\") > 1 else True \n",
    "a = Solution()\n",
    "Input = 0\n",
    "a.isPowerOfTwo(Input)"
   ]
  },
  {
   "cell_type": "markdown",
   "metadata": {},
   "source": [
    "## 137. Single Number II\n",
    "\n",
    "Given a non-empty array of integers, every element appears three times except for one, which appears exactly once. \n",
    "\n",
    "Find that single one.\n",
    "\n",
    "Note:\n",
    "\n",
    "Your algorithm should have a linear runtime complexity. Could you implement it without using extra memory?\n",
    "\n",
    "Example 1:\n",
    "\n",
    "Input: [2,2,3,2]\n",
    "\n",
    "Output: 3\n",
    "\n",
    "Example 2:\n",
    "\n",
    "Input: [0,1,0,1,0,1,99]\n",
    "\n",
    "Output: 99"
   ]
  },
  {
   "cell_type": "code",
   "execution_count": 7,
   "metadata": {},
   "outputs": [
    {
     "name": "stdout",
     "output_type": "stream",
     "text": [
      "2 0\n",
      "0 2\n",
      "1 0\n",
      "3 0\n"
     ]
    },
    {
     "data": {
      "text/plain": [
       "3"
      ]
     },
     "execution_count": 7,
     "metadata": {},
     "output_type": "execute_result"
    }
   ],
   "source": [
    "class Solution:\n",
    "    def singleNumber(self, nums: 'List[int]') -> 'int':\n",
    "        a, b = 0, 0\n",
    "        \n",
    "        for num in nums:\n",
    "            b ^= num & ~a\n",
    "            a ^= num & ~b\n",
    "        return a|b\n",
    "    \n",
    "a = Solution()\n",
    "Input = [2,2,3,2]\n",
    "a.singleNumber(Input)"
   ]
  },
  {
   "cell_type": "markdown",
   "metadata": {},
   "source": [
    "## 260. Single Number III\n",
    "Given an array of numbers nums, in which exactly two elements appear only once and all the other elements appear exactly twice. Find the two elements that appear only once.\n",
    "\n",
    "Example:\n",
    "\n",
    "Input:  [1,2,1,3,2,5]\n",
    "    \n",
    "Output: [3,5]\n",
    "    \n",
    "Note:\n",
    "\n",
    "The order of the result is not important. So in the above example, [5, 3] is also correct.\n",
    "\n",
    "Your algorithm should run in linear runtime complexity. Could you implement it using only constant space complexity?"
   ]
  },
  {
   "cell_type": "code",
   "execution_count": 4,
   "metadata": {},
   "outputs": [
    {
     "name": "stdout",
     "output_type": "stream",
     "text": [
      "6\n",
      "2\n"
     ]
    },
    {
     "data": {
      "text/plain": [
       "[3, 5]"
      ]
     },
     "execution_count": 4,
     "metadata": {},
     "output_type": "execute_result"
    }
   ],
   "source": [
    "class Solution:\n",
    "    def singleNumber(self, nums: 'List[int]') -> 'List[int]':\n",
    "        res = 0\n",
    "        #Get the XOR result of two nums\n",
    "        for i in nums:\n",
    "            res ^= i\n",
    "        print(res)\n",
    "        mask = 1\n",
    "        while mask&res == 0:\n",
    "            mask = mask<<1\n",
    "            print(mask)\n",
    "        a, b = 0, 0\n",
    "        for num in nums:\n",
    "            if num & mask:\n",
    "                a  ^= num\n",
    "            else:\n",
    "                b ^= num\n",
    "        return [a, b]\n",
    "\n",
    "Input = [1,2,1,3,2,5]        \n",
    "a = Solution()\n",
    "a.singleNumber(Input)\n"
   ]
  },
  {
   "cell_type": "markdown",
   "metadata": {},
   "source": [
    "## 56. Merge Intervals\n",
    "\n",
    "Given a collection of intervals, merge all overlapping intervals.\n",
    "\n",
    "Example 1:\n",
    "\n",
    "Input: [[1,3],[2,6],[8,10],[15,18]]\n",
    "\n",
    "Output: [[1,6],[8,10],[15,18]]\n",
    "\n",
    "Explanation: Since intervals [1,3] and [2,6] overlaps, merge them into [1,6].\n",
    "\n",
    "Example 2:\n",
    "\n",
    "Input: [[1,4],[4,5]]\n",
    "\n",
    "Output: [[1,5]]\n",
    "\n",
    "Explanation: Intervals [1,4] and [4,5] are considered overlapping."
   ]
  },
  {
   "cell_type": "code",
   "execution_count": 12,
   "metadata": {},
   "outputs": [
    {
     "data": {
      "text/plain": [
       "[[1, 6], [8, 10], [15, 18]]"
      ]
     },
     "execution_count": 12,
     "metadata": {},
     "output_type": "execute_result"
    }
   ],
   "source": [
    "# Definition for an interval.\n",
    "# class Interval:\n",
    "#     def __init__(self, s=0, e=0):\n",
    "#         self.start = s\n",
    "#         self.end = e\n",
    "\n",
    "class Solution:\n",
    "    def merge(self, intervals: 'List[Interval]') -> 'List[Interval]':\n",
    "        if len(intervals) == 0: return []\n",
    "        occupied = sorted(intervals, key = lambda x:x.start)\n",
    "        res = [occupied[0]]\n",
    "        for i in occupied[1:]:\n",
    "            if i.start <= res[-1].end:\n",
    "                res[-1].end = max(i.end, res[-1].end)\n",
    "            else:\n",
    "                res.append(i)\n",
    "        return res  \n",
    "\n",
    "Input = [[1,3],[2,6],[8,10],[15,18]]\n",
    "a = Solution()\n",
    "a.sol(Input)"
   ]
  },
  {
   "cell_type": "markdown",
   "metadata": {},
   "source": [
    "## 268. Missing Number\n",
    "\n",
    "Given an array containing n distinct numbers taken from 0, 1, 2, ..., n, find the one that is missing from the array.\n",
    "\n",
    "Example 1:\n",
    "\n",
    "Input: [3,0,1]\n",
    "\n",
    "Output: 2\n",
    "\n",
    "Example 2:\n",
    "\n",
    "Input: [9,6,4,2,3,5,7,0,1]\n",
    "\n",
    "Output: 8\n",
    "\n",
    "Note:\n",
    "\n",
    "Your algorithm should run in linear runtime complexity. Could you implement it using only constant extra space complexity?"
   ]
  },
  {
   "cell_type": "code",
   "execution_count": 72,
   "metadata": {},
   "outputs": [
    {
     "name": "stdout",
     "output_type": "stream",
     "text": [
      "0 0 3\n",
      "3 1 0\n",
      "2 2 1\n"
     ]
    },
    {
     "data": {
      "text/plain": [
       "2"
      ]
     },
     "execution_count": 72,
     "metadata": {},
     "output_type": "execute_result"
    }
   ],
   "source": [
    "class Solution:\n",
    "    def missingNumber(self, nums: 'List[int]') -> 'int':\n",
    "        res = 0\n",
    "        for i in range(len(nums)):\n",
    "            print(res, i , nums[i])\n",
    "            res ^= i^nums[i]\n",
    "        return res ^ len(nums)\n",
    "a = Solution()\n",
    "Input = [3,0,1]\n",
    "a.missingNumber(Input)"
   ]
  },
  {
   "cell_type": "markdown",
   "metadata": {},
   "source": [
    "## 136. Single Number\n",
    "\n",
    "Given a non-empty array of integers, every element appears twice except for one. Find that single one.\n",
    "\n",
    "Note:\n",
    "\n",
    "Your algorithm should have a linear runtime complexity. Could you implement it without using extra memory?\n",
    "\n",
    "Example 1:\n",
    "\n",
    "Input: [2,2,1]\n",
    "    \n",
    "Output: 1\n",
    "    \n",
    "Example 2:\n",
    "\n",
    "Input: [4,1,2,1,2]\n",
    "    \n",
    "Output: 4"
   ]
  },
  {
   "cell_type": "code",
   "execution_count": 68,
   "metadata": {},
   "outputs": [
    {
     "data": {
      "text/plain": [
       "1"
      ]
     },
     "execution_count": 68,
     "metadata": {},
     "output_type": "execute_result"
    }
   ],
   "source": [
    "class Solution:\n",
    "    def singleNumber(self, nums: 'List[int]') -> 'int':\n",
    "        res = 0\n",
    "        for i in range(len(nums)):\n",
    "            res ^= nums[i]\n",
    "        return res\n",
    "Input = [2,2,1]\n",
    "a = Solution()\n",
    "a.singleNumber(Input)"
   ]
  },
  {
   "cell_type": "markdown",
   "metadata": {},
   "source": [
    "## 461. Hamming Distance\n",
    "\n",
    "The Hamming distance between two integers is the number of positions at which the corresponding bits are different.\n",
    "\n",
    "Given two integers x and y, calculate the Hamming distance.\n",
    "\n",
    "Note:\n",
    "\n",
    "0 ≤ x, y < 2^31.\n",
    "\n",
    "Example:\n",
    "\n",
    "Input: x = 1, y = 4\n",
    "\n",
    "Output: 2\n",
    "\n",
    "Explanation:\n",
    "\n",
    "1   (0 0 0 1)\n",
    "\n",
    "4   (0 1 0 0)\n",
    "\n",
    "    ↑  ↑\n",
    "\n",
    "The above arrows point to positions where the corresponding bits are different."
   ]
  },
  {
   "cell_type": "code",
   "execution_count": 62,
   "metadata": {},
   "outputs": [
    {
     "data": {
      "text/plain": [
       "2"
      ]
     },
     "execution_count": 62,
     "metadata": {},
     "output_type": "execute_result"
    }
   ],
   "source": [
    "class Solution:\n",
    "    def hammingDistance(self, x: 'int', y: 'int') -> 'int':\n",
    "        ##sol one\n",
    "#         if x > y:\n",
    "#             x_bi = \"{0:b}\".format(x)\n",
    "#             y_bi = \"{0:{fill}{width}b}\".format(y,fill='0', width=len(x_bi))\n",
    "#         else:\n",
    "#             y_bi = \"{0:b}\".format(y)\n",
    "#             x_bi = \"{0:{fill}{width}b}\".format(x,fill='0', width=len(y_bi))\n",
    "\n",
    "#         max_len = max(len(x_bi),len(y_bi))\n",
    "#         count = 0\n",
    "#         for i in range(max_len):\n",
    "#             if x_bi[i] != y_bi[i]:\n",
    "#                 count += 1\n",
    "#         return count \n",
    "    \n",
    "        # sol 2\n",
    "        return bin(x^y).count(\"1\")\n",
    "a = Solution()\n",
    "x = 1\n",
    "y = 4\n",
    "a.hammingDistance(x,y)"
   ]
  },
  {
   "cell_type": "markdown",
   "metadata": {},
   "source": [
    "## Data Structure"
   ]
  },
  {
   "cell_type": "markdown",
   "metadata": {},
   "source": [
    "## 769. Max Chunks To Make Sorted\n",
    "\n",
    "Given an array arr that is a permutation of [0, 1, ..., arr.length - 1], we split the array into some number of \"chunks\" (partitions), and individually sort each chunk.  After concatenating them, the result equals the sorted array.\n",
    "\n",
    "What is the most number of chunks we could have made?\n",
    "\n",
    "Example 1:\n",
    "\n",
    "Input: arr = [4,3,2,1,0]\n",
    "\n",
    "Output: 1\n",
    "\n",
    "Explanation:\n",
    "\n",
    "Splitting into two or more chunks will not return the required result.\n",
    "\n",
    "For example, splitting into [4, 3], [2, 1, 0] will result in [3, 4, 0, 1, 2], which isn't sorted.\n",
    "\n",
    "Example 2:\n",
    "\n",
    "Input: arr = [1,0,2,3,4]\n",
    "\n",
    "Output: 4\n",
    "\n",
    "Explanation:\n",
    "\n",
    "We can split into two chunks, such as [1, 0], [2, 3, 4].\n",
    "\n",
    "However, splitting into [1, 0], [2], [3], [4] is the highest number of chunks possible.\n",
    "\n",
    "Note:\n",
    "\n",
    "arr will have length in range [1, 10].\n",
    "\n",
    "arr[i] will be a permutation of [0, 1, ..., arr.length - 1]."
   ]
  },
  {
   "cell_type": "code",
   "execution_count": 4,
   "metadata": {},
   "outputs": [
    {
     "data": {
      "text/plain": [
       "4"
      ]
     },
     "execution_count": 4,
     "metadata": {},
     "output_type": "execute_result"
    }
   ],
   "source": [
    "class Solution:\n",
    "    def maxChunksToSorted(self, arr: 'List[int]') -> 'int':\n",
    "        curMax = -1\n",
    "        cnt = 0\n",
    "        for i in range(len(arr)):\n",
    "            curMax = max(curMax, arr[i])\n",
    "            if curMax == i:\n",
    "                cnt+=1\n",
    "        return cnt\n",
    "a = Solution()\n",
    "arr = [4,3,2,1,0]\n",
    "arr = [1,0,2,3,4]\n",
    "a.maxChunksToSorted(arr)"
   ]
  },
  {
   "cell_type": "code",
   "execution_count": 26,
   "metadata": {},
   "outputs": [
    {
     "data": {
      "text/plain": [
       "1"
      ]
     },
     "execution_count": 26,
     "metadata": {},
     "output_type": "execute_result"
    }
   ],
   "source": [
    "class Solution:\n",
    "    def maxChunksToSorted(self, arr: 'List[int]') -> 'int':\n",
    "        curMax = -1\n",
    "        res = 0\n",
    "        for i, v in enumerate(arr):\n",
    "            curMax = max(curMax, v)\n",
    "            if curMax == i:\n",
    "                res += 1\n",
    "        return res\n",
    "\n",
    "arr = [4,3,2,1,0]                \n",
    "# arr = [1,0,2,3,4]\n",
    "\n",
    "a = Solution()\n",
    "a.maxChunksToSorted(arr)"
   ]
  },
  {
   "cell_type": "markdown",
   "metadata": {},
   "source": [
    "## 565. Array Nesting\n",
    "\n",
    "A zero-indexed array A of length N contains all integers from 0 to N-1. Find and return the longest length of set S, where S[i] = {A[i], A[A[i]], A[A[A[i]]], ... } subjected to the rule below.\n",
    "\n",
    "Suppose the first element in S starts with the selection of element A[i] of index = i, the next element in S should be A[A[i]], and then A[A[A[i]]]… By that analogy, we stop adding right before a duplicate element occurs in S.\n",
    "\n",
    " \n",
    "\n",
    "Example 1:\n",
    "\n",
    "Input: A = [5,4,0,3,1,6,2]\n",
    "\n",
    "Output: 4\n",
    "\n",
    "Explanation: \n",
    "\n",
    "A[0] = 5, A[1] = 4, A[2] = 0, A[3] = 3, A[4] = 1, A[5] = 6, A[6] = 2.\n",
    "\n",
    "One of the longest S[K]:\n",
    "\n",
    "S[0] = {A[0], A[5], A[6], A[2]} = {5, 6, 2, 0}\n",
    " \n",
    "\n",
    "Note:\n",
    "\n",
    "N is an integer within the range [1, 20,000].\n",
    "\n",
    "The elements of A are all distinct.\n",
    "\n",
    "Each element of A is an integer within the range [0, N-1]."
   ]
  },
  {
   "cell_type": "code",
   "execution_count": 8,
   "metadata": {},
   "outputs": [
    {
     "name": "stdout",
     "output_type": "stream",
     "text": [
      "2 0\n",
      "4 2\n",
      "0 4\n",
      "\n",
      "1 1\n",
      "\n",
      "\n",
      "3 3\n",
      "\n",
      "\n"
     ]
    },
    {
     "data": {
      "text/plain": [
       "3"
      ]
     },
     "execution_count": 8,
     "metadata": {},
     "output_type": "execute_result"
    }
   ],
   "source": [
    "class Solution:\n",
    "    def arrayNesting(self, nums: 'List[int]') -> 'int':\n",
    "        ans, step, n = 0, 0, len(nums)\n",
    "        seen = [False] * n\n",
    "        for i in range(n):\n",
    "            while not seen[i]:\n",
    "                print(nums[i],i)\n",
    "                seen[i] = True\n",
    "                i, step = nums[i], step + 1\n",
    "            print()\n",
    "            ans = max(ans, step)\n",
    "            step = 0\n",
    "        return ans\n",
    "a = Solution()\n",
    "# Inputs = [5,4,0,3,1,6,2]#4\n",
    "# Inputs = [0,2,1]       #2\n",
    "# Inputs = [0,1,2,4,3] #2\n",
    "Inputs = [2,1,4,3,0] #3\n",
    "# Inputs = [2,0,1]\n",
    "a.arrayNesting(Inputs)"
   ]
  },
  {
   "cell_type": "markdown",
   "metadata": {},
   "source": [
    "## 766. Toeplitz Matrix\n",
    "DescriptionHintsSubmissionsDiscussSolution\n",
    "\n",
    "A matrix is Toeplitz if every diagonal from top-left to bottom-right has the same element.\n",
    "\n",
    "Now given an M x N matrix, return True if and only if the matrix is Toeplitz.\n",
    "\n",
    "Example 1:\n",
    "\n",
    "Input:\n",
    "\n",
    "matrix = [ [1,2,3,4], [5,1,2,3], [9,5,1,2] ]\n",
    "\n",
    "Output: True\n",
    "\n",
    "Explanation:\n",
    "\n",
    "In the above grid, the diagonals are:\n",
    "\n",
    "\"[9]\", \"[5, 5]\", \"[1, 1, 1]\", \"[2, 2, 2]\", \"[3, 3]\", \"[4]\".\n",
    "\n",
    "In each diagonal all elements are the same, so the answer is True.\n",
    "\n",
    "Example 2:\n",
    "\n",
    "Input:\n",
    "\n",
    "matrix = [ [1,2], [2,2] ]\n",
    "\n",
    "Output: False\n",
    "\n",
    "Explanation:\n",
    "\n",
    "The diagonal \"[1, 2]\" has different elements.\n",
    "\n",
    "Note:\n",
    "\n",
    "matrix will be a 2D array of integers. matrix will have a number of rows and columns in range [1, 20]. matrix[i][j] will be integers in range [0, 99].\n",
    "\n",
    "Follow up:\n",
    "\n",
    "What if the matrix is stored on disk, and the memory is limited such that you can only load at most one row of the matrix into the memory at once? What if the matrix is so large that you can only load up a partial row into the memory at once?"
   ]
  },
  {
   "cell_type": "code",
   "execution_count": 1,
   "metadata": {},
   "outputs": [
    {
     "data": {
      "text/plain": [
       "False"
      ]
     },
     "execution_count": 1,
     "metadata": {},
     "output_type": "execute_result"
    }
   ],
   "source": [
    "class Solution:\n",
    "    def isToeplitzMatrix(self, matrix: 'List[List[int]]') -> 'bool':\n",
    "        for i in range(len(matrix)-1):\n",
    "            for j in range(len(matrix[0])-1):\n",
    "                if matrix[i][j] != matrix[i+1][j+1]:\n",
    "                    return False\n",
    "        return True\n",
    "\n",
    "a = Solution()\n",
    "matrix = [\n",
    "  [1,2,3,4],\n",
    "  [5,1,2,3],\n",
    "  [9,5,1,2]\n",
    "]\n",
    "matrix = [\n",
    "  [1,2],\n",
    "  [2,2]\n",
    "]\n",
    "a.isToeplitzMatrix(matrix)"
   ]
  },
  {
   "cell_type": "markdown",
   "metadata": {},
   "source": [
    "## 697. Degree of an Array\n",
    "\n",
    "Given a non-empty array of non-negative integers nums, the degree of this array is defined as the maximum frequency of any one of its elements.\n",
    "\n",
    "Your task is to find the smallest possible length of a (contiguous) subarray of nums, that has the same degree as nums.\n",
    "\n",
    "Example 1:\n",
    "    \n",
    "Input: [1, 2, 2, 3, 1]\n",
    "    \n",
    "Output: 2\n",
    "    \n",
    "Explanation: \n",
    "    \n",
    "The input array has a degree of 2 because both elements 1 and 2 appear twice.\n",
    "\n",
    "Of the subarrays that have the same degree:\n",
    "    \n",
    "[1, 2, 2, 3, 1], [1, 2, 2, 3], [2, 2, 3, 1], [1, 2, 2], [2, 2, 3], [2, 2]\n",
    "\n",
    "The shortest length is 2. So return 2.\n",
    "\n",
    "Example 2:\n",
    "    \n",
    "Input: [1,2,2,3,1,4,2]\n",
    "    \n",
    "Output: 6\n",
    "\n",
    "Note:\n",
    "\n",
    "nums.length will be between 1 and 50,000.\n",
    "\n",
    "nums[i] will be an integer between 0 and 49,999."
   ]
  },
  {
   "cell_type": "code",
   "execution_count": null,
   "metadata": {
    "collapsed": true
   },
   "outputs": [],
   "source": [
    "class Solution:\n",
    "    def findShortestSubArray(self, nums):\n",
    "        \"\"\"\n",
    "        :type nums: List[int]\n",
    "        :rtype: int\n",
    "        \"\"\"\n",
    "        "
   ]
  },
  {
   "cell_type": "code",
   "execution_count": 20,
   "metadata": {},
   "outputs": [
    {
     "name": "stdout",
     "output_type": "stream",
     "text": [
      "[0, 4, 1, 2, 3] 10\n",
      "[0, 4, 1, 2, 3]\n"
     ]
    },
    {
     "data": {
      "text/plain": [
       "12"
      ]
     },
     "execution_count": 20,
     "metadata": {},
     "output_type": "execute_result"
    }
   ],
   "source": [
    "def LineUpWatingTime(array, pos):\n",
    "    value = array[pos]\n",
    "    result = len(array)*(value-1)\n",
    "    array = [ i-(value-1) for i in array]\n",
    "    print(array, result)\n",
    "    for i in range(len(array)):\n",
    "        if i <= pos:\n",
    "            if array[i] < 0:\n",
    "                result -= abs(array[i])\n",
    "            elif array[i]>0:\n",
    "                result += 1\n",
    "        elif i > pos:\n",
    "            if array[i] < 0:\n",
    "                result -= abs(array[i])\n",
    "    return result\n",
    "\n",
    "# Input = [3,5,2,1,9] #ans = 15 \n",
    "# pos = 1\n",
    "# Input = [5,5,2,3]\n",
    "# pos = 2\n",
    "# Input = [1,1,1,1]\n",
    "# pos = 3\n",
    "Input = [2,6,3,4,5]\n",
    "pos = 2\n",
    "LineUpWatingTime(Input, pos)"
   ]
  },
  {
   "cell_type": "markdown",
   "metadata": {},
   "source": [
    "## 667. Beautiful Arrangement II\n",
    "\n",
    "Given two integers n and k, you need to construct a list which contains n different positive integers ranging from 1 to n and obeys the following requirement: \n",
    "Suppose this list is [a1, a2, a3, ... , an], then the list [|a1 - a2|, |a2 - a3|, |a3 - a4|, ... , |an-1 - an|] has exactly k distinct integers.\n",
    "\n",
    "If there are multiple answers, print any of them.\n",
    "\n",
    "Example 1:\n",
    "\n",
    "Input: n = 3, k = 1\n",
    "\n",
    "Output: [1, 2, 3]\n",
    "\n",
    "Explanation: The [1, 2, 3] has three different positive integers ranging from 1 to 3, and the [1, 1] has exactly 1 distinct integer: 1.\n",
    "\n",
    "Example 2:\n",
    "\n",
    "Input: n = 3, k = 2\n",
    "\n",
    "Output: [1, 3, 2]\n",
    "\n",
    "Explanation: The [1, 3, 2] has three different positive integers ranging from 1 to 3, and the [2, 1] has exactly 2 distinct integers: 1 and 2.\n",
    "\n",
    "Note:\n",
    "\n",
    "The n and k are in the range 1 <= k < n <= 104."
   ]
  },
  {
   "cell_type": "code",
   "execution_count": 11,
   "metadata": {},
   "outputs": [
    {
     "data": {
      "text/plain": [
       "[1, 3, 2]"
      ]
     },
     "execution_count": 11,
     "metadata": {},
     "output_type": "execute_result"
    }
   ],
   "source": [
    "class Solution:\n",
    "    def constructArray(self, n, k):\n",
    "        \"\"\"\n",
    "        :type n: int\n",
    "        :type k: int\n",
    "        :rtype: List[int]\n",
    "        \"\"\"\n",
    "        res = [ i for i in range(1,n+1)]\n",
    "        for i in range(2,k+1):\n",
    "            res = res[:i-1]+res[i-1:][::-1]\n",
    "        return res\n",
    "a = Solution()\n",
    "n = 3\n",
    "k = 2\n",
    "a.constructArray(n,k)"
   ]
  },
  {
   "cell_type": "markdown",
   "metadata": {},
   "source": [
    "## 520. Detect Capital\n",
    "Given a word, you need to judge whether the usage of capitals in it is right or not.\n",
    "\n",
    "We define the usage of capitals in a word to be right when one of the following cases holds:\n",
    "\n",
    "All letters in this word are capitals, like \"USA\".\n",
    "\n",
    "All letters in this word are not capitals, like \"leetcode\".\n",
    "\n",
    "Only the first letter in this word is capital if it has more than one letter, like \"Google\".\n",
    "\n",
    "Otherwise, we define that this word doesn't use capitals in a right way.\n",
    "\n",
    "Example 1:\n",
    "\n",
    "Input: \"USA\"\n",
    "\n",
    "Output: True\n",
    "\n",
    "Example 2:\n",
    "\n",
    "Input: \"FlaG\"\n",
    "\n",
    "Output: False"
   ]
  },
  {
   "cell_type": "code",
   "execution_count": 12,
   "metadata": {},
   "outputs": [
    {
     "data": {
      "text/plain": [
       "True"
      ]
     },
     "execution_count": 12,
     "metadata": {},
     "output_type": "execute_result"
    }
   ],
   "source": [
    "class Solution:\n",
    "    def detectCapitalUse(self, word):\n",
    "        \"\"\"\n",
    "        :type word: str\n",
    "        :rtype: bool\n",
    "        \"\"\"\n",
    "        # dic = {\"A\",\"B\",\"C\",\"D\",\"E\",\"F\",\"G\",\"H\",\"I\",\"J\",\"K\",\"L\",\"M\",\"N\",\"O\",\"P\",\"Q\",\"R\",\"S\",\"T\",\"U\",\"V\",\"W\",\"U\",\"X\",\"Y\",\"Z\"}\n",
    "        # count = 0\n",
    "        # for i in word:\n",
    "        #     if i in dic:\n",
    "        #         count += 1\n",
    "        # return True if count == len(word) or (count==1 and word[0] in dic) or count == 0 else False\n",
    "        return word.isupper() or word.islower() or word.istitle()\n",
    "a = Solution()\n",
    "Input = \"g\"\n",
    "a.detectCapitalUse(Input)"
   ]
  },
  {
   "cell_type": "markdown",
   "metadata": {},
   "source": [
    "## 575. Distribute Candies\n",
    "\n",
    "Given an integer array with even length, where different numbers in this array represent different kinds of candies. Each number means one candy of the corresponding kind. You need to distribute these candies equally in number to brother and sister. Return the maximum number of kinds of candies the sister could gain.\n",
    "\n",
    "Example 1:\n",
    "\n",
    "Input: candies = [1,1,2,2,3,3]\n",
    "\n",
    "Output: 3\n",
    "\n",
    "Explanation:\n",
    "\n",
    "There are three different kinds of candies (1, 2 and 3), and two candies for each kind.\n",
    "\n",
    "Optimal distribution: The sister has candies [1,2,3] and the brother has candies [1,2,3], too. \n",
    "\n",
    "The sister has three different kinds of candies. \n",
    "\n",
    "Example 2:\n",
    "\n",
    "Input: candies = [1,1,2,3]\n",
    "\n",
    "Output: 2\n",
    "\n",
    "Explanation: For example, the sister has candies [2,3] and the brother has candies [1,1]. \n",
    "\n",
    "The sister has two different kinds of candies, the brother has only one kind of candies. \n",
    "\n",
    "Note:\n",
    "\n",
    "The length of the given array is in range [2, 10,000], and will be even.\n",
    "\n",
    "The number in given array is in range [-100,000, 100,000]."
   ]
  },
  {
   "cell_type": "code",
   "execution_count": null,
   "metadata": {
    "collapsed": true
   },
   "outputs": [],
   "source": [
    "class Solution:\n",
    "    def distributeCandies(self, candies):\n",
    "        \"\"\"\n",
    "        :type candies: List[int]\n",
    "        :rtype: int\n",
    "        \"\"\"\n",
    "        return int(min( len(candies)/2, len(set(candies))))"
   ]
  },
  {
   "cell_type": "markdown",
   "metadata": {},
   "source": [
    "## 142. Linked List Cycle II\n",
    "\n",
    "Given a linked list, return the node where the cycle begins. If there is no cycle, return null.\n",
    "\n",
    "To represent a cycle in the given linked list, we use an integer pos which represents the position (0-indexed) in the linked list where tail connects to. If pos is -1, then there is no cycle in the linked list.\n",
    "\n",
    "Note: Do not modify the linked list.\n",
    "\n",
    " \n",
    "\n",
    "Example 1:\n",
    "\n",
    "Input: head = [3,2,0,-4], pos = 1\n",
    "\n",
    "Output: tail connects to node index 1\n",
    "\n",
    "Explanation: There is a cycle in the linked list, where tail connects to the second node.\n",
    "\n",
    "\n",
    "Example 2:\n",
    "\n",
    "Input: head = [1,2], pos = 0\n",
    "\n",
    "Output: tail connects to node index 0\n",
    "\n",
    "Explanation: There is a cycle in the linked list, where tail connects to the first node.\n",
    "\n",
    "\n",
    "Example 3:\n",
    "\n",
    "Input: head = [1], pos = -1\n",
    "\n",
    "Output: no cycle\n",
    "\n",
    "Explanation: There is no cycle in the linked list.\n",
    "\n",
    "\n",
    " \n",
    "\n",
    "Follow up:\n",
    "Can you solve it without using extra space?"
   ]
  },
  {
   "cell_type": "code",
   "execution_count": null,
   "metadata": {
    "collapsed": true
   },
   "outputs": [],
   "source": [
    "class Solution(object):\n",
    "    def detectCycle(self, head):\n",
    "        \"\"\"\n",
    "        :type head: ListNode\n",
    "        :rtype: ListNode\n",
    "        \"\"\"\n",
    "        slow = fast = head\n",
    "        while fast and fast.next:\n",
    "            slow = slow.next\n",
    "            fast = fast.next.next\n",
    "            if slow == fast:\n",
    "                break\n",
    "        else:\n",
    "            return None\n",
    "        while head != slow:\n",
    "            slow = slow.next\n",
    "            head = head.next\n",
    "        return head"
   ]
  },
  {
   "cell_type": "markdown",
   "metadata": {},
   "source": [
    "## 287. Find the Duplicate Number\n",
    "\n",
    "Given an array nums containing n + 1 integers where each integer is between 1 and n (inclusive), prove that at least one duplicate number must exist. Assume that there is only one duplicate number, find the duplicate one.\n",
    "\n",
    "Example 1:\n",
    "\n",
    "Input: [1,3,4,2,2]\n",
    "\n",
    "Output: 2\n",
    "\n",
    "Example 2:\n",
    "\n",
    "Input: [3,1,3,4,2]\n",
    "\n",
    "Output: 3\n",
    "\n",
    "Note:\n",
    "\n",
    "You must not modify the array (assume the array is read only).\n",
    "\n",
    "You must use only constant, O(1) extra space.\n",
    "\n",
    "Your runtime complexity should be less than O(n2).\n",
    "\n",
    "There is only one duplicate number in the array, but it could be repeated more than once."
   ]
  },
  {
   "cell_type": "code",
   "execution_count": 6,
   "metadata": {},
   "outputs": [
    {
     "data": {
      "text/plain": [
       "4"
      ]
     },
     "execution_count": 6,
     "metadata": {},
     "output_type": "execute_result"
    }
   ],
   "source": [
    "import collections\n",
    "class Solution:\n",
    "    def findDuplicate(self, nums):\n",
    "        \"\"\"\n",
    "        :type nums: List[int]\n",
    "        :rtype: int\n",
    "        \"\"\"\n",
    "        slow = fast = finder = 0\n",
    "        while True:\n",
    "            slow = nums[slow]\n",
    "            fast = nums[nums[fast]]\n",
    "            if slow == fast:\n",
    "                while finder != slow:\n",
    "                    finder = nums[finder]\n",
    "                    slow = nums[slow]\n",
    "                return finder\n",
    "#         return collections.Counter(nums).most_common()[0][0]\n",
    "    \n",
    "a = Solution()\n",
    "Input = [3,1,3,4,2]\n",
    "Input = [4,3,1,4,2]\n",
    "a.findDuplicate(Input)"
   ]
  },
  {
   "cell_type": "markdown",
   "metadata": {},
   "source": [
    "## 442. Find All Duplicates in an Array\n",
    "\n",
    "Given an array of integers, 1 ≤ a[i] ≤ n (n = size of array), some elements appear twice and others appear once.\n",
    "\n",
    "Find all the elements that appear twice in this array.\n",
    "\n",
    "Could you do it without extra space and in O(n) runtime?\n",
    "\n",
    "Example:\n",
    "\n",
    "Input:\n",
    "\n",
    "[4,3,2,7,8,2,3,1]\n",
    "\n",
    "Output:\n",
    "\n",
    "[2,3]"
   ]
  },
  {
   "cell_type": "code",
   "execution_count": 13,
   "metadata": {},
   "outputs": [
    {
     "data": {
      "text/plain": [
       "[2, 3]"
      ]
     },
     "execution_count": 13,
     "metadata": {},
     "output_type": "execute_result"
    }
   ],
   "source": [
    "import collections\n",
    "class Solution:\n",
    "    def findDuplicates(self, nums):\n",
    "        \"\"\"\n",
    "        :type nums: List[int]\n",
    "        :rtype: List[int]\n",
    "        \"\"\"\n",
    "        res = []\n",
    "        for x in nums:\n",
    "            if nums[abs(x)-1] < 0:\n",
    "                res.append(abs(x))\n",
    "            else:\n",
    "                nums[abs(x)-1] *= -1\n",
    "        return res        \n",
    "#         result = []\n",
    "#         for i in collections.Counter(nums).most_common():\n",
    "#             if i[1]>1:\n",
    "#                 result.append(i[0])\n",
    "                \n",
    "#         return result\n",
    "a = Solution()\n",
    "Input = [4,3,2,7,8,2,3,1]\n",
    "a.findDuplicates(Input)"
   ]
  },
  {
   "cell_type": "markdown",
   "metadata": {},
   "source": [
    "## 448. Find All Numbers Disappeared in an Array\n",
    "\n",
    "Given an array of integers where 1 ≤ a[i] ≤ n (n = size of array), some elements appear twice and others appear once.\n",
    "\n",
    "Find all the elements of [1, n] inclusive that do not appear in this array.\n",
    "\n",
    "Could you do it without extra space and in O(n) runtime? You may assume the returned list does not count as extra space.\n",
    "\n",
    "Example:\n",
    "\n",
    "Input:\n",
    "\n",
    "[4,3,2,7,8,2,3,1]\n",
    "\n",
    "Output:\n",
    "\n",
    "[5,6]"
   ]
  },
  {
   "cell_type": "code",
   "execution_count": 8,
   "metadata": {},
   "outputs": [
    {
     "data": {
      "text/plain": [
       "[5, 6]"
      ]
     },
     "execution_count": 8,
     "metadata": {},
     "output_type": "execute_result"
    }
   ],
   "source": [
    "class Solution:\n",
    "    def findDisappearedNumbers(self, nums):\n",
    "        \"\"\"\n",
    "        :type nums: List[int]\n",
    "        :rtype: List[int]\n",
    "        \"\"\"\n",
    "        return list(set(range(1,len(nums)+1)) - set(nums))\n",
    "a = Solution()\n",
    "Input = [4,3,2,7,8,2,3,1]\n",
    "a.findDisappearedNumbers(Input)"
   ]
  },
  {
   "cell_type": "markdown",
   "metadata": {},
   "source": [
    "## 645. Set Mismatch\n",
    "\n",
    "The set S originally contains numbers from 1 to n. But unfortunately, due to the data error, one of the numbers in the set got duplicated to another number in the set, which results in repetition of one number and loss of another number.\n",
    "\n",
    "Given an array nums representing the data status of this set after the error. Your task is to firstly find the number occurs twice and then find the number that is missing. Return them in the form of an array.\n",
    "\n",
    "Example 1:\n",
    "    \n",
    "Input: nums = [1,2,2,4]\n",
    "    \n",
    "Output: [2,3]\n",
    "    \n",
    "Note:\n",
    "    \n",
    "The given array size will in the range [2, 10000].\n",
    "The given array's numbers won't have any order."
   ]
  },
  {
   "cell_type": "code",
   "execution_count": 17,
   "metadata": {},
   "outputs": [
    {
     "data": {
      "text/plain": [
       "[2, 10]"
      ]
     },
     "execution_count": 17,
     "metadata": {},
     "output_type": "execute_result"
    }
   ],
   "source": [
    "import collections\n",
    "class Solution:\n",
    "    def findErrorNums(self, nums):\n",
    "        \"\"\"\n",
    "        :type nums: List[int]\n",
    "        :rtype: List[int]\n",
    "        \"\"\"\n",
    "        most = collections.Counter(nums).most_common(1)\n",
    "        original_sum = ((1+len(nums)) * len(nums))/2 \n",
    "        act_sum = sum(nums)\n",
    "        return [most[0][0] , int(original_sum - act_sum + most[0][0])]\n",
    "            \n",
    "# nums = [1,2,2,4]\n",
    "# nums = [3,2,2,4]\n",
    "# nums = [3,2,3,4,6,5]\n",
    "nums = [1,5,3,2,2,7,6,4,8,9]\n",
    "a = Solution()\n",
    "a.findErrorNums(nums)"
   ]
  },
  {
   "cell_type": "markdown",
   "metadata": {},
   "source": [
    "## 378. Kth Smallest Element in a Sorted Matrix\n",
    "\n",
    "Given a n x n matrix where each of the rows and columns are sorted in ascending order, find the kth smallest element in the matrix.\n",
    "\n",
    "Note that it is the kth smallest element in the sorted order, not the kth distinct element.\n",
    "\n",
    "Example:\n",
    "\n",
    "matrix = [\n",
    "\n",
    "   [ 1,  5,  9],\n",
    "   \n",
    "   [10, 11, 13],\n",
    "   \n",
    "   [12, 13, 15]\n",
    "],\n",
    "k = 8,\n",
    "\n",
    "return 13.\n",
    "\n",
    "Note: \n",
    "\n",
    "You may assume k is always valid, 1 ≤ k ≤ n2."
   ]
  },
  {
   "cell_type": "code",
   "execution_count": 18,
   "metadata": {},
   "outputs": [
    {
     "name": "stdout",
     "output_type": "stream",
     "text": [
      "2 2\n"
     ]
    },
    {
     "data": {
      "text/plain": [
       "15"
      ]
     },
     "execution_count": 18,
     "metadata": {},
     "output_type": "execute_result"
    }
   ],
   "source": [
    "class Solution:\n",
    "    def kthSmallest(self, matrix, k):\n",
    "        \"\"\"\n",
    "        :type matrix: List[List[int]]\n",
    "        :type k: int\n",
    "        :rtype: int\n",
    "        \"\"\"\n",
    "        width = len(matrix[0])\n",
    "        \n",
    "        row = k // width\n",
    "        col = k % width\n",
    "        print(row, col)\n",
    "        if row >= len(matrix):\n",
    "            row = len(matrix)-1\n",
    "        if col == 0:\n",
    "            col = -1\n",
    "        return matrix[row][col]\n",
    "a = Solution()\n",
    "matrix = [\n",
    "    [1,5,9],\n",
    "    [10,11,13],\n",
    "    [12,13,15]]\n",
    "k = 8\n",
    "\n",
    "# matrix = [\n",
    "#    [ 1, 4, 5,  9],\n",
    "#    [10, 11,12, 13],\n",
    "#    [12, 13, 14,15],\n",
    "# ]\n",
    "# k = 12\n",
    "# matrix = [[1,2],[1,3]]\n",
    "# k = 1\n",
    "a.kthSmallest(matrix,k)"
   ]
  },
  {
   "cell_type": "markdown",
   "metadata": {},
   "source": [
    "## 566. Reshape the Matrix\n",
    "\n",
    "In MATLAB, there is a very useful function called 'reshape', which can reshape a matrix into a new one with different size but keep its original data.\n",
    "\n",
    "You're given a matrix represented by a two-dimensional array, and two positive integers r and c representing the row number and column number of the wanted reshaped matrix, respectively.\n",
    "\n",
    "The reshaped matrix need to be filled with all the elements of the original matrix in the same row-traversing order as they were.\n",
    "\n",
    "If the 'reshape' operation with given parameters is possible and legal, output the new reshaped matrix; Otherwise, output the original matrix.\n",
    "\n",
    "Example 1:\n",
    "\n",
    "Input: \n",
    "\n",
    "nums = \n",
    "\n",
    "[[1,2],\n",
    "\n",
    " [3,4]]\n",
    " \n",
    "r = 1, c = 4\n",
    "\n",
    "Output: \n",
    "\n",
    "[[1,2,3,4]]\n",
    "\n",
    "Explanation:\n",
    "\n",
    "The row-traversing of nums is [1,2,3,4]. The new reshaped matrix is a 1 * 4 matrix, fill it row by row by using the previous list.\n",
    "\n",
    "Example 2:\n",
    "\n",
    "Input: \n",
    "\n",
    "nums = \n",
    "\n",
    "[[1,2],\n",
    "\n",
    " [3,4]]\n",
    " \n",
    "r = 2, c = 4\n",
    "\n",
    "Output: \n",
    "\n",
    "[[1,2],\n",
    "\n",
    " [3,4]]\n",
    " \n",
    "Explanation:\n",
    "\n",
    "There is no way to reshape a 2 * 2 matrix to a 2 * 4 matrix. So output the original matrix."
   ]
  },
  {
   "cell_type": "code",
   "execution_count": 34,
   "metadata": {},
   "outputs": [
    {
     "data": {
      "text/plain": [
       "[[1, 2, 3, 4]]"
      ]
     },
     "execution_count": 34,
     "metadata": {},
     "output_type": "execute_result"
    }
   ],
   "source": [
    "class Solution:\n",
    "    def matrixReshape(self, nums, r, c):\n",
    "        \"\"\"\n",
    "        :type nums: List[List[int]]\n",
    "        :type r: int\n",
    "        :type c: int\n",
    "        :rtype: List[List[int]]\n",
    "        \"\"\"\n",
    "        result = []\n",
    "        temp = []\n",
    "        count = 0\n",
    "        for i in range(len(nums)):\n",
    "            for j in range(len(nums[0])):\n",
    "                if len(temp)<=c:\n",
    "                    temp.append(nums[i][j])\n",
    "                if len(temp) == c:\n",
    "                    result.append(temp)\n",
    "                    count += len(temp)\n",
    "                    temp = []\n",
    "        return result if count == r*c else nums\n",
    "a = Solution()\n",
    "nums = [[1,2],[3,4]]\n",
    "r = 1\n",
    "c = 4\n",
    "a.matrixReshape(nums, r, c)"
   ]
  },
  {
   "cell_type": "markdown",
   "metadata": {},
   "source": [
    "## 283. Move Zeroes\n",
    "\n",
    "Given an array nums, write a function to move all 0's to the end of it while maintaining the relative order of the non-zero elements.\n",
    "\n",
    "Example:\n",
    "\n",
    "Input: [0,1,0,3,12]\n",
    "\n",
    "Output: [1,3,12,0,0]\n",
    "\n",
    "Note:\n",
    "\n",
    "You must do this in-place without making a copy of the array.\n",
    "\n",
    "Minimize the total number of operations.\n"
   ]
  },
  {
   "cell_type": "code",
   "execution_count": 15,
   "metadata": {},
   "outputs": [
    {
     "name": "stdout",
     "output_type": "stream",
     "text": [
      "[1, 3, 12, 0, 0]\n"
     ]
    }
   ],
   "source": [
    "class Solution:\n",
    "    def moveZeroes(self, nums):\n",
    "        \"\"\"\n",
    "        :type nums: List[int]\n",
    "        :rtype: void Do not return anything, modify nums in-place instead.\n",
    "        \"\"\"\n",
    "        index = 0\n",
    "        for num in nums:\n",
    "            if num != 0:\n",
    "                nums[index] = num\n",
    "                index += 1\n",
    "        while index < len(nums):\n",
    "            nums[index] = 0\n",
    "            index += 1\n",
    "        print(nums)\n",
    "a = Solution()\n",
    "Input = [0, 1, 0, 3, 12]\n",
    "a.moveZeroes(Input)"
   ]
  },
  {
   "cell_type": "markdown",
   "metadata": {},
   "source": [
    "## 696. Count Binary Substrings\n",
    "\n",
    "Give a string s, count the number of non-empty (contiguous) substrings that have the same number of 0's and 1's, and all the 0's and all the 1's in these substrings are grouped consecutively.\n",
    "\n",
    "Substrings that occur multiple times are counted the number of times they occur.\n",
    "\n",
    "Example 1:\n",
    "\n",
    "Input: \"00110011\"\n",
    "\n",
    "Output: 6\n",
    "\n",
    "Explanation: There are 6 substrings that have equal number of consecutive 1's and 0's: \"0011\", \"01\", \"1100\", \"10\", \"0011\", and \"01\".\n",
    "\n",
    "Notice that some of these substrings repeat and are counted the number of times they occur.\n",
    "\n",
    "Also, \"00110011\" is not a valid substring because all the 0's (and 1's) are not grouped together.\n",
    "\n",
    "Example 2:\n",
    "\n",
    "Input: \"10101\"\n",
    "\n",
    "Output: 4\n",
    "\n",
    "Explanation: There are 4 substrings: \"10\", \"01\", \"10\", \"01\" that have equal number of consecutive 1's and 0's.\n",
    "\n",
    "Note:\n",
    "\n",
    "s.length will be between 1 and 50,000.\n",
    "\n",
    "s will only consist of \"0\" or \"1\" characters."
   ]
  },
  {
   "cell_type": "code",
   "execution_count": 10,
   "metadata": {},
   "outputs": [
    {
     "data": {
      "text/plain": [
       "6"
      ]
     },
     "execution_count": 10,
     "metadata": {},
     "output_type": "execute_result"
    }
   ],
   "source": [
    "class Solution:\n",
    "    def countBinarySubstrings(self, s):\n",
    "        \"\"\"\n",
    "        :type s: str\n",
    "        :rtype: int\n",
    "        \"\"\"\n",
    "        group = []\n",
    "        count = 1\n",
    "        for i in range(len(s)-1):\n",
    "            if s[i] != s[i+1]:\n",
    "                group.append(count)\n",
    "                count = 0\n",
    "            count += 1\n",
    "        group.append(count)\n",
    "        result = 0 \n",
    "        for i in range(len(group)-1):\n",
    "            result+=min(group[i],group[i+1]) \n",
    "        return result\n",
    "a = Solution()\n",
    "Input = \"00110011\"\n",
    "a.countBinarySubstrings(Input)"
   ]
  },
  {
   "cell_type": "markdown",
   "metadata": {},
   "source": [
    "## 9. Palindrome Number\n",
    "Determine whether an integer is a palindrome. An integer is a palindrome when it reads the same backward as forward.\n",
    "\n",
    "Example 1:\n",
    "\n",
    "Input: 121\n",
    "    \n",
    "Output: true\n",
    "    \n",
    "Example 2:\n",
    "\n",
    "Input: -121\n",
    "    \n",
    "Output: false\n",
    "    \n",
    "Explanation: From left to right, it reads -121. From right to left, it becomes 121-. Therefore it is not a palindrome.\n",
    "    \n",
    "Example 3:\n",
    "\n",
    "Input: 10\n",
    "    \n",
    "Output: false\n",
    "    \n",
    "Explanation: Reads 01 from right to left. Therefore it is not a palindrome.\n",
    "    \n",
    "Follow up:\n",
    "\n",
    "Coud you solve it without converting the integer to a string?"
   ]
  },
  {
   "cell_type": "code",
   "execution_count": 6,
   "metadata": {},
   "outputs": [
    {
     "name": "stdout",
     "output_type": "stream",
     "text": [
      "100\n",
      "121\n"
     ]
    },
    {
     "data": {
      "text/plain": [
       "False"
      ]
     },
     "execution_count": 6,
     "metadata": {},
     "output_type": "execute_result"
    }
   ],
   "source": [
    "class Solution:\n",
    "    def isPalindrome(self, x):\n",
    "        \"\"\"\n",
    "        :type x: int\n",
    "        :rtype: bool\n",
    "        \"\"\"\n",
    "        ranger = 1\n",
    "        while x / ranger >= 10:\n",
    "            ranger *= 10\n",
    "        print(ranger)\n",
    "        while x:\n",
    "            print(x)\n",
    "            left = x / ranger\n",
    "            right = x % 10\n",
    "            if left != right:\n",
    "                return False\n",
    "            x = (x%ranger)/10\n",
    "            ranger /= 100\n",
    "        return True\n",
    "a = Solution()\n",
    "Input = 121\n",
    "a.isPalindrome(Input)"
   ]
  },
  {
   "cell_type": "markdown",
   "metadata": {},
   "source": [
    "## 647. Palindromic Substrings\n",
    "\n",
    "Given a string, your task is to count how many palindromic substrings in this string.\n",
    "\n",
    "The substrings with different start indexes or end indexes are counted as different substrings even they consist of same characters.\n",
    "\n",
    "Example 1:\n",
    "\n",
    "Input: \"abc\"\n",
    "\n",
    "Output: 3\n",
    "\n",
    "Explanation: Three palindromic strings: \"a\", \"b\", \"c\".\n",
    "\n",
    "Example 2:\n",
    "\n",
    "Input: \"aaa\"\n",
    "\n",
    "Output: 6\n",
    "\n",
    "Explanation: Six palindromic strings: \"a\", \"a\", \"a\", \"aa\", \"aa\", \"aaa\"."
   ]
  },
  {
   "cell_type": "code",
   "execution_count": null,
   "metadata": {
    "collapsed": true
   },
   "outputs": [],
   "source": [
    "class Solution:\n",
    "    def countSubstrings(self, s):\n",
    "        \"\"\"\n",
    "        :type s: str\n",
    "        :rtype: int\n",
    "        \"\"\"\n",
    "        for i in range(len(s)):\n",
    "            if len(s) == \n",
    "        "
   ]
  },
  {
   "cell_type": "markdown",
   "metadata": {},
   "source": [
    "## 128. Longest Consecutive Sequence\n",
    "Given an unsorted array of integers, find the length of the longest consecutive elements sequence.\n",
    "\n",
    "Your algorithm should run in O(n) complexity.\n",
    "\n",
    "Example:\n",
    "\n",
    "Input: [100, 4, 200, 1, 3, 2]\n",
    "\n",
    "Output: 4\n",
    "\n",
    "Explanation: The longest consecutive elements sequence is [1, 2, 3, 4]. Therefore its length is 4.\n"
   ]
  },
  {
   "cell_type": "code",
   "execution_count": null,
   "metadata": {
    "collapsed": true
   },
   "outputs": [],
   "source": [
    "class Solution:\n",
    "    def longestConsecutive(self, nums):\n",
    "        \"\"\"\n",
    "        :type nums: List[int]\n",
    "        :rtype: int\n",
    "        \"\"\"\n",
    "        "
   ]
  },
  {
   "cell_type": "markdown",
   "metadata": {
    "collapsed": true
   },
   "source": [
    "## 205. Isomorphic Strings\n",
    "Given two strings s and t, determine if they are isomorphic.\n",
    "\n",
    "Two strings are isomorphic if the characters in s can be replaced to get t.\n",
    "\n",
    "All occurrences of a character must be replaced with another character while preserving the order of characters. No two characters may map to the same character but a character may map to itself.\n",
    "\n",
    "Example 1:\n",
    "\n",
    "Input: s = \"egg\", t = \"add\"\n",
    "\n",
    "Output: true\n",
    "\n",
    "Example 2:\n",
    "\n",
    "Input: s = \"foo\", t = \"bar\"\n",
    "\n",
    "Output: false\n",
    "\n",
    "Example 3:\n",
    "\n",
    "Input: s = \"paper\", t = \"title\"\n",
    "\n",
    "Output: true"
   ]
  },
  {
   "cell_type": "code",
   "execution_count": 54,
   "metadata": {},
   "outputs": [
    {
     "name": "stdout",
     "output_type": "stream",
     "text": [
      "Counter({'o': 2, 'f': 1})\n"
     ]
    },
    {
     "data": {
      "text/plain": [
       "False"
      ]
     },
     "execution_count": 54,
     "metadata": {},
     "output_type": "execute_result"
    }
   ],
   "source": [
    "class Solution:\n",
    "    def isIsomorphic(self, s, t):\n",
    "        \"\"\"\n",
    "        :type s: str\n",
    "        :type t: str\n",
    "        :rtype: bool\n",
    "        \"\"\"\n",
    "        count1 = collections.Counter(s)\n",
    "        count2 = collections.Counter(t)\n",
    "\n",
    "        temp1, temp2 = [], []\n",
    "        for i in count1:\n",
    "            temp1.append(count1[i])\n",
    "        for i in count2:\n",
    "            temp2.append(count2[i])        \n",
    "        return True if temp1 == temp2 else False\n",
    "    \n",
    "a = Solution()\n",
    "# s = \"paper\"\n",
    "# t = \"title\"\n",
    "s = \"foo\"\n",
    "t = \"bar\"\n",
    "a.isIsomorphic(s,t)"
   ]
  },
  {
   "cell_type": "markdown",
   "metadata": {},
   "source": [
    "## 409. Longest Palindrome\n",
    "\n",
    "Given a string which consists of lowercase or uppercase letters, find the length of the longest palindromes that can be built with those letters.\n",
    "\n",
    "This is case sensitive, for example \"Aa\" is not considered a palindrome here.\n",
    "\n",
    "Note:\n",
    "Assume the length of given string will not exceed 1,010.\n",
    "\n",
    "Example:\n",
    "\n",
    "Input:\n",
    "\"abccccdd\"\n",
    "\n",
    "Output:\n",
    "7\n",
    "\n",
    "Explanation:\n",
    "One longest palindrome that can be built is \"dccaccd\", whose length is 7."
   ]
  },
  {
   "cell_type": "code",
   "execution_count": 47,
   "metadata": {},
   "outputs": [
    {
     "data": {
      "text/plain": [
       "7"
      ]
     },
     "execution_count": 47,
     "metadata": {},
     "output_type": "execute_result"
    }
   ],
   "source": [
    "import collections\n",
    "class Solution:\n",
    "    def longestPalindrome(self, s):\n",
    "        \"\"\"\n",
    "        :type s: str\n",
    "        :rtype: int\n",
    "        \"\"\"\n",
    "        hash = set()\n",
    "        for c in s:\n",
    "            if c not in hash:\n",
    "                hash.add(c)\n",
    "            else:\n",
    "                hash.remove(c)\n",
    "        # len(hash) is the number of the odd letters\n",
    "        return len(s) - len(hash) + 1 if len(hash) > 0 else len(s)\n",
    "\n",
    "a = Solution()\n",
    "Input = \"abccccdd\"\n",
    "# Input = \"ccc\"\n",
    "# Input = \"bananas\"\n",
    "# Input = \"civilwartestingwhetherthatnaptionoranynartionsoconceivedandsodedicatedcanlongendureWeareqmetonagreatbattlefiemldoftzhatwarWehavecometodedicpateaportionofthatfieldasafinalrestingplaceforthosewhoheregavetheirlivesthatthatnationmightliveItisaltogetherfangandproperthatweshoulddothisButinalargersensewecannotdedicatewecannotconsecratewecannothallowthisgroundThebravelmenlivinganddeadwhostruggledherehaveconsecrateditfaraboveourpoorponwertoaddordetractTgheworldadswfilllittlenotlenorlongrememberwhatwesayherebutitcanneverforgetwhattheydidhereItisforusthelivingrathertobededicatedheretotheulnfinishedworkwhichtheywhofoughtherehavethusfarsonoblyadvancedItisratherforustobeherededicatedtothegreattdafskremainingbeforeusthatfromthesehonoreddeadwetakeincreaseddevotiontothatcauseforwhichtheygavethelastpfullmeasureofdevotionthatweherehighlyresolvethatthesedeadshallnothavediedinvainthatthisnationunsderGodshallhaveanewbirthoffreedomandthatgovernmentofthepeoplebythepeopleforthepeopleshallnotperishfromtheearth\"\n",
    "a.longestPalindrome(Input)"
   ]
  },
  {
   "cell_type": "markdown",
   "metadata": {},
   "source": [
    "## 242. Valid Anagram\n",
    "\n",
    "Given two strings s and t , write a function to determine if t is an anagram of s.\n",
    "\n",
    "Example 1:\n",
    "\n",
    "Input: s = \"anagram\", t = \"nagaram\"\n",
    "\n",
    "Output: true\n",
    "\n",
    "Example 2:\n",
    "\n",
    "Input: s = \"rat\", t = \"car\"\n",
    "\n",
    "Output: false\n",
    "\n",
    "Note:\n",
    "You may assume the string contains only lowercase alphabets.\n",
    "\n",
    "Follow up:\n",
    "What if the inputs contain unicode characters? How would you adapt your solution to such case?"
   ]
  },
  {
   "cell_type": "code",
   "execution_count": 15,
   "metadata": {},
   "outputs": [
    {
     "data": {
      "text/plain": [
       "False"
      ]
     },
     "execution_count": 15,
     "metadata": {},
     "output_type": "execute_result"
    }
   ],
   "source": [
    "class Solution:\n",
    "    def isAnagram(self, s, t):\n",
    "        \"\"\"\n",
    "        :type s: str\n",
    "        :type t: str\n",
    "        :rtype: bool\n",
    "        \"\"\"\n",
    "        count1 = collections.Counter(s)\n",
    "        count2 = collections.Counter(t)\n",
    "        if count1 == count2:\n",
    "            return True\n",
    "        else:\n",
    "            return False\n",
    "a = Solution()\n",
    "# s = \"anagram\"\n",
    "# t = \"nagaram\" \n",
    "s = \"rat\"\n",
    "t = \"car\"\n",
    "a.isAnagram(s, t)"
   ]
  },
  {
   "cell_type": "markdown",
   "metadata": {},
   "source": [
    "## 594. Longest Harmonious Subsequence\n",
    "\n",
    "We define a harmonious array is an array where the difference between its maximum value and its minimum value is exactly 1.\n",
    "\n",
    "Now, given an integer array, you need to find the length of its longest harmonious subsequence among all its possible subsequences.\n",
    "\n",
    "Example 1:\n",
    "Input: [1,3,2,2,5,2,3,7]\n",
    "Output: 5\n",
    "Explanation: The longest harmonious subsequence is [3,2,2,2,3].\n",
    "Note: The length of the input array will not exceed 20,000."
   ]
  },
  {
   "cell_type": "code",
   "execution_count": 13,
   "metadata": {},
   "outputs": [
    {
     "data": {
      "text/plain": [
       "5"
      ]
     },
     "execution_count": 13,
     "metadata": {},
     "output_type": "execute_result"
    }
   ],
   "source": [
    "import collections\n",
    "class Solution:\n",
    "    def findLHS(self, nums):\n",
    "        \"\"\"\n",
    "        :type nums: List[int]\n",
    "        :rtype: int\n",
    "        \"\"\"\n",
    "        count = collections.Counter(nums)\n",
    "        ans = 0\n",
    "        for i in count:\n",
    "            if i+1 in count:\n",
    "                ans = max(ans,count[i]+count[i+1])\n",
    "                \n",
    "\n",
    "        return ans\n",
    "A = Solution()\n",
    "Input = [1,3,2,2,5,2,3,7] \n",
    "A.findLHS(Input)"
   ]
  },
  {
   "cell_type": "markdown",
   "metadata": {},
   "source": [
    "# 1. Two Sum\n",
    "Given an array of integers, return indices of the two numbers such that they add up to a specific target.\n",
    "\n",
    "You may assume that each input would have exactly one solution, and you may not use the same element twice.\n",
    "\n",
    "Example:\n",
    "\n",
    "Given nums = [2, 7, 11, 15], target = 9,\n",
    "\n",
    "Because nums[0] + nums[1] = 2 + 7 = 9,\n",
    "return [0, 1]."
   ]
  },
  {
   "cell_type": "code",
   "execution_count": 13,
   "metadata": {},
   "outputs": [
    {
     "name": "stdout",
     "output_type": "stream",
     "text": [
      "{7: 0}\n"
     ]
    },
    {
     "ename": "KeyError",
     "evalue": "2",
     "output_type": "error",
     "traceback": [
      "\u001b[1;31m---------------------------------------------------------------------------\u001b[0m",
      "\u001b[1;31mKeyError\u001b[0m                                  Traceback (most recent call last)",
      "\u001b[1;32m<ipython-input-13-90c7706f3bb0>\u001b[0m in \u001b[0;36m<module>\u001b[1;34m()\u001b[0m\n\u001b[0;32m     19\u001b[0m \u001b[0mtarget\u001b[0m \u001b[1;33m=\u001b[0m \u001b[1;36m9\u001b[0m\u001b[1;33m\u001b[0m\u001b[0m\n\u001b[0;32m     20\u001b[0m \u001b[0ma\u001b[0m \u001b[1;33m=\u001b[0m \u001b[0mSolution\u001b[0m\u001b[1;33m(\u001b[0m\u001b[1;33m)\u001b[0m\u001b[1;33m\u001b[0m\u001b[0m\n\u001b[1;32m---> 21\u001b[1;33m \u001b[0ma\u001b[0m\u001b[1;33m.\u001b[0m\u001b[0mtwoSum\u001b[0m\u001b[1;33m(\u001b[0m\u001b[0mnums\u001b[0m\u001b[1;33m,\u001b[0m \u001b[0mtarget\u001b[0m\u001b[1;33m)\u001b[0m\u001b[1;33m\u001b[0m\u001b[0m\n\u001b[0m",
      "\u001b[1;32m<ipython-input-13-90c7706f3bb0>\u001b[0m in \u001b[0;36mtwoSum\u001b[1;34m(self, nums, target)\u001b[0m\n\u001b[0;32m     10\u001b[0m             \u001b[0mtemp\u001b[0m \u001b[1;33m=\u001b[0m \u001b[0mtarget\u001b[0m \u001b[1;33m-\u001b[0m \u001b[0mnums\u001b[0m\u001b[1;33m[\u001b[0m\u001b[0mi\u001b[0m\u001b[1;33m]\u001b[0m\u001b[1;33m\u001b[0m\u001b[0m\n\u001b[0;32m     11\u001b[0m             \u001b[1;32mif\u001b[0m \u001b[0mnums\u001b[0m\u001b[1;33m[\u001b[0m\u001b[0mi\u001b[0m\u001b[1;33m]\u001b[0m \u001b[1;32min\u001b[0m \u001b[0mdict_\u001b[0m\u001b[1;33m:\u001b[0m\u001b[1;33m\u001b[0m\u001b[0m\n\u001b[1;32m---> 12\u001b[1;33m                 \u001b[0mprint\u001b[0m\u001b[1;33m(\u001b[0m\u001b[0mdict_\u001b[0m\u001b[1;33m[\u001b[0m\u001b[0mtemp\u001b[0m\u001b[1;33m]\u001b[0m\u001b[1;33m)\u001b[0m\u001b[1;33m\u001b[0m\u001b[0m\n\u001b[0m\u001b[0;32m     13\u001b[0m                 \u001b[1;32mreturn\u001b[0m \u001b[1;33m[\u001b[0m\u001b[0mdict_\u001b[0m\u001b[1;33m[\u001b[0m\u001b[0mtemp\u001b[0m\u001b[1;33m]\u001b[0m\u001b[1;33m,\u001b[0m \u001b[0mi\u001b[0m\u001b[1;33m]\u001b[0m\u001b[1;33m\u001b[0m\u001b[0m\n\u001b[0;32m     14\u001b[0m             \u001b[1;32melse\u001b[0m\u001b[1;33m:\u001b[0m\u001b[1;33m\u001b[0m\u001b[0m\n",
      "\u001b[1;31mKeyError\u001b[0m: 2"
     ]
    }
   ],
   "source": [
    "class Solution:\n",
    "    def twoSum(self, nums, target):\n",
    "        \"\"\"\n",
    "        :type nums: List[int]\n",
    "        :type target: int\n",
    "        :rtype: List[int]\n",
    "        \"\"\"\n",
    "        dict_ = {}\n",
    "        for i in range(len(nums)):\n",
    "            temp = target - nums[i]\n",
    "            if nums[i] in dict_:\n",
    "                print(dict_[nums[i]])\n",
    "                return [dict_[temp], i]\n",
    "            else:\n",
    "                dict_[temp] = i\n",
    "            print(dict_)\n",
    "\n",
    "nums = [2, 7, 11, 15]\n",
    "target = 9\n",
    "a = Solution()\n",
    "a.twoSum(nums, target)"
   ]
  },
  {
   "cell_type": "markdown",
   "metadata": {
    "collapsed": true
   },
   "source": [
    "## 503. Next Greater Element II\n",
    "Given a circular array (the next element of the last element is the first element of the array), print the Next Greater Number for every element. The Next Greater Number of a number x is the first greater number to its traversing-order next in the array, which means you could search circularly to find its next greater number. If it doesn't exist, output -1 for this number.\n",
    "\n",
    "Example 1:\n",
    "    \n",
    "Input: [1,2,1]\n",
    "    \n",
    "Output: [2,-1,2]\n",
    "    \n",
    "Explanation: The first 1's next greater number is 2;\n",
    "The number 2 can't find next greater number; \n",
    "The second 1's next greater number needs to search circularly, which is also 2.\n",
    "Note: The length of given array won't exceed 10000."
   ]
  },
  {
   "cell_type": "code",
   "execution_count": 13,
   "metadata": {},
   "outputs": [
    {
     "data": {
      "text/plain": [
       "[2, -1, 2]"
      ]
     },
     "execution_count": 13,
     "metadata": {},
     "output_type": "execute_result"
    }
   ],
   "source": [
    "def nextGreaterElements(nums):\n",
    "    \"\"\"\n",
    "    :type nums: List[int]\n",
    "    :rtype: List[int]\n",
    "    \"\"\"\n",
    "    stack, res = [], [-1] * len(nums)\n",
    "    for idx in list(range(len(nums))) * 2:\n",
    "        while stack and nums[idx] > nums[stack[-1]]:\n",
    "            res[stack.pop()] = nums[idx]\n",
    "        stack.append(idx)\n",
    "    return res\n",
    "\n",
    "Input = [1,2,1]\n",
    "nextGreaterElements(Input)"
   ]
  },
  {
   "cell_type": "markdown",
   "metadata": {},
   "source": [
    "## 739. Daily Temperatures\n",
    "Given a list of daily temperatures T, return a list such that, for each day in the input, tells you how many days you would have to wait until a warmer temperature. \n",
    "\n",
    "If there is no future day for which this is possible, put 0 instead.\n",
    "\n",
    "For example, given the list of temperatures T = [73, 74, 75, 71, 69, 72, 76, 73], your output should be [1, 1, 4, 2, 1, 1, 0, 0].\n",
    "\n",
    "Note: The length of temperatures will be in the range [1, 30000]. Each temperature will be an integer in the range [30, 100].\n"
   ]
  },
  {
   "cell_type": "code",
   "execution_count": 55,
   "metadata": {},
   "outputs": [
    {
     "name": "stdout",
     "output_type": "stream",
     "text": [
      "[]\n",
      "[0]\n",
      "[0, 1]\n",
      "38\n",
      "[0, 2]\n",
      "53\n",
      "55\n",
      "[3]\n",
      "[3, 4]\n",
      "61\n",
      "81\n",
      "[5]\n",
      "93\n",
      "[6]\n",
      "[6, 7]\n",
      "32\n",
      "[6, 8]\n",
      "43\n"
     ]
    },
    {
     "data": {
      "text/plain": [
       "[3, 1, 1, 2, 1, 1, 0, 1, 1, 0]"
      ]
     },
     "execution_count": 55,
     "metadata": {},
     "output_type": "execute_result"
    }
   ],
   "source": [
    "def dailyTemperatures(T):\n",
    "    \"\"\"\n",
    "    :type T: List[int]\n",
    "    :rtype: List[int]\n",
    "    \"\"\"\n",
    "    ans = [0]*len(T)\n",
    "    stack = []\n",
    "    for i, t in enumerate(T):\n",
    "        print(stack)\n",
    "        while stack and T[stack[-1]] < t:\n",
    "            print(T[stack[-1]])\n",
    "            cur = stack.pop()\n",
    "            ans[cur] = i - cur\n",
    "        stack.append(i)\n",
    "    return ans\n",
    "\n",
    "# Input = [73, 74, 75, 71, 69, 72, 76, 73]\n",
    "Input = [55,38,53,81,61,93,97,32,43,78]\n",
    "dailyTemperatures(Input)\n",
    "[3,1,1,2,1,1,0,1,1,0]"
   ]
  },
  {
   "cell_type": "markdown",
   "metadata": {},
   "source": [
    "## 20. Valid Parentheses\n",
    "\n",
    "Given a string containing just the characters '(', ')', '{', '}', '[' and ']', determine if the input string is valid.\n",
    "\n",
    "An input string is valid if:\n",
    "\n",
    "Open brackets must be closed by the same type of brackets.\n",
    "\n",
    "Open brackets must be closed in the correct order.\n",
    "\n",
    "Note that an empty string is also considered valid.\n",
    "\n",
    "Example 1:\n",
    "\n",
    "Input: \"()\"\n",
    "\n",
    "Output: true\n",
    "\n",
    "Example 2:\n",
    "\n",
    "Input: \"()[]{}\"\n",
    "\n",
    "Output: true\n",
    "\n",
    "Example 3:\n",
    "\n",
    "Input: \"(]\"\n",
    "\n",
    "Output: false\n",
    "\n",
    "Example 4:\n",
    "\n",
    "Input: \"([)]\"\n",
    "\n",
    "Output: false\n",
    "\n",
    "Example 5:\n",
    "\n",
    "Input: \"{[]}\"\n",
    "\n",
    "Output: true"
   ]
  },
  {
   "cell_type": "code",
   "execution_count": 7,
   "metadata": {},
   "outputs": [
    {
     "data": {
      "text/plain": [
       "False"
      ]
     },
     "execution_count": 7,
     "metadata": {},
     "output_type": "execute_result"
    }
   ],
   "source": [
    "def isValid(s):\n",
    "    \"\"\"\n",
    "    :type s: str\n",
    "    :rtype: bool\n",
    "    \"\"\"\n",
    "    if not s:\n",
    "        return True\n",
    "    if len(s) == 1:\n",
    "        return False\n",
    "    stack = []\n",
    "    for i in s:\n",
    "        if i == '{' or i =='(' or i == '[':\n",
    "            stack.append(i)\n",
    "        elif stack:\n",
    "            temp = stack.pop()\n",
    "            if temp == '{' and i != '}' or temp == '(' and i != ')' or temp == '[' and i != ']':\n",
    "                return False\n",
    "        else:\n",
    "            return False\n",
    "    if not stack:\n",
    "        return True\n",
    "    else:\n",
    "        return False\n",
    "Input = \"([)]\"\n",
    "isValid(Input)"
   ]
  },
  {
   "cell_type": "markdown",
   "metadata": {},
   "source": [
    "## 155. Min Stack\n",
    "\n",
    "Design a stack that supports push, pop, top, and retrieving the minimum element in constant time.\n",
    "\n",
    "push(x) -- Push element x onto stack.\n",
    "\n",
    "pop() -- Removes the element on top of the stack.\n",
    "\n",
    "top() -- Get the top element.\n",
    "\n",
    "getMin() -- Retrieve the minimum element in the stack.\n",
    "\n",
    "Example:\n",
    "\n",
    "MinStack minStack = new MinStack();\n",
    "\n",
    "minStack.push(-2);\n",
    "\n",
    "minStack.push(0);\n",
    "\n",
    "minStack.push(-3);\n",
    "\n",
    "minStack.getMin();   --> Returns -3.\n",
    "\n",
    "minStack.pop();\n",
    "\n",
    "minStack.top();      --> Returns 0.\n",
    "\n",
    "minStack.getMin();   --> Returns -2."
   ]
  },
  {
   "cell_type": "code",
   "execution_count": 30,
   "metadata": {},
   "outputs": [
    {
     "name": "stdout",
     "output_type": "stream",
     "text": [
      "-3\n",
      "0\n",
      "-2\n"
     ]
    }
   ],
   "source": [
    "class MinStack:\n",
    "    def __init__(self):\n",
    "        \"\"\"\n",
    "        initialize your data structure here.\n",
    "        \"\"\"\n",
    "        self.stack= []\n",
    "\n",
    "    def push(self, x):\n",
    "        \"\"\"\n",
    "        :type x: int\n",
    "        :rtype: void\n",
    "        \"\"\"\n",
    "        self.stack.append(x)\n",
    "        \n",
    "\n",
    "    def pop(self):\n",
    "        \"\"\"\n",
    "        :rtype: void\n",
    "        \"\"\"\n",
    "        self.stack.pop(len(self.stack)-1)\n",
    "\n",
    "    def top(self):\n",
    "        \"\"\"\n",
    "        :rtype: int\n",
    "        \"\"\"\n",
    "        return self.stack[-1]\n",
    "\n",
    "    def getMin(self):\n",
    "        \"\"\"\n",
    "        :rtype: int\n",
    "        \"\"\"\n",
    "        return min(self.stack)\n",
    "\n",
    "\n",
    "minStack = MinStack();\n",
    "\n",
    "minStack.push(-2);\n",
    "\n",
    "minStack.push(0);\n",
    "\n",
    "minStack.push(-3);\n",
    "\n",
    "minStack.getMin(); #--> Returns -3.\n",
    "\n",
    "minStack.pop();\n",
    "\n",
    "minStack.top(); #--> Returns 0.\n",
    "\n",
    "minStack.getMin(); #--> Returns -2."
   ]
  },
  {
   "cell_type": "markdown",
   "metadata": {},
   "source": [
    "## 225. Implement Stack using Queues\n",
    "Implement the following operations of a stack using queues.\n",
    "\n",
    "push(x) -- Push element x onto stack.\n",
    "\n",
    "pop() -- Removes the element on top of the stack.\n",
    "\n",
    "top() -- Get the top element.\n",
    "\n",
    "empty() -- Return whether the stack is empty.\n",
    "\n",
    "Example:\n",
    "\n",
    "MyStack stack = new MyStack();\n",
    "\n",
    "stack.push(1);\n",
    "\n",
    "stack.push(2);  \n",
    "\n",
    "stack.top();   // returns 2\n",
    "\n",
    "stack.pop();   // returns 2\n",
    "\n",
    "stack.empty(); // returns false\n",
    "\n",
    "Notes:\n",
    "\n",
    "You must use only standard operations of a queue -- which means only push to back, peek/pop from front, size, and is empty operations are valid.\n",
    "\n",
    "Depending on your language, queue may not be supported natively. You may simulate a queue by using a list or deque (double-ended queue), as long as you use only standard operations of a queue.\n",
    "\n",
    "You may assume that all operations are valid (for example, no pop or top operations will be called on an empty stack)."
   ]
  },
  {
   "cell_type": "code",
   "execution_count": 10,
   "metadata": {},
   "outputs": [
    {
     "data": {
      "text/plain": [
       "True"
      ]
     },
     "execution_count": 10,
     "metadata": {},
     "output_type": "execute_result"
    }
   ],
   "source": [
    "from collections import deque\n",
    "class MyStack:\n",
    "    def __init__(self):\n",
    "        \"\"\"\n",
    "        Initialize your data structure here.\n",
    "        \"\"\"\n",
    "        self._stack = deque()\n",
    "        \n",
    "\n",
    "    def push(self, x):\n",
    "        \"\"\"\n",
    "        Push element x onto stack.\n",
    "        :type x: int\n",
    "        :rtype: void\n",
    "        \"\"\"\n",
    "        self._stack.append(x)\n",
    "        return self._stack\n",
    "\n",
    "    def pop(self):\n",
    "        \"\"\"\n",
    "        Removes the element on top of the stack and returns that element.\n",
    "        :rtype: int\n",
    "        \"\"\"\n",
    "        return self._stack.pop()\n",
    "\n",
    "\n",
    "    def top(self):\n",
    "        \"\"\"\n",
    "        Get the top element.\n",
    "        :rtype: int\n",
    "        \"\"\"\n",
    "        return self._stack[-1]\n",
    "        \n",
    "\n",
    "    def empty(self):\n",
    "        \"\"\"\n",
    "        Returns whether the stack is empty.\n",
    "        :rtype: bool\n",
    "        \"\"\"\n",
    "        if not self._stack:\n",
    "            return True\n",
    "        else:\n",
    "            return False\n",
    "stack = MyStack()\n",
    "stack.push(1);\n",
    "\n",
    "stack.push(2);\n",
    "\n",
    "stack.top() ## returns 2\n",
    "\n",
    "stack.pop() ## returns 2\n",
    "\n",
    "stack.empty() # returns false"
   ]
  },
  {
   "cell_type": "markdown",
   "metadata": {},
   "source": [
    "## Queue"
   ]
  },
  {
   "cell_type": "markdown",
   "metadata": {},
   "source": [
    "## 232. Implement Queue using Stacks \n",
    "Implement the following operations of a queue using stacks.\n",
    "\n",
    "push(x) -- Push element x to the back of queue.\n",
    "\n",
    "pop() -- Removes the element from in front of queue.\n",
    "\n",
    "peek() -- Get the front element.\n",
    "\n",
    "empty() -- Return whether the queue is empty.\n",
    "\n",
    "Example:\n",
    "\n",
    "MyQueue queue = new MyQueue();\n",
    "\n",
    "queue.push(1);\n",
    "\n",
    "queue.push(2);  \n",
    "\n",
    "queue.peek();  // returns 1\n",
    "\n",
    "queue.pop();   // returns 1\n",
    "\n",
    "queue.empty(); // returns false\n",
    "\n",
    "Notes:\n",
    "\n",
    "You must use only standard operations of a stack -- which means only push to top, peek/pop from top, size, and is empty operations are valid.\n",
    "Depending on your language, stack may not be supported natively. You may simulate a stack by using a list or deque (double-ended queue), as long as you use only standard operations of a stack.\n",
    "You may assume that all operations are valid (for example, no pop or peek operations will be called on an empty queue)."
   ]
  },
  {
   "cell_type": "code",
   "execution_count": 22,
   "metadata": {},
   "outputs": [
    {
     "name": "stdout",
     "output_type": "stream",
     "text": [
      "[1]\n",
      "[1, 2]\n"
     ]
    }
   ],
   "source": [
    "class MyQueue:\n",
    "\n",
    "    def __init__(self):\n",
    "        \"\"\"\n",
    "        Initialize your data structure here.\n",
    "        \"\"\"\n",
    "        self.stack1, self.stack2= [], []\n",
    "        \n",
    "    def move(self):\n",
    "        if not self.stack2:\n",
    "            while self.stack1:\n",
    "                self.stack2.append(self.stack1.pop())\n",
    "\n",
    "    def push(self, x):\n",
    "        \"\"\"\n",
    "        Push element x to the back of queue.\n",
    "        :type x: int\n",
    "        :rtype: void\n",
    "        \"\"\"\n",
    "        self.stack1.append(x)\n",
    "#         print(self.stack1)\n",
    "\n",
    "    def pop(self):\n",
    "        \"\"\"\n",
    "        Removes the element from in front of queue and returns that element.\n",
    "        :rtype: int\n",
    "        \"\"\"\n",
    "        self.move()\n",
    "        return self.stack2.pop()\n",
    "\n",
    "    def peek(self):\n",
    "        \"\"\"\n",
    "        Get the front element.\n",
    "        :rtype: int\n",
    "        \"\"\"\n",
    "        self.move()\n",
    "        return self.stack2[-1]\n",
    "        \n",
    "    def empty(self):\n",
    "        \"\"\"\n",
    "        Returns whether the queue is empty.\n",
    "        :rtype: bool\n",
    "        \"\"\"\n",
    "        return (not self.stack1) and (not self.stack2)\n",
    "    \n",
    "queue = MyQueue();\n",
    "\n",
    "queue.push(1);\n",
    "\n",
    "queue.push(2);\n",
    "\n",
    "queue.peek(); # returns 1\n",
    "\n",
    "queue.pop(); # returns 1\n",
    "\n",
    "queue.empty(); # returns false"
   ]
  },
  {
   "cell_type": "markdown",
   "metadata": {},
   "source": [
    "## 653. Two Sum IV - Input is a BST\n",
    "Given a Binary Search Tree and a target number, return true if there exist two elements in the BST such that their sum is equal to the given target.\n",
    "\n",
    "Example 1:\n",
    "Input: \n",
    "    5\n",
    "   / \\\n",
    "  3   6\n",
    " / \\   \\\n",
    "2   4   7\n",
    "\n",
    "Target = 9\n",
    "\n",
    "Output: True\n",
    "Example 2:\n",
    "Input: \n",
    "    5\n",
    "   / \\\n",
    "  3   6\n",
    " / \\   \\\n",
    "2   4   7\n",
    "\n",
    "Target = 28\n",
    "\n",
    "Output: False"
   ]
  },
  {
   "cell_type": "code",
   "execution_count": 27,
   "metadata": {},
   "outputs": [
    {
     "name": "stdout",
     "output_type": "stream",
     "text": [
      "0 2 4\n",
      "3 3 4\n",
      "4 4 4\n"
     ]
    },
    {
     "data": {
      "text/plain": [
       "False"
      ]
     },
     "execution_count": 27,
     "metadata": {},
     "output_type": "execute_result"
    }
   ],
   "source": [
    "def Inorder(root):\n",
    "    if not root:\n",
    "        return\n",
    "    Inorder(root.left)\n",
    "    result.append(root.val)\n",
    "    Inorder(root.right)    \n",
    "\n",
    "def BinarySearch(nums, target):\n",
    "    left, right = 0 , len(nums)-1\n",
    "    find = False\n",
    "    while left<=right and find == False:\n",
    "        mid = left + math.floor((right-left)/2)\n",
    "        if target == nums[mid]:\n",
    "            find = True\n",
    "        elif target > nums[mid]:\n",
    "            left = mid+1\n",
    "        else:\n",
    "            right = mid-1\n",
    "    return find    \n",
    "\n",
    "result = []\n",
    "if not root:\n",
    "    return\n",
    "\n",
    "Inorder(root)\n",
    "\n",
    "if len(result) ==1:\n",
    "    return False\n",
    "find = False\n",
    "for i in range(len(result)):\n",
    "    target = k - result[i]\n",
    "    temp = result[:i]+result[i+1:]\n",
    "    if BinarySearch(temp, target):\n",
    "        find = True\n",
    "return find\n",
    "\n",
    "\n",
    "    \n",
    "    \n",
    "    \n",
    "Input = [-10,-3,0,5,9]    \n",
    "BinarySearch(Input,10)"
   ]
  },
  {
   "cell_type": "code",
   "execution_count": 7,
   "metadata": {},
   "outputs": [
    {
     "name": "stdout",
     "output_type": "stream",
     "text": [
      "[-3, -10, 9, 5]\n"
     ]
    },
    {
     "data": {
      "text/plain": [
       "<__main__.TreeNode at 0x583a748>"
      ]
     },
     "execution_count": 7,
     "metadata": {},
     "output_type": "execute_result"
    }
   ],
   "source": [
    "class TreeNode:\n",
    "    def __init__(self, x):\n",
    "        self.val = x\n",
    "        self.left = None\n",
    "        self.right = None\n",
    "\n",
    "    def PrintTree(self):\n",
    "        if self.left:\n",
    "            self.left.PrintTree()\n",
    "\n",
    "        if self.right:\n",
    "            self.right.PrintTree()\n",
    "def sortedArrayToBST(nums):\n",
    "    \"\"\"\n",
    "    :type nums: List[int]\n",
    "    :rtype: TreeNode\n",
    "    \"\"\"\n",
    "    mid = len(nums)//2\n",
    "    \n",
    "    def insert(node, insertNode):\n",
    "        if not node or not insertNode:\n",
    "            return\n",
    "        if node.val > insertNode.val: \n",
    "            if not node.left:\n",
    "                node.left = insertNode\n",
    "            else:\n",
    "                insert(node.left, insertNode)\n",
    "        elif node.val <= insertNode.val:\n",
    "            if not node.right:\n",
    "                node.right = insertNode\n",
    "            else:\n",
    "                insert(node.left, insertNode)\n",
    "    root = TreeNode(nums[mid])\n",
    "    left = nums[mid-1::-1]\n",
    "    right = nums[mid+1:]\n",
    "    right = right[::-1]\n",
    "    left+=right\n",
    "    print(left)\n",
    "    for i in range(len(left)):\n",
    "        insert(root, TreeNode(left[i]))\n",
    "    return root\n",
    "\n",
    "Input = [-10,-3,0,5,9]\n",
    "sortedArrayToBST(Input)\n"
   ]
  },
  {
   "cell_type": "markdown",
   "metadata": {},
   "source": [
    "## 235. Lowest Common Ancestor of a Binary Search Tree\n",
    "Given a binary search tree (BST), find the lowest common ancestor (LCA) of two given nodes in the BST.\n",
    "\n",
    "According to the definition of LCA on Wikipedia: “The lowest common ancestor is defined between two nodes p and q as the lowest node in T that has both p and q as descendants (where we allow a node to be a descendant of itself).”\n",
    "\n",
    "Given binary search tree:  root = [6,2,8,0,4,7,9,null,null,3,5]\n",
    "\n",
    "\n",
    " \n",
    "\n",
    "Example 1:\n",
    "\n",
    "Input: root = [6,2,8,0,4,7,9,null,null,3,5], p = 2, q = 8\n",
    "Output: 6\n",
    "Explanation: The LCA of nodes 2 and 8 is 6.\n",
    "Example 2:\n",
    "\n",
    "Input: root = [6,2,8,0,4,7,9,null,null,3,5], p = 2, q = 4\n",
    "Output: 2\n",
    "Explanation: The LCA of nodes 2 and 4 is 2, since a node can be a descendant of itself according to the LCA definition.\n",
    " "
   ]
  },
  {
   "cell_type": "code",
   "execution_count": null,
   "metadata": {
    "collapsed": true
   },
   "outputs": [],
   "source": [
    "class Solution:\n",
    "    def lowestCommonAncestor(self, root, p, q):\n",
    "        \"\"\"\n",
    "        :type root: TreeNode\n",
    "        :type p: TreeNode\n",
    "        :type q: TreeNode\n",
    "        :rtype: TreeNode\n",
    "        \"\"\"\n",
    "        while root:\n",
    "            if root.val > p.val and root.val > q.val:\n",
    "                root = root.left\n",
    "            elif root.val < p.val and root.val < q.val:\n",
    "                root = root.right\n",
    "            else:\n",
    "                return root"
   ]
  },
  {
   "cell_type": "markdown",
   "metadata": {},
   "source": [
    "## 538. Convert BST to Greater Tree\n",
    "Given a Binary Search Tree (BST), convert it to a Greater Tree such that every key of the original BST is changed to the original key plus sum of all keys greater than the original key in BST.\n",
    "\n",
    "Example:\n",
    "\n",
    "Input: The root of a Binary Search Tree like this:\n",
    "              5\n",
    "            /   \\\n",
    "           2     13\n",
    "\n",
    "Output: The root of a Greater Tree like this:\n",
    "             18\n",
    "            /   \\\n",
    "          20     13"
   ]
  },
  {
   "cell_type": "code",
   "execution_count": null,
   "metadata": {
    "collapsed": true
   },
   "outputs": [],
   "source": [
    "def convertBST(self, root):\n",
    "    \"\"\"\n",
    "    :type root: TreeNode\n",
    "    :rtype: TreeNode\n",
    "    \"\"\"\n",
    "\n",
    "    def dfs(root):\n",
    "        if not root:\n",
    "            return\n",
    "        dfs(root.right)\n",
    "        self.Sum += root.val\n",
    "        root.val = self.Sum\n",
    "        dfs(root.left)\n",
    "\n",
    "    self.Sum = 0\n",
    "    dfs(root)\n",
    "\n",
    "    return root"
   ]
  },
  {
   "cell_type": "markdown",
   "metadata": {},
   "source": [
    "## 230. Kth Smallest Element in a BST\n",
    "Given a binary search tree, write a function kthSmallest to find the kth smallest element in it.\n",
    "\n",
    "Note: \n",
    "You may assume k is always valid, 1 ≤ k ≤ BST's total elements.\n",
    "\n",
    "Example 1:\n",
    "\n",
    "Input: root = [3,1,4,null,2], k = 1\n",
    "   3\n",
    "  / \\\n",
    " 1   4\n",
    "  \\\n",
    "   2\n",
    "Output: 1\n",
    "Example 2:\n",
    "\n",
    "Input: root = [5,3,6,2,4,null,null,1], k = 3\n",
    "       5\n",
    "      / \\\n",
    "     3   6\n",
    "    / \\\n",
    "   2   4\n",
    "  /\n",
    " 1\n",
    "Output: 3\n",
    "Follow up:\n",
    "What if the BST is modified (insert/delete operations) often and you need to find the kth smallest frequently? How would you optimize the kthSmallest routine?"
   ]
  },
  {
   "cell_type": "code",
   "execution_count": null,
   "metadata": {
    "collapsed": true
   },
   "outputs": [],
   "source": [
    "def kthSmallest(self, root, k):\n",
    "    \"\"\"\n",
    "    :type root: TreeNode\n",
    "    :type k: int\n",
    "    :rtype: int\n",
    "    \"\"\"\n",
    "    def dfs(root):\n",
    "        if not root:\n",
    "            return\n",
    "        result.append(root.val)\n",
    "        dfs(root.left)\n",
    "        dfs(root.right)\n",
    "\n",
    "    if not root:\n",
    "        return\n",
    "    result = []\n",
    "    dfs(root)\n",
    "    result.sort()\n",
    "    return result[k-1]"
   ]
  },
  {
   "cell_type": "markdown",
   "metadata": {},
   "source": [
    "## 669. Trim a Binary Search Tree\n",
    "Given a binary search tree and the lowest and highest boundaries as L and R, trim the tree so that all its elements lies in [L, R] (R >= L). You might need to change the root of the tree, so the result should return the new root of the trimmed binary search tree.\n",
    "\n",
    "Example 1:\n",
    "Input: \n",
    "    1\n",
    "   / \\\n",
    "  0   2\n",
    "\n",
    "  L = 1\n",
    "  R = 2\n",
    "\n",
    "Output: \n",
    "    1\n",
    "      \\\n",
    "       2\n",
    "Example 2:\n",
    "Input: \n",
    "    3\n",
    "   / \\\n",
    "  0   4\n",
    "   \\\n",
    "    2\n",
    "   /\n",
    "  1\n",
    "\n",
    "  L = 1\n",
    "  R = 3\n",
    "\n",
    "Output: \n",
    "      3\n",
    "     / \n",
    "   2   \n",
    "  /\n",
    " 1"
   ]
  },
  {
   "cell_type": "code",
   "execution_count": null,
   "metadata": {
    "collapsed": true
   },
   "outputs": [],
   "source": [
    "def trimBST(self, root, L, R):\n",
    "    \"\"\"\n",
    "    :type root: TreeNode\n",
    "    :type L: int\n",
    "    :type R: int\n",
    "    :rtype: TreeNode\n",
    "    \"\"\"\n",
    "    def dfs(root, new_tree):\n",
    "        if not root:\n",
    "            return\n",
    "        if (root.val >= L and root.val <= R):\n",
    "            if new_tree.val == None:\n",
    "                new_tree.val = root.val\n",
    "            elif root.val > new_tree.val:\n",
    "                temp = TreeNode(root.val)\n",
    "                new_tree.right = temp\n",
    "                new_tree = new_tree.right\n",
    "            elif root.val < new_tree.val:\n",
    "                temp = TreeNode(root.val)\n",
    "                new_tree.left = temp\n",
    "                new_tree = new_tree.left\n",
    "        dfs(root.left, new_tree)\n",
    "        dfs(root.right, new_tree)\n",
    "\n",
    "\n",
    "    if not root or not L or not R:\n",
    "        return \n",
    "    new_tree = TreeNode(None)\n",
    "\n",
    "    dfs(root, new_tree)\n",
    "\n",
    "    return new_tree\n",
    "            "
   ]
  },
  {
   "cell_type": "markdown",
   "metadata": {},
   "source": [
    "## 94. Binary Tree Inorder Traversal\n",
    "Given a binary tree, return the inorder traversal of its nodes' values.\n",
    "\n",
    "Example:\n",
    "\n",
    "Input: [1,null,2,3]\n",
    "   1\n",
    "    \\\n",
    "     2\n",
    "    /\n",
    "   3\n",
    "\n",
    "Output: [1,3,2]\n",
    "Follow up: Recursive solution is trivial, could you do it iteratively?"
   ]
  },
  {
   "cell_type": "code",
   "execution_count": null,
   "metadata": {
    "collapsed": true
   },
   "outputs": [],
   "source": [
    "def inorderTraversal(self, root):\n",
    "    \"\"\"\n",
    "    :type root: TreeNode\n",
    "    :rtype: List[int]\n",
    "    \"\"\"\n",
    "    stack = []\n",
    "    result = []\n",
    "    while True:\n",
    "        while root:\n",
    "            stack.append(root)\n",
    "            root = root.left\n",
    "        if not stack:\n",
    "            return result\n",
    "        ans = stack.pop()\n",
    "        result.append(ans.val)\n",
    "        root = ans.right\n",
    "\n",
    "    return result"
   ]
  },
  {
   "cell_type": "markdown",
   "metadata": {},
   "source": [
    "## 145. Binary Tree Postorder Traversal\n",
    "Given a binary tree, return the postorder traversal of its nodes' values.\n",
    "\n",
    "Example:\n",
    "\n",
    "Input: [1,null,2,3]\n",
    "   1\n",
    "    \\\n",
    "     2\n",
    "    /\n",
    "   3\n",
    "\n",
    "Output: [3,2,1]\n",
    "Follow up: Recursive solution is trivial, could you do it iteratively?"
   ]
  },
  {
   "cell_type": "code",
   "execution_count": null,
   "metadata": {
    "collapsed": true
   },
   "outputs": [],
   "source": [
    "def postorderTraversal(self, root):\n",
    "    \"\"\"\n",
    "    :type root: TreeNode\n",
    "    :rtype: List[int]\n",
    "    \"\"\"\n",
    "    stack = [root]\n",
    "    result = []\n",
    "    while stack:\n",
    "        ans = stack.pop()\n",
    "        if ans:\n",
    "            result.append(ans.val)\n",
    "            stack.append(ans.left)\n",
    "            stack.append(ans.right)\n",
    "\n",
    "    return result[::-1]"
   ]
  },
  {
   "cell_type": "markdown",
   "metadata": {},
   "source": [
    "## 144. Binary Tree Preorder Traversal\n",
    "Given a binary tree, return the preorder traversal of its nodes' values.\n",
    "\n",
    "Example:\n",
    "\n",
    "Input: [1,null,2,3]\n",
    "   1\n",
    "    \\\n",
    "     2\n",
    "    /\n",
    "   3\n",
    "\n",
    "Output: [1,2,3]\n",
    "Follow up: Recursive solution is trivial, could you do it iteratively?"
   ]
  },
  {
   "cell_type": "code",
   "execution_count": 2,
   "metadata": {
    "collapsed": true
   },
   "outputs": [],
   "source": [
    "def preorderTraversal(self, root):\n",
    "    \"\"\"\n",
    "    :type root: TreeNode\n",
    "    :rtype: List[int]\n",
    "    \"\"\"\n",
    "    stack = [root]\n",
    "    result = []\n",
    "    while stack:\n",
    "        ans = stack.pop()\n",
    "        if ans:\n",
    "            result.append(ans.val)\n",
    "            stack.append(ans.right)\n",
    "            stack.append(ans.left)\n",
    "\n",
    "    return result"
   ]
  },
  {
   "cell_type": "markdown",
   "metadata": {},
   "source": [
    "## 513. Find Bottom Left Tree Value\n",
    "Given a binary tree, find the leftmost value in the last row of the tree.\n",
    "\n",
    "Example 1:\n",
    "Input:\n",
    "\n",
    "    2\n",
    "   / \\\n",
    "  1   3\n",
    "\n",
    "Output:\n",
    "1\n",
    "Example 2: \n",
    "Input:\n",
    "\n",
    "        1\n",
    "       / \\\n",
    "      2   3\n",
    "     /   / \\\n",
    "    4   5   6\n",
    "       /\n",
    "      7\n",
    "\n",
    "Output:\n",
    "7\n",
    "Note: You may assume the tree (i.e., the given root node) is not NULL."
   ]
  },
  {
   "cell_type": "code",
   "execution_count": null,
   "metadata": {
    "collapsed": true
   },
   "outputs": [],
   "source": [
    "def findBottomLeftValue(self, root):\n",
    "    \"\"\"\n",
    "    :type root: TreeNode\n",
    "    :rtype: int\n",
    "    \"\"\"\n",
    "    queue=[root]; ans=0\n",
    "    print(queue)\n",
    "    while any(queue):\n",
    "        ans=queue[0].val\n",
    "        print(ans)\n",
    "        queue=[leaf for node in queue for leaf in (node.left,node.right) if leaf]\n",
    "\n",
    "    return ans"
   ]
  },
  {
   "cell_type": "markdown",
   "metadata": {},
   "source": [
    "## 637. Average of Levels in Binary Tree\n",
    "Given a non-empty binary tree, return the average value of the nodes on each level in the form of an array.\n",
    "Example 1:\n",
    "Input:\n",
    "    3\n",
    "   / \\\n",
    "  9  20\n",
    "    /  \\\n",
    "   15   7\n",
    "Output: [3, 14.5, 11]\n",
    "Explanation:\n",
    "The average value of nodes on level 0 is 3,  on level 1 is 14.5, and on level 2 is 11. Hence return [3, 14.5, 11].\n",
    "Note:\n",
    "The range of node's value is in the range of 32-bit signed integer."
   ]
  },
  {
   "cell_type": "code",
   "execution_count": null,
   "metadata": {
    "collapsed": true
   },
   "outputs": [],
   "source": [
    "def averageOfLevels(self, root):\n",
    "    \"\"\"\n",
    "    :type root: TreeNode\n",
    "    :rtype: List[float]\n",
    "    \"\"\"\n",
    "    info = []\n",
    "    def dfs(root,depth):\n",
    "        if not root:\n",
    "            return 0\n",
    "        if len(info) <= depth:\n",
    "            info.append([0, 0])\n",
    "        info[depth][0] += root.val\n",
    "        info[depth][1] += 1\n",
    "        dfs(root.left, depth+1)\n",
    "        dfs(root.right, depth+1)\n",
    "\n",
    "    depth = 0\n",
    "    dfs(root,depth)\n",
    "\n",
    "    return [x/y for x,y in info]"
   ]
  },
  {
   "cell_type": "markdown",
   "metadata": {},
   "source": [
    "## 671. Second Minimum Node In a Binary Tree\n",
    "Given a non-empty special binary tree consisting of nodes with the non-negative value, where each node in this tree has exactly two or zero sub-node. If the node has two sub-nodes, then this node's value is the smaller value among its two sub-nodes.\n",
    "\n",
    "Given such a binary tree, you need to output the second minimum value in the set made of all the nodes' value in the whole tree.\n",
    "\n",
    "If no such second minimum value exists, output -1 instead.\n",
    "\n",
    "Example 1:\n",
    "Input: \n",
    "    2\n",
    "   / \\\n",
    "  2   5\n",
    "     / \\\n",
    "    5   7\n",
    "\n",
    "Output: 5\n",
    "Explanation: The smallest value is 2, the second smallest value is 5.\n",
    "Example 2:\n",
    "Input: \n",
    "    2\n",
    "   / \\\n",
    "  2   2\n",
    "\n",
    "Output: -1\n",
    "Explanation: The smallest value is 2, but there isn't any second smallest value."
   ]
  },
  {
   "cell_type": "code",
   "execution_count": null,
   "metadata": {
    "collapsed": true
   },
   "outputs": [],
   "source": [
    "def findSecondMinimumValue(self, root):\n",
    "    \"\"\"\n",
    "    :type root: TreeNode\n",
    "    :rtype: int\n",
    "    \"\"\"\n",
    "\n",
    "    def dfs(root):\n",
    "        if not root:\n",
    "            return\n",
    "        self.result.append(root.val)\n",
    "        dfs(root.left)\n",
    "        dfs(root.right)\n",
    "\n",
    "    if not root or not root.left or not root.right:\n",
    "        return -1\n",
    "\n",
    "    self.result = []\n",
    "    dfs(root.right)\n",
    "    dfs(root.left)\n",
    "    self.result.sort()\n",
    "    b = set(self.result)\n",
    "    print(b)\n",
    "    b = list(b)\n",
    "    b.sort()\n",
    "    print(b)\n",
    "    if len(b) == 1:\n",
    "        return -1\n",
    "    else:\n",
    "        return b[1]"
   ]
  },
  {
   "cell_type": "markdown",
   "metadata": {},
   "source": [
    "## 337. House Robber III\n",
    "The thief has found himself a new place for his thievery again. There is only one entrance to this area, called the \"root.\" Besides the root, each house has one and only one parent house. After a tour, the smart thief realized that \"all houses in this place forms a binary tree\". It will automatically contact the police if two directly-linked houses were broken into on the same night.\n",
    "\n",
    "Determine the maximum amount of money the thief can rob tonight without alerting the police.\n",
    "\n",
    "Example 1:\n",
    "\n",
    "Input: [3,2,3,null,3,null,1]\n",
    "\n",
    "     3\n",
    "    / \\\n",
    "   2   3\n",
    "    \\   \\ \n",
    "     3   1\n",
    "\n",
    "Output: 7 \n",
    "Explanation: Maximum amount of money the thief can rob = 3 + 3 + 1 = 7.\n",
    "Example 2:\n",
    "\n",
    "Input: [3,4,5,1,3,null,1]\n",
    "\n",
    "     3\n",
    "    / \\\n",
    "   4   5\n",
    "  / \\   \\ \n",
    " 1   3   1\n",
    "\n",
    "Output: 9\n",
    "Explanation: Maximum amount of money the thief can rob = 4 + 5 = 9."
   ]
  },
  {
   "cell_type": "code",
   "execution_count": 1,
   "metadata": {
    "collapsed": true
   },
   "outputs": [],
   "source": [
    "def rob(self, root):\n",
    "    return self.robDFS(root)[1];\n",
    "def robDFS(self,node):\n",
    "    if node is None:\n",
    "        return (0,0)\n",
    "    l = self.robDFS(node.left)\n",
    "    r = self.robDFS(node.right)\n",
    "    return (l[1] + r[1], max(l[1] + r[1], l[0] + r[0] + node.val))"
   ]
  },
  {
   "cell_type": "markdown",
   "metadata": {},
   "source": [
    "## 404. Sum of Left Leaves\n",
    "Find the sum of all left leaves in a given binary tree.\n",
    "\n",
    "Example:\n",
    "\n",
    "    3\n",
    "   / \\\n",
    "  9  20\n",
    "    /  \\\n",
    "   15   7\n",
    "\n",
    "There are two left leaves in the binary tree, with values 9 and 15 respectively. Return 24."
   ]
  },
  {
   "cell_type": "code",
   "execution_count": null,
   "metadata": {
    "collapsed": true
   },
   "outputs": [],
   "source": [
    "def sumOfLeftLeaves(self, root):\n",
    "    \"\"\"\n",
    "    :type root: TreeNode\n",
    "    :rtype: int\n",
    "    \"\"\"\n",
    "    if not root:\n",
    "        return 0\n",
    "\n",
    "    if root.left and not root.left.left and not root.left.right:\n",
    "        return root.left.val + self.sumOfLeftLeaves(root.right)\n",
    "\n",
    "    return self.sumOfLeftLeaves(root.left) + self.sumOfLeftLeaves(root.right)"
   ]
  },
  {
   "cell_type": "markdown",
   "metadata": {},
   "source": [
    "## 101. Symmetric Tree\n",
    "Given a binary tree, check whether it is a mirror of itself (ie, symmetric around its center).\n",
    "\n",
    "For example, this binary tree [1,2,2,3,4,4,3] is symmetric:\n",
    "\n",
    "    1\n",
    "   / \\\n",
    "  2   2\n",
    " / \\ / \\\n",
    "3  4 4  3\n",
    "But the following [1,2,2,null,3,null,3] is not:\n",
    "    1\n",
    "   / \\\n",
    "  2   2\n",
    "   \\   \\\n",
    "   3    3\n",
    "Note:\n",
    "Bonus points if you could solve it both recursively and iteratively."
   ]
  },
  {
   "cell_type": "code",
   "execution_count": null,
   "metadata": {
    "collapsed": true
   },
   "outputs": [],
   "source": [
    "def isSymmetric(self, root):\n",
    "    \"\"\"\n",
    "    :type root: TreeNode\n",
    "    :rtype: bool\n",
    "    \"\"\"\n",
    "\n",
    "    def dfs(root1, root2):\n",
    "        if root1 and root2:\n",
    "            return True\n",
    "        if not root1 or not root2:\n",
    "            return False\n",
    "        if root1.val != root2.val:\n",
    "            return False\n",
    "        return dfs(root1.left, root2.right) and dfs(root1.right, root2.left)\n",
    "    if not root or (not root.left and not root.right):\n",
    "        return True\n",
    "    return dfs(root.left, root.right)\n"
   ]
  },
  {
   "cell_type": "markdown",
   "metadata": {},
   "source": [
    "## 572. Subtree of Another Tree\n",
    "Given two non-empty binary trees s and t, check whether tree t has exactly the same structure and node values with a subtree of s. A subtree of s is a tree consists of a node in s and all of this node's descendants. The tree s could also be considered as a subtree of itself.\n",
    "\n",
    "Example 1:\n",
    "Given tree s:\n",
    "\n",
    "     3\n",
    "    / \\\n",
    "   4   5\n",
    "  / \\\n",
    " 1   2\n",
    "Given tree t:\n",
    "   4 \n",
    "  / \\\n",
    " 1   2\n",
    "Return true, because t has the same structure and node values with a subtree of s.\n",
    "Example 2:\n",
    "Given tree s:\n",
    "\n",
    "     3\n",
    "    / \\\n",
    "   4   5\n",
    "  / \\\n",
    " 1   2\n",
    "    /\n",
    "   0\n",
    "Given tree t:\n",
    "   4\n",
    "  / \\\n",
    " 1   2\n",
    "Return false."
   ]
  },
  {
   "cell_type": "code",
   "execution_count": null,
   "metadata": {
    "collapsed": true
   },
   "outputs": [],
   "source": [
    "def isMatch(self, s, t):\n",
    "    if not(s and t):\n",
    "        return s is t\n",
    "    return (s.val == t.val and \n",
    "            self.isMatch(s.left, t.left) and \n",
    "            self.isMatch(s.right, t.right))\n",
    "\n",
    "def isSubtree(self, s, t):\n",
    "    if self.isMatch(s, t): return True\n",
    "    if not s: return False\n",
    "    return self.isSubtree(s.left, t) or self.isSubtree(s.right, t)\n"
   ]
  },
  {
   "cell_type": "markdown",
   "metadata": {},
   "source": [
    "## 437. Path Sum III\n",
    "You are given a binary tree in which each node contains an integer value.\n",
    "\n",
    "Find the number of paths that sum to a given value.\n",
    "\n",
    "The path does not need to start or end at the root or a leaf, but it must go downwards (traveling only from parent nodes to child nodes).\n",
    "\n",
    "The tree has no more than 1,000 nodes and the values are in the range -1,000,000 to 1,000,000.\n",
    "\n",
    "Example:\n",
    "\n",
    "root = [10,5,-3,3,2,null,11,3,-2,null,1], sum = 8\n",
    "\n",
    "      10\n",
    "     /  \\\n",
    "    5   -3\n",
    "   / \\    \\\n",
    "  3   2   11\n",
    " / \\   \\\n",
    "3  -2   1\n",
    "\n",
    "Return 3. The paths that sum to 8 are:\n",
    "\n",
    "1.  5 -> 3\n",
    "2.  5 -> 2 -> 1\n",
    "3. -3 -> 11"
   ]
  },
  {
   "cell_type": "code",
   "execution_count": null,
   "metadata": {
    "collapsed": true
   },
   "outputs": [],
   "source": [
    "def pathSum(self, root, target):\n",
    "    # define global result and path\n",
    "    self.result = 0\n",
    "    cache = {0:1}\n",
    "\n",
    "    # recursive to get result\n",
    "    self.dfs(root, target, 0, cache)\n",
    "\n",
    "    # return result\n",
    "    return self.result\n",
    "\n",
    "def dfs(self, root, target, currPathSum, cache):\n",
    "    # exit condition\n",
    "    if root is None:\n",
    "        return  \n",
    "    # calculate currPathSum and required oldPathSum\n",
    "    currPathSum += root.val\n",
    "    oldPathSum = currPathSum - target\n",
    "    # update result and cache\n",
    "    self.result += cache.get(oldPathSum, 0)\n",
    "    cache[currPathSum] = cache.get(currPathSum, 0) + 1\n",
    "\n",
    "    # dfs breakdown\n",
    "    self.dfs(root.left, target, currPathSum, cache)\n",
    "    self.dfs(root.right, target, currPathSum, cache)\n",
    "    # when move to a different branch, the currPathSum is no longer available, hence remove one. \n",
    "    cache[currPathSum] -= 1"
   ]
  },
  {
   "cell_type": "markdown",
   "metadata": {},
   "source": [
    "## 112. Path Sum\n",
    "Given a binary tree and a sum, determine if the tree has a root-to-leaf path such that adding up all the values along the path equals the given sum.\n",
    "\n",
    "Note: A leaf is a node with no children.\n",
    "\n",
    "Example:\n",
    "\n",
    "Given the below binary tree and sum = 22,\n",
    "\n",
    "      5\n",
    "     / \\\n",
    "    4   8\n",
    "   /   / \\\n",
    "  11  13  4\n",
    " /  \\      \\\n",
    "7    2      1\n",
    "return true, as there exist a root-to-leaf path 5->4->11->2 which sum is 22."
   ]
  },
  {
   "cell_type": "code",
   "execution_count": null,
   "metadata": {
    "collapsed": true
   },
   "outputs": [],
   "source": [
    "def hasPathSum(self, root, sum):\n",
    "    \"\"\"\n",
    "    :type root: TreeNode\n",
    "    :type sum: int\n",
    "    :rtype: bool\n",
    "    \"\"\"\n",
    "    if not root:\n",
    "        return False\n",
    "\n",
    "    if not root.left and not root.right and root.val == sum:\n",
    "        return True\n",
    "\n",
    "    sum -= root.val\n",
    "\n",
    "    return self.hasPathSum(root.left, sum) or self.hasPathSum(root.right, sum)\n"
   ]
  },
  {
   "cell_type": "markdown",
   "metadata": {},
   "source": [
    "## 617. Merge Two Binary Trees\n",
    "Given two binary trees and imagine that when you put one of them to cover the other, some nodes of the two trees are overlapped while the others are not.\n",
    "\n",
    "You need to merge them into a new binary tree. The merge rule is that if two nodes overlap, then sum node values up as the new value of the merged node. Otherwise, the NOT null node will be used as the node of new tree.\n",
    "\n",
    "Example 1:\n",
    "\n",
    "Input: \n",
    "\tTree 1                     Tree 2                  \n",
    "          1                         2                             \n",
    "         / \\                       / \\                            \n",
    "        3   2                     1   3                        \n",
    "       /                           \\   \\                      \n",
    "      5                             4   7                  \n",
    "Output: \n",
    "Merged tree:\n",
    "\t     3\n",
    "\t    / \\\n",
    "\t   4   5\n",
    "\t  / \\   \\ \n",
    "\t 5   4   7\n",
    " \n",
    "\n",
    "Note: The merging process must start from the root nodes of both trees.\n",
    "\n"
   ]
  },
  {
   "cell_type": "code",
   "execution_count": null,
   "metadata": {
    "collapsed": true
   },
   "outputs": [],
   "source": [
    "def mergeTrees(self, t1, t2):\n",
    "    \"\"\"\n",
    "    :type t1: TreeNode\n",
    "    :type t2: TreeNode\n",
    "    :rtype: TreeNode\n",
    "    \"\"\"\n",
    "    node1 = t1\n",
    "    node2 = t2\n",
    "    if not t1 and not t2:\n",
    "        return None\n",
    "    if not t1:\n",
    "        return t2\n",
    "    if not t2:\n",
    "        return t1\n",
    "\n",
    "    node1.val+=node2.val\n",
    "    node1.left=self.mergeTrees(node1.left,node2.left)\n",
    "    node1.right=self.mergeTrees(node1.right,node2.right)\n",
    "\n",
    "    return node1"
   ]
  },
  {
   "cell_type": "markdown",
   "metadata": {},
   "source": [
    "## 226. Invert Binary Tree\n",
    "Invert a binary tree.\n",
    "\n",
    "Example:\n",
    "\n",
    "Input:\n",
    "\n",
    "     4\n",
    "   /   \\\n",
    "  2     7\n",
    " / \\   / \\\n",
    "1   3 6   9\n",
    "Output:\n",
    "\n",
    "     4\n",
    "   /   \\\n",
    "  7     2\n",
    " / \\   / \\\n",
    "9   6 3   1\n",
    "Trivia:\n",
    "This problem was inspired by this original tweet by Max Howell:\n",
    "\n",
    "Google: 90% of our engineers use the software you wrote (Homebrew), but you can’t invert a binary tree on a whiteboard so f*** off.\n"
   ]
  },
  {
   "cell_type": "code",
   "execution_count": null,
   "metadata": {
    "collapsed": true
   },
   "outputs": [],
   "source": [
    "def invert(self, root):\n",
    "\n",
    "    tmp = root.left\n",
    "    root.left = root.right\n",
    "    root.right = tmp\n",
    "    self.invert(root.left)\n",
    "    self.invert(root.right)\n",
    "\n",
    "    return root\n",
    "\n",
    "def invertTree(self, root):\n",
    "    \"\"\"\n",
    "    :type root: TreeNode\n",
    "    :rtype: TreeNode\n",
    "    \"\"\"\n",
    "    if root:\n",
    "        root.left, root.right = self.invertTree(root.right), self.invertTree(root.left)\n",
    "    return root"
   ]
  },
  {
   "cell_type": "markdown",
   "metadata": {},
   "source": [
    "## 543. Diameter of Binary Tree\n",
    "Given a binary tree, you need to compute the length of the diameter of the tree. The diameter of a binary tree is the length of the longest path between any two nodes in a tree. This path may or may not pass through the root.\n",
    "\n",
    "Example:\n",
    "Given a binary tree \n",
    "          1\n",
    "         / \\\n",
    "        2   3\n",
    "       / \\     \n",
    "      4   5    \n",
    "Return 3, which is the length of the path [4,2,1,3] or [5,2,1,3].\n",
    "\n",
    "Note: The length of path between two nodes is represented by the number of edges between them."
   ]
  },
  {
   "cell_type": "code",
   "execution_count": null,
   "metadata": {
    "collapsed": true
   },
   "outputs": [],
   "source": [
    "def diameterOfBinaryTree(self, root):\n",
    "    \"\"\"\n",
    "    :type root: TreeNode\n",
    "    :rtype: int\n",
    "    \"\"\"\n",
    "    self.max_depth = 0\n",
    "    def maxDistance(root):\n",
    "        if not root:\n",
    "            return 0\n",
    "        l = maxDistance(root.left)\n",
    "        r = maxDistance(root.right)\n",
    "        self.max_depth = max(self.max_depth, l+r)\n",
    "        return 1+max(l,r)\n",
    "    if not root or (root.left == None and root.right == None) :\n",
    "        return 0\n",
    "    maxDistance(root)\n",
    "    return self.max_depth"
   ]
  },
  {
   "cell_type": "markdown",
   "metadata": {},
   "source": [
    "## 110. Balanced Binary Tree\n",
    "Given a binary tree, determine if it is height-balanced.\n",
    "\n",
    "For this problem, a height-balanced binary tree is defined as:\n",
    "\n",
    "a binary tree in which the depth of the two subtrees of every node never differ by more than 1.\n",
    "\n",
    "Example 1:\n",
    "\n",
    "Given the following tree [3,9,20,null,null,15,7]:\n",
    "\n",
    "    3\n",
    "   / \\\n",
    "  9  20\n",
    "    /  \\\n",
    "   15   7\n",
    "   \n",
    "Return true.\n",
    "\n",
    "Example 2:\n",
    "\n",
    "Given the following tree [1,2,2,3,3,null,null,4,4]:\n",
    "\n",
    "       1\n",
    "      / \\\n",
    "     2   2\n",
    "    / \\\n",
    "   3   3\n",
    "  / \\\n",
    " 4   4\n",
    " \n",
    "Return false."
   ]
  },
  {
   "cell_type": "code",
   "execution_count": 1,
   "metadata": {},
   "outputs": [
    {
     "name": "stdout",
     "output_type": "stream",
     "text": [
      "9\n",
      "20\n",
      "1\n",
      "2\n",
      "15\n",
      "7\n",
      "[3, 9, 20]\n"
     ]
    }
   ],
   "source": [
    "class TreeNode:\n",
    "    def __init__(self, x):\n",
    "        self.val = x\n",
    "        self.left = None\n",
    "        self.right = None\n",
    "            \n",
    "    def insert(self, val):\n",
    "        if self.left == None:\n",
    "            self.left = TreeNode(val)\n",
    "            self = self.right\n",
    "        elif self.right == None:\n",
    "            self.right = TreeNode(val)\n",
    "            self = self.left\n",
    "\n",
    "    def PrintTree(self):\n",
    "        if self.left:\n",
    "            self.left.PrintTree()\n",
    "        print( self.val)\n",
    "        if self.right:\n",
    "            self.right.PrintTree()\n",
    "            \n",
    "    def maxdepth(self, root):\n",
    "        if root == None:\n",
    "            return 0\n",
    "        print(max(self.maxdepth(root.left), self.maxdepth(root.right))+1)\n",
    "        return max(self.maxdepth(root.left), self.maxdepth(root.right))+1\n",
    "    \n",
    "    def InorderTraversal(self, root):\n",
    "        res = []\n",
    "        if root:\n",
    "            res = self.InorderTraversal(root.left)\n",
    "            res.append(root.val)\n",
    "            res+= self.InorderTraversal(root.right)\n",
    "        return root\n",
    "    \n",
    "    def PostorderTraversal(self, root):\n",
    "        res = []\n",
    "        if root:\n",
    "            res = self.PostorderTraversal(root.left)\n",
    "            res += self.PostorderTraversal(root.right)\n",
    "            res.append(root.val)\n",
    "        return res\n",
    "#         res = []\n",
    "#         if root:\n",
    "#             res = self.PostorderTraversal(root.left)\n",
    "#             res = res + self.PostorderTraversal(root.right)\n",
    "#             res.append(root.val)\n",
    "#         return res\n",
    "    \n",
    "    def PreorderTraversal(self, root):\n",
    "        res = []\n",
    "        if root:\n",
    "            res.append(root.val)\n",
    "            res = res + self.PreorderTraversal(root.left)\n",
    "            res = res + self.PreorderTraversal(root.right)\n",
    "        return res\n",
    "    \n",
    "Input = [3,9,20,1,2,15,7]\n",
    "# Input = [1,2,2,3,3,\"\",\"\",4,4]\n",
    "root = TreeNode(Input[0])\n",
    "for i in range(1, len(Input)):\n",
    "    print(Input[i])\n",
    "    root.insert(Input[i])\n",
    "    \n",
    "\n",
    "print(root.PreorderTraversal(root))\n"
   ]
  },
  {
   "cell_type": "markdown",
   "metadata": {},
   "source": [
    "## 104. Maximum Depth of Binary Tree\n",
    "\n",
    "Given a binary tree, find its maximum depth.\n",
    "\n",
    "The maximum depth is the number of nodes along the longest path from the root node down to the farthest leaf node.\n",
    "\n",
    "Note: A leaf is a node with no children.\n",
    "\n",
    "Example:\n",
    "\n",
    "Given binary tree [3,9,20,null,null,15,7],\n",
    "\n",
    "    3\n",
    "   / \\\n",
    "  9  20\n",
    "    /  \\\n",
    "   15   7\n",
    "return its depth = 3."
   ]
  },
  {
   "cell_type": "code",
   "execution_count": 54,
   "metadata": {},
   "outputs": [
    {
     "ename": "TypeError",
     "evalue": "unorderable types: NoneType() < int()",
     "output_type": "error",
     "traceback": [
      "\u001b[1;31m---------------------------------------------------------------------------\u001b[0m",
      "\u001b[1;31mTypeError\u001b[0m                                 Traceback (most recent call last)",
      "\u001b[1;32m<ipython-input-54-214bd8c3d340>\u001b[0m in \u001b[0;36m<module>\u001b[1;34m()\u001b[0m\n\u001b[0;32m     57\u001b[0m \u001b[0mroot\u001b[0m \u001b[1;33m=\u001b[0m \u001b[0mTreeNode\u001b[0m\u001b[1;33m(\u001b[0m\u001b[0mInput\u001b[0m\u001b[1;33m[\u001b[0m\u001b[1;36m0\u001b[0m\u001b[1;33m]\u001b[0m\u001b[1;33m)\u001b[0m\u001b[1;33m\u001b[0m\u001b[0m\n\u001b[0;32m     58\u001b[0m \u001b[1;32mfor\u001b[0m \u001b[0mi\u001b[0m \u001b[1;32min\u001b[0m \u001b[0mrange\u001b[0m\u001b[1;33m(\u001b[0m\u001b[1;36m1\u001b[0m\u001b[1;33m,\u001b[0m \u001b[0mlen\u001b[0m\u001b[1;33m(\u001b[0m\u001b[0mInput\u001b[0m\u001b[1;33m)\u001b[0m\u001b[1;33m)\u001b[0m\u001b[1;33m:\u001b[0m\u001b[1;33m\u001b[0m\u001b[0m\n\u001b[1;32m---> 59\u001b[1;33m     \u001b[0mroot\u001b[0m\u001b[1;33m.\u001b[0m\u001b[0minsert\u001b[0m\u001b[1;33m(\u001b[0m\u001b[0mInput\u001b[0m\u001b[1;33m[\u001b[0m\u001b[0mi\u001b[0m\u001b[1;33m]\u001b[0m\u001b[1;33m)\u001b[0m\u001b[1;33m\u001b[0m\u001b[0m\n\u001b[0m\u001b[0;32m     60\u001b[0m \u001b[1;33m\u001b[0m\u001b[0m\n\u001b[0;32m     61\u001b[0m \u001b[0mroot\u001b[0m\u001b[1;33m.\u001b[0m\u001b[0mmaxdepth\u001b[0m\u001b[1;33m(\u001b[0m\u001b[0mroot\u001b[0m\u001b[1;33m)\u001b[0m\u001b[1;33m\u001b[0m\u001b[0m\n",
      "\u001b[1;32m<ipython-input-54-214bd8c3d340>\u001b[0m in \u001b[0;36minsert\u001b[1;34m(self, val)\u001b[0m\n\u001b[0;32m     15\u001b[0m \u001b[1;33m\u001b[0m\u001b[0m\n\u001b[0;32m     16\u001b[0m         \u001b[1;32mif\u001b[0m \u001b[0mself\u001b[0m\u001b[1;33m.\u001b[0m\u001b[0mval\u001b[0m\u001b[1;33m:\u001b[0m\u001b[1;33m\u001b[0m\u001b[0m\n\u001b[1;32m---> 17\u001b[1;33m             \u001b[1;32mif\u001b[0m \u001b[0mval\u001b[0m \u001b[1;33m<\u001b[0m \u001b[0mself\u001b[0m\u001b[1;33m.\u001b[0m\u001b[0mval\u001b[0m\u001b[1;33m:\u001b[0m\u001b[1;33m\u001b[0m\u001b[0m\n\u001b[0m\u001b[0;32m     18\u001b[0m                 \u001b[1;32mif\u001b[0m \u001b[0mself\u001b[0m\u001b[1;33m.\u001b[0m\u001b[0mleft\u001b[0m \u001b[1;32mis\u001b[0m \u001b[1;32mNone\u001b[0m\u001b[1;33m:\u001b[0m\u001b[1;33m\u001b[0m\u001b[0m\n\u001b[0;32m     19\u001b[0m                     \u001b[0mself\u001b[0m\u001b[1;33m.\u001b[0m\u001b[0mleft\u001b[0m \u001b[1;33m=\u001b[0m \u001b[0mTreeNode\u001b[0m\u001b[1;33m(\u001b[0m\u001b[0mval\u001b[0m\u001b[1;33m)\u001b[0m\u001b[1;33m\u001b[0m\u001b[0m\n",
      "\u001b[1;31mTypeError\u001b[0m: unorderable types: NoneType() < int()"
     ]
    }
   ],
   "source": [
    "class TreeNode:\n",
    "    def __init__(self, x):\n",
    "        self.val = x\n",
    "        self.left = None\n",
    "        self.right = None\n",
    "\n",
    "    def PrintTree(self):\n",
    "        if self.left:\n",
    "            self.left.PrintTree()\n",
    "\n",
    "        if self.right:\n",
    "            self.right.PrintTree()\n",
    "            \n",
    "\n",
    "    def maxdepth(self, root):\n",
    "        if root == None:\n",
    "            return 0\n",
    "        print(max(self.maxdepth(root.left), self.maxdepth(root.right))+1)\n",
    "        return max(self.maxdepth(root.left), self.maxdepth(root.right))+1\n",
    "    \n",
    "def find_depth(num):\n",
    "    depth = 0\n",
    "    while num > 2**depth:\n",
    "        num -= 2**depth\n",
    "        depth += 1\n",
    "    return depth+1\n",
    "def isBalanced(root):\n",
    "    \"\"\"\n",
    "    :type root: TreeNode\n",
    "    :rtype: bool\n",
    "    \"\"\"\n",
    "#     while \n",
    "#     count = 0\n",
    "\n",
    "#     while root[count] != \"\":\n",
    "#         count += 1\n",
    "#     print(find_depth(count+1)-1,find_depth(len(root)))\n",
    "#     return True if abs((find_depth(count+1)-1)-find_depth(len(root))) <= 1 else False\n",
    "\n",
    "Input = [3,9,20,None,None,15,7]\n",
    "# Input = [1,2,2,3,3,\"\",\"\",4,4]\n",
    "root = TreeNode(Input[0])\n",
    "for i in range(1, len(Input)):\n",
    "    root.insert(Input[i])\n",
    "    \n",
    "root.maxdepth(root)\n",
    "isBalanced(Input)"
   ]
  },
  {
   "cell_type": "markdown",
   "metadata": {},
   "source": [
    "## 328. Odd Even Linked List\n",
    "Given a singly linked list, group all odd nodes together followed by the even nodes. Please note here we are talking about the node number and not the value in the nodes.\n",
    "\n",
    "You should try to do it in place. The program should run in O(1) space complexity and O(nodes) time complexity.\n",
    "\n",
    "Example 1:\n",
    "\n",
    "Input: 1->2->3->4->5->NULL\n",
    "\n",
    "Output: 1->3->5->2->4->NULL\n",
    "\n",
    "Example 2:\n",
    "\n",
    "Input: 2->1->3->5->6->4->7->NULL\n",
    "\n",
    "Output: 2->3->6->7->1->5->4->NULL\n",
    "\n",
    "Note:\n",
    "\n",
    "The relative order inside both the even and odd groups should remain as it was in the input.\n",
    "The first node is considered odd, the second node even and so on ..."
   ]
  },
  {
   "cell_type": "code",
   "execution_count": 40,
   "metadata": {},
   "outputs": [
    {
     "name": "stdout",
     "output_type": "stream",
     "text": [
      "2\n",
      "3\n",
      "6\n",
      "7\n",
      "1\n",
      "5\n",
      "4\n"
     ]
    },
    {
     "data": {
      "text/plain": [
       "<__main__.ListNode at 0x5965358>"
      ]
     },
     "execution_count": 40,
     "metadata": {},
     "output_type": "execute_result"
    }
   ],
   "source": [
    "def oddEvenList(head):\n",
    "    \"\"\"\n",
    "    :type head: ListNode\n",
    "    :rtype: ListNode\n",
    "    \"\"\"\n",
    "    if not head:\n",
    "        return None\n",
    "    node_odd = dummy = head\n",
    "    node_even = dummyB = head.next\n",
    "    while node_odd.next != None and node_even.next != None:\n",
    "        node_odd.next = node_even.next\n",
    "        node_odd = node_even.next\n",
    "        \n",
    "        node_even.next = node_odd.next\n",
    "        node_even = node_odd.next\n",
    "    \n",
    "    node_odd.next = dummyB\n",
    "    temp = dummy\n",
    "    \n",
    "#     while temp != None:\n",
    "#         print(temp.val)\n",
    "#         temp = temp.next\n",
    "    return dummy\n",
    "\n",
    "# root = [1, 2, 3, 4, 5, 6, 7, 8, 9, 10]\n",
    "root = [2,1,3,5,6,4,7]\n",
    "node = head = ListNode(root[0])\n",
    "for i in range(1,len(root)):\n",
    "    node1 = ListNode(root[i])\n",
    "    node.next = node1\n",
    "    node = node.next\n",
    "\n",
    "oddEvenList(head)"
   ]
  },
  {
   "cell_type": "markdown",
   "metadata": {},
   "source": [
    "## 725. Split Linked List in Parts\n",
    "\n",
    "Given a (singly) linked list with head node root, write a function to split the linked list into k consecutive linked list \"parts\".\n",
    "\n",
    "The length of each part should be as equal as possible: no two parts should have a size differing by more than 1. This may lead to some parts being null.\n",
    "\n",
    "The parts should be in order of occurrence in the input list, and parts occurring earlier should always have a size greater than or equal parts occurring later.\n",
    "\n",
    "Return a List of ListNode's representing the linked list parts that are formed.\n",
    "\n",
    "Examples 1->2->3->4, k = 5 // 5 equal parts [ [1], [2], [3], [4], null ]\n",
    "\n",
    "Example 1:\n",
    "    \n",
    "Input: \n",
    "    \n",
    "root = [1, 2, 3], k = 5\n",
    "\n",
    "Output: [[1],[2],[3],[],[]]\n",
    "    \n",
    "Explanation:\n",
    "    \n",
    "The input and each element of the output are ListNodes, not arrays.\n",
    "For example, the input root has root.val = 1, root.next.val = 2, \\root.next.next.val = 3, and root.next.next.next = null.\n",
    "The first element output[0] has output[0].val = 1, output[0].next = null.\n",
    "The last element output[4] is null, but it's string representation as a ListNode is [].\n",
    "\n",
    "Example 2:\n",
    "    \n",
    "Input: \n",
    "    \n",
    "root = [1, 2, 3, 4, 5, 6, 7, 8, 9, 10], k = 3\n",
    "\n",
    "Output: [[1, 2, 3, 4], [5, 6, 7], [8, 9, 10]]\n",
    "    \n",
    "Explanation:\n",
    "    \n",
    "The input has been split into consecutive parts with size difference at most 1, and earlier parts are a larger size than the later parts.\n",
    "\n",
    "Note:\n",
    "\n",
    "The length of root will be in the range [0, 1000].\n",
    "Each value of a node in the input will be an integer in the range [0, 999].\n",
    "k will be an integer in the range [1, 50]."
   ]
  },
  {
   "cell_type": "code",
   "execution_count": 24,
   "metadata": {},
   "outputs": [
    {
     "data": {
      "text/plain": [
       "[[1], [2], [3], [], []]"
      ]
     },
     "execution_count": 24,
     "metadata": {},
     "output_type": "execute_result"
    }
   ],
   "source": [
    "class ListNode:\n",
    "    def __init__(self, x):\n",
    "        self.val = x\n",
    "        self.next = None\n",
    "        \n",
    "def splitListToParts(root, k):\n",
    "    \"\"\"\n",
    "    :type root: ListNode\n",
    "    :type k: int\n",
    "    :rtype: List[ListNode]\n",
    "    \"\"\"\n",
    "    node = root\n",
    "    count = 0\n",
    "    array = []\n",
    "    while node != None:\n",
    "        count += 1\n",
    "        array.append(node.val)\n",
    "        node = node.next\n",
    "        \n",
    "    if k >= len(array):\n",
    "        Index_array = [1] * k\n",
    "        \n",
    "    else:\n",
    "        Index_array = []\n",
    "        remain = count % k\n",
    "        num_group = count // k\n",
    "        while count != 0 :\n",
    "            if remain != 0:\n",
    "                temp = num_group + 1\n",
    "                remain -= 1\n",
    "            else:\n",
    "                temp = num_group\n",
    "            Index_array.append(temp)\n",
    "            count -= temp\n",
    "            \n",
    "    group = []\n",
    "    lenth_index = 0\n",
    "    lenth_array = len(array)\n",
    "    index = 0\n",
    "    i = 0\n",
    "    \n",
    "    while lenth_index < len(Index_array):\n",
    "        if i > lenth_array:\n",
    "            group.append([])\n",
    "        else:\n",
    "            group.append(array[i:i+Index_array[lenth_index]])\n",
    "        i+=Index_array[lenth_index]\n",
    "        lenth_index += 1\n",
    "    return group\n",
    "\n",
    "\n",
    "# root = [1, 2, 3, 4, 5, 6, 7, 8, 9, 10]\n",
    "# k = 3\n",
    "root = [1, 2, 3]\n",
    "k = 5\n",
    "\n",
    "node = head = ListNode(root[0])\n",
    "for i in range(1,len(root)):\n",
    "    node1 = ListNode(root[i])\n",
    "    node.next = node1\n",
    "    node = node.next\n",
    "\n",
    "splitListToParts(head,k)"
   ]
  },
  {
   "cell_type": "markdown",
   "metadata": {},
   "source": [
    "## 234. Palindrome Linked List\n",
    "\n",
    "Given a singly linked list, determine if it is a palindrome.\n",
    "\n",
    "Example 1:\n",
    "\n",
    "Input: 1->2\n",
    "\n",
    "Output: false\n",
    "\n",
    "Example 2:\n",
    "\n",
    "Input: 1->2->2->1\n",
    "\n",
    "Output: true\n",
    "\n",
    "Follow up:\n",
    "\n",
    "Could you do it in O(n) time and O(1) space?"
   ]
  },
  {
   "cell_type": "code",
   "execution_count": 19,
   "metadata": {},
   "outputs": [
    {
     "data": {
      "text/plain": [
       "False"
      ]
     },
     "execution_count": 19,
     "metadata": {},
     "output_type": "execute_result"
    }
   ],
   "source": [
    "from copy import deepcopy\n",
    "class ListNode:\n",
    "    def __init__(self, x):\n",
    "        self.val = x\n",
    "        self.next = None    \n",
    "    \n",
    "def isPalindrome(head):\n",
    "    \"\"\"\n",
    "    :type head: ListNode\n",
    "    :rtype: bool\n",
    "    \"\"\"    \n",
    "\n",
    "#     right =  deepcopy(head)\n",
    "\n",
    "#     pre = None\n",
    "#     while right != None:\n",
    "#         temp = right\n",
    "#         right = right.next\n",
    "#         temp.next = pre\n",
    "#         pre = temp\n",
    "\n",
    "#     while pre != None:\n",
    "#         if head.val == pre.val:\n",
    "#             head, pre = head.next, pre.next\n",
    "#         else:\n",
    "#             return False\n",
    "    \n",
    "#     return True\n",
    "    fast = head\n",
    "    slow = head\n",
    "\n",
    "    while fast and fast.next:\n",
    "        slow = slow.next\n",
    "        fast = fast.next.next\n",
    "\n",
    "    if fast:\n",
    "        slow = slow.next\n",
    "\n",
    "    slow = self.reverse(slow)\n",
    "    fast = head\n",
    "\n",
    "    while slow:\n",
    "        if fast.val != slow.val:\n",
    "            return False\n",
    "        fast = fast.next\n",
    "        slow = slow.next\n",
    "\n",
    "    return True\n",
    "    \n",
    "    def reverse(self, head):\n",
    "        prev = None\n",
    "        curr = head\n",
    "        \n",
    "        while curr:\n",
    "            temp = curr.next\n",
    "            curr.next = prev\n",
    "            prev = curr\n",
    "            curr = temp\n",
    "        \n",
    "        return prev\n",
    "\n",
    "node1 = ListNode(1)\n",
    "node2 = ListNode(1) \n",
    "node3 = ListNode(2)\n",
    "node4 = ListNode(1)\n",
    "\n",
    "\n",
    "node1.next = node2\n",
    "node2.next = node3\n",
    "node3.next = node4 \n",
    "\n",
    "\n",
    "isPalindrome(node1)"
   ]
  },
  {
   "cell_type": "markdown",
   "metadata": {},
   "source": [
    "## 445. Add Two Numbers II\n",
    "\n",
    "You are given two non-empty linked lists representing two non-negative integers. The most significant digit comes first and each of their nodes contain a single digit. Add the two numbers and return it as a linked list.\n",
    "\n",
    "You may assume the two numbers do not contain any leading zero, except the number 0 itself.\n",
    "\n",
    "Follow up:\n",
    "\n",
    "What if you cannot modify the input lists? In other words, reversing the lists is not allowed.\n",
    "\n",
    "Example:\n",
    "\n",
    "Input: (7 -> 2 -> 4 -> 3) + (5 -> 6 -> 4)\n",
    "\n",
    "Output: 7 -> 8 -> 0 -> 7"
   ]
  },
  {
   "cell_type": "code",
   "execution_count": 26,
   "metadata": {},
   "outputs": [
    {
     "data": {
      "text/plain": [
       "<__main__.ListNode at 0x59ee1d0>"
      ]
     },
     "execution_count": 26,
     "metadata": {},
     "output_type": "execute_result"
    }
   ],
   "source": [
    "class ListNode:\n",
    "    def __init__(self, x):\n",
    "        self.val = x\n",
    "        self.next = None\n",
    "\n",
    "\n",
    "def addTwoNumbers(l1, l2):\n",
    "    \"\"\"\n",
    "    :type l1: ListNode\n",
    "    :type l2: ListNode\n",
    "    :rtype: ListNode\n",
    "    \"\"\"\n",
    "    A = l1\n",
    "    B = l2\n",
    "    tempA = \"\"\n",
    "    tempB = \"\"\n",
    "    \n",
    "    while A != None:\n",
    "        tempA += str(A.val)\n",
    "        A = A.next\n",
    "    \n",
    "    while B != None:\n",
    "        tempB += str(B.val)\n",
    "        B = B.next\n",
    "        \n",
    "    result = str(int(tempA)+int(tempB))\n",
    "    Res = dummy = ListNode(result[0])\n",
    "    \n",
    "    for i in range(1,len(result)):\n",
    "        temp = ListNode(result[i])\n",
    "        Res.next = temp\n",
    "        Res = Res.next\n",
    "\n",
    "    return dummy\n",
    "node1 = ListNode(7) \n",
    "node2 = ListNode(2) \n",
    "node3 = ListNode(4)\n",
    "node4 = ListNode(3)\n",
    "\n",
    "node1.next = node2\n",
    "node2.next = node3\n",
    "node3.next = node4 \n",
    "\n",
    "node5 = ListNode(5) \n",
    "node6 = ListNode(6) \n",
    "node7 = ListNode(4)\n",
    "\n",
    "node5.next = node6\n",
    "node6.next = node7\n",
    "\n",
    "addTwoNumbers(node1,node5)"
   ]
  },
  {
   "cell_type": "markdown",
   "metadata": {},
   "source": [
    "## 24. Swap Nodes in Pairs\n",
    "\n",
    "Given a linked list, swap every two adjacent nodes and return its head.\n",
    "\n",
    "Example:\n",
    "\n",
    "Given 1->2->3->4, you should return the list as 2->1->4->3.\n",
    "\n",
    "Note:\n",
    "\n",
    "Your algorithm should use only constant extra space.\n",
    "\n",
    "You may not modify the values in the list's nodes, only nodes itself may be changed.\n"
   ]
  },
  {
   "cell_type": "code",
   "execution_count": 20,
   "metadata": {},
   "outputs": [
    {
     "data": {
      "text/plain": [
       "<__main__.ListNode at 0x610a2b0>"
      ]
     },
     "execution_count": 20,
     "metadata": {},
     "output_type": "execute_result"
    }
   ],
   "source": [
    "class ListNode:\n",
    "    def __init__(self, x):\n",
    "        self.val = x\n",
    "        self.next = None\n",
    "\n",
    "\n",
    "def swapPairs(head):\n",
    "    \"\"\"\n",
    "    :type head: ListNode\n",
    "    :rtype: ListNode\n",
    "    \"\"\"\n",
    "    dummy = p = ListNode(0)\n",
    "    dummy.next = head\n",
    "    while head and head.next:\n",
    "        tmp = head.next\n",
    "        head.next = tmp.next\n",
    "        tmp.next = head\n",
    "        p.next = tmp\n",
    "        head = head.next\n",
    "        p = tmp.next\n",
    "        \n",
    "#     while head:\n",
    "#         print(dummy.val)\n",
    "#         head = head.next\n",
    "    \n",
    "    return dummy.next \n",
    "\n",
    "        \n",
    "node1 = ListNode(1) \n",
    "node2 = ListNode(2) \n",
    "node3 = ListNode(3)\n",
    "node4 = ListNode(4)\n",
    "\n",
    "node1.next = node2\n",
    "node2.next = node3\n",
    "node3.next = node4\n",
    "\n",
    "swapPairs(node1)"
   ]
  },
  {
   "cell_type": "markdown",
   "metadata": {},
   "source": [
    "## 19. Remove Nth Node From End of List\n",
    "\n",
    "Given a linked list, remove the n-th node from the end of list and return its head.\n",
    "\n",
    "Example:\n",
    "\n",
    "Given linked list: 1->2->3->4->5, and n = 2.\n",
    "\n",
    "After removing the second node from the end, the linked list becomes 1->2->3->5.\n",
    "\n",
    "Note:\n",
    "\n",
    "Given n will always be valid.\n",
    "\n",
    "Follow up:\n",
    "\n",
    "Could you do this in one pass?"
   ]
  },
  {
   "cell_type": "code",
   "execution_count": 28,
   "metadata": {},
   "outputs": [
    {
     "name": "stdout",
     "output_type": "stream",
     "text": [
      "1\n",
      "2\n",
      "3\n",
      "5\n"
     ]
    }
   ],
   "source": [
    "def removeNthFromEnd(head, n):\n",
    "    \"\"\"\n",
    "    :type head: ListNode\n",
    "    :type n: int\n",
    "    :rtype: ListNode\n",
    "    \"\"\"\n",
    "    A = head\n",
    "    while n > 0:\n",
    "        A = A.next\n",
    "        n -= 1\n",
    "    B = head\n",
    "    while A.next != None:\n",
    "        A = A.next\n",
    "        B = B.next\n",
    "    B.next = B.next.next\n",
    "\n",
    "    return head\n",
    "\n",
    "node1 = ListNode(1) \n",
    "node2 = ListNode(2) \n",
    "node3 = ListNode(3)\n",
    "node4 = ListNode(4)\n",
    "node5 = ListNode(5)\n",
    "node1.next = node2\n",
    "node2.next = node3\n",
    "node3.next = node4\n",
    "node4.next = node5\n",
    "\n",
    "n = 2\n",
    "removeNthFromEnd(node1,n)"
   ]
  },
  {
   "cell_type": "markdown",
   "metadata": {},
   "source": [
    "## 83. Remove Duplicates from Sorted List\n",
    "\n",
    "Given a sorted linked list, delete all duplicates such that each element appear only once.\n",
    "\n",
    "Example 1:\n",
    "\n",
    "Input: 1->1->2\n",
    "\n",
    "Output: 1->2\n",
    "\n",
    "Example 2:\n",
    "\n",
    "Input: 1->1->2->3->3\n",
    "\n",
    "Output: 1->2->3"
   ]
  },
  {
   "cell_type": "code",
   "execution_count": 25,
   "metadata": {},
   "outputs": [
    {
     "name": "stdout",
     "output_type": "stream",
     "text": [
      "1\n",
      "2\n"
     ]
    }
   ],
   "source": [
    "class ListNode:\n",
    "    def __init__(self, x):\n",
    "        self.val = x\n",
    "        self.next = None\n",
    "\n",
    "\n",
    "def deleteDuplicates(head):\n",
    "    \"\"\"\n",
    "    :type head: ListNode\n",
    "    :rtype: ListNode\n",
    "    \"\"\"\n",
    "    \n",
    "    if head is None:\n",
    "        return head\n",
    "    A = head\n",
    "    while A.next:\n",
    "        if A.val == A.next.val:\n",
    "            A.next = A.next.next\n",
    "        else:\n",
    "            A = A.next\n",
    "    return head    \n",
    "\n",
    "        \n",
    "node1 = ListNode(1) \n",
    "node2 = ListNode(1) \n",
    "node3 = ListNode(2)\n",
    "node4 = ListNode(3)\n",
    "node5 = ListNode(3)\n",
    "node1.next = node2\n",
    "node2.next = node3\n",
    "node3.next = node4\n",
    "node4.next = node5\n",
    "\n",
    "node1 = ListNode(1) \n",
    "node2 = ListNode(1) \n",
    "node3 = ListNode(2)\n",
    "\n",
    "node1.next = node2\n",
    "node2.next = node3\n",
    "\n",
    "\n",
    "deleteDuplicates(node1)"
   ]
  },
  {
   "cell_type": "markdown",
   "metadata": {},
   "source": [
    "## 21. Merge Two Sorted Lists\n",
    "\n",
    "Merge two sorted linked lists and return it as a new list. The new list should be made by splicing together the nodes of the first two lists.\n",
    "\n",
    "Example:\n",
    "\n",
    "Input: 1->2->4, 1->3->4\n",
    "    \n",
    "Output: 1->1->2->3->4->4"
   ]
  },
  {
   "cell_type": "code",
   "execution_count": null,
   "metadata": {},
   "outputs": [],
   "source": [
    "def mergeTwoLists(l1, l2):\n",
    "    dummy = curr = None\n",
    "    \n",
    "    while l1 and l2:\n",
    "        if l1.val < l2.val:\n",
    "            curr.next = l1\n",
    "            l1 = l1.next\n",
    "        else:\n",
    "            curr.next = l2\n",
    "            l2 = l2.next\n",
    "        curr = curr.next\n",
    "    if l1:\n",
    "        curr.next = l1\n",
    "    else:\n",
    "        curr.next = l2"
   ]
  },
  {
   "cell_type": "code",
   "execution_count": 1,
   "metadata": {},
   "outputs": [
    {
     "name": "stdout",
     "output_type": "stream",
     "text": [
      "0\n",
      "1\n",
      "1\n",
      "2\n",
      "3\n",
      "4\n"
     ]
    }
   ],
   "source": [
    "class ListNode:\n",
    "    def __init__(self, x):\n",
    "        self.val = x\n",
    "        self.next = None\n",
    "def mergeTwoLists(l1, l2):\n",
    "    \"\"\"\n",
    "    :type l1: ListNode\n",
    "    :type l2: ListNode\n",
    "    :rtype: ListNode\n",
    "    \"\"\"\n",
    "\n",
    "    dummy = curr = ListNode(0)\n",
    "    while l1 and l2:\n",
    "\n",
    "        if l1.val < l2.val:\n",
    "            curr.next = l1\n",
    "            l1 = l1.next\n",
    "        else:\n",
    "            curr.next = l2\n",
    "            l2 = l2.next\n",
    "        curr = curr.next\n",
    "    curr.next = l1 or l2\n",
    "    while dummy.next != None:\n",
    "        print(dummy.val)\n",
    "        dummy = dummy.next\n",
    "        \n",
    "    return dummy.next\n",
    "            \n",
    "            \n",
    "node1 = ListNode(1) \n",
    "node2 = ListNode(2) \n",
    "node3 = ListNode(4)\n",
    "node1.next = node2\n",
    "node2.next = node3\n",
    "\n",
    "node4 = ListNode(1) \n",
    "node5 = ListNode(3) \n",
    "node6 = ListNode(4)\n",
    "node4.next = node5\n",
    "node5.next = node6\n",
    "\n",
    "mergeTwoLists(node1, node4)"
   ]
  },
  {
   "cell_type": "markdown",
   "metadata": {},
   "source": [
    "## 206. Reverse Linked List\n",
    "\n",
    "Reverse a singly linked list.\n",
    "\n",
    "Example:\n",
    "\n",
    "Input: 1->2->3->4->5->NULL\n",
    "    \n",
    "Output: 5->4->3->2->1->NULL\n",
    "    \n",
    "Follow up:\n",
    "\n",
    "A linked list can be reversed either iteratively or recursively. Could you implement both?"
   ]
  },
  {
   "cell_type": "code",
   "execution_count": null,
   "metadata": {},
   "outputs": [],
   "source": [
    "class Solution:\n",
    "    def reverseList(self, head):\n",
    "        prev = None\n",
    "        \n",
    "        while head!= None:\n",
    "            current = head\n",
    "            head = head.next\n",
    "            current.next = prev\n",
    "            prev = current\n",
    "        return prev\n",
    "        "
   ]
  },
  {
   "cell_type": "code",
   "execution_count": null,
   "metadata": {
    "collapsed": true
   },
   "outputs": [],
   "source": [
    "class ListNode:\n",
    "    def __init__(self, x):\n",
    "        self.val = x\n",
    "        self.next = None\n",
    "\n",
    "class Solution:\n",
    "    def reverseList(self, head):\n",
    "        \"\"\"\n",
    "        :type head: ListNode\n",
    "        :rtype: ListNode\n",
    "        \"\"\"\n",
    "        prev = None\n",
    "        while head != None:\n",
    "            current = head\n",
    "            head = head.next\n",
    "            current.next = prev\n",
    "            prev = current\n",
    "        return prev"
   ]
  },
  {
   "cell_type": "markdown",
   "metadata": {},
   "source": [
    "## 160. Intersection of Two Linked Lists\n",
    "\n",
    "Write a program to find the node at which the intersection of two singly linked lists begins.\n",
    "\n",
    "\n",
    "For example, the following two linked lists:\n",
    "\n",
    "A:          a1 → a2\n",
    "\n",
    "                   ↘              \n",
    "                   \n",
    "                     c1 → c2 → c3                     \n",
    "                     \n",
    "                   ↗   \n",
    "                                      \n",
    "B:     b1 → b2 → b3\n",
    "\n",
    "\n",
    "begin to intersect at node c1.\n",
    "\n",
    "\n",
    "Notes:\n",
    "\n",
    "If the two linked lists have no intersection at all, return null.\n",
    "\n",
    "The linked lists must retain their original structure after the function returns.\n",
    "\n",
    "You may assume there are no cycles anywhere in the entire linked structure.\n",
    "\n",
    "Your code should preferably run in O(n) time and use only O(1) memory.\n"
   ]
  },
  {
   "cell_type": "code",
   "execution_count": null,
   "metadata": {},
   "outputs": [],
   "source": [
    "class Solution(object):\n",
    "    def getIntersectionNode(self, headA, headB):\n",
    "        \n",
    "        A = headA\n",
    "        B = headB\n",
    "        \n",
    "        while A!=B:\n",
    "            \n",
    "            if A.Next == None:\n",
    "                A.Next = B\n",
    "            if B.Next == None:\n",
    "                B.Next = A\n",
    "            if A == B:\n",
    "                return A\n",
    "            A = A.Next\n",
    "            B = B.Next"
   ]
  },
  {
   "cell_type": "code",
   "execution_count": null,
   "metadata": {
    "collapsed": true
   },
   "outputs": [],
   "source": [
    "class ListNode(object):\n",
    "    def __init__(self, x):\n",
    "        self.val = x\n",
    "        self.next = None\n",
    "        \n",
    "class Solution(object):        \n",
    "    def getIntersectionNode(self, headA, headB):\n",
    "        \"\"\"\n",
    "        :type head1, head1: ListNode\n",
    "        :rtype: ListNode\n",
    "        \"\"\"\n",
    "        ListNode A = headA\n",
    "        ListNode B = headB\n",
    "        \n",
    "        if ( headA == None or headB == None ):\n",
    "            return None\n",
    "        while(A != B):\n",
    "            if A.next == None:\n",
    "                A.next = B\n",
    "            if B.next == None:\n",
    "                B.next = A\n",
    "            A = A.next\n",
    "            B = B.next\n",
    "        \n",
    "        return A\n",
    "                \n",
    "        \n",
    "    "
   ]
  },
  {
   "cell_type": "markdown",
   "metadata": {},
   "source": [
    "## MATH\n"
   ]
  },
  {
   "cell_type": "markdown",
   "metadata": {},
   "source": [
    "## 628. Maximum Product of Three Numbers\n",
    "\n",
    "Given an integer array, find three numbers whose product is maximum and output the maximum product.\n",
    "\n",
    "Example 1:\n",
    "\n",
    "Input: [1,2,3]\n",
    "\n",
    "Output: 6\n",
    "\n",
    "Example 2:\n",
    "\n",
    "Input: [1,2,3,4]\n",
    "\n",
    "Output: 24\n",
    "\n",
    "Note:\n",
    "\n",
    "The length of the given array will be in range [3,104] and all elements are in the range [-1000, 1000].\n",
    "\n",
    "Multiplication of any three numbers in the input won't exceed the range of 32-bit signed integer."
   ]
  },
  {
   "cell_type": "code",
   "execution_count": 41,
   "metadata": {},
   "outputs": [
    {
     "name": "stdout",
     "output_type": "stream",
     "text": [
      "[-976, -948, -939, -930, -902, -890, -859, -851, -850, -837, -822, -819, -787, -766, -749, -732, -710, -686, -651, -644, -640, -563, -512, -509, -462, -459, -412, -385, -366, -350, -333, -329, -324, -316, -307, -287, -219, -207, -206, -186, -182, -169, -159, -147, -118, -107, -94, -88, -73, -60, -60, -20, -14, -13, 62, 87, 93, 107, 115, 127, 143, 150, 160, 161, 202, 278, 280, 303, 309, 338, 371, 404, 451, 459, 509, 516, 525, 532, 532, 611, 657, 683, 689, 694, 718, 721, 771, 826, 836, 844, 870, 878, 893, 904, 904, 908, 969, 989, 990, 993]\n"
     ]
    },
    {
     "data": {
      "text/plain": [
       "972256230"
      ]
     },
     "execution_count": 41,
     "metadata": {},
     "output_type": "execute_result"
    }
   ],
   "source": [
    "def maximumProduct(nums):\n",
    "    \"\"\"\n",
    "    :type nums: List[int]\n",
    "    :rtype: int\n",
    "    \"\"\"\n",
    "    nums.sort()\n",
    "    print(nums)\n",
    "\n",
    "    return max(nums[0]*nums[1]*nums[-1],nums[-1]*nums[-2]*nums[-3])\n",
    "\n",
    "Input = [-4,-3,-2,-1,60]\n",
    "Input = [-710,-107,-851,657,-14,-859,278,-182,-749,718,-640,127,-930,-462,694,969,143,309,904,-651,160,451,-159,-316,844,-60,611,-169,-73,721,-902,338,-20,-890,-819,-644,107,404,150,-219,459,-324,-385,-118,-307,993,202,-147,62,-94,-976,-329,689,870,532,-686,371,-850,-186,87,878,989,-822,-350,-948,-412,161,-88,-509,836,-207,-60,771,516,-287,-366,-512,509,904,-459,683,-563,-766,-837,-333,93,893,303,908,532,-206,990,280,826,-13,115,-732,525,-939,-787]\n",
    "\n",
    "maximumProduct(Input)"
   ]
  },
  {
   "cell_type": "markdown",
   "metadata": {},
   "source": [
    "## 238. Product of Array Except Self\n",
    "\n",
    "Given an array nums of n integers where n > 1,  return an array output such that output[i] is equal to the product of all the elements of nums except nums[i].\n",
    "\n",
    "Example:\n",
    "\n",
    "Input:  [1,2,3,4]\n",
    "    \n",
    "Output: [24,12,8,6]\n",
    "    \n",
    "Note: Please solve it without division and in O(n).\n",
    "\n",
    "Follow up:\n",
    "    \n",
    "Could you solve it with constant space complexity? (The output array does not count as extra space for the purpose of space complexity analysis.)"
   ]
  },
  {
   "cell_type": "code",
   "execution_count": 35,
   "metadata": {},
   "outputs": [
    {
     "name": "stdout",
     "output_type": "stream",
     "text": [
      "[1, 1, 2, 6] 24\n",
      "4 4 3\n",
      "\n",
      "[1, 1, 2, 6]\n",
      "12 3 2\n",
      "\n",
      "[1, 1, 8, 6]\n",
      "24 2 1\n",
      "\n",
      "[1, 12, 8, 6]\n",
      "24 1 0\n",
      "\n",
      "[24, 12, 8, 6]\n"
     ]
    }
   ],
   "source": [
    "def productExceptSelf(nums):\n",
    "    \"\"\"\n",
    "    :type nums: List[int]\n",
    "    :rtype: List[int]\n",
    "    \"\"\"\n",
    "    result = []\n",
    "    p = 1\n",
    "    num_length = len(nums)\n",
    "    for i in range(len(nums)):\n",
    "        result.append(p)\n",
    "        p *= nums[i]\n",
    "    print(result, p)\n",
    "    \n",
    "    p = 1\n",
    "    for i in range(num_length-1,-1,-1):\n",
    "        result[i] = result[i] * p\n",
    "        p *= nums[i]\n",
    "        print(p,nums[i],i)\n",
    "        print()\n",
    "        print(result)\n",
    "#     result = [0] * len(nums)\n",
    "#     for i in range(len(nums)):\n",
    "#         temp = 1\n",
    "#         for j in range(len(nums)):\n",
    "#             if i != j :\n",
    "#                 temp *= nums[j]\n",
    "#         result[i] = temp\n",
    "#     return result\n",
    "\n",
    "Input = [1,2,3,4]\n",
    "productExceptSelf(Input)"
   ]
  },
  {
   "cell_type": "markdown",
   "metadata": {},
   "source": [
    "## 367. Valid Perfect Square\n",
    "\n",
    "Given a positive integer num, write a function which returns True if num is a perfect square else False.\n",
    "\n",
    "Note: Do not use any built-in library function such as sqrt.\n",
    "\n",
    "Example 1:\n",
    "\n",
    "Input: 16\n",
    "\n",
    "Output: true\n",
    "\n",
    "Example 2:\n",
    "\n",
    "Input: 14\n",
    "\n",
    "Output: false"
   ]
  },
  {
   "cell_type": "code",
   "execution_count": 20,
   "metadata": {},
   "outputs": [
    {
     "data": {
      "text/plain": [
       "False"
      ]
     },
     "execution_count": 20,
     "metadata": {},
     "output_type": "execute_result"
    }
   ],
   "source": [
    "import math\n",
    "def isPerfectSquare(num):\n",
    "    \"\"\"\n",
    "    :type num: int\n",
    "    :rtype: bool\n",
    "    \"\"\"\n",
    "\n",
    "    return True if num == (int(num**0.5)**2) else False\n",
    "\n",
    "Input = 14\n",
    "isPerfectSquare(Input)"
   ]
  },
  {
   "cell_type": "markdown",
   "metadata": {},
   "source": [
    "## 462. Minimum Moves to Equal Array Elements II\n",
    "\n",
    "Given a non-empty integer array, find the minimum number of moves required to make all array elements equal, where a move is incrementing a selected element by 1 or decrementing a selected element by 1.\n",
    "\n",
    "You may assume the array's length is at most 10,000.\n",
    "\n",
    "Example:\n",
    "\n",
    "Input:\n",
    "    \n",
    "[1,2,3]\n",
    "\n",
    "Output:\n",
    "2\n",
    "\n",
    "Explanation:\n",
    "    \n",
    "Only two moves are needed (remember each move increments or decrements one element):\n",
    "\n",
    "[1,2,3]  =>  [2,2,3]  =>  [2,2,2]"
   ]
  },
  {
   "cell_type": "code",
   "execution_count": 66,
   "metadata": {},
   "outputs": [
    {
     "data": {
      "text/plain": [
       "14"
      ]
     },
     "execution_count": 66,
     "metadata": {},
     "output_type": "execute_result"
    }
   ],
   "source": [
    "from collections import Counter\n",
    "def minMoves2(nums):\n",
    "    \"\"\"\n",
    "    :type nums: List[int]\n",
    "    :rtype: int\n",
    "    \"\"\"\n",
    "    median = sorted(nums)[int(len(nums)/2)]\n",
    "    return sum(abs(num-median) for num in nums)\n",
    "#     for i in range(len(uni))\n",
    "#         res.append(res)\n",
    "# Input = [1,2,3]\n",
    "Input = [1,0,0,8,6]\n",
    "minMoves2(Input)"
   ]
  },
  {
   "cell_type": "markdown",
   "metadata": {},
   "source": [
    "## 415. Add Strings\n",
    "\n",
    "Given two non-negative integers num1 and num2 represented as string, return the sum of num1 and num2.\n",
    "\n",
    "Note:\n",
    "\n",
    "The length of both num1 and num2 is < 5100.\n",
    "\n",
    "Both num1 and num2 contains only digits 0-9.\n",
    "\n",
    "Both num1 and num2 does not contain any leading zero.\n",
    "\n",
    "You must not use any built-in BigInteger library or convert the inputs to integer directly."
   ]
  },
  {
   "cell_type": "code",
   "execution_count": 6,
   "metadata": {},
   "outputs": [
    {
     "data": {
      "text/plain": [
       "'125'"
      ]
     },
     "execution_count": 6,
     "metadata": {},
     "output_type": "execute_result"
    }
   ],
   "source": [
    "def addStrings(num1, num2):\n",
    "    \"\"\"\n",
    "    :type num1: str\n",
    "    :type num2: str\n",
    "    :rtype: str\n",
    "    \"\"\"\n",
    "    num1, num2 = list(num1), list(num2)\n",
    "    carry, result = 0, []\n",
    "    while len(num2) > 0 or len(num1) > 0:\n",
    "        n1 = ord(num1.pop())-ord('0') if len(num1) > 0 else 0\n",
    "        n2 = ord(num2.pop())-ord('0') if len(num2) > 0 else 0\n",
    "        temp = n1 + n2 + carry \n",
    "        result.append(temp % 10)\n",
    "        carry = temp // 10\n",
    "    if carry: result.append(carry)\n",
    "    return ''.join([str(i) for i in result])[::-1]\n",
    "\n",
    "A = '123'\n",
    "B = '2'\n",
    "addStrings(A,B)"
   ]
  },
  {
   "cell_type": "markdown",
   "metadata": {},
   "source": [
    "## 67. Add Binary\n",
    "Given two binary strings, return their sum (also a binary string).\n",
    "\n",
    "The input strings are both non-empty and contains only characters 1 or 0.\n",
    "\n",
    "Example 1:\n",
    "\n",
    "Input: a = \"11\", b = \"1\"\n",
    "Output: \"100\"\n",
    "Example 2:\n",
    "\n",
    "Input: a = \"1010\", b = \"1011\"\n",
    "Output: \"10101\""
   ]
  },
  {
   "cell_type": "code",
   "execution_count": 1,
   "metadata": {},
   "outputs": [
    {
     "data": {
      "text/plain": [
       "'100'"
      ]
     },
     "execution_count": 1,
     "metadata": {},
     "output_type": "execute_result"
    }
   ],
   "source": [
    "def addBinary(a, b):\n",
    "    \"\"\"\n",
    "    :type a: str\n",
    "    :type b: str\n",
    "    :rtype: str\n",
    "    \"\"\"\n",
    "    if len(a)==0: return b\n",
    "    if len(b)==0: return a\n",
    "    if a[-1] == '1' and b[-1] == '1':\n",
    "        return addBinary(addBinary(a[0:-1],b[0:-1]),'1')+'0'\n",
    "    if a[-1] == '0' and b[-1] == '0':\n",
    "        return addBinary(a[0:-1],b[0:-1])+'0'\n",
    "    else:\n",
    "        return addBinary(a[0:-1],b[0:-1])+'1'\n",
    "\n",
    "InputA, InputB = \"11\", \"1\" \n",
    "addBinary(InputA,InputB)"
   ]
  },
  {
   "cell_type": "markdown",
   "metadata": {},
   "source": [
    "## 172. Factorial Trailing Zeroes\n",
    "\n",
    "Given an integer n, return the number of trailing zeroes in n!.\n",
    "\n",
    "Example 1:\n",
    "\n",
    "Input: 3\n",
    "\n",
    "Output: 0\n",
    "\n",
    "Explanation: 3! = 6, no trailing zero.\n",
    "\n",
    "Example 2:\n",
    "\n",
    "Input: 5\n",
    "\n",
    "Output: 1\n",
    "\n",
    "Explanation: 5! = 120, one trailing zero.\n",
    "\n",
    "Note: Your solution should be in logarithmic time complexity."
   ]
  },
  {
   "cell_type": "code",
   "execution_count": 95,
   "metadata": {},
   "outputs": [
    {
     "data": {
      "text/plain": [
       "0"
      ]
     },
     "execution_count": 95,
     "metadata": {},
     "output_type": "execute_result"
    }
   ],
   "source": [
    "import math\n",
    "def trailingZeroes(n):\n",
    "    \"\"\"\n",
    "    :type n: int\n",
    "    :rtype: int\n",
    "    \"\"\"\n",
    "    return 0 if n < 5 else n/5 + self.trailingZeroes(n/5)\n",
    "#     result = 1\n",
    "#     for i in range(1,n+1):\n",
    "#         result *= i\n",
    "\n",
    "#     count = 0\n",
    "#     while result % 10 == 0:\n",
    "#         result = int(result/10)\n",
    "#         count += 1\n",
    "#     return count\n",
    "\n",
    "Input = 4\n",
    "trailingZeroes(Input)\n",
    "        "
   ]
  },
  {
   "cell_type": "markdown",
   "metadata": {},
   "source": [
    "## 168. Excel Sheet Column Title\n",
    "\n",
    "Given a positive integer, return its corresponding column title as appear in an Excel sheet.\n",
    "\n",
    "For example:\n",
    "\n",
    "    1 -> A\n",
    "    \n",
    "    2 -> B\n",
    "    \n",
    "    3 -> C\n",
    "    \n",
    "    ...\n",
    "    \n",
    "    26 -> Z\n",
    "    \n",
    "    27 -> AA\n",
    "    \n",
    "    28 -> AB \n",
    "    \n",
    "    ...\n",
    "    \n",
    "Example 1:\n",
    "\n",
    "Input: 1\n",
    "\n",
    "Output: \"A\"\n",
    "\n",
    "Example 2:\n",
    "\n",
    "Input: 28\n",
    "\n",
    "Output: \"AB\"\n",
    "\n",
    "Example 3:\n",
    "\n",
    "Input: 701\n",
    "\n",
    "Output: \"ZY\""
   ]
  },
  {
   "cell_type": "code",
   "execution_count": 85,
   "metadata": {},
   "outputs": [
    {
     "ename": "RecursionError",
     "evalue": "maximum recursion depth exceeded in comparison",
     "output_type": "error",
     "traceback": [
      "\u001b[1;31m---------------------------------------------------------------------------\u001b[0m",
      "\u001b[1;31mRecursionError\u001b[0m                            Traceback (most recent call last)",
      "\u001b[1;32m<ipython-input-85-83d41ebd6e68>\u001b[0m in \u001b[0;36m<module>\u001b[1;34m()\u001b[0m\n\u001b[0;32m      7\u001b[0m \u001b[1;33m\u001b[0m\u001b[0m\n\u001b[0;32m      8\u001b[0m \u001b[0mInput\u001b[0m \u001b[1;33m=\u001b[0m \u001b[1;36m701\u001b[0m\u001b[1;33m\u001b[0m\u001b[0m\n\u001b[1;32m----> 9\u001b[1;33m \u001b[0mconvertToTitle\u001b[0m\u001b[1;33m(\u001b[0m\u001b[0mInput\u001b[0m\u001b[1;33m)\u001b[0m\u001b[1;33m\u001b[0m\u001b[0m\n\u001b[0m",
      "\u001b[1;32m<ipython-input-85-83d41ebd6e68>\u001b[0m in \u001b[0;36mconvertToTitle\u001b[1;34m(n)\u001b[0m\n\u001b[0;32m      4\u001b[0m     \u001b[1;33m:\u001b[0m\u001b[0mrtype\u001b[0m\u001b[1;33m:\u001b[0m \u001b[0mstr\u001b[0m\u001b[1;33m\u001b[0m\u001b[0m\n\u001b[0;32m      5\u001b[0m     \"\"\"\n\u001b[1;32m----> 6\u001b[1;33m     \u001b[1;32mreturn\u001b[0m \u001b[1;34m\"\"\u001b[0m \u001b[1;32mif\u001b[0m \u001b[0mn\u001b[0m \u001b[1;33m==\u001b[0m \u001b[1;36m0\u001b[0m \u001b[1;32melse\u001b[0m \u001b[0mconvertToTitle\u001b[0m\u001b[1;33m(\u001b[0m\u001b[1;33m(\u001b[0m\u001b[0mn\u001b[0m \u001b[1;33m-\u001b[0m \u001b[1;36m1\u001b[0m\u001b[1;33m)\u001b[0m \u001b[1;33m/\u001b[0m \u001b[1;36m26\u001b[0m\u001b[1;33m)\u001b[0m \u001b[1;33m+\u001b[0m \u001b[0mchr\u001b[0m\u001b[1;33m(\u001b[0m\u001b[1;33m(\u001b[0m\u001b[0mn\u001b[0m \u001b[1;33m-\u001b[0m \u001b[1;36m1\u001b[0m\u001b[1;33m)\u001b[0m \u001b[1;33m%\u001b[0m \u001b[1;36m26\u001b[0m \u001b[1;33m+\u001b[0m \u001b[0mord\u001b[0m\u001b[1;33m(\u001b[0m\u001b[1;34m'A'\u001b[0m\u001b[1;33m)\u001b[0m\u001b[1;33m)\u001b[0m\u001b[1;33m\u001b[0m\u001b[0m\n\u001b[0m\u001b[0;32m      7\u001b[0m \u001b[1;33m\u001b[0m\u001b[0m\n\u001b[0;32m      8\u001b[0m \u001b[0mInput\u001b[0m \u001b[1;33m=\u001b[0m \u001b[1;36m701\u001b[0m\u001b[1;33m\u001b[0m\u001b[0m\n",
      "... last 1 frames repeated, from the frame below ...\n",
      "\u001b[1;32m<ipython-input-85-83d41ebd6e68>\u001b[0m in \u001b[0;36mconvertToTitle\u001b[1;34m(n)\u001b[0m\n\u001b[0;32m      4\u001b[0m     \u001b[1;33m:\u001b[0m\u001b[0mrtype\u001b[0m\u001b[1;33m:\u001b[0m \u001b[0mstr\u001b[0m\u001b[1;33m\u001b[0m\u001b[0m\n\u001b[0;32m      5\u001b[0m     \"\"\"\n\u001b[1;32m----> 6\u001b[1;33m     \u001b[1;32mreturn\u001b[0m \u001b[1;34m\"\"\u001b[0m \u001b[1;32mif\u001b[0m \u001b[0mn\u001b[0m \u001b[1;33m==\u001b[0m \u001b[1;36m0\u001b[0m \u001b[1;32melse\u001b[0m \u001b[0mconvertToTitle\u001b[0m\u001b[1;33m(\u001b[0m\u001b[1;33m(\u001b[0m\u001b[0mn\u001b[0m \u001b[1;33m-\u001b[0m \u001b[1;36m1\u001b[0m\u001b[1;33m)\u001b[0m \u001b[1;33m/\u001b[0m \u001b[1;36m26\u001b[0m\u001b[1;33m)\u001b[0m \u001b[1;33m+\u001b[0m \u001b[0mchr\u001b[0m\u001b[1;33m(\u001b[0m\u001b[1;33m(\u001b[0m\u001b[0mn\u001b[0m \u001b[1;33m-\u001b[0m \u001b[1;36m1\u001b[0m\u001b[1;33m)\u001b[0m \u001b[1;33m%\u001b[0m \u001b[1;36m26\u001b[0m \u001b[1;33m+\u001b[0m \u001b[0mord\u001b[0m\u001b[1;33m(\u001b[0m\u001b[1;34m'A'\u001b[0m\u001b[1;33m)\u001b[0m\u001b[1;33m)\u001b[0m\u001b[1;33m\u001b[0m\u001b[0m\n\u001b[0m\u001b[0;32m      7\u001b[0m \u001b[1;33m\u001b[0m\u001b[0m\n\u001b[0;32m      8\u001b[0m \u001b[0mInput\u001b[0m \u001b[1;33m=\u001b[0m \u001b[1;36m701\u001b[0m\u001b[1;33m\u001b[0m\u001b[0m\n",
      "\u001b[1;31mRecursionError\u001b[0m: maximum recursion depth exceeded in comparison"
     ]
    }
   ],
   "source": [
    "def convertToTitle(self, num):\n",
    "    capitals = [chr(x) for x in range(ord('A'), ord('Z')+1)]\n",
    "    result = []\n",
    "    while num > 0:\n",
    "        result.append(capitals[(num-1)%26])\n",
    "        num = (num-1) // 26\n",
    "    result.reverse()\n",
    "    return ''.join(result)\n",
    "\n",
    "Input = 701\n",
    "convertToTitle(Input)"
   ]
  },
  {
   "cell_type": "markdown",
   "metadata": {},
   "source": [
    "## 405. Convert a Number to Hexadecimal\n",
    "\n",
    "Given an integer, write an algorithm to convert it to hexadecimal. For negative integer, two’s complement method is used.\n",
    "\n",
    "Note:\n",
    "\n",
    "All letters in hexadecimal (a-f) must be in lowercase.\n",
    "The hexadecimal string must not contain extra leading 0s. If the number is zero, it is represented by a single zero character '0'; otherwise, the first character in the hexadecimal string will not be the zero character.\n",
    "The given number is guaranteed to fit within the range of a 32-bit signed integer.\n",
    "You must not use any method provided by the library which converts/formats the number to hex directly.\n",
    "\n",
    "Example 1:\n",
    "\n",
    "Input:\n",
    "    \n",
    "26\n",
    "\n",
    "Output:\n",
    "    \n",
    "\"1a\"\n",
    "\n",
    "Example 2:\n",
    "\n",
    "Input:\n",
    "    \n",
    "-1\n",
    "\n",
    "Output:\n",
    "    \n",
    "\"ffffffff\""
   ]
  },
  {
   "cell_type": "code",
   "execution_count": 15,
   "metadata": {},
   "outputs": [
    {
     "data": {
      "text/plain": [
       "'10'"
      ]
     },
     "execution_count": 15,
     "metadata": {},
     "output_type": "execute_result"
    }
   ],
   "source": [
    "def toHex(num):\n",
    "    \"\"\"\n",
    "    :type num: int\n",
    "    :rtype: str\n",
    "    \"\"\"\n",
    "    result = []\n",
    "    dic = {0:\"0\",1:\"1\",2:\"2\",3:\"3\",4:\"4\",5:\"5\",6:\"6\",7:\"7\",8:\"8\",9:\"9\",10:\"a\", 11:\"b\", 12:\"c\", 13:\"d\", 14:\"e\", 15:\"f\"}\n",
    "    if num == 0:\n",
    "        return \"0\"\n",
    "    if num < 0:\n",
    "        num = num + 2**32\n",
    "\n",
    "    while num > 0:\n",
    "        digit = num % 16\n",
    "        num = (num-digit)/16\n",
    "        if  digit < 16:\n",
    "            digit = dic[digit]\n",
    "        else:\n",
    "            digit = str(digit)\n",
    "        result.append(digit)\n",
    "    return \"\".join(result[::-1])\n",
    "\n",
    "Input = 16\n",
    "toHex(Input)"
   ]
  },
  {
   "cell_type": "markdown",
   "metadata": {},
   "source": [
    "## 504. Base 7\n",
    "\n",
    "Given an integer, return its base 7 string representation.\n",
    "\n",
    "Example 1:\n",
    "\n",
    "Input: 100\n",
    "\n",
    "Output: \"202\"\n",
    "\n",
    "Example 2:\n",
    "\n",
    "Input: -7\n",
    "\n",
    "Output: \"-10\"\n",
    "\n",
    "Note: The input will be in range of [-1e7, 1e7]."
   ]
  },
  {
   "cell_type": "code",
   "execution_count": 60,
   "metadata": {},
   "outputs": [
    {
     "data": {
      "text/plain": [
       "'202'"
      ]
     },
     "execution_count": 60,
     "metadata": {},
     "output_type": "execute_result"
    }
   ],
   "source": [
    "def convertToBase7(num):\n",
    "    \"\"\"\n",
    "    :type num: int\n",
    "    :rtype: str\n",
    "    \"\"\"\n",
    "    \n",
    "    def base(num,result):\n",
    "        if num >= 7:\n",
    "            a = int(num/7)\n",
    "            b = num%7\n",
    "            result = base(a,result)\n",
    "            result+=(str(b))\n",
    "            \n",
    "        else:\n",
    "            result+=str(num)\n",
    "        return result\n",
    "    if num >= 0:\n",
    "        result = \"\"\n",
    "    else: \n",
    "        result = \"-\"\n",
    "    result = base(abs(num),result)\n",
    "    return result\n",
    "\n",
    "Input = 100\n",
    "convertToBase7(Input)\n",
    "        "
   ]
  },
  {
   "cell_type": "markdown",
   "metadata": {},
   "source": [
    "## 204. Count Primes\n",
    "\n",
    "Count the number of prime numbers less than a non-negative number, n.\n",
    "\n",
    "Example:\n",
    "\n",
    "Input: 10\n",
    "    \n",
    "Output: 4\n",
    "    \n",
    "Explanation: There are 4 prime numbers less than 10, they are 2, 3, 5, 7."
   ]
  },
  {
   "cell_type": "code",
   "execution_count": 43,
   "metadata": {},
   "outputs": [
    {
     "data": {
      "text/plain": [
       "41537"
      ]
     },
     "execution_count": 43,
     "metadata": {},
     "output_type": "execute_result"
    }
   ],
   "source": [
    "def countPrimes(n):\n",
    "    \"\"\"\n",
    "    :type n: int\n",
    "    :rtype: int\n",
    "    \"\"\"\n",
    "    if n <= 2 :\n",
    "        return 0\n",
    "\n",
    "    \n",
    "    primes = [True] * n\n",
    "    primes[0] = primes[1] = False\n",
    "    count = 0\n",
    "    for i in range(2,int(n ** 0.5) + 1):\n",
    "        if primes[i]:\n",
    "            primes[i * i: n: i] = [False] * len(primes[i * i: n: i])\n",
    "    return sum(primes)\n",
    "\n",
    "Input = 499979\n",
    "countPrimes(Input)"
   ]
  },
  {
   "cell_type": "markdown",
   "metadata": {},
   "source": [
    "## 0/1 backpack"
   ]
  },
  {
   "cell_type": "markdown",
   "metadata": {},
   "source": [
    "## 650. 2 Keys Keyboard\n",
    "\n",
    "Initially on a notepad only one character 'A' is present. You can perform two operations on this notepad for each step:\n",
    "\n",
    "Copy All: You can copy all the characters present on the notepad (partial copy is not allowed).\n",
    "Paste: You can paste the characters which are copied last time.\n",
    "Given a number n. You have to get exactly n 'A' on the notepad by performing the minimum number of steps permitted. Output the minimum number of steps to get n 'A'.\n",
    "\n",
    "Example 1:\n",
    "\n",
    "Input: 3\n",
    "\n",
    "Output: 3\n",
    "\n",
    "Explanation:\n",
    "\n",
    "Intitally, we have one character 'A'.\n",
    "\n",
    "In step 1, we use Copy All operation.\n",
    "\n",
    "In step 2, we use Paste operation to get 'AA'.\n",
    "\n",
    "In step 3, we use Paste operation to get 'AAA'.\n",
    "\n",
    "Note:\n",
    "\n",
    "The n will be in the range [1, 1000]."
   ]
  },
  {
   "cell_type": "code",
   "execution_count": 33,
   "metadata": {},
   "outputs": [
    {
     "data": {
      "text/plain": [
       "6"
      ]
     },
     "execution_count": 33,
     "metadata": {},
     "output_type": "execute_result"
    }
   ],
   "source": [
    "import math\n",
    "def minSteps(n):\n",
    "    \"\"\"\n",
    "    :type n: int\n",
    "    :rtype: int\n",
    "    \"\"\"\n",
    "    def factors(n):\n",
    "        d = 2\n",
    "        while d * d <= n:\n",
    "            while n % d == 0:\n",
    "                n /= d\n",
    "                yield d\n",
    "            d += 1\n",
    "        if n > 1:\n",
    "            yield n\n",
    "\n",
    "    return sum(factors(n))\n",
    "Input = 9\n",
    "minSteps(Input)"
   ]
  },
  {
   "cell_type": "markdown",
   "metadata": {},
   "source": [
    "## 583. Delete Operation for Two Strings\n",
    "\n",
    "Given two words word1 and word2, find the minimum number of steps required to make word1 and word2 the same, where in each step you can delete one character in either string.\n",
    "\n",
    "Example 1:\n",
    "\n",
    "Input: \"sea\", \"eat\"\n",
    "\n",
    "Output: 2\n",
    "\n",
    "Explanation: You need one step to make \"sea\" to \"ea\" and another step to make \"eat\" to \"ea\".\n",
    "\n",
    "Note:\n",
    "\n",
    "The length of given words won't exceed 500.\n",
    "\n",
    "Characters in given words can only be lower-case letters."
   ]
  },
  {
   "cell_type": "code",
   "execution_count": null,
   "metadata": {
    "collapsed": true
   },
   "outputs": [],
   "source": [
    "def minDistance(word1, word2):\n",
    "    \"\"\"\n",
    "    :type word1: str\n",
    "    :type word2: str\n",
    "    :rtype: int\n",
    "    \"\"\"\n",
    "    for i in range(len(word1)):\n",
    "        \n",
    "    "
   ]
  },
  {
   "cell_type": "markdown",
   "metadata": {},
   "source": [
    "## 309. Best Time to Buy and Sell Stock with Cooldown\n",
    "\n",
    "Say you have an array for which the ith element is the price of a given stock on day i.\n",
    "\n",
    "Design an algorithm to find the maximum profit. You may complete as many transactions as you like (ie, buy one and sell one\n",
    "\n",
    "share of the stock multiple times) with the following restrictions:\n",
    "\n",
    "You may not engage in multiple transactions at the same time (ie, you must sell the stock before you buy again).\n",
    "After you sell your stock, you cannot buy stock on next day. (ie, cooldown 1 day)\n",
    "\n",
    "Example:\n",
    "\n",
    "Input: [1,2,3,0,2]\n",
    "\n",
    "Output: 3 \n",
    "\n",
    "Explanation: transactions = [buy, sell, cooldown, buy, sell]"
   ]
  },
  {
   "cell_type": "code",
   "execution_count": 4,
   "metadata": {},
   "outputs": [
    {
     "data": {
      "text/plain": [
       "3"
      ]
     },
     "execution_count": 4,
     "metadata": {},
     "output_type": "execute_result"
    }
   ],
   "source": [
    "def maxProfit(prices):\n",
    "    \"\"\"\n",
    "    :type prices: List[int]\n",
    "    :rtype: int\n",
    "    \"\"\"\n",
    "    buy = -prices[0]\n",
    "    sell = 0\n",
    "    prev_sell = 0\n",
    "    previous_buy = 0\n",
    "    for price in prices:\n",
    "        previous_buy = buy\n",
    "        buy = max(prev_sell - price, previous_buy)\n",
    "        prev_sell = sell\n",
    "        sell = max(previous_buy + price, prev_sell)\n",
    "    return sell\n",
    "\n",
    "Input = [1,2,3,0,2]\n",
    "maxProfit(Input)"
   ]
  },
  {
   "cell_type": "markdown",
   "metadata": {},
   "source": [
    "## 377. Combination Sum IV\n",
    "\n",
    "Given an integer array with all positive numbers and no duplicates, find the number of possible combinations that add up to a positive integer target.\n",
    "\n",
    "Example:\n",
    "\n",
    "nums = [1, 2, 3]\n",
    "\n",
    "target = 4\n",
    "\n",
    "The possible combination ways are:\n",
    "\n",
    "(1, 1, 1, 1)\n",
    "\n",
    "(1, 1, 2)\n",
    "\n",
    "(1, 2, 1)\n",
    "\n",
    "(1, 3)\n",
    "\n",
    "(2, 1, 1)\n",
    "\n",
    "(2, 2)\n",
    "\n",
    "(3, 1)\n",
    "\n",
    "Note that different sequences are counted as different combinations.\n",
    "\n",
    "Therefore the output is 7."
   ]
  },
  {
   "cell_type": "code",
   "execution_count": 60,
   "metadata": {},
   "outputs": [
    {
     "data": {
      "text/plain": [
       "1"
      ]
     },
     "execution_count": 60,
     "metadata": {},
     "output_type": "execute_result"
    }
   ],
   "source": [
    "def combinationSum4(nums, target):\n",
    "    \"\"\"\n",
    "    :type nums: List[int]\n",
    "    :type target: int\n",
    "    :rtype: int\n",
    "    \"\"\"\n",
    "    if not nums:\n",
    "        return 0\n",
    "    if target == 0:\n",
    "        return 1\n",
    "    nums.sort()\n",
    "    dp = [0] * (target+1)\n",
    "    dp[0] = 1\n",
    "    for i in range(1,target+1):\n",
    "        for n in nums:\n",
    "            if i >= n:\n",
    "                dp[i] += dp[i-n]\n",
    "    return dp[target]\n",
    "    \n",
    "# nums = [1, 2, 3]\n",
    "\n",
    "# target = 7\n",
    "\n",
    "nums = [1, 2, 3]\n",
    "\n",
    "target = 0\n",
    "\n",
    "combinationSum4(nums,target)"
   ]
  },
  {
   "cell_type": "markdown",
   "metadata": {},
   "source": [
    "## 322. Coin Change\n",
    "\n",
    "You are given coins of different denominations and a total amount of money amount. \n",
    "Write a function to compute the ## fewest number of coins that you need to make up that amount. \n",
    "If that amount of money cannot be made up by any combination of the coins, return -1.\n",
    "\n",
    "Example 1:\n",
    "\n",
    "Input: coins = [1, 2, 5], amount = 11\n",
    "    \n",
    "Output: 3 \n",
    "    \n",
    "Explanation: 11 = 5 + 5 + 1\n",
    "    \n",
    "Example 2:\n",
    "\n",
    "Input: coins = [2], amount = 3\n",
    "    \n",
    "Output: -1"
   ]
  },
  {
   "cell_type": "code",
   "execution_count": 44,
   "metadata": {},
   "outputs": [
    {
     "data": {
      "text/plain": [
       "20"
      ]
     },
     "execution_count": 44,
     "metadata": {},
     "output_type": "execute_result"
    }
   ],
   "source": [
    "def coinChange(coins, amount):\n",
    "    \"\"\"\n",
    "    :type coins: List[int]\n",
    "    :type amount: int\n",
    "    :rtype: int\n",
    "    \"\"\"\n",
    "    coins.sort()\n",
    "    dp = [amount+1] * ((amount)+1)\n",
    "    dp[0] = 0\n",
    "    for i in range(1,amount+1):\n",
    "        for c in coins:\n",
    "            if c <= i:\n",
    "                dp[i] = min(dp[i],dp[i-c]+1)\n",
    "\n",
    "    if dp[amount] == amount+1:\n",
    "        return -1\n",
    "    else:\n",
    "        return dp[-1]\n",
    "    \n",
    "# coins = [1, 2, 5]\n",
    "# amount = 11\n",
    "\n",
    "coins = [186,419,83,408]\n",
    "amount = 6249\n",
    "coinChange(coins, amount)"
   ]
  },
  {
   "cell_type": "markdown",
   "metadata": {},
   "source": [
    "## 139. Word Break\n",
    "Given a non-empty string s and a dictionary wordDict containing a list of non-empty words, determine if s can be segmented into a space-separated sequence of one or more dictionary words.\n",
    "\n",
    "Note:\n",
    "\n",
    "The same word in the dictionary may be reused multiple times in the segmentation.\n",
    "You may assume the dictionary does not contain duplicate words.\n",
    "\n",
    "Example 1:\n",
    "\n",
    "Input: s = \"leetcode\", wordDict = [\"leet\", \"code\"]\n",
    "\n",
    "Output: true\n",
    "\n",
    "Explanation: Return true because \"leetcode\" can be segmented as \"leet code\".\n",
    "\n",
    "Example 2:\n",
    "\n",
    "Input: s = \"applepenapple\", wordDict = [\"apple\", \"pen\"]\n",
    "\n",
    "Output: true\n",
    "\n",
    "Explanation: Return true because \"applepenapple\" can be segmented as \"apple pen apple\".\n",
    "\n",
    "             Note that you are allowed to reuse a dictionary word.\n",
    "             \n",
    "Example 3:\n",
    "\n",
    "Input: s = \"catsandog\", wordDict = [\"cats\", \"dog\", \"sand\", \"and\", \"cat\"]\n",
    "\n",
    "Output: false"
   ]
  },
  {
   "cell_type": "code",
   "execution_count": 10,
   "metadata": {},
   "outputs": [
    {
     "name": "stdout",
     "output_type": "stream",
     "text": [
      "['apple', 'pen']\n",
      " \n",
      "a\n",
      "apple\n",
      "[False, False, False, False, False, False, False, False, False, False, False, False, False]\n",
      "pen\n",
      "[False, False, False, False, False, False, False, False, False, False, False, False, False]\n",
      " \n",
      "ap\n",
      "apple\n",
      "[False, False, False, False, False, False, False, False, False, False, False, False, False]\n",
      "pen\n",
      "[False, False, False, False, False, False, False, False, False, False, False, False, False]\n",
      " \n",
      "app\n",
      "apple\n",
      "[False, False, False, False, False, False, False, False, False, False, False, False, False]\n",
      "pen\n",
      "[False, False, False, False, False, False, False, False, False, False, False, False, False]\n",
      " \n",
      "appl\n",
      "apple\n",
      "[False, False, False, False, False, False, False, False, False, False, False, False, False]\n",
      "pen\n",
      "[False, False, False, False, False, False, False, False, False, False, False, False, False]\n",
      " \n",
      "apple\n",
      "apple\n",
      "[False, False, False, False, True, False, False, False, False, False, False, False, False]\n",
      "pen\n",
      "[False, False, False, False, True, False, False, False, False, False, False, False, False]\n",
      " \n",
      "applep\n",
      "apple\n",
      "[False, False, False, False, True, False, False, False, False, False, False, False, False]\n",
      "pen\n",
      "[False, False, False, False, True, False, False, False, False, False, False, False, False]\n",
      " \n",
      "applepe\n",
      "apple\n",
      "[False, False, False, False, True, False, False, False, False, False, False, False, False]\n",
      "pen\n",
      "[False, False, False, False, True, False, False, False, False, False, False, False, False]\n",
      " \n",
      "applepen\n",
      "apple\n",
      "[False, False, False, False, True, False, False, False, False, False, False, False, False]\n",
      "pen\n",
      "[False, False, False, False, True, False, False, True, False, False, False, False, False]\n",
      " \n",
      "applepena\n",
      "apple\n",
      "[False, False, False, False, True, False, False, True, False, False, False, False, False]\n",
      "pen\n",
      "[False, False, False, False, True, False, False, True, False, False, False, False, False]\n",
      " \n",
      "applepenap\n",
      "apple\n",
      "[False, False, False, False, True, False, False, True, False, False, False, False, False]\n",
      "pen\n",
      "[False, False, False, False, True, False, False, True, False, False, False, False, False]\n",
      " \n",
      "applepenapp\n",
      "apple\n",
      "[False, False, False, False, True, False, False, True, False, False, False, False, False]\n",
      "pen\n",
      "[False, False, False, False, True, False, False, True, False, False, False, False, False]\n",
      " \n",
      "applepenappl\n",
      "apple\n",
      "[False, False, False, False, True, False, False, True, False, False, False, False, False]\n",
      "pen\n",
      "[False, False, False, False, True, False, False, True, False, False, False, False, False]\n",
      " \n",
      "applepenapple\n",
      "apple\n",
      "[False, False, False, False, True, False, False, True, False, False, False, False, True]\n",
      "pen\n",
      "[False, False, False, False, True, False, False, True, False, False, False, False, True]\n",
      "True\n"
     ]
    }
   ],
   "source": [
    "def wordBreak(s, wordDict):\n",
    "    \"\"\"\n",
    "    :type s: str\n",
    "    :type wordDict: List[str]\n",
    "    :rtype: bool\n",
    "    \"\"\"\n",
    "    if not s or not wordDict:\n",
    "        return False\n",
    "    d = [False] * len(s)\n",
    "    print(wordDict)\n",
    "    for i in range(len(s)):\n",
    "        print(\" \")\n",
    "        print(s[:i+1])\n",
    "        for w in wordDict:\n",
    "            print(w)\n",
    "            if w == s[i-len(w)+1:i+1] and (d[i-len(w)] or i-len(w) == -1):\n",
    "                d[i] = True\n",
    "            print(d)\n",
    "    return d[-1]       \n",
    "\n",
    "Input = [\"leetcode\",\"applepenapple\",\"catsandog\",\"a\",\"bb\",\"cars\",\"aaaaaaa\"]\n",
    "wordDict = [[\"leet\", \"code\"],[\"apple\", \"pen\"],[\"cats\", \"dog\", \"sand\", \"and\", \"cat\"],[],[\"a\",\"b\",\"bbb\",\"bbbb\"],[\"car\",\"ca\",\"rs\"],[\"aaaa\",\"aaa\"]]\n",
    "for i in range(1,2):\n",
    "    print(wordBreak(Input[i], wordDict[i]))"
   ]
  },
  {
   "cell_type": "markdown",
   "metadata": {},
   "source": [
    "## 416. Partition Equal Subset Sum\n",
    "\n",
    "Given a non-empty array containing only positive integers, find if the array can be partitioned into two subsets such that the sum of elements in both subsets is equal.\n",
    "\n",
    "Note:\n",
    "\n",
    "Each of the array element will not exceed 100.\n",
    "The array size will not exceed 200.\n",
    "\n",
    "Example 1:\n",
    "\n",
    "Input: [1, 5, 11, 5]\n",
    "\n",
    "Output: true\n",
    "\n",
    "Explanation: The array can be partitioned as [1, 5, 5] and [11].\n",
    "\n",
    "Example 2:\n",
    "\n",
    "Input: [1, 2, 3, 5]\n",
    "\n",
    "Output: false\n",
    "\n",
    "Explanation: The array cannot be partitioned into equal sum subsets.\n"
   ]
  },
  {
   "cell_type": "code",
   "execution_count": 32,
   "metadata": {},
   "outputs": [
    {
     "name": "stdout",
     "output_type": "stream",
     "text": [
      "[True, False, False, False, False, False, False, False, False, False]\n",
      "[True, False, False, False, False, False, False, False, False, False]\n",
      "[True, False, False, False, False, False, False, False, False, False]\n",
      "[True, False, False, False, False, False, False, False, False, False]\n",
      "[True, False, False, False, False, False, False, False, False, False]\n",
      "[True, False, False, False, False, False, False, False, False, False]\n",
      "[True, False, False, True, False, False, False, False, False, False]\n",
      "\n",
      "[True, False, False, True, False, False, False, False, False, False]\n",
      "[True, False, False, True, False, False, False, False, False, False]\n",
      "[True, False, False, True, False, False, False, False, False, False]\n",
      "[True, False, False, True, False, False, True, False, False, False]\n",
      "[True, False, False, True, False, False, True, False, False, False]\n",
      "[True, False, False, True, False, False, True, False, False, False]\n",
      "[True, False, False, True, False, False, True, False, False, False]\n",
      "\n",
      "[True, False, False, True, False, False, True, False, False, True]\n",
      "[True, False, False, True, False, False, True, False, False, True]\n",
      "[True, False, False, True, False, False, True, False, False, True]\n",
      "[True, False, False, True, False, False, True, False, False, True]\n",
      "[True, False, False, True, False, False, True, False, False, True]\n",
      "[True, False, False, True, False, False, True, False, False, True]\n",
      "[True, False, False, True, False, False, True, False, False, True]\n",
      "\n",
      "[True, False, False, True, False, False, True, False, False, True]\n",
      "[True, False, False, True, False, False, True, False, False, True]\n",
      "[True, False, False, True, False, False, True, True, False, True]\n",
      "[True, False, False, True, False, False, True, True, False, True]\n",
      "[True, False, False, True, False, False, True, True, False, True]\n",
      "[True, False, False, True, True, False, True, True, False, True]\n",
      "\n",
      "[True, False, False, True, True, False, True, True, False, True]\n",
      "[True, False, False, True, True, False, True, True, True, True]\n",
      "[True, False, False, True, True, False, True, True, True, True]\n",
      "[True, False, False, True, True, False, True, True, True, True]\n",
      "[True, False, False, True, True, True, True, True, True, True]\n",
      "\n"
     ]
    },
    {
     "data": {
      "text/plain": [
       "True"
      ]
     },
     "execution_count": 32,
     "metadata": {},
     "output_type": "execute_result"
    }
   ],
   "source": [
    "def canPartition(nums):\n",
    "    if not nums or sum(nums)%2 != 0:\n",
    "        return False\n",
    "    nums.sort()\n",
    "    weight = int(sum(nums)/2)\n",
    "    dp = [False] * (weight+1)\n",
    "    dp[0] = True\n",
    "    \n",
    "    for i in nums:\n",
    "        for j in range(weight,i-1,-1):\n",
    "            dp[j] = dp[j] | dp[j-i]\n",
    "            print(dp)\n",
    "        print()\n",
    "    return dp[weight]\n",
    "\n",
    "# Input = [1, 5, 11, 5]\n",
    "# Input = [1, 2, 3, 5]\n",
    "# Input = [71,70,66,54,32,63,38,98,4,22,61,40,6,8,6,21,71,36,30,34,44,60,89,53,60,56,73,14,63,37,15,58,51,88,88,32,80,32,10,89,67,29,68,65,34,15,88,8,57,78,37,63,73,65,47,39,32,74,31,44,43,4,10,8,96,22,58,87,29,99,79,13,96,21,62,71,34,55,72,3,96,7,36,64,30,6,14,87,12,90,40,13,29,21,94,33,99,86,4,100]\n",
    "Input = [3,3,3,4,5]\n",
    "canPartition(Input)"
   ]
  },
  {
   "cell_type": "code",
   "execution_count": 40,
   "metadata": {},
   "outputs": [
    {
     "name": "stdout",
     "output_type": "stream",
     "text": [
      "1\n",
      "4.0 9.0\n",
      "0.0 9.0\n",
      "0.0 6.0\n",
      "0.0 3.0\n",
      "0.0 0.0\n"
     ]
    },
    {
     "data": {
      "text/plain": [
       "True"
      ]
     },
     "execution_count": 40,
     "metadata": {},
     "output_type": "execute_result"
    }
   ],
   "source": [
    "def canPartition(nums):\n",
    "    \"\"\"\n",
    "    :type nums: List[int]\n",
    "    :rtype: bool\n",
    "    \"\"\"\n",
    "    if not nums or sum(nums)%2 != 0:\n",
    "        return False\n",
    "    nums.sort()\n",
    "    weight = (sum(nums)/2)\n",
    "\n",
    "    bag_one , bag_two =  weight, weight\n",
    "    count = len(nums)\n",
    "    for i in range(len(nums)-1,-1,-1):\n",
    "        if bag_one >= nums[i] and bag_one>=bag_two:\n",
    "            bag_one -= nums[i]\n",
    "            count -= 1 \n",
    "        elif bag_two >= nums[i] and bag_one<=bag_two:\n",
    "            bag_two -= nums[i]\n",
    "            count -= 1\n",
    "    \n",
    "    if count != 0:\n",
    "        bag_one , bag_two =  weight, weight\n",
    "        for i in range(len(nums)-1,-1,-1):\n",
    "            if bag_one >= nums[i] :\n",
    "                bag_one -= nums[i]\n",
    "            elif bag_two >= nums[i] :\n",
    "                bag_two -= nums[i]\n",
    "            print(bag_one, bag_two)\n",
    "            \n",
    "    if bag_one == 0 and bag_two == 0:\n",
    "        return True\n",
    "    else:\n",
    "        return False\n",
    "          \n",
    "# Input = [1, 5, 11, 5]\n",
    "# Input = [1, 2, 3, 5]\n",
    "# Input = [71,70,66,54,32,63,38,98,4,22,61,40,6,8,6,21,71,36,30,34,44,60,89,53,60,56,73,14,63,37,15,58,51,88,88,32,80,32,10,89,67,29,68,65,34,15,88,8,57,78,37,63,73,65,47,39,32,74,31,44,43,4,10,8,96,22,58,87,29,99,79,13,96,21,62,71,34,55,72,3,96,7,36,64,30,6,14,87,12,90,40,13,29,21,94,33,99,86,4,100]\n",
    "Input = [3,3,3,4,5]\n",
    "canPartition(Input)         \n",
    "    \n",
    "    "
   ]
  },
  {
   "cell_type": "markdown",
   "metadata": {},
   "source": [
    "## Dynamic programming"
   ]
  },
  {
   "cell_type": "markdown",
   "metadata": {},
   "source": [
    "## 63. Unique Paths II\n",
    "\n",
    "A robot is located at the top-left corner of a m x n grid (marked 'Start' in the diagram below).\n",
    "\n",
    "The robot can only move either down or right at any point in time. The robot is trying to reach the bottom-right corner of the grid (marked 'Finish' in the diagram below).\n",
    "\n",
    "Now consider if some obstacles are added to the grids. How many unique paths would there be?\n",
    "\n",
    "\n",
    "\n",
    "An obstacle and empty space is marked as 1 and 0 respectively in the grid.\n",
    "\n",
    "Note: m and n will be at most 100.\n",
    "\n",
    "Example 1:\n",
    "\n",
    "Input:\n",
    "[\n",
    "  [0,0,0],\n",
    "  [0,1,0],\n",
    "  [0,0,0]\n",
    "]\n",
    "\n",
    "Output: 2\n",
    "\n",
    "Explanation:\n",
    "\n",
    "There is one obstacle in the middle of the 3x3 grid above.\n",
    "\n",
    "There are two ways to reach the bottom-right corner:\n",
    "\n",
    "1. Right -> Right -> Down -> Down\n",
    "\n",
    "2. Down -> Down -> Right -> Right"
   ]
  },
  {
   "cell_type": "code",
   "execution_count": 25,
   "metadata": {},
   "outputs": [
    {
     "name": "stdout",
     "output_type": "stream",
     "text": [
      "[1, 1, 1]\n",
      "[1, 0, 1]\n",
      "[1, 1, 2]\n"
     ]
    },
    {
     "data": {
      "text/plain": [
       "2"
      ]
     },
     "execution_count": 25,
     "metadata": {},
     "output_type": "execute_result"
    }
   ],
   "source": [
    "class Solution:\n",
    "    def uniquePathsWithObstacles(self, obstacleGrid):\n",
    "        \"\"\"\n",
    "        :type obstacleGrid: List[List[int]]\n",
    "        :rtype: int\n",
    "        \"\"\"\n",
    "        if not obstacleGrid:\n",
    "            return 0\n",
    "        width, height = len(obstacleGrid[0]), len(obstacleGrid)\n",
    "        dp = [[0] * width for i in range(height)]\n",
    "        if obstacleGrid[0][0] == 0:\n",
    "            dp[0][0] = 1\n",
    "        \n",
    "        for i in range(1,width):\n",
    "            if obstacleGrid[0][i] == 0:\n",
    "                dp[0][i] = dp[0][i-1]\n",
    "               \n",
    "        for j in range(1,height):\n",
    "            if obstacleGrid[j][0] == 0:\n",
    "                dp[j][0] = dp[j-1][0]\n",
    "\n",
    "        for i in range(1,height):\n",
    "            for j in range(1,width):\n",
    "                if obstacleGrid[i][j] == 0:\n",
    "                    dp[i][j] = dp[i-1][j] + dp[i][j-1]\n",
    "        for i in range(height):\n",
    "            print(dp[i])\n",
    "        return dp[height-1][width-1]\n",
    "\n",
    "Input = [\n",
    "  [0,0,0],\n",
    "  [0,1,0],\n",
    "  [0,0,0]\n",
    "]\n",
    "\n",
    "# Input = [[1,0]]\n",
    "a = Solution()\n",
    "a.uniquePathsWithObstacles(Input)"
   ]
  },
  {
   "cell_type": "markdown",
   "metadata": {},
   "source": [
    "## 376. Wiggle Subsequence\n",
    "A sequence of numbers is called a wiggle sequence if the differences between successive numbers strictly alternate between positive and negative. The first difference (if one exists) may be either positive or negative. A sequence with fewer than two elements is trivially a wiggle sequence.\n",
    "\n",
    "For example, [1,7,4,9,2,5] is a wiggle sequence because the differences (6,-3,5,-7,3) are alternately positive and negative. In contrast, [1,4,7,2,5] and [1,7,4,5,5] are not wiggle sequences, the first because its first two differences are positive and the second because its last difference is zero.\n",
    "\n",
    "Given a sequence of integers, return the length of the longest subsequence that is a wiggle sequence. A subsequence is obtained by deleting some number of elements (eventually, also zero) from the original sequence, leaving the remaining elements in their original order.\n",
    "\n",
    "Example 1:\n",
    "\n",
    "Input: [1,7,4,9,2,5]\n",
    "\n",
    "Output: 6\n",
    "\n",
    "Explanation: The entire sequence is a wiggle sequence.\n",
    "\n",
    "Example 2:\n",
    "\n",
    "Input: [1,17,5,10,13,15,10,5,16,8]\n",
    "\n",
    "Output: 7\n",
    "\n",
    "Explanation: There are several subsequences that achieve this length. One is [1,17,10,13,10,16,8]."
   ]
  },
  {
   "cell_type": "code",
   "execution_count": 9,
   "metadata": {},
   "outputs": [
    {
     "data": {
      "text/plain": [
       "7"
      ]
     },
     "execution_count": 9,
     "metadata": {},
     "output_type": "execute_result"
    }
   ],
   "source": [
    "def wiggleMaxLength(nums):\n",
    "    \"\"\"\n",
    "    :type nums: List[int]\n",
    "    :rtype: int\n",
    "    \"\"\"\n",
    "    result = []\n",
    "    count = 1\n",
    "    flag = None\n",
    "    for i in range(len(nums)-1):\n",
    "        if nums[i+1] - nums[i] == 0:\n",
    "            continue\n",
    "        if nums[i] - nums[i+1] < 0: \n",
    "            if flag == True or flag == None:\n",
    "                result.append(nums[i])\n",
    "                count += 1\n",
    "            flag = False\n",
    "        if nums[i] - nums[i+1] > 0:\n",
    "            if flag == False or flag == None:\n",
    "                result.append(nums[i])\n",
    "                count += 1\n",
    "            flag = True\n",
    "            \n",
    "    return count\n",
    "    \n",
    "#     for i in range(len(nums)):\n",
    "Input = [1,17,5,10,13,15,10,5,16,8]\n",
    "wiggleMaxLength(Input)"
   ]
  },
  {
   "cell_type": "markdown",
   "metadata": {},
   "source": [
    "## 646. Maximum Length of Pair Chain\n",
    "You are given n pairs of numbers. In every pair, the first number is always smaller than the second number.\n",
    "\n",
    "Now, we define a pair (c, d) can follow another pair (a, b) if and only if b < c. Chain of pairs can be formed in this fashion.\n",
    "\n",
    "Given a set of pairs, find the length longest chain which can be formed. You needn't use up all the given pairs. You can select pairs in any order.\n",
    "\n",
    "Example 1:\n",
    "\n",
    "Input: [[1,2], [2,3], [3,4]]\n",
    "\n",
    "Output: 2\n",
    "\n",
    "Explanation: The longest chain is [1,2] -> [3,4]\n",
    "\n",
    "Note:\n",
    "\n",
    "The number of given pairs will be in the range [1, 1000]."
   ]
  },
  {
   "cell_type": "code",
   "execution_count": 23,
   "metadata": {},
   "outputs": [
    {
     "name": "stdout",
     "output_type": "stream",
     "text": [
      "[[-10, -8], [-6, -4], [-5, 0], [1, 7], [-4, 7], [8, 9], [6, 10], [9, 10]]\n"
     ]
    },
    {
     "data": {
      "text/plain": [
       "4"
      ]
     },
     "execution_count": 23,
     "metadata": {},
     "output_type": "execute_result"
    }
   ],
   "source": [
    "def findLongestChain(pairs):\n",
    "    \"\"\"\n",
    "    :type pairs: List[List[int]]\n",
    "    :rtype: int\n",
    "    \"\"\"\n",
    "    if not pairs:\n",
    "        return 0\n",
    "\n",
    "    dp = [0] * len(pairs) \n",
    "    result = []\n",
    "    pairs = sorted(pairs,key = lambda x: x[1])\n",
    "    print(pairs)\n",
    "    count = 0\n",
    "    current = float('-inf')\n",
    "    for i in range(len(pairs)):\n",
    "        if pairs[i][0] > current:\n",
    "            current = pairs[i][1]\n",
    "            count += 1\n",
    "\n",
    "    return count\n",
    "\n",
    "# Input = [[1,2], [2,3], [3,4]]\n",
    "Input = [[-10,-8],[8,9],[-5,0],[6,10],[-6,-4],[1,7],[9,10],[-4,7]]\n",
    "# Input = [[3,4],[2,3],[1,2]]\n",
    "findLongestChain(Input)"
   ]
  },
  {
   "cell_type": "markdown",
   "metadata": {},
   "source": [
    "## 300. Longest Increasing Subsequence\n",
    "\n",
    "Given an unsorted array of integers, find the length of longest increasing subsequence.\n",
    "\n",
    "Example:\n",
    "\n",
    "Input: [10,9,2,5,3,7,101,18]\n",
    "\n",
    "Output: 4 \n",
    "\n",
    "Explanation: The longest increasing subsequence is [2,3,7,101], therefore the length is 4. \n",
    "\n",
    "Note:\n",
    "\n",
    "There may be more than one LIS combination, it is only necessary for you to return the length.\n",
    "Your algorithm should run in O(n2) complexity.\n",
    "Follow up: Could you improve it to O(n log n) time complexity?\n",
    "\n"
   ]
  },
  {
   "cell_type": "code",
   "execution_count": 1,
   "metadata": {},
   "outputs": [
    {
     "name": "stdout",
     "output_type": "stream",
     "text": [
      "[1, 2, 1, 1, 1, 1, 1, 1, 1]\n",
      "[1, 2, 2, 1, 1, 1, 1, 1, 1]\n",
      "[1, 2, 3, 1, 1, 1, 1, 1, 1]\n",
      "[1, 2, 3, 2, 1, 1, 1, 1, 1]\n",
      "[1, 2, 3, 3, 1, 1, 1, 1, 1]\n",
      "[1, 2, 3, 4, 1, 1, 1, 1, 1]\n",
      "[1, 2, 3, 4, 2, 1, 1, 1, 1]\n",
      "[1, 2, 3, 4, 3, 1, 1, 1, 1]\n",
      "[1, 2, 3, 4, 4, 1, 1, 1, 1]\n",
      "[1, 2, 3, 4, 5, 1, 1, 1, 1]\n",
      "[1, 2, 3, 4, 5, 2, 1, 1, 1]\n",
      "[1, 2, 3, 4, 5, 3, 1, 1, 1]\n",
      "[1, 2, 3, 4, 5, 3, 2, 1, 1]\n",
      "[1, 2, 3, 4, 5, 3, 3, 1, 1]\n",
      "[1, 2, 3, 4, 5, 3, 4, 1, 1]\n",
      "[1, 2, 3, 4, 5, 3, 5, 1, 1]\n",
      "[1, 2, 3, 4, 5, 3, 6, 1, 1]\n",
      "[1, 2, 3, 4, 5, 3, 6, 1, 1]\n",
      "[1, 2, 3, 4, 5, 3, 6, 2, 1]\n",
      "[1, 2, 3, 4, 5, 3, 6, 3, 1]\n",
      "[1, 2, 3, 4, 5, 3, 6, 4, 1]\n",
      "[1, 2, 3, 4, 5, 3, 6, 4, 2]\n",
      "[1, 2, 3, 4, 5, 3, 6, 4, 3]\n",
      "[1, 2, 3, 4, 5, 3, 6, 4, 4]\n",
      "[1, 2, 3, 4, 5, 3, 6, 4, 5]\n"
     ]
    },
    {
     "data": {
      "text/plain": [
       "5"
      ]
     },
     "execution_count": 1,
     "metadata": {},
     "output_type": "execute_result"
    }
   ],
   "source": [
    "import math\n",
    "def lengthOfLIS(nums):\n",
    "    \"\"\"\n",
    "    :type nums: List[int]\n",
    "    :rtype: int\n",
    "    \"\"\"\n",
    "    if not nums:\n",
    "        return 0\n",
    "    if len(nums)==1:\n",
    "        return len(nums)\n",
    "    \n",
    "#     tails = [0] * len(nums)\n",
    "#     size = 0\n",
    "#     for x in nums:\n",
    "        \n",
    "#         i, j = 0, size\n",
    "        \n",
    "#         while i != j:\n",
    "#             m = i + math.floor((j-i)/2)\n",
    "#             if tails[m] < x:\n",
    "#                 i = m + 1\n",
    "#             else:\n",
    "#                 j = m\n",
    "#         tails[i] = x\n",
    "#         size = max(i + 1, size)\n",
    "#     return size\n",
    "    dp = [1]*len(nums)\n",
    "    \n",
    "    for i in range(len(nums)):\n",
    "        for j in range(i):\n",
    "            if nums[i] > nums[j]:\n",
    "                dp[i] = max(dp[i],dp[j]+1)\n",
    "                print(dp)\n",
    "    return max(dp)\n",
    "        \n",
    "\n",
    "\n",
    "# Input = [10,9,2,5,3,7,101,18]\n",
    "# Input = [2,2]\n",
    "# Input = [4,10,4,3,8,9]\n",
    "Input = [1,3,6,7,9,4,10,5,6]\n",
    "lengthOfLIS(Input)"
   ]
  },
  {
   "cell_type": "markdown",
   "metadata": {},
   "source": [
    "## 91. Decode Ways\n",
    "\n",
    "A message containing letters from A-Z is being encoded to numbers using the following mapping:\n",
    "\n",
    "'A' -> 1\n",
    "\n",
    "'B' -> 2\n",
    "\n",
    "...\n",
    "'Z' -> 26\n",
    "\n",
    "Given a non-empty string containing only digits, determine the total number of ways to decode it.\n",
    "\n",
    "Example 1:\n",
    "\n",
    "Input: \"12\"\n",
    "\n",
    "Output: 2\n",
    "\n",
    "Explanation: It could be decoded as \"AB\" (1 2) or \"L\" (12).\n",
    "\n",
    "Example 2:\n",
    "\n",
    "Input: \"226\"\n",
    "\n",
    "Output: 3\n",
    "\n",
    "Explanation: It could be decoded as \"BZ\" (2 26), \"VF\" (22 6), or \"BBF\" (2 2 6)."
   ]
  },
  {
   "cell_type": "code",
   "execution_count": 34,
   "metadata": {},
   "outputs": [
    {
     "data": {
      "text/plain": [
       "['', '2', '22', '226', '26', '2', '26', '6']"
      ]
     },
     "execution_count": 34,
     "metadata": {},
     "output_type": "execute_result"
    }
   ],
   "source": [
    "def numDecodings(s):\n",
    "    \"\"\"\n",
    "    :type s: str\n",
    "    :rtype: int\n",
    "    \"\"\"\n",
    "    dic = [str(chr(i)) for i in range(97,97+26)]\n",
    "    \n",
    "    path = \"\"\n",
    "    result = []\n",
    "    index = 0\n",
    "    dfs(s,0,path,result)\n",
    "    return result\n",
    "        \n",
    "def dfs(s, start, path, result):\n",
    "    result.append(path)\n",
    "    for i in range(start, len(s)):\n",
    "        dfs(s,i+1,path+s[i],result)\n",
    "        \n",
    "        \n",
    "Input = \"226\"\n",
    "numDecodings(Input)"
   ]
  },
  {
   "cell_type": "markdown",
   "metadata": {},
   "source": [
    "## 279. Perfect Squares\n",
    "Given a positive integer n, find the least number of perfect square numbers (for example, 1, 4, 9, 16, ...) which sum to n.\n",
    "\n",
    "Example 1:\n",
    "\n",
    "Input: n = 12\n",
    "\n",
    "Output: 3 \n",
    "\n",
    "Explanation: 12 = 4 + 4 + 4.\n",
    "\n",
    "Example 2:\n",
    "\n",
    "Input: n = 13\n",
    "\n",
    "Output: 2\n",
    "\n",
    "Explanation: 13 = 4 + 9."
   ]
  },
  {
   "cell_type": "code",
   "execution_count": 20,
   "metadata": {},
   "outputs": [
    {
     "ename": "SyntaxError",
     "evalue": "invalid syntax (<ipython-input-20-d050ac6e146c>, line 11)",
     "output_type": "error",
     "traceback": [
      "\u001b[1;36m  File \u001b[1;32m\"<ipython-input-20-d050ac6e146c>\"\u001b[1;36m, line \u001b[1;32m11\u001b[0m\n\u001b[1;33m    for i in range\u001b[0m\n\u001b[1;37m                  ^\u001b[0m\n\u001b[1;31mSyntaxError\u001b[0m\u001b[1;31m:\u001b[0m invalid syntax\n"
     ]
    }
   ],
   "source": [
    "import math\n",
    "def numSquares(n):\n",
    "    \"\"\"\n",
    "    :type n: int\n",
    "    :rtype: int\n",
    "    \"\"\"\n",
    "    dp = [0] * math.floor(math.sqrt(n))\n",
    "    dp[0] = 1\n",
    "    for i in range(2,len(dp)):\n",
    "        dp[i] = i**2\n",
    "    for i in range\n",
    "Input = 12\n",
    "numSquares(Input)"
   ]
  },
  {
   "cell_type": "markdown",
   "metadata": {},
   "source": [
    "## 343. Integer Break\n",
    "\n",
    "Given a positive integer n, break it into the sum of at least two positive integers and maximize the product of those integers. Return the maximum product you can get.\n",
    "\n",
    "Example 1:\n",
    "\n",
    "Input: 2\n",
    "\n",
    "Output: 1\n",
    "\n",
    "Explanation: 2 = 1 + 1, 1 × 1 = 1.\n",
    "\n",
    "Example 2:\n",
    "\n",
    "Input: 10\n",
    "\n",
    "Output: 36\n",
    "\n",
    "Explanation: 10 = 3 + 3 + 4, 3 × 3 × 4 = 36.\n",
    "\n",
    "Note: You may assume that n is not less than 2 and not larger than 58."
   ]
  },
  {
   "cell_type": "code",
   "execution_count": 18,
   "metadata": {},
   "outputs": [
    {
     "data": {
      "text/plain": [
       "36"
      ]
     },
     "execution_count": 18,
     "metadata": {},
     "output_type": "execute_result"
    }
   ],
   "source": [
    "def integerBreak(n):\n",
    "    \"\"\"\n",
    "    :type n: int\n",
    "    :rtype: int\n",
    "    \"\"\"\n",
    "    \n",
    "    dp = [0] * (n+1)\n",
    "    dp[1] = 1\n",
    "    for i in range(2, n+1):\n",
    "        for j in range(1,i):\n",
    "            dp[i] = max(dp[i], max( j * dp[i-j], j * (i-j) ) )\n",
    "    return dp[n]\n",
    "\n",
    "Input = 10\n",
    "integerBreak(Input)"
   ]
  },
  {
   "cell_type": "markdown",
   "metadata": {},
   "source": [
    "## 413. Arithmetic Slices\n",
    "\n",
    "A sequence of number is called arithmetic if it consists of at least three elements and if the difference between any two consecutive elements is the same.\n",
    "\n",
    "For example, these are arithmetic sequence:\n",
    "\n",
    "1, 3, 5, 7, 9\n",
    "\n",
    "7, 7, 7, 7\n",
    "\n",
    "3, -1, -5, -9\n",
    "\n",
    "The following sequence is not arithmetic.\n",
    "\n",
    "1, 1, 2, 5, 7\n",
    "\n",
    "A zero-indexed array A consisting of N numbers is given. A slice of that array is any pair of integers (P, Q) such that 0 <= P < Q < N.\n",
    "\n",
    "A slice (P, Q) of array A is called arithmetic if the sequence:\n",
    "A[P], A[p + 1], ..., A[Q - 1], A[Q] is arithmetic. In particular, this means that P + 1 < Q.\n",
    "\n",
    "The function should return the number of arithmetic slices in the array A.\n",
    "\n",
    "\n",
    "Example:\n",
    "\n",
    "A = [1, 2, 3, 4]\n",
    "\n",
    "return: 3, for 3 arithmetic slices in A: [1, 2, 3], [2, 3, 4] and [1, 2, 3, 4] itself."
   ]
  },
  {
   "cell_type": "code",
   "execution_count": 19,
   "metadata": {},
   "outputs": [
    {
     "data": {
      "text/plain": [
       "3"
      ]
     },
     "execution_count": 19,
     "metadata": {},
     "output_type": "execute_result"
    }
   ],
   "source": [
    "def numberOfArithmeticSlices(A):\n",
    "    \"\"\"\n",
    "    :type A: List[int]\n",
    "    :rtype: int\n",
    "    \"\"\"\n",
    "    dp = [0] * (len(A))\n",
    "    for i in range(2,len(A)):\n",
    "        if (A[i]-A[i-1] == A[i-1]-A[i-2]):\n",
    "            dp[i] = dp[i-1] + 1\n",
    "#     total = 0\n",
    "#     for i in dp:\n",
    "#         total += i\n",
    "    return sum(dp)\n",
    "\n",
    "Input = [1, 2, 3, 4]\n",
    "numberOfArithmeticSlices(Input)"
   ]
  },
  {
   "cell_type": "markdown",
   "metadata": {},
   "source": [
    "## 303. Range Sum Query - Immutable\n",
    "\n",
    "Given an integer array nums, find the sum of the elements between indices i and j (i ≤ j), inclusive.\n",
    "\n",
    "Example:\n",
    "\n",
    "Given nums = [-2, 0, 3, -5, 2, -1]\n",
    "\n",
    "sumRange(0, 2) -> 1\n",
    "\n",
    "sumRange(2, 5) -> -1\n",
    "\n",
    "sumRange(0, 5) -> -3\n",
    "\n",
    "Note:\n",
    "\n",
    "You may assume that the array does not change.\n",
    "\n",
    "There are many calls to sumRange function.\n"
   ]
  },
  {
   "cell_type": "code",
   "execution_count": 15,
   "metadata": {},
   "outputs": [
    {
     "name": "stdout",
     "output_type": "stream",
     "text": [
      "-3\n"
     ]
    }
   ],
   "source": [
    "class NumArray(object):\n",
    "\n",
    "    def __init__(self, nums):\n",
    "        \"\"\"\n",
    "        :type nums: List[int]\n",
    "        \"\"\"\n",
    "        self.dp = [0] * (len(nums)+1)\n",
    "        \n",
    "        for i in range(len(nums)):\n",
    "            self.dp[i+1] = self.dp[i] +nums[i]\n",
    "\n",
    "    def sumRange(self, i, j):\n",
    "        \"\"\"\n",
    "        :type i: int\n",
    "        :type j: int\n",
    "        :rtype: int\n",
    "        \"\"\"\n",
    "        return self.dp[j+1] - self.dp[i]\n",
    "    \n",
    "nums = [-2, 0, 3, -5, 2, -1]\n",
    "obj = NumArray(nums)   \n",
    "i = 0\n",
    "j = 5\n",
    "result = obj.sumRange(i,j)\n",
    "print(result)\n"
   ]
  },
  {
   "cell_type": "markdown",
   "metadata": {},
   "source": [
    "## 62. Unique Paths\n",
    "\n",
    "A robot is located at the top-left corner of a m x n grid (marked 'Start' in the diagram below).\n",
    "\n",
    "The robot can only move either down or right at any point in time. The robot is trying to reach the bottom-right corner of the grid (marked 'Finish' in the diagram below).\n",
    "\n",
    "How many possible unique paths are there?\n",
    "\n",
    "Example 1:\n",
    "\n",
    "Input: m = 3, n = 2\n",
    "\n",
    "Output: 3\n",
    "\n",
    "Explanation:\n",
    "\n",
    "From the top-left corner, there are a total of 3 ways to reach the bottom-right corner:\n",
    "\n",
    "1. Right -> Right -> Down\n",
    "\n",
    "2. Right -> Down -> Right\n",
    "\n",
    "3. Down -> Right -> Right\n",
    "\n",
    "Example 2:\n",
    "\n",
    "Input: m = 7, n = 3\n",
    "\n",
    "Output: 28"
   ]
  },
  {
   "cell_type": "code",
   "execution_count": 23,
   "metadata": {},
   "outputs": [
    {
     "name": "stdout",
     "output_type": "stream",
     "text": [
      "[1, 1, 1, 1, 1, 1, 1]\n",
      "[1, 2, 3, 4, 5, 6, 7]\n",
      "[1, 3, 6, 10, 15, 21, 28]\n"
     ]
    },
    {
     "data": {
      "text/plain": [
       "28"
      ]
     },
     "execution_count": 23,
     "metadata": {},
     "output_type": "execute_result"
    }
   ],
   "source": [
    "def uniquePaths(m, n):\n",
    "    \"\"\"\n",
    "    :type m: int\n",
    "    :type n: int\n",
    "    :rtype: int\n",
    "    \"\"\"\n",
    "    if m == 1 or n == 1 :\n",
    "        return 1\n",
    "    dp = [[0]*m for i in range(n)]\n",
    "    dp[0][0] = 1\n",
    "    for i in range(n):\n",
    "        for j in range(m):\n",
    "            if j == 0:\n",
    "                dp[i][j] = dp[i][j]+dp[i-1][j]\n",
    "            elif i == 0:\n",
    "                dp[i][j] = dp[i][j]+dp[i][j-1]\n",
    "            else:\n",
    "                dp[i][j] = dp[i-1][j] + dp[i][j-1]\n",
    "                \n",
    "#     for i in range(len(dp)):\n",
    "#         print(dp[i])\n",
    "    return dp[n-1][m-1]\n",
    "\n",
    "# m = 3\n",
    "# n = 2\n",
    "\n",
    "m = 7\n",
    "n = 3 \n",
    "\n",
    "uniquePaths(m,n)"
   ]
  },
  {
   "cell_type": "markdown",
   "metadata": {},
   "source": [
    "## 64. Minimum Path Sum\n",
    "\n",
    "Given a m x n grid filled with non-negative numbers, find a path from top left to bottom right which minimizes the sum of all numbers along its path.\n",
    "\n",
    "Note: You can only move either down or right at any point in time.\n",
    "\n",
    "Example:\n",
    "\n",
    "Input:\n",
    "\n",
    "[\n",
    "\n",
    "  [1,3,1],\n",
    "  \n",
    "  [1,5,1],\n",
    "  \n",
    "  [4,2,1]\n",
    "  \n",
    "]\n",
    "\n",
    "Output: 7\n",
    "\n",
    "Explanation: Because the path 1→3→1→1→1 minimizes the sum."
   ]
  },
  {
   "cell_type": "code",
   "execution_count": 17,
   "metadata": {},
   "outputs": [
    {
     "name": "stdout",
     "output_type": "stream",
     "text": [
      "[1, 2, 5]\n",
      "[3, 2, 1]\n",
      "\n",
      "[1, 3, 8]\n",
      "[4, 5, 6]\n"
     ]
    },
    {
     "data": {
      "text/plain": [
       "6"
      ]
     },
     "execution_count": 17,
     "metadata": {},
     "output_type": "execute_result"
    }
   ],
   "source": [
    "def minPathSum(grid):\n",
    "    \"\"\"\n",
    "    :type grid: List[List[int]]\n",
    "    :rtype: int\n",
    "    \"\"\"\n",
    "    \n",
    "#     dp = [[0]*len(grid[0]) for i in range(len(grid))]\n",
    "    \n",
    "#     dp[0][0] = grid[0][0]\n",
    "    \n",
    "    for i in range(len(grid)):\n",
    "        for j in range(len(grid[0])):\n",
    "            if i == 0 :\n",
    "                grid[0][j] = grid[0][j] + grid[0][j-1]\n",
    "            elif j == 0:\n",
    "                grid[i][0] = grid[i][0] + grid[i-1][0]\n",
    "            else:\n",
    "                grid[i][j] = (grid[i][j] + min(grid[i-1][j],grid[i][j-1]))\n",
    "#     for i in range(len(grid)):\n",
    "#         print(grid[i])\n",
    "#     print()\n",
    "#     for i in range(len(dp)):\n",
    "#         print(dp[i])\n",
    "    \n",
    "    return dp[len(grid)-1][len(grid[0])-1]\n",
    "\n",
    "\n",
    "# Input = [\n",
    "\n",
    "# [1,3,1],\n",
    "\n",
    "# [1,5,1],\n",
    "\n",
    "# [4,2,1]\n",
    "\n",
    "# ]\n",
    "\n",
    "Input = [[1,2,5],[3,2,1]]\n",
    "\n",
    "minPathSum(Input)"
   ]
  },
  {
   "cell_type": "markdown",
   "metadata": {},
   "source": [
    "## 213. House Robber II\n",
    "\n",
    "You are a professional robber planning to rob houses along a street. Each house has a certain amount of money stashed. All houses at this place are arranged in a circle. That means the first house is the neighbor of the last one. Meanwhile, adjacent houses have security system connected and it will automatically contact the police if two adjacent houses were broken into on the same night.\n",
    "\n",
    "Given a list of non-negative integers representing the amount of money of each house, determine the maximum amount of money you can rob tonight without alerting the police.\n",
    "\n",
    "Example 1:\n",
    "\n",
    "Input: [2,3,2]\n",
    "\n",
    "Output: 3\n",
    "\n",
    "Explanation: You cannot rob house 1 (money = 2) and then rob house 3 (money = 2),\n",
    "             because they are adjacent houses.\n",
    "             \n",
    "Example 2:\n",
    "\n",
    "Input: [1,2,3,1]\n",
    "\n",
    "Output: 4\n",
    "\n",
    "Explanation: Rob house 1 (money = 1) and then rob house 3 (money = 3).\n",
    "             Total amount you can rob = 1 + 3 = 4."
   ]
  },
  {
   "cell_type": "code",
   "execution_count": 21,
   "metadata": {},
   "outputs": [
    {
     "name": "stdout",
     "output_type": "stream",
     "text": [
      "[2, 3, 4]\n",
      "[1, 0, 1]\n",
      "[3, 3]\n"
     ]
    },
    {
     "data": {
      "text/plain": [
       "3"
      ]
     },
     "execution_count": 21,
     "metadata": {},
     "output_type": "execute_result"
    }
   ],
   "source": [
    "def rob(nums):\n",
    "    \"\"\"\n",
    "    :type nums: List[int]\n",
    "    :rtype: int\n",
    "    \"\"\"\n",
    "    if not nums or len(nums) == 1:\n",
    "        return nums\n",
    "    if len(nums) == 2:\n",
    "        return max(nums)\n",
    "    dp = [0] * len(nums)\n",
    "    dp2 = [0] * (len(nums)-1)\n",
    "    flag = [0] * len(nums)\n",
    "    \n",
    "    for i in range(len(nums)):\n",
    "        if i == 0:\n",
    "            dp[0] = nums[0]\n",
    "            flag[0] = 1\n",
    "        elif i == 1:\n",
    "            dp[i] = max(dp[i-2]+nums[i], dp[i-1])\n",
    "            if (dp[i-1] > dp[i-2]+nums[i]) and flag[i-1] == 1:\n",
    "                flag[i] = 1\n",
    "            elif (dp[i-1] < dp[i-2]+nums[i]) and flag[i-2] == 1:\n",
    "                flag[i] = 1\n",
    "            second_index = 0\n",
    "            dp2[second_index] = nums[second_index+1]\n",
    "            second_index+=1\n",
    "        else:\n",
    "            dp[i] = max(dp[i-2]+nums[i], dp[i-1])\n",
    "\n",
    "            if ((dp[i-1] < dp[i-2]+nums[i]) and flag[i-2] == 1) or ((dp[i-1] > dp[i-2]+nums[i]) and flag[i-1] == 1):\n",
    "                flag[i] = 1\n",
    "            dp2[second_index] = max(dp2[second_index-2]+nums[second_index+1], dp2[second_index-1])\n",
    "            second_index += 1\n",
    "#     print(dp)\n",
    "#     print(flag)\n",
    "#     print(dp2)\n",
    "    if flag[-1] == 1:\n",
    "        return max(dp[-2],dp2[-1])\n",
    "    else:\n",
    "        return dp[-1]\n",
    "\n",
    "\n",
    "Input = [2,3,2] #3\n",
    "# Input = [1,2,3,1] #4\n",
    "# Input = [1,1,3,6,7,10,7,1,8,5,9,1,4,4,3] #41\n",
    "# Input = [2,7,9,3,1] #11\n",
    "# Input = [6,3,10,8,2,10,3,5,10,5,3] #36\n",
    "rob(Input)"
   ]
  },
  {
   "cell_type": "markdown",
   "metadata": {},
   "source": [
    "## 198. House Robber\n",
    "\n",
    "You are a professional robber planning to rob houses along a street. Each house has a certain amount of money stashed, the only constraint stopping you from robbing each of them is that adjacent houses have security system connected and it will automatically contact the police if two adjacent houses were broken into on the same night.\n",
    "\n",
    "Given a list of non-negative integers representing the amount of money of each house, determine the maximum amount of money you can rob tonight without alerting the police.\n",
    "\n",
    "Example 1:\n",
    "\n",
    "Input: [1,2,3,1]\n",
    "\n",
    "Output: 4\n",
    "\n",
    "Explanation: Rob house 1 (money = 1) and then rob house 3 (money = 3).\n",
    "             Total amount you can rob = 1 + 3 = 4.\n",
    "             \n",
    "Example 2:\n",
    "\n",
    "Input: [2,7,9,3,1]\n",
    "\n",
    "Output: 12\n",
    "\n",
    "Explanation: Rob house 1 (money = 2), rob house 3 (money = 9) and rob house 5 (money = 1).\n",
    "             Total amount you can rob = 2 + 9 + 1 = 12."
   ]
  },
  {
   "cell_type": "code",
   "execution_count": 16,
   "metadata": {},
   "outputs": [
    {
     "data": {
      "text/plain": [
       "4"
      ]
     },
     "execution_count": 16,
     "metadata": {},
     "output_type": "execute_result"
    }
   ],
   "source": [
    "def rob(nums):\n",
    "    dp = [0] * len(nums)\n",
    "    dp[0] = nums[0]\n",
    "    for i in range(1, len(nums)):\n",
    "        dp[i] = max(dp[i-2]+nums[i], dp[i-1])\n",
    "    return dp[-1]\n",
    "\n",
    "Input = [2,1,1,2]\n",
    "rob(Input)"
   ]
  },
  {
   "cell_type": "code",
   "execution_count": 3,
   "metadata": {},
   "outputs": [
    {
     "name": "stdout",
     "output_type": "stream",
     "text": [
      "[0, 0, 0, 0]\n",
      "[2, 0, 0, 0]\n",
      "[2, 2, 0, 0]\n",
      "[2, 2, 3, 0]\n"
     ]
    },
    {
     "data": {
      "text/plain": [
       "4"
      ]
     },
     "execution_count": 3,
     "metadata": {},
     "output_type": "execute_result"
    }
   ],
   "source": [
    "def rob(nums):\n",
    "    \"\"\"\n",
    "    :type nums: List[int]\n",
    "    :rtype: int\n",
    "    \"\"\"\n",
    "    dp = [0]*len(nums)\n",
    "    for i in range(len(nums)):\n",
    "        print(dp)\n",
    "        if i < 1:\n",
    "            dp[i] = nums[i]\n",
    "        else:\n",
    "            dp[i] = max(dp[i-2]+nums[i], dp[i-1])\n",
    "    return dp[len(nums)-1]\n",
    "\n",
    "# Input = [2,7,9,3,1]\n",
    "# Input = [1,2,3,1]\n",
    "Input = [2,1,1,2]\n",
    "rob(Input)"
   ]
  },
  {
   "cell_type": "markdown",
   "metadata": {},
   "source": [
    "## 70. Climbing Stairs\n",
    "\n",
    "You are climbing a stair case. It takes n steps to reach to the top.\n",
    "\n",
    "Each time you can either climb 1 or 2 steps. In how many distinct ways can you climb to the top?\n",
    "\n",
    "Note: Given n will be a positive integer.\n",
    "\n",
    "Example 1:\n",
    "\n",
    "Input: 2\n",
    "\n",
    "Output: 2\n",
    "\n",
    "Explanation: There are two ways to climb to the top.\n",
    "\n",
    "1. 1 step + 1 step\n",
    "\n",
    "2. 2 steps\n",
    "\n",
    "Example 2:\n",
    "\n",
    "Input: 3\n",
    "\n",
    "Output: 3\n",
    "\n",
    "Explanation: There are three ways to climb to the top.\n",
    "\n",
    "1. 1 step + 1 step + 1 step\n",
    "\n",
    "2. 1 step + 2 steps\n",
    "\n",
    "3. 2 steps + 1 step"
   ]
  },
  {
   "cell_type": "code",
   "execution_count": 14,
   "metadata": {},
   "outputs": [
    {
     "data": {
      "text/plain": [
       "8"
      ]
     },
     "execution_count": 14,
     "metadata": {},
     "output_type": "execute_result"
    }
   ],
   "source": [
    "def climbStairs(n):\n",
    "    \"\"\"\n",
    "    :type n: int\n",
    "    :rtype: int\n",
    "    \"\"\"\n",
    "    one = 1\n",
    "    two = 2\n",
    "    if not n:\n",
    "        return \n",
    "    if n<=2:\n",
    "        return n\n",
    "    result = 0\n",
    "    for i in range(3, n+1):\n",
    "        result = one + two\n",
    "        one = two\n",
    "        two = result\n",
    "    return result\n",
    "\n",
    "# def climbStairs(n):\n",
    "#     if n <= 2:\n",
    "#         return n\n",
    "#     dp = [0] * n\n",
    "#     dp[0], dp[1] = 1, 2\n",
    "#     for i in range(2,n):\n",
    "#         dp[i] = dp[i-1] + dp[i-2]\n",
    "#     print(dp)\n",
    "#     return dp[-1]\n",
    "\n",
    "Input = 5\n",
    "climbStairs(Input)"
   ]
  },
  {
   "cell_type": "markdown",
   "metadata": {},
   "source": [
    "## 131. Palindrome Partitioning\n",
    "Given a string s, partition s such that every substring of the partition is a palindrome.\n",
    "\n",
    "Return all possible palindrome partitioning of s.\n",
    "\n",
    "Example:\n",
    "\n",
    "Input: \"aab\"\n",
    "\n",
    "Output:\n",
    "\n",
    "[\n",
    "\n",
    "  [\"aa\",\"b\"],\n",
    "  \n",
    "  [\"a\",\"a\",\"b\"]\n",
    "  \n",
    "]"
   ]
  },
  {
   "cell_type": "code",
   "execution_count": 3,
   "metadata": {},
   "outputs": [
    {
     "ename": "TypeError",
     "evalue": "can only concatenate list (not \"str\") to list",
     "output_type": "error",
     "traceback": [
      "\u001b[1;31m---------------------------------------------------------------------------\u001b[0m",
      "\u001b[1;31mTypeError\u001b[0m                                 Traceback (most recent call last)",
      "\u001b[1;32m<ipython-input-3-ccb60e35f109>\u001b[0m in \u001b[0;36m<module>\u001b[1;34m()\u001b[0m\n\u001b[0;32m     19\u001b[0m \u001b[1;33m\u001b[0m\u001b[0m\n\u001b[0;32m     20\u001b[0m \u001b[0mInput\u001b[0m \u001b[1;33m=\u001b[0m \u001b[1;34m\"aab\"\u001b[0m\u001b[1;33m\u001b[0m\u001b[0m\n\u001b[1;32m---> 21\u001b[1;33m \u001b[0mpartition\u001b[0m\u001b[1;33m(\u001b[0m\u001b[0mInput\u001b[0m\u001b[1;33m)\u001b[0m\u001b[1;33m\u001b[0m\u001b[0m\n\u001b[0m",
      "\u001b[1;32m<ipython-input-3-ccb60e35f109>\u001b[0m in \u001b[0;36mpartition\u001b[1;34m(s)\u001b[0m\n\u001b[0;32m      9\u001b[0m     \u001b[0mresult\u001b[0m \u001b[1;33m=\u001b[0m \u001b[1;33m[\u001b[0m\u001b[1;33m]\u001b[0m\u001b[1;33m\u001b[0m\u001b[0m\n\u001b[0;32m     10\u001b[0m     \u001b[0mpath\u001b[0m \u001b[1;33m=\u001b[0m \u001b[1;33m[\u001b[0m\u001b[1;33m]\u001b[0m\u001b[1;33m\u001b[0m\u001b[0m\n\u001b[1;32m---> 11\u001b[1;33m     \u001b[0mdfs\u001b[0m\u001b[1;33m(\u001b[0m\u001b[0ms\u001b[0m\u001b[1;33m,\u001b[0m \u001b[0mstart\u001b[0m\u001b[1;33m,\u001b[0m \u001b[0mpath\u001b[0m\u001b[1;33m,\u001b[0m \u001b[0mresult\u001b[0m\u001b[1;33m)\u001b[0m\u001b[1;33m\u001b[0m\u001b[0m\n\u001b[0m\u001b[0;32m     12\u001b[0m     \u001b[1;32mreturn\u001b[0m \u001b[0mresult\u001b[0m\u001b[1;33m\u001b[0m\u001b[0m\n\u001b[0;32m     13\u001b[0m \u001b[1;33m\u001b[0m\u001b[0m\n",
      "\u001b[1;32m<ipython-input-3-ccb60e35f109>\u001b[0m in \u001b[0;36mdfs\u001b[1;34m(s, start, path, result)\u001b[0m\n\u001b[0;32m     16\u001b[0m         \u001b[0mresult\u001b[0m\u001b[1;33m.\u001b[0m\u001b[0mappend\u001b[0m\u001b[1;33m(\u001b[0m\u001b[0mpath\u001b[0m\u001b[1;33m)\u001b[0m\u001b[1;33m\u001b[0m\u001b[0m\n\u001b[0;32m     17\u001b[0m     \u001b[1;32mfor\u001b[0m \u001b[0mi\u001b[0m \u001b[1;32min\u001b[0m \u001b[0mrange\u001b[0m\u001b[1;33m(\u001b[0m\u001b[0mstart\u001b[0m\u001b[1;33m,\u001b[0m\u001b[0mlen\u001b[0m\u001b[1;33m(\u001b[0m\u001b[0ms\u001b[0m\u001b[1;33m)\u001b[0m\u001b[1;33m)\u001b[0m\u001b[1;33m:\u001b[0m\u001b[1;33m\u001b[0m\u001b[0m\n\u001b[1;32m---> 18\u001b[1;33m         \u001b[0mdfs\u001b[0m\u001b[1;33m(\u001b[0m\u001b[0ms\u001b[0m\u001b[1;33m,\u001b[0m \u001b[0mi\u001b[0m\u001b[1;33m+\u001b[0m\u001b[1;36m1\u001b[0m\u001b[1;33m,\u001b[0m \u001b[0mpath\u001b[0m\u001b[1;33m+\u001b[0m\u001b[0ms\u001b[0m\u001b[1;33m[\u001b[0m\u001b[0mi\u001b[0m\u001b[1;33m]\u001b[0m\u001b[1;33m,\u001b[0m \u001b[0mresult\u001b[0m\u001b[1;33m)\u001b[0m\u001b[1;33m\u001b[0m\u001b[0m\n\u001b[0m\u001b[0;32m     19\u001b[0m \u001b[1;33m\u001b[0m\u001b[0m\n\u001b[0;32m     20\u001b[0m \u001b[0mInput\u001b[0m \u001b[1;33m=\u001b[0m \u001b[1;34m\"aab\"\u001b[0m\u001b[1;33m\u001b[0m\u001b[0m\n",
      "\u001b[1;31mTypeError\u001b[0m: can only concatenate list (not \"str\") to list"
     ]
    }
   ],
   "source": [
    "def partition(s):\n",
    "    \"\"\"\n",
    "    :type s: str\n",
    "    :rtype: List[List[str]]\n",
    "    \"\"\"\n",
    "    if not s:\n",
    "        return \n",
    "    start = 0\n",
    "    result = []\n",
    "    path = []\n",
    "    dfs(s, path, result)\n",
    "    return result\n",
    "    \n",
    "def dfs(s, start, path, result):\n",
    "    if (len(path) == 1 or (len(path) > 1 and path == path[::-1])):\n",
    "        result.append(path)\n",
    "    for i in range(start,len(s)):\n",
    "        dfs(s, i+1, path+s[i], result)\n",
    "        \n",
    "def isPal(s):\n",
    "    \n",
    "Input = \"aab\"\n",
    "partition(Input)"
   ]
  },
  {
   "cell_type": "markdown",
   "metadata": {},
   "source": [
    "## 90. Subsets II\n",
    "Given a collection of integers that might contain duplicates, nums, return all possible subsets (the power set).\n",
    "\n",
    "Note: The solution set must not contain duplicate subsets.\n",
    "\n",
    "Example:\n",
    "\n",
    "Input: [1,2,2]\n",
    "\n",
    "Output:\n",
    "[\n",
    "\n",
    "  [2],\n",
    "  \n",
    "  [1],\n",
    "  \n",
    "  [1,2,2],\n",
    "  \n",
    "  [2,2],\n",
    "  \n",
    "  [1,2],\n",
    "  \n",
    "  []\n",
    "  \n",
    "]"
   ]
  },
  {
   "cell_type": "code",
   "execution_count": 1,
   "metadata": {},
   "outputs": [
    {
     "data": {
      "text/plain": [
       "[[],\n",
       " [1],\n",
       " [1, 4],\n",
       " [1, 4, 4],\n",
       " [1, 4, 4, 4],\n",
       " [1, 4, 4, 4, 4],\n",
       " [4],\n",
       " [4, 4],\n",
       " [4, 4, 4],\n",
       " [4, 4, 4, 4]]"
      ]
     },
     "execution_count": 1,
     "metadata": {},
     "output_type": "execute_result"
    }
   ],
   "source": [
    "def subsetsWithDup(nums):\n",
    "    \"\"\"\n",
    "    :type nums: List[int]\n",
    "    :rtype: List[List[int]]\n",
    "    \"\"\"\n",
    "    if not nums:\n",
    "        return\n",
    "    nums.sort()\n",
    "    result = []\n",
    "    path = []\n",
    "    start = 0\n",
    "    dfs(nums, start, path, result)\n",
    "    return result\n",
    "\n",
    "def dfs(nums, start, path, result):\n",
    "    if path not in result:\n",
    "        result.append(path)\n",
    "    for i in range(start, len(nums)):\n",
    "        dfs(nums, i+1, path+[nums[i]], result)\n",
    "\n",
    "nums = [4,4,4,1,4]\n",
    "\n",
    "subsetsWithDup(nums)\n"
   ]
  },
  {
   "cell_type": "markdown",
   "metadata": {},
   "source": [
    "## 78. Subsets\n",
    "Given a set of distinct integers, nums, return all possible subsets (the power set).\n",
    "\n",
    "Note: The solution set must not contain duplicate subsets.\n",
    "\n",
    "Example:\n",
    "\n",
    "Input: nums = [1,2,3]\n",
    "\n",
    "Output:\n",
    "\n",
    "[\n",
    "\n",
    "  [3],\n",
    "  \n",
    "  [1],\n",
    "  \n",
    "  [2],\n",
    "  \n",
    "  [1,2,3],\n",
    "  \n",
    "  [1,3],\n",
    "  \n",
    "  [2,3],\n",
    "  \n",
    "  [1,2],\n",
    "  \n",
    "  []\n",
    "  \n",
    "]"
   ]
  },
  {
   "cell_type": "code",
   "execution_count": 10,
   "metadata": {},
   "outputs": [
    {
     "data": {
      "text/plain": [
       "[[], [1], [1, 2], [1, 2, 3], [1, 3], [2], [2, 3], [3]]"
      ]
     },
     "execution_count": 10,
     "metadata": {},
     "output_type": "execute_result"
    }
   ],
   "source": [
    "def subsets(nums):\n",
    "    \"\"\"\n",
    "    :type nums: List[int]\n",
    "    :rtype: List[List[int]]\n",
    "    \"\"\"\n",
    "    if not nums:\n",
    "        return\n",
    "    result = []\n",
    "    path = []\n",
    "    start = 0\n",
    "    dfs(nums, start, path, result)\n",
    "    return result\n",
    "\n",
    "def dfs(nums, start, path, result):\n",
    "    result.append(path)\n",
    "    for i in range(start, len(nums)):\n",
    "        dfs(nums, i+1, path+[nums[i]], result)\n",
    "\n",
    "nums = [1,2,3]\n",
    "\n",
    "subsets(nums)\n",
    "    "
   ]
  },
  {
   "cell_type": "markdown",
   "metadata": {},
   "source": [
    "## 40. Combination Sum II\n",
    "\n",
    "Given a collection of candidate numbers (candidates) and a target number (target), find all unique combinations in candidates where the candidate numbers sums to target.\n",
    "\n",
    "Each number in candidates may only be used once in the combination.\n",
    "\n",
    "Note:\n",
    "\n",
    "All numbers (including target) will be positive integers.\n",
    "The solution set must not contain duplicate combinations.\n",
    "Example 1:\n",
    "\n",
    "Input: candidates = [10,1,2,7,6,1,5], target = 8,\n",
    "\n",
    "A solution set is:\n",
    "\n",
    "[\n",
    "\n",
    "  [1, 7],\n",
    "  \n",
    "  [1, 2, 5],\n",
    "  \n",
    "  [2, 6],\n",
    "  \n",
    "  [1, 1, 6]\n",
    "  \n",
    "]\n",
    "\n",
    "Example 2:\n",
    "\n",
    "Input: candidates = [2,5,2,1,2], target = 5,\n",
    "\n",
    "A solution set is:\n",
    "\n",
    "[\n",
    "\n",
    "  [1,2,2],\n",
    "  \n",
    "  [5]\n",
    "  \n",
    "]"
   ]
  },
  {
   "cell_type": "code",
   "execution_count": 92,
   "metadata": {},
   "outputs": [
    {
     "name": "stdout",
     "output_type": "stream",
     "text": [
      "[1, 1, 2, 3, 4, 4, 4, 4, 4, 5]\n"
     ]
    },
    {
     "data": {
      "text/plain": [
       "[[1, 4, 5], [1, 1, 4, 4], [1, 2, 3, 4]]"
      ]
     },
     "execution_count": 92,
     "metadata": {},
     "output_type": "execute_result"
    }
   ],
   "source": [
    "def combinationSum2(candidates, target):\n",
    "    # Sorting is really helpful, se we can avoid over counting easily\n",
    "    candidates.sort()                      \n",
    "    result = []\n",
    "    combine_sum_2(candidates, 0, [], result, target)\n",
    "    return result\n",
    "    \n",
    "def combine_sum_2(nums, start, path, result, target):\n",
    "    # Base case: if the sum of the path satisfies the target, we will consider \n",
    "    # it as a solution, and stop there\n",
    "    if not target:\n",
    "        result.append(path)\n",
    "        return\n",
    "    \n",
    "    for i in range(start, len(nums)):\n",
    "        # Very important here! We don't use `i > 0` because we always want \n",
    "        # to count the first element in this recursive step even if it is the same \n",
    "        # as one before. To avoid overcounting, we just ignore the duplicates\n",
    "        # after the first element.\n",
    "        if i > start and nums[i] == nums[i - 1]:\n",
    "            continue\n",
    "\n",
    "        # If the current element is bigger than the assigned target, there is \n",
    "        # no need to keep searching, since all the numbers are positive\n",
    "        if nums[i] > target:\n",
    "            break\n",
    "\n",
    "        # We change the start to `i + 1` because one element only could\n",
    "        # be used once\n",
    "        combine_sum_2(nums, i + 1, path + [nums[i]], \n",
    "                           result, target - nums[i])\n",
    "    \n",
    "        \n",
    "# candidates = [10,1,2,7,6,1,5]\n",
    "# target = 8\n",
    "\n",
    "# candidates = [2,5,2,1,2]\n",
    "# target = 5\n",
    "\n",
    "# candidates = [4,4,2,1,4,2,2,1,3]\n",
    "# target = 6\n",
    "\n",
    "candidates = [4,1,1,4,4,4,4,2,3,5]\n",
    "target = 10\n",
    "\n",
    "combinationSum(candidates, target)"
   ]
  },
  {
   "cell_type": "markdown",
   "metadata": {},
   "source": [
    "## 39. Combination Sum\n",
    "Given a set of candidate numbers (candidates) (without duplicates) and a target number (target), find all unique combinations in candidates where the candidate numbers sums to target.\n",
    "\n",
    "The same repeated number may be chosen from candidates unlimited number of times.\n",
    "\n",
    "Note:\n",
    "\n",
    "\n",
    "All numbers (including target) will be positive integers.\n",
    "The solution set must not contain duplicate combinations.\n",
    "\n",
    "Example 1:\n",
    "\n",
    "\n",
    "Input: candidates = [2,3,6,7], target = 7,\n",
    "\n",
    "A solution set is:\n",
    "\n",
    "[\n",
    "\n",
    "  [7],\n",
    "  \n",
    "  [2,2,3]\n",
    "  \n",
    "]\n",
    "\n",
    "Example 2:\n",
    "\n",
    "Input: candidates = [2,3,5], target = 8,\n",
    "\n",
    "A solution set is:\n",
    "\n",
    "[\n",
    "\n",
    "  [2,2,2,2],\n",
    "  \n",
    "  [2,3,3],\n",
    "  \n",
    "  [3,5]\n",
    "  \n",
    "]"
   ]
  },
  {
   "cell_type": "code",
   "execution_count": 6,
   "metadata": {},
   "outputs": [
    {
     "data": {
      "text/plain": [
       "[[2, 2, 3], [7]]"
      ]
     },
     "execution_count": 6,
     "metadata": {},
     "output_type": "execute_result"
    }
   ],
   "source": [
    "def combinationSum(candidates, target):\n",
    "    res = []\n",
    "    candidates.sort()\n",
    "    dfs(candidates, target, 0, [], res)\n",
    "    return res\n",
    "    \n",
    "def dfs(nums, target, index, path, res):\n",
    "    if target < 0:\n",
    "        return  # backtracking\n",
    "    if target == 0:\n",
    "        res.append(path)\n",
    "        return \n",
    "    for i in range(index, len(nums)):\n",
    "        dfs(nums, target-nums[i], i, path+[nums[i]], res)\n",
    "\n",
    "\n",
    "        \n",
    "Input = [2,3,6,7]\n",
    "target = 7\n",
    "combinationSum(Input, target)"
   ]
  },
  {
   "cell_type": "markdown",
   "metadata": {},
   "source": [
    "## 77. Combinations\n",
    "\n",
    "Given two integers n and k, return all possible combinations of k numbers out of 1 ... n.\n",
    "\n",
    "Example:\n",
    "\n",
    "Input: n = 4, k = 2\n",
    "\n",
    "Output:\n",
    "\n",
    "[\n",
    "\n",
    "  [2,4],\n",
    "  \n",
    "  [3,4],\n",
    "  \n",
    "  [2,3],\n",
    "  \n",
    "  [1,2],\n",
    "  \n",
    "  [1,3],\n",
    "  \n",
    "  [1,4],\n",
    "  \n",
    "]"
   ]
  },
  {
   "cell_type": "code",
   "execution_count": 8,
   "metadata": {},
   "outputs": [
    {
     "data": {
      "text/plain": [
       "[(1, 2), (1, 3), (1, 4), (2, 3), (2, 4), (3, 4)]"
      ]
     },
     "execution_count": 8,
     "metadata": {},
     "output_type": "execute_result"
    }
   ],
   "source": [
    "import itertools\n",
    "def combine(n, k):\n",
    "    \"\"\"\n",
    "    :type n: int\n",
    "    :type k: int\n",
    "    :rtype: List[List[int]]\n",
    "    \"\"\"\n",
    "    result = list(itertools.combinations(range(1,n+1),k))\n",
    "    \n",
    "    return result\n",
    "\n",
    "n = 4\n",
    "k = 2\n",
    "combine(4,2)"
   ]
  },
  {
   "cell_type": "markdown",
   "metadata": {},
   "source": [
    "## 46. Permutations\n",
    "Given a collection of distinct integers, return all possible permutations.\n",
    "\n",
    "Example:\n",
    "\n",
    "Input: [1,2,3]\n",
    "\n",
    "Output:\n",
    "\n",
    "[\n",
    "\n",
    "  [1,2,3],\n",
    "  \n",
    "  [1,3,2],\n",
    "  \n",
    "  [2,1,3],\n",
    "  \n",
    "  [2,3,1],\n",
    "  \n",
    "  [3,1,2],\n",
    "  \n",
    "  [3,2,1]\n",
    "  \n",
    "]"
   ]
  },
  {
   "cell_type": "code",
   "execution_count": 9,
   "metadata": {
    "collapsed": true
   },
   "outputs": [],
   "source": [
    "import itertools\n",
    "# def permute(nums):\n",
    "#     \"\"\"\n",
    "#     :type nums: List[int]\n",
    "#     :rtype: List[List[int]]\n",
    "#     \"\"\"\n",
    "#     return list(itertools.permutations(nums))\n",
    "\n",
    "def permuteUnique(nums):\n",
    "    \"\"\"\n",
    "    :type nums: List[int]\n",
    "    :rtype: List[List[int]]\n",
    "    \"\"\"\n",
    "    res = []\n",
    "    dfs(nums, [], res)\n",
    "    s = set(tuple(l) for l in res)\n",
    "    result = list(s)\n",
    "    return result\n",
    "\n",
    "def dfs(nums, path, res):\n",
    "    if not nums:\n",
    "        res.append(path)\n",
    "        # return # backtracking\n",
    "    for i in range(len(nums)):\n",
    "        dfs(nums[:i]+nums[i+1:], path+[nums[i]], res)\n",
    "    \n",
    "\n",
    "Input = [1,1,3]\n",
    "result = permuteUnique(Input)\n",
    "s = set(tuple(l) for l in result)\n",
    "\n",
    "result = list(s)\n"
   ]
  },
  {
   "cell_type": "markdown",
   "metadata": {},
   "source": [
    "## Search"
   ]
  },
  {
   "cell_type": "markdown",
   "metadata": {},
   "source": [
    "## 257. Binary Tree Paths\n",
    "\n",
    "Given a binary tree, return all root-to-leaf paths.\n",
    "\n",
    "Note: A leaf is a node with no children.\n",
    "\n",
    "Example:\n",
    "\n",
    "Input:\n",
    "\n",
    "   1\n",
    "   \n",
    " /   \\\n",
    " \n",
    "2     3\n",
    "\n",
    " \\\n",
    " \n",
    "  5\n",
    "\n",
    "\n",
    "Output: [\"1->2->5\", \"1->3\"]\n",
    "\n",
    "\n",
    "Explanation: All root-to-leaf paths are: 1->2->5, 1->3"
   ]
  },
  {
   "cell_type": "code",
   "execution_count": 8,
   "metadata": {},
   "outputs": [
    {
     "ename": "NameError",
     "evalue": "name 'tree' is not defined",
     "output_type": "error",
     "traceback": [
      "\u001b[1;31m---------------------------------------------------------------------------\u001b[0m",
      "\u001b[1;31mNameError\u001b[0m                                 Traceback (most recent call last)",
      "\u001b[1;32m<ipython-input-8-95aa0701126a>\u001b[0m in \u001b[0;36m<module>\u001b[1;34m()\u001b[0m\n\u001b[0;32m     36\u001b[0m     \u001b[1;32mreturn\u001b[0m \u001b[0mtreepaths\u001b[0m\u001b[1;33m\u001b[0m\u001b[0m\n\u001b[0;32m     37\u001b[0m \u001b[1;33m\u001b[0m\u001b[0m\n\u001b[1;32m---> 38\u001b[1;33m \u001b[0mprint\u001b[0m\u001b[1;33m(\u001b[0m\u001b[0mtree\u001b[0m\u001b[1;33m)\u001b[0m\u001b[1;33m\u001b[0m\u001b[0m\n\u001b[0m\u001b[0;32m     39\u001b[0m \u001b[1;33m\u001b[0m\u001b[0m\n\u001b[0;32m     40\u001b[0m \u001b[1;33m\u001b[0m\u001b[0m\n",
      "\u001b[1;31mNameError\u001b[0m: name 'tree' is not defined"
     ]
    }
   ],
   "source": [
    "# Definition for a binary tree node.\n",
    "class TreeNode:\n",
    "    def __init__(self):\n",
    "        self.val =None\n",
    "        self.left = None\n",
    "        self.right = None\n",
    "        \n",
    "    def add(self, val):\n",
    "        if(self.root == None):\n",
    "            self.root = Node(val)\n",
    "        elif node.left == None:\n",
    "            self._add(val, self.root)\n",
    "            \n",
    "    def _add(self, val, node):\n",
    "        if(val < node.v):\n",
    "            if(node.l != None):\n",
    "                self._add(val, node.l)\n",
    "            else:\n",
    "                node.l = Node(val)\n",
    "        else:\n",
    "            if(node.r != None):\n",
    "                self._add(val, node.r)\n",
    "            else:\n",
    "                node.r = Node(val)\n",
    "    \n",
    "\n",
    "result = []\n",
    "\n",
    "def binaryTreePaths(self, root):\n",
    "    if not root:\n",
    "        return []\n",
    "    if not root.left and not root.right:\n",
    "        return [str(root.val)]\n",
    "    treepaths = [str(root.val)+'->'+path for path in self.binaryTreePaths(root.left)]\n",
    "    treepaths += [str(root.val)+'->'+path for path in self.binaryTreePaths(root.right)]\n",
    "    return treepaths\n",
    "\n",
    "print(tree)\n",
    "    \n",
    "    \n",
    "    "
   ]
  },
  {
   "cell_type": "markdown",
   "metadata": {},
   "source": [
    "## 79. Word Search\n",
    "\n",
    "Given a 2D board and a word, find if the word exists in the grid.\n",
    "\n",
    "The word can be constructed from letters of sequentially adjacent cell, where \"adjacent\" cells are those horizontally or vertically neighboring. The same letter cell may not be used more than once.\n",
    "\n",
    "Example:\n",
    "\n",
    "board =\n",
    "[\n",
    "\n",
    "  ['A','B','C','E'],\n",
    "  \n",
    "  ['S','F','C','S'],\n",
    "  \n",
    "  ['A','D','E','E']\n",
    "  \n",
    "]\n",
    "\n",
    "Given word = \"ABCCED\", return true.\n",
    "\n",
    "Given word = \"SEE\", return true.\n",
    "\n",
    "Given word = \"ABCB\", return false."
   ]
  },
  {
   "cell_type": "code",
   "execution_count": 21,
   "metadata": {},
   "outputs": [
    {
     "name": "stdout",
     "output_type": "stream",
     "text": [
      "3 4\n",
      "0 0\n",
      "['A', 'B', 'C', 'E']\n",
      "['S', 'F', 'C', 'S']\n",
      "['A', 'D', 'E', 'E']\n",
      " \n",
      "['#', 'B', 'C', 'E']\n",
      "['S', 'F', 'C', 'S']\n",
      "['A', 'D', 'E', 'E']\n",
      " \n",
      "['#', 'B', 'C', 'E']\n",
      "['S', 'F', 'C', 'S']\n",
      "['A', 'D', 'E', 'E']\n",
      " \n",
      "['#', 'B', 'C', 'E']\n",
      "['S', 'F', 'C', 'S']\n",
      "['A', 'D', 'E', 'E']\n",
      " \n",
      "['#', 'B', 'C', 'E']\n",
      "['S', 'F', 'C', 'S']\n",
      "['A', 'D', 'E', 'E']\n",
      " \n",
      "['#', '#', 'C', 'E']\n",
      "['S', 'F', 'C', 'S']\n",
      "['A', 'D', 'E', 'E']\n",
      " \n",
      "['#', '#', 'C', 'E']\n",
      "['S', 'F', 'C', 'S']\n",
      "['A', 'D', 'E', 'E']\n",
      " \n",
      "['#', '#', 'C', 'E']\n",
      "['S', 'F', 'C', 'S']\n",
      "['A', 'D', 'E', 'E']\n",
      " \n",
      "['#', '#', 'C', 'E']\n",
      "['S', 'F', 'C', 'S']\n",
      "['A', 'D', 'E', 'E']\n",
      " \n",
      "['#', '#', '#', 'E']\n",
      "['S', 'F', 'C', 'S']\n",
      "['A', 'D', 'E', 'E']\n",
      " \n",
      "['#', '#', '#', 'E']\n",
      "['S', 'F', 'C', 'S']\n",
      "['A', 'D', 'E', 'E']\n",
      " \n",
      "['#', '#', '#', 'E']\n",
      "['S', 'F', '#', 'S']\n",
      "['A', 'D', 'E', 'E']\n",
      " \n",
      "['#', '#', '#', 'E']\n",
      "['S', 'F', '#', 'S']\n",
      "['A', 'D', 'E', 'E']\n",
      " \n",
      "['#', '#', '#', 'E']\n",
      "['S', 'F', '#', 'S']\n",
      "['A', 'D', '#', 'E']\n",
      " \n",
      "['#', '#', '#', 'E']\n",
      "['S', 'F', '#', 'S']\n",
      "['A', 'D', '#', 'E']\n",
      " \n",
      "['#', '#', '#', 'E']\n",
      "['S', 'F', '#', 'S']\n",
      "['A', 'D', '#', 'E']\n",
      " \n",
      "['#', '#', '#', 'E']\n",
      "['S', 'F', '#', 'S']\n",
      "['A', '#', '#', 'E']\n",
      " \n"
     ]
    },
    {
     "data": {
      "text/plain": [
       "True"
      ]
     },
     "execution_count": 21,
     "metadata": {},
     "output_type": "execute_result"
    }
   ],
   "source": [
    "# def exist(board, word):\n",
    "#     if not board:\n",
    "#         return False\n",
    "#     for i in range(len(board)):\n",
    "#         for j in range(len(board[0])):\n",
    "#             if dfs(board, i, j, word):\n",
    "#                 return True\n",
    "#     return False\n",
    "\n",
    "# # check whether can find word, start at (i,j) position    \n",
    "# def dfs(board, i, j, word):\n",
    "#     if len(word) == 0: # all the characters are checked\n",
    "#         return True\n",
    "#     if i<0 or i>=len(board) or j<0 or j>=len(board[0]) or word[0]!=board[i][j]:\n",
    "#         return False\n",
    "#     tmp = board[i][j]  # first character is found, check the remaining part\n",
    "#     board[i][j] = \"#\"  # avoid visit agian \n",
    "#     # check whether can find \"word\" along one direction\n",
    "#     res = dfs(board, i+1, j, word[1:]) or dfs(board, i-1, j, word[1:]) or dfs(board, i, j+1, word[1:]) or dfs(board, i, j-1, word[1:])\n",
    "#     board[i][j] = tmp\n",
    "#     return res\n",
    "\n",
    "def exist(board, word):\n",
    "    for i in range(len(board)):\n",
    "        for j in range(len(board[0])):\n",
    "            print(i,j)\n",
    "            if dfs(board, i, j, word):\n",
    "                return True\n",
    "    return False\n",
    "\n",
    "def dfs(board, i, j, word):\n",
    "    for t in board:\n",
    "        print(t)\n",
    "    print(\" \")\n",
    "    \n",
    "    if len(word)==0:\n",
    "        return True\n",
    "    if i < 0 or i >= len(board) or j < 0 or j >= len(board[0]) or word[0]!=board[i][j]:\n",
    "        return False\n",
    "    temp = board[i][j]\n",
    "    board[i][j] = \"#\"\n",
    "    res = dfs(board,i-1,j,word[1:]) or dfs(board, i+1,j,word[1:]) or dfs(board,i,j-1,word[1:]) or dfs(board, i, j+1,word[1:])\n",
    "    board[i][j] = temp\n",
    "    return res\n",
    "    \n",
    "board = [\n",
    "\n",
    "['A','B','C','E'],\n",
    "\n",
    "['S','F','C','S'],\n",
    "\n",
    "['A','D','E','E']\n",
    "\n",
    "]\n",
    "print(len(board),len(board[0]))\n",
    "word = \"ABCCED\"\n",
    "\n",
    "# word = \"SEE\"\n",
    "\n",
    "# word = \"ABCB\"\n",
    "\n",
    "count = 0\n",
    "exist(board, word)"
   ]
  },
  {
   "cell_type": "markdown",
   "metadata": {},
   "source": [
    "## 17. Letter Combinations of a Phone Number\n",
    "\n",
    "Given a string containing digits from 2-9 inclusive, return all possible letter combinations that the number could represent.\n",
    "\n",
    "A mapping of digit to letters (just like on the telephone buttons) is given below. Note that 1 does not map to any letters.\n",
    "\n",
    "\n",
    "\n",
    "Example:\n",
    "\n",
    "Input: \"23\"\n",
    "\n",
    "Output: [\"ad\", \"ae\", \"af\", \"bd\", \"be\", \"bf\", \"cd\", \"ce\", \"cf\"].\n",
    "\n",
    "Note:\n",
    "\n",
    "Although the above answer is in lexicographical order, your answer could be in any order you want."
   ]
  },
  {
   "cell_type": "code",
   "execution_count": 4,
   "metadata": {},
   "outputs": [
    {
     "name": "stdout",
     "output_type": "stream",
     "text": [
      "['ad', 'ae', 'af', 'bd', 'be', 'bf', 'cd', 'ce', 'cf']\n"
     ]
    }
   ],
   "source": [
    "def letterCombinations(digits):\n",
    "    if '' == digits: return []\n",
    "    kvmaps = {\n",
    "        '2': 'abc',\n",
    "        '3': 'def',\n",
    "        '4': 'ghi',\n",
    "        '5': 'jkl',\n",
    "        '6': 'mno',\n",
    "        '7': 'pqrs',\n",
    "        '8': 'tuv',\n",
    "        '9': 'wxyz'\n",
    "    }\n",
    "    letters = [kvmaps[i] for i in digits]\n",
    "    from functools import reduce\n",
    "    if digits:\n",
    "        if len(digits) == 1:\n",
    "            return list(kvmaps[digits])\n",
    "        else:\n",
    "            return reduce((lambda x, y: [i + j for i in x for j in y]), letters) \n",
    "    else:\n",
    "        return []\n",
    "    \n",
    "                       \n",
    "print(letterCombinations(\"23\"))"
   ]
  },
  {
   "cell_type": "markdown",
   "metadata": {},
   "source": [
    "## 417. Pacific Atlantic Water Flow\n",
    "\n",
    "Given an m x n matrix of non-negative integers representing the height of each unit cell in a continent, the \"Pacific ocean\" touches the left and top edges of the matrix and the \"Atlantic ocean\" touches the right and bottom edges.\n",
    "\n",
    "Water can only flow in four directions (up, down, left, or right) from a cell to another one with height equal or lower.\n",
    "\n",
    "Find the list of grid coordinates where water can flow to both the Pacific and Atlantic ocean.\n",
    "\n",
    "Note:\n",
    "\n",
    "The order of returned grid coordinates does not matter.\n",
    "Both m and n are less than 150.\n",
    "\n",
    "Example:\n",
    "\n",
    "Given the following 5x5 matrix:\n",
    "\n",
    "  Pacific ~   ~   ~   ~   ~ \n",
    "  \n",
    "       ~  1   2   2   3  (5) *\n",
    "       \n",
    "       ~  3   2   3  (4) (4) *\n",
    "       \n",
    "       ~  2   4  (5)  3   1  *\n",
    "       \n",
    "       ~ (6) (7)  1   4   5  *\n",
    "       \n",
    "       ~ (5)  1   1   2   4  *\n",
    "       \n",
    "          *   *   *   *   * Atlantic\n",
    "\n",
    "Return:\n",
    "\n",
    "[[0, 4], [1, 3], [1, 4], [2, 2], [3, 0], [3, 1], [4, 0]] (positions with parentheses in above matrix)."
   ]
  },
  {
   "cell_type": "code",
   "execution_count": 28,
   "metadata": {},
   "outputs": [
    {
     "name": "stdout",
     "output_type": "stream",
     "text": [
      "--- 0.002000 seconds ---\n"
     ]
    }
   ],
   "source": [
    "def pacificAtlantic(matrix):\n",
    "        output = []\n",
    "        if not matrix:\n",
    "            return output\n",
    "        rows, cols = len(matrix), len(matrix[0])\n",
    "        Reached_P = [[False for _ in range(cols)]for _ in range(rows)] #check if the points can reach P\n",
    "        Reached_A = [[False for _ in range(cols)]for _ in range(rows)] #check if the points can reach A\n",
    "        def DFS(r, c, Reached):\n",
    "            if Reached[r][c] == True:\n",
    "                return\n",
    "            Reached[r][c] = True\n",
    "            for (i, j) in ((0, 1), (1, 0), (0, -1), (-1, 0)):\n",
    "                if 0 <= r+i < rows and 0 <= c+j < cols and matrix[r+i][c+j] >= matrix[r][c]:\n",
    "                    DFS(r+i, c+j, Reached)\n",
    "        for j in range(cols):\n",
    "            DFS(0, j, Reached_P) #check TOP Border Reachability(Pacific)\n",
    "        for i in range(rows):\n",
    "            DFS(i, 0, Reached_P) #check LEFT Border Reachability(Pacific)\n",
    "        for j in range(cols):\n",
    "            DFS(rows-1, j, Reached_A) #check RIGHT Border Reachability (Atlantic)\n",
    "        for i in range(rows):\n",
    "            DFS(i, cols-1, Reached_A)#check BOTTOM Border Reachability (Atlantic)\n",
    "        for i in range(rows):\n",
    "            for j in range(cols):\n",
    "                if Reached_P[i][j] and Reached_A[i][j]:\n",
    "                    output.append([i,j])\n",
    "        return output\n",
    "    \n",
    "Input = [\n",
    "    [17,7,10,8,3,13,17,19,12,8,5,18,9,10,19,15,3,14,15,10,4,8,13,15,6,9,19,16,1,17,10,16,7,5,7,14,18,5,1,8,1,18,0,7,11,10,1,8,5,0,19,9,7,4,9,18,7,17,4,4,5,5,16,0],\n",
    "    [19,6,0,13,1,18,6,7,2,1,12,7,6,15,14,16,11,17,18,4,16,18,2,9,4,19,8,0,1,0,11,0,9,11,10,17,9,18,11,11,17,8,10,5,4,2,4,6,18,3,11,14,7,14,15,19,6,5,8,17,8,3,19,1],\n",
    "    [0,11,15,5,17,15,2,8,3,17,5,0,10,13,12,18,4,7,18,19,13,17,17,1,10,5,19,13,3,1,10,2,10,4,17,7,18,16,4,7,4,2,16,10,18,10,1,17,14,17,19,19,6,6,0,19,18,12,16,5,9,6,13,12],\n",
    "    [13,12,7,2,15,2,16,8,16,4,5,10,7,12,17,11,16,13,6,18,16,1,3,7,3,14,13,9,7,6,3,14,15,12,17,14,0,4,7,2,11,18,19,4,2,0,9,19,17,6,0,8,18,3,7,16,0,18,2,14,12,14,10,17],\n",
    "    [6,12,3,19,6,10,9,18,13,18,7,8,14,13,5,2,11,10,16,13,5,10,0,0,11,17,1,10,0,9,11,9,19,8,17,17,1,12,6,19,18,10,19,2,12,15,0,15,1,7,9,17,15,12,1,3,15,3,11,11,4,11,14,13],\n",
    "    [10,15,3,12,11,7,17,10,5,11,9,2,3,10,19,3,6,13,13,12,0,13,7,10,8,4,13,7,3,4,18,13,15,18,6,5,18,2,2,2,12,4,3,4,3,11,1,9,0,10,19,10,6,19,14,5,9,4,2,0,5,17,4,18],[14,9,9,10,18,17,7,16,17,11,15,4,5,1,4,10,1,0,16,3,4,0,1,15,0,2,2,4,11,5,15,12,3,0,19,16,14,1,14,11,10,14,4,6,12,0,17,5,10,12,18,16,7,19,9,8,19,0,5,5,9,5,0,6],[13,18,3,15,2,8,12,4,1,18,3,2,0,4,3,7,11,14,11,3,1,5,1,2,7,15,15,9,13,3,7,9,18,17,18,11,3,0,0,10,11,7,18,4,2,2,16,3,0,6,6,5,14,8,14,14,16,2,1,14,6,9,8,0],[5,3,17,17,4,13,3,2,8,17,2,0,10,5,1,14,9,8,3,10,13,6,4,6,6,16,17,3,9,2,14,11,13,9,13,19,18,13,13,4,4,11,16,2,14,5,13,0,2,3,6,11,6,2,3,10,1,8,5,19,16,7,10,8],[7,14,0,14,4,14,5,3,11,19,15,11,1,7,13,12,15,4,15,14,13,17,18,1,17,7,4,0,10,14,15,4,15,4,0,19,6,7,8,7,17,7,15,13,16,18,5,14,12,7,2,16,8,10,2,16,18,17,18,9,12,1,10,2],[14,9,8,12,17,9,18,13,6,11,12,9,13,18,1,15,4,19,16,6,12,5,2,19,16,18,3,10,5,4,19,7,6,18,12,14,0,3,18,1,10,17,6,19,4,15,0,19,9,2,19,14,7,6,7,12,14,1,16,10,14,9,13,2],[0,3,12,18,11,13,1,2,16,3,10,16,19,6,14,17,13,2,5,6,12,10,9,18,2,3,19,19,18,18,1,17,7,15,1,6,11,15,6,5,10,14,2,2,9,2,5,14,5,4,17,0,0,8,12,19,6,0,2,0,13,18,15,12],[13,12,1,12,0,13,19,1,10,14,8,10,3,15,11,9,18,19,12,14,14,16,15,3,11,8,4,13,8,10,15,12,1,8,14,10,9,4,6,18,9,19,15,17,11,10,5,7,18,13,16,2,14,15,14,19,14,3,17,2,11,12,4,5],[18,12,15,10,18,16,7,14,7,12,3,1,5,14,6,15,2,0,2,14,17,3,15,3,17,12,13,7,12,18,10,18,6,15,4,19,19,7,19,14,12,7,12,4,12,19,19,10,2,9,15,16,19,19,0,10,9,8,8,0,17,8,15,11],[19,7,1,16,1,15,18,5,12,6,15,12,12,13,0,11,9,16,2,6,18,12,14,4,2,7,19,9,2,8,17,17,6,10,3,7,4,3,16,5,7,1,6,19,13,5,4,7,13,13,19,7,13,15,4,2,3,9,0,10,2,0,0,12],[8,5,0,3,3,3,4,14,9,10,3,19,8,18,4,13,13,7,14,11,13,17,3,0,10,9,5,7,1,3,2,19,11,12,6,19,14,19,11,1,6,7,1,18,13,12,12,2,12,7,3,9,8,18,7,5,10,1,13,8,15,14,1,7],[4,10,0,5,2,0,13,5,13,10,4,3,7,12,15,13,16,13,15,3,1,16,3,6,10,7,4,2,18,19,5,7,7,17,18,12,2,5,1,19,0,13,4,1,14,17,6,3,3,5,8,8,1,9,0,2,12,12,2,15,7,16,0,0],[19,15,4,12,2,3,8,7,5,8,17,6,7,11,1,8,10,7,8,4,19,8,14,6,10,15,8,4,16,4,8,17,10,13,14,9,15,9,13,16,2,1,8,1,17,6,15,3,18,18,14,11,12,9,8,17,10,10,12,5,0,8,9,3],[15,3,5,10,4,6,17,2,13,18,7,18,8,3,1,12,5,15,2,0,3,17,15,4,18,7,4,19,16,7,0,9,17,8,15,5,2,5,12,18,11,12,4,4,17,17,6,13,0,14,8,17,8,7,3,14,11,19,11,0,7,9,13,4],[10,17,14,1,4,3,17,8,0,3,6,13,8,16,4,7,2,7,4,17,8,3,3,4,1,5,13,5,13,6,4,3,4,2,13,2,10,10,6,3,4,15,9,4,19,0,5,0,17,9,11,8,2,13,8,1,0,11,2,19,7,11,4,15],[8,19,0,8,13,1,16,4,11,3,13,13,8,10,1,16,0,17,16,10,7,18,1,6,11,3,14,4,17,19,6,8,7,8,3,19,17,4,18,14,16,12,19,12,7,9,1,14,19,7,2,7,14,17,12,19,16,10,6,9,1,18,2,4],[7,16,15,7,12,12,18,14,13,18,9,1,15,18,5,3,1,3,7,0,15,6,3,7,10,12,8,11,10,8,7,6,1,16,18,0,0,4,1,19,13,9,17,12,0,19,17,2,3,1,6,7,19,10,2,18,4,9,2,4,5,2,18,8],[4,16,14,15,13,8,2,14,11,8,18,1,7,14,0,16,2,16,12,13,5,8,2,1,8,16,19,18,8,11,2,3,2,12,2,6,6,13,6,14,17,17,4,8,7,18,7,16,4,17,19,10,10,8,11,8,4,18,19,0,2,12,0,6],[10,8,6,10,3,18,9,4,17,14,15,13,1,12,13,19,10,16,13,6,5,10,17,2,1,15,15,1,4,3,0,1,3,19,18,15,5,15,6,3,0,0,4,0,16,10,7,17,0,13,1,13,2,3,15,16,3,11,13,3,1,10,10,14],[3,14,19,14,15,8,14,8,2,18,17,1,0,7,5,1,2,19,3,12,10,18,10,13,3,10,15,0,14,16,13,2,0,9,3,5,6,6,13,7,7,14,4,5,14,12,11,15,0,11,19,13,4,15,5,18,6,19,7,2,2,6,10,7],[12,11,4,13,5,15,14,19,3,6,4,18,17,2,16,16,2,17,17,17,13,7,1,2,19,11,19,0,5,6,4,9,13,6,4,6,8,14,2,16,10,19,13,17,9,10,5,0,7,5,5,5,0,9,6,10,1,10,10,2,12,2,4,11],[8,12,9,1,0,4,5,3,0,13,11,6,15,3,13,6,13,15,4,19,14,17,12,9,4,8,12,19,18,18,2,14,9,18,3,8,16,19,18,12,12,19,10,10,15,10,1,14,11,2,16,17,13,15,14,16,15,12,14,17,0,12,9,14],[0,12,16,9,13,10,14,18,16,15,6,15,4,6,9,13,0,19,11,1,12,12,1,18,8,15,18,19,13,6,2,14,9,5,17,6,13,5,9,18,18,19,16,6,6,15,8,7,13,18,8,13,0,19,12,8,13,5,14,17,17,19,13,10],[4,15,7,13,19,1,14,3,0,8,3,12,18,1,7,15,2,11,7,15,11,8,0,6,4,2,1,19,17,0,9,11,16,8,1,0,9,13,14,9,8,1,7,7,11,4,2,14,0,18,9,13,17,19,13,3,11,14,19,5,12,7,11,4],[7,5,19,5,7,13,8,10,15,12,12,1,17,13,16,19,17,14,16,5,9,1,10,19,19,4,0,19,7,2,15,18,19,13,5,2,1,17,6,3,5,7,10,16,9,15,2,7,1,8,14,13,3,5,0,11,12,1,4,17,5,13,13,5],[18,14,15,1,13,10,1,15,14,3,17,2,10,19,4,5,10,12,6,12,4,4,11,15,10,1,12,19,14,10,16,0,2,10,1,17,12,11,0,8,6,16,18,5,5,16,13,2,7,5,4,9,15,12,7,6,9,8,2,17,11,3,8,4],[12,14,16,9,4,0,5,18,9,17,8,7,1,2,10,9,8,5,16,18,9,7,19,12,12,1,4,15,12,7,3,0,16,18,10,15,8,18,1,18,14,4,10,14,6,5,11,19,12,14,6,6,17,8,3,19,5,2,13,5,7,7,7,0],[14,6,13,2,13,12,4,11,7,15,2,12,9,13,19,12,5,17,6,8,19,16,9,16,7,17,13,11,2,5,0,6,2,1,16,6,10,2,13,6,18,15,16,16,5,11,15,7,9,18,17,14,0,2,3,18,17,2,12,5,5,19,11,19],[16,8,15,3,11,12,17,7,13,16,6,13,19,6,7,16,1,0,2,19,11,18,1,18,12,19,19,16,7,4,12,18,0,19,11,4,1,19,3,13,10,5,17,17,14,11,18,8,5,17,5,15,8,8,1,11,1,2,8,18,0,1,7,0],[5,18,2,7,11,14,16,8,18,7,14,15,19,16,9,15,10,11,14,2,4,13,17,10,18,9,13,8,9,13,19,8,5,4,6,7,18,9,0,13,10,6,16,3,1,11,16,4,17,7,9,12,7,11,13,18,8,14,5,19,5,0,1,8],[10,14,14,16,17,16,7,16,4,18,3,16,0,7,18,11,17,0,18,17,15,9,10,13,7,13,8,1,16,14,17,4,2,0,2,2,13,16,16,12,5,19,11,8,17,1,8,14,9,12,2,9,11,16,8,11,19,8,2,19,7,12,18,13],[3,6,10,1,12,4,19,14,0,12,0,14,11,16,17,14,13,1,15,4,12,10,19,17,4,13,11,14,5,13,5,6,10,12,2,1,17,1,18,17,19,11,11,6,10,0,7,9,0,16,19,18,16,6,2,10,9,5,16,0,7,17,5,0],[3,1,2,18,1,13,3,18,13,13,18,8,3,17,8,3,0,9,5,11,11,12,14,3,8,4,12,3,12,12,12,19,2,7,3,4,19,14,15,12,13,5,19,16,9,4,4,16,3,3,13,19,3,5,3,12,3,14,18,5,5,11,11,6],[7,11,12,4,16,8,13,16,1,18,9,10,1,16,8,10,7,0,16,10,19,15,16,16,4,6,4,0,1,5,17,5,10,0,16,0,6,9,14,13,19,3,8,18,18,17,4,16,6,14,16,8,12,9,18,8,17,1,5,10,8,3,4,6],[6,17,5,9,16,7,2,16,12,17,16,16,9,11,8,0,9,14,7,2,4,12,16,15,19,7,18,1,7,3,9,2,1,1,11,11,7,17,12,8,5,16,9,16,1,11,15,2,16,7,16,6,11,2,4,13,19,8,17,11,9,7,11,7],[17,5,16,18,2,3,1,10,4,16,12,15,6,16,18,3,15,7,6,17,8,2,7,12,15,16,0,10,3,10,12,17,0,1,5,15,10,14,9,2,18,12,11,7,1,2,0,14,18,4,8,16,7,0,8,5,4,6,18,17,16,17,1,15],[0,13,19,0,14,17,15,15,7,13,0,13,13,10,14,4,17,3,3,13,13,5,13,11,1,7,10,12,12,2,9,6,14,8,17,6,2,8,4,17,15,15,10,1,7,19,8,9,15,0,4,1,5,3,19,15,4,3,10,14,12,15,10,5],[6,7,3,2,7,3,4,9,9,14,9,7,2,9,17,8,14,7,16,9,7,16,5,12,8,2,2,9,19,8,9,1,12,18,1,10,4,19,10,15,11,18,18,12,14,4,2,17,8,11,17,3,12,12,12,12,17,3,12,4,2,19,17,1],[12,9,7,0,6,3,7,10,3,18,15,6,4,1,7,18,7,13,17,13,11,13,4,15,10,7,14,7,0,14,3,18,10,16,2,18,12,19,15,19,11,19,6,18,19,11,12,0,1,13,7,5,5,13,5,18,0,6,10,2,9,16,15,4],[18,18,8,6,18,0,5,17,9,1,2,1,16,2,8,5,7,15,3,1,5,4,18,12,4,12,18,9,10,2,16,10,8,8,19,2,1,9,2,1,10,4,18,5,14,7,19,17,9,10,2,3,0,16,12,6,8,17,5,11,14,2,19,0],[19,6,18,8,16,2,5,6,7,15,8,8,1,17,19,19,3,16,18,13,4,15,2,0,17,8,3,10,2,2,12,11,13,16,1,6,0,7,16,1,18,11,8,0,18,16,10,0,17,19,13,13,0,8,17,13,19,14,13,1,17,18,14,19],[0,1,8,18,0,1,5,17,16,0,0,7,0,16,12,11,7,19,6,1,9,7,17,13,10,3,1,0,11,16,2,15,1,2,16,15,8,3,4,3,9,14,18,7,12,10,15,5,9,18,1,16,2,9,17,1,18,3,9,4,17,18,16,15],[5,11,15,12,17,9,2,2,12,13,4,10,9,5,17,14,11,2,6,5,0,13,14,5,15,5,3,19,18,7,7,5,6,0,3,3,2,8,7,11,19,8,8,18,4,13,14,9,0,17,9,10,1,19,0,12,0,10,1,2,19,12,8,14],[5,13,7,3,16,11,15,17,13,16,17,17,3,19,0,18,2,13,14,2,4,4,18,11,3,2,14,1,15,15,15,16,1,1,3,16,14,14,17,1,17,1,19,14,1,18,17,6,7,10,10,13,2,14,17,13,2,13,3,0,11,18,3,19],[8,1,3,14,16,1,2,3,17,15,3,17,15,14,17,16,12,10,0,19,6,7,5,19,19,3,6,19,17,4,13,6,5,1,19,0,15,1,9,10,11,10,11,5,15,11,18,14,17,19,4,19,5,15,5,4,16,19,13,15,16,18,13,2],[12,5,16,16,6,5,3,18,8,1,5,4,13,14,6,1,10,14,6,15,2,0,2,13,2,2,14,18,13,7,10,7,4,12,4,1,2,17,12,0,0,5,16,1,0,10,9,7,7,11,6,2,9,12,8,5,5,0,7,13,11,3,17,19],[3,16,9,15,18,6,8,16,3,14,4,12,4,19,12,8,12,6,12,16,15,6,18,17,13,17,3,5,3,18,2,5,3,3,6,10,19,19,6,9,5,7,13,1,10,13,3,11,1,10,9,1,7,3,13,17,2,1,14,16,15,5,12,11],[9,1,11,14,11,8,10,12,6,18,15,11,5,1,10,13,6,1,11,13,18,18,1,8,4,7,1,15,18,15,16,5,1,16,12,11,13,9,6,0,10,13,18,16,9,6,12,1,10,13,0,0,7,7,13,2,6,8,18,11,1,8,17,4],[7,14,18,9,2,11,12,2,12,1,3,15,11,13,18,0,3,10,3,2,10,2,10,8,2,0,3,2,19,16,4,4,7,13,3,4,17,9,9,17,14,6,9,12,7,4,7,5,11,10,12,4,12,3,7,14,3,11,15,6,1,12,17,16],[5,15,1,13,7,3,16,2,10,19,11,19,19,17,13,1,16,15,16,16,16,11,10,15,16,16,14,5,14,3,0,8,13,8,3,2,10,13,6,8,14,13,4,16,10,15,17,7,12,2,13,3,15,13,4,7,14,12,4,5,18,14,16,5],[3,6,1,0,13,4,3,16,8,5,5,19,17,19,10,12,8,19,17,9,0,2,12,11,14,15,9,1,10,15,6,3,10,11,15,3,13,19,10,5,5,16,3,13,10,4,18,7,8,6,3,14,7,16,16,19,6,1,13,16,5,12,17,17],[4,4,13,15,1,10,4,12,1,5,11,4,13,2,18,9,0,2,18,15,5,9,13,14,19,13,13,8,7,0,14,8,19,13,12,1,14,6,17,13,4,19,19,5,12,17,5,2,0,5,1,18,9,9,15,17,5,17,16,7,13,8,1,19],[13,6,3,19,19,2,8,19,6,13,5,12,13,1,16,1,8,13,9,12,4,10,13,11,0,11,2,3,3,18,10,3,8,2,1,6,8,10,18,14,19,12,0,13,12,19,19,6,3,7,15,6,1,2,11,13,7,4,15,11,8,8,0,7],[17,14,16,11,18,3,11,15,15,19,12,5,0,14,18,2,11,14,4,18,1,4,11,14,12,7,11,11,16,6,8,8,16,2,16,8,16,11,18,10,6,16,5,6,5,11,16,9,10,0,14,14,18,17,15,15,14,6,18,11,19,10,9,5],[9,14,11,19,19,8,8,6,3,17,12,13,8,9,2,14,18,15,15,4,19,7,4,15,12,11,13,6,10,14,16,11,8,6,6,18,14,14,17,16,16,16,7,3,16,12,11,10,5,12,18,9,9,0,13,7,4,3,2,18,5,13,5,10],[12,17,2,7,17,3,0,15,11,6,12,14,10,8,12,4,0,10,3,10,19,15,11,11,16,6,11,14,3,16,15,9,19,8,18,12,13,1,10,12,9,10,14,7,13,17,5,0,3,19,11,2,6,17,10,10,13,11,7,18,4,1,3,4],[0,19,14,3,13,15,3,18,6,19,9,19,2,4,5,16,14,13,4,12,8,1,2,0,3,4,10,18,5,14,17,0,10,6,6,10,18,10,18,10,10,4,5,4,15,0,5,9,9,17,12,6,0,11,18,18,18,7,5,10,9,3,8,13],[6,8,6,11,3,4,0,3,1,2,15,16,11,2,9,2,0,3,14,14,19,11,2,4,6,9,2,6,16,14,17,14,13,2,2,1,16,3,4,14,7,17,17,9,15,13,12,13,7,7,14,14,12,2,4,1,11,10,3,18,15,5,8,3],[5,4,15,7,2,11,7,2,12,4,5,9,9,1,19,18,9,12,12,9,4,11,14,14,5,17,7,14,1,15,16,13,15,14,19,15,0,6,17,8,12,17,6,19,1,6,10,18,12,19,0,7,14,14,16,10,19,11,14,6,15,5,2,0],[7,16,4,4,19,2,14,3,10,14,8,10,6,8,4,8,10,8,6,15,18,11,12,1,11,0,12,11,8,17,14,15,17,17,1,14,10,10,1,4,16,4,7,4,16,12,2,13,5,3,15,15,1,3,16,17,11,16,17,19,16,5,7,7],[1,10,2,4,5,11,7,15,4,14,11,4,0,9,8,1,11,0,10,2,14,9,12,15,5,15,1,11,12,12,18,15,14,19,0,0,1,19,19,7,0,18,9,5,1,12,17,11,9,14,3,8,17,9,2,14,7,4,13,7,4,19,3,12],[6,12,5,9,5,4,18,8,10,6,0,17,3,15,10,15,3,10,10,17,7,16,8,4,6,8,12,8,14,17,1,9,0,8,7,19,10,9,12,11,19,15,15,15,11,8,2,14,5,16,3,1,12,17,14,5,6,11,1,8,16,14,17,19],[3,17,13,10,3,7,17,4,11,13,12,3,12,18,3,0,19,16,14,4,15,4,2,14,7,17,14,12,10,6,6,2,4,17,10,10,17,13,16,18,2,8,14,5,11,2,7,4,5,13,8,10,0,18,10,14,9,2,3,9,15,10,2,1],[16,9,13,7,18,7,10,10,4,15,6,9,19,15,10,7,3,16,3,7,11,5,6,14,16,13,14,17,3,9,19,8,1,12,3,5,9,13,18,19,4,3,10,19,17,9,9,16,16,13,13,15,1,7,15,14,4,7,4,2,3,3,1,4],[12,12,5,12,19,8,13,18,0,12,0,10,0,12,12,4,18,16,5,2,18,12,17,1,0,16,18,14,14,16,17,16,13,19,16,0,15,15,7,2,19,14,6,8,16,17,3,10,3,13,11,4,1,2,4,11,2,3,11,10,0,9,19,9]\n",
    "]\n",
    "\n",
    "\n",
    "import time\n",
    "start_time = time.time()\n",
    "pacificAtlantic(Input)\n",
    "print(\"--- %f seconds ---\" % (time.time() - start_time))"
   ]
  },
  {
   "cell_type": "code",
   "execution_count": 30,
   "metadata": {},
   "outputs": [
    {
     "name": "stdout",
     "output_type": "stream",
     "text": [
      "--- 0.109200 seconds ---\n"
     ]
    }
   ],
   "source": [
    "def pacificAtlantic(matrix):\n",
    "    \"\"\"\n",
    "    :type matrix: List[List[int]]\n",
    "    :rtype: List[List[int]]\n",
    "    \"\"\"\n",
    "    result = []\n",
    "    height, width = len(matrix), len(matrix[0])\n",
    "    def dfs(i,j):\n",
    "        Visted = matrix[i][j]\n",
    "        matrix[i][j] = -1\n",
    "        if (i == 0 or j == 0) or (i == height-1 or j == width-1):\n",
    "            if i == 0 or j == 0:\n",
    "                Flag[0] = 1\n",
    "            if i == height-1 or j == width-1:\n",
    "                Flag[1] = 1\n",
    "\n",
    "        for (h,w) in ((-1, 0), (1, 0), (0, -1), (0, 1)):\n",
    "            if 0 <= i+h < height and 0 <= j+w < width and matrix[i+h][j+w] != -1 and Visted >= matrix[i+h][j+w]:\n",
    "                if Flag[0] == 0 or Flag[1] == 0:\n",
    "                    dfs(i+h,j+w)\n",
    "        matrix[i][j] = Visted\n",
    "    \n",
    "    for i in range(height):\n",
    "        for j in range(width):\n",
    "            Flag=[0,0]\n",
    "            dfs(i,j)\n",
    "            if sum(Flag) == 2:\n",
    "                result.append([i,j])\n",
    "    return result\n",
    "\n",
    "    print(result)\n",
    "    \n",
    "# Input = [\n",
    "#     [1,2,2,3,5],\n",
    "#     [3,2,3,4,4],\n",
    "#     [2,4,5,3,1],\n",
    "#     [6,7,1,4,5],\n",
    "#     [5,1,1,2,4]\n",
    "# ]\n",
    "\n",
    "Input = [\n",
    "    [17,7,10,8,3,13,17,19,12,8,5,18,9,10,19,15,3,14,15,10,4,8,13,15,6,9,19,16,1,17,10,16,7,5,7,14,18,5,1,8,1,18,0,7,11,10,1,8,5,0,19,9,7,4,9,18,7,17,4,4,5,5,16,0],\n",
    "    [19,6,0,13,1,18,6,7,2,1,12,7,6,15,14,16,11,17,18,4,16,18,2,9,4,19,8,0,1,0,11,0,9,11,10,17,9,18,11,11,17,8,10,5,4,2,4,6,18,3,11,14,7,14,15,19,6,5,8,17,8,3,19,1],\n",
    "    [0,11,15,5,17,15,2,8,3,17,5,0,10,13,12,18,4,7,18,19,13,17,17,1,10,5,19,13,3,1,10,2,10,4,17,7,18,16,4,7,4,2,16,10,18,10,1,17,14,17,19,19,6,6,0,19,18,12,16,5,9,6,13,12],\n",
    "    [13,12,7,2,15,2,16,8,16,4,5,10,7,12,17,11,16,13,6,18,16,1,3,7,3,14,13,9,7,6,3,14,15,12,17,14,0,4,7,2,11,18,19,4,2,0,9,19,17,6,0,8,18,3,7,16,0,18,2,14,12,14,10,17],\n",
    "    [6,12,3,19,6,10,9,18,13,18,7,8,14,13,5,2,11,10,16,13,5,10,0,0,11,17,1,10,0,9,11,9,19,8,17,17,1,12,6,19,18,10,19,2,12,15,0,15,1,7,9,17,15,12,1,3,15,3,11,11,4,11,14,13],\n",
    "    [10,15,3,12,11,7,17,10,5,11,9,2,3,10,19,3,6,13,13,12,0,13,7,10,8,4,13,7,3,4,18,13,15,18,6,5,18,2,2,2,12,4,3,4,3,11,1,9,0,10,19,10,6,19,14,5,9,4,2,0,5,17,4,18],[14,9,9,10,18,17,7,16,17,11,15,4,5,1,4,10,1,0,16,3,4,0,1,15,0,2,2,4,11,5,15,12,3,0,19,16,14,1,14,11,10,14,4,6,12,0,17,5,10,12,18,16,7,19,9,8,19,0,5,5,9,5,0,6],[13,18,3,15,2,8,12,4,1,18,3,2,0,4,3,7,11,14,11,3,1,5,1,2,7,15,15,9,13,3,7,9,18,17,18,11,3,0,0,10,11,7,18,4,2,2,16,3,0,6,6,5,14,8,14,14,16,2,1,14,6,9,8,0],[5,3,17,17,4,13,3,2,8,17,2,0,10,5,1,14,9,8,3,10,13,6,4,6,6,16,17,3,9,2,14,11,13,9,13,19,18,13,13,4,4,11,16,2,14,5,13,0,2,3,6,11,6,2,3,10,1,8,5,19,16,7,10,8],[7,14,0,14,4,14,5,3,11,19,15,11,1,7,13,12,15,4,15,14,13,17,18,1,17,7,4,0,10,14,15,4,15,4,0,19,6,7,8,7,17,7,15,13,16,18,5,14,12,7,2,16,8,10,2,16,18,17,18,9,12,1,10,2],[14,9,8,12,17,9,18,13,6,11,12,9,13,18,1,15,4,19,16,6,12,5,2,19,16,18,3,10,5,4,19,7,6,18,12,14,0,3,18,1,10,17,6,19,4,15,0,19,9,2,19,14,7,6,7,12,14,1,16,10,14,9,13,2],[0,3,12,18,11,13,1,2,16,3,10,16,19,6,14,17,13,2,5,6,12,10,9,18,2,3,19,19,18,18,1,17,7,15,1,6,11,15,6,5,10,14,2,2,9,2,5,14,5,4,17,0,0,8,12,19,6,0,2,0,13,18,15,12],[13,12,1,12,0,13,19,1,10,14,8,10,3,15,11,9,18,19,12,14,14,16,15,3,11,8,4,13,8,10,15,12,1,8,14,10,9,4,6,18,9,19,15,17,11,10,5,7,18,13,16,2,14,15,14,19,14,3,17,2,11,12,4,5],[18,12,15,10,18,16,7,14,7,12,3,1,5,14,6,15,2,0,2,14,17,3,15,3,17,12,13,7,12,18,10,18,6,15,4,19,19,7,19,14,12,7,12,4,12,19,19,10,2,9,15,16,19,19,0,10,9,8,8,0,17,8,15,11],[19,7,1,16,1,15,18,5,12,6,15,12,12,13,0,11,9,16,2,6,18,12,14,4,2,7,19,9,2,8,17,17,6,10,3,7,4,3,16,5,7,1,6,19,13,5,4,7,13,13,19,7,13,15,4,2,3,9,0,10,2,0,0,12],[8,5,0,3,3,3,4,14,9,10,3,19,8,18,4,13,13,7,14,11,13,17,3,0,10,9,5,7,1,3,2,19,11,12,6,19,14,19,11,1,6,7,1,18,13,12,12,2,12,7,3,9,8,18,7,5,10,1,13,8,15,14,1,7],[4,10,0,5,2,0,13,5,13,10,4,3,7,12,15,13,16,13,15,3,1,16,3,6,10,7,4,2,18,19,5,7,7,17,18,12,2,5,1,19,0,13,4,1,14,17,6,3,3,5,8,8,1,9,0,2,12,12,2,15,7,16,0,0],[19,15,4,12,2,3,8,7,5,8,17,6,7,11,1,8,10,7,8,4,19,8,14,6,10,15,8,4,16,4,8,17,10,13,14,9,15,9,13,16,2,1,8,1,17,6,15,3,18,18,14,11,12,9,8,17,10,10,12,5,0,8,9,3],[15,3,5,10,4,6,17,2,13,18,7,18,8,3,1,12,5,15,2,0,3,17,15,4,18,7,4,19,16,7,0,9,17,8,15,5,2,5,12,18,11,12,4,4,17,17,6,13,0,14,8,17,8,7,3,14,11,19,11,0,7,9,13,4],[10,17,14,1,4,3,17,8,0,3,6,13,8,16,4,7,2,7,4,17,8,3,3,4,1,5,13,5,13,6,4,3,4,2,13,2,10,10,6,3,4,15,9,4,19,0,5,0,17,9,11,8,2,13,8,1,0,11,2,19,7,11,4,15],[8,19,0,8,13,1,16,4,11,3,13,13,8,10,1,16,0,17,16,10,7,18,1,6,11,3,14,4,17,19,6,8,7,8,3,19,17,4,18,14,16,12,19,12,7,9,1,14,19,7,2,7,14,17,12,19,16,10,6,9,1,18,2,4],[7,16,15,7,12,12,18,14,13,18,9,1,15,18,5,3,1,3,7,0,15,6,3,7,10,12,8,11,10,8,7,6,1,16,18,0,0,4,1,19,13,9,17,12,0,19,17,2,3,1,6,7,19,10,2,18,4,9,2,4,5,2,18,8],[4,16,14,15,13,8,2,14,11,8,18,1,7,14,0,16,2,16,12,13,5,8,2,1,8,16,19,18,8,11,2,3,2,12,2,6,6,13,6,14,17,17,4,8,7,18,7,16,4,17,19,10,10,8,11,8,4,18,19,0,2,12,0,6],[10,8,6,10,3,18,9,4,17,14,15,13,1,12,13,19,10,16,13,6,5,10,17,2,1,15,15,1,4,3,0,1,3,19,18,15,5,15,6,3,0,0,4,0,16,10,7,17,0,13,1,13,2,3,15,16,3,11,13,3,1,10,10,14],[3,14,19,14,15,8,14,8,2,18,17,1,0,7,5,1,2,19,3,12,10,18,10,13,3,10,15,0,14,16,13,2,0,9,3,5,6,6,13,7,7,14,4,5,14,12,11,15,0,11,19,13,4,15,5,18,6,19,7,2,2,6,10,7],[12,11,4,13,5,15,14,19,3,6,4,18,17,2,16,16,2,17,17,17,13,7,1,2,19,11,19,0,5,6,4,9,13,6,4,6,8,14,2,16,10,19,13,17,9,10,5,0,7,5,5,5,0,9,6,10,1,10,10,2,12,2,4,11],[8,12,9,1,0,4,5,3,0,13,11,6,15,3,13,6,13,15,4,19,14,17,12,9,4,8,12,19,18,18,2,14,9,18,3,8,16,19,18,12,12,19,10,10,15,10,1,14,11,2,16,17,13,15,14,16,15,12,14,17,0,12,9,14],[0,12,16,9,13,10,14,18,16,15,6,15,4,6,9,13,0,19,11,1,12,12,1,18,8,15,18,19,13,6,2,14,9,5,17,6,13,5,9,18,18,19,16,6,6,15,8,7,13,18,8,13,0,19,12,8,13,5,14,17,17,19,13,10],[4,15,7,13,19,1,14,3,0,8,3,12,18,1,7,15,2,11,7,15,11,8,0,6,4,2,1,19,17,0,9,11,16,8,1,0,9,13,14,9,8,1,7,7,11,4,2,14,0,18,9,13,17,19,13,3,11,14,19,5,12,7,11,4],[7,5,19,5,7,13,8,10,15,12,12,1,17,13,16,19,17,14,16,5,9,1,10,19,19,4,0,19,7,2,15,18,19,13,5,2,1,17,6,3,5,7,10,16,9,15,2,7,1,8,14,13,3,5,0,11,12,1,4,17,5,13,13,5],[18,14,15,1,13,10,1,15,14,3,17,2,10,19,4,5,10,12,6,12,4,4,11,15,10,1,12,19,14,10,16,0,2,10,1,17,12,11,0,8,6,16,18,5,5,16,13,2,7,5,4,9,15,12,7,6,9,8,2,17,11,3,8,4],[12,14,16,9,4,0,5,18,9,17,8,7,1,2,10,9,8,5,16,18,9,7,19,12,12,1,4,15,12,7,3,0,16,18,10,15,8,18,1,18,14,4,10,14,6,5,11,19,12,14,6,6,17,8,3,19,5,2,13,5,7,7,7,0],[14,6,13,2,13,12,4,11,7,15,2,12,9,13,19,12,5,17,6,8,19,16,9,16,7,17,13,11,2,5,0,6,2,1,16,6,10,2,13,6,18,15,16,16,5,11,15,7,9,18,17,14,0,2,3,18,17,2,12,5,5,19,11,19],[16,8,15,3,11,12,17,7,13,16,6,13,19,6,7,16,1,0,2,19,11,18,1,18,12,19,19,16,7,4,12,18,0,19,11,4,1,19,3,13,10,5,17,17,14,11,18,8,5,17,5,15,8,8,1,11,1,2,8,18,0,1,7,0],[5,18,2,7,11,14,16,8,18,7,14,15,19,16,9,15,10,11,14,2,4,13,17,10,18,9,13,8,9,13,19,8,5,4,6,7,18,9,0,13,10,6,16,3,1,11,16,4,17,7,9,12,7,11,13,18,8,14,5,19,5,0,1,8],[10,14,14,16,17,16,7,16,4,18,3,16,0,7,18,11,17,0,18,17,15,9,10,13,7,13,8,1,16,14,17,4,2,0,2,2,13,16,16,12,5,19,11,8,17,1,8,14,9,12,2,9,11,16,8,11,19,8,2,19,7,12,18,13],[3,6,10,1,12,4,19,14,0,12,0,14,11,16,17,14,13,1,15,4,12,10,19,17,4,13,11,14,5,13,5,6,10,12,2,1,17,1,18,17,19,11,11,6,10,0,7,9,0,16,19,18,16,6,2,10,9,5,16,0,7,17,5,0],[3,1,2,18,1,13,3,18,13,13,18,8,3,17,8,3,0,9,5,11,11,12,14,3,8,4,12,3,12,12,12,19,2,7,3,4,19,14,15,12,13,5,19,16,9,4,4,16,3,3,13,19,3,5,3,12,3,14,18,5,5,11,11,6],[7,11,12,4,16,8,13,16,1,18,9,10,1,16,8,10,7,0,16,10,19,15,16,16,4,6,4,0,1,5,17,5,10,0,16,0,6,9,14,13,19,3,8,18,18,17,4,16,6,14,16,8,12,9,18,8,17,1,5,10,8,3,4,6],[6,17,5,9,16,7,2,16,12,17,16,16,9,11,8,0,9,14,7,2,4,12,16,15,19,7,18,1,7,3,9,2,1,1,11,11,7,17,12,8,5,16,9,16,1,11,15,2,16,7,16,6,11,2,4,13,19,8,17,11,9,7,11,7],[17,5,16,18,2,3,1,10,4,16,12,15,6,16,18,3,15,7,6,17,8,2,7,12,15,16,0,10,3,10,12,17,0,1,5,15,10,14,9,2,18,12,11,7,1,2,0,14,18,4,8,16,7,0,8,5,4,6,18,17,16,17,1,15],[0,13,19,0,14,17,15,15,7,13,0,13,13,10,14,4,17,3,3,13,13,5,13,11,1,7,10,12,12,2,9,6,14,8,17,6,2,8,4,17,15,15,10,1,7,19,8,9,15,0,4,1,5,3,19,15,4,3,10,14,12,15,10,5],[6,7,3,2,7,3,4,9,9,14,9,7,2,9,17,8,14,7,16,9,7,16,5,12,8,2,2,9,19,8,9,1,12,18,1,10,4,19,10,15,11,18,18,12,14,4,2,17,8,11,17,3,12,12,12,12,17,3,12,4,2,19,17,1],[12,9,7,0,6,3,7,10,3,18,15,6,4,1,7,18,7,13,17,13,11,13,4,15,10,7,14,7,0,14,3,18,10,16,2,18,12,19,15,19,11,19,6,18,19,11,12,0,1,13,7,5,5,13,5,18,0,6,10,2,9,16,15,4],[18,18,8,6,18,0,5,17,9,1,2,1,16,2,8,5,7,15,3,1,5,4,18,12,4,12,18,9,10,2,16,10,8,8,19,2,1,9,2,1,10,4,18,5,14,7,19,17,9,10,2,3,0,16,12,6,8,17,5,11,14,2,19,0],[19,6,18,8,16,2,5,6,7,15,8,8,1,17,19,19,3,16,18,13,4,15,2,0,17,8,3,10,2,2,12,11,13,16,1,6,0,7,16,1,18,11,8,0,18,16,10,0,17,19,13,13,0,8,17,13,19,14,13,1,17,18,14,19],[0,1,8,18,0,1,5,17,16,0,0,7,0,16,12,11,7,19,6,1,9,7,17,13,10,3,1,0,11,16,2,15,1,2,16,15,8,3,4,3,9,14,18,7,12,10,15,5,9,18,1,16,2,9,17,1,18,3,9,4,17,18,16,15],[5,11,15,12,17,9,2,2,12,13,4,10,9,5,17,14,11,2,6,5,0,13,14,5,15,5,3,19,18,7,7,5,6,0,3,3,2,8,7,11,19,8,8,18,4,13,14,9,0,17,9,10,1,19,0,12,0,10,1,2,19,12,8,14],[5,13,7,3,16,11,15,17,13,16,17,17,3,19,0,18,2,13,14,2,4,4,18,11,3,2,14,1,15,15,15,16,1,1,3,16,14,14,17,1,17,1,19,14,1,18,17,6,7,10,10,13,2,14,17,13,2,13,3,0,11,18,3,19],[8,1,3,14,16,1,2,3,17,15,3,17,15,14,17,16,12,10,0,19,6,7,5,19,19,3,6,19,17,4,13,6,5,1,19,0,15,1,9,10,11,10,11,5,15,11,18,14,17,19,4,19,5,15,5,4,16,19,13,15,16,18,13,2],[12,5,16,16,6,5,3,18,8,1,5,4,13,14,6,1,10,14,6,15,2,0,2,13,2,2,14,18,13,7,10,7,4,12,4,1,2,17,12,0,0,5,16,1,0,10,9,7,7,11,6,2,9,12,8,5,5,0,7,13,11,3,17,19],[3,16,9,15,18,6,8,16,3,14,4,12,4,19,12,8,12,6,12,16,15,6,18,17,13,17,3,5,3,18,2,5,3,3,6,10,19,19,6,9,5,7,13,1,10,13,3,11,1,10,9,1,7,3,13,17,2,1,14,16,15,5,12,11],[9,1,11,14,11,8,10,12,6,18,15,11,5,1,10,13,6,1,11,13,18,18,1,8,4,7,1,15,18,15,16,5,1,16,12,11,13,9,6,0,10,13,18,16,9,6,12,1,10,13,0,0,7,7,13,2,6,8,18,11,1,8,17,4],[7,14,18,9,2,11,12,2,12,1,3,15,11,13,18,0,3,10,3,2,10,2,10,8,2,0,3,2,19,16,4,4,7,13,3,4,17,9,9,17,14,6,9,12,7,4,7,5,11,10,12,4,12,3,7,14,3,11,15,6,1,12,17,16],[5,15,1,13,7,3,16,2,10,19,11,19,19,17,13,1,16,15,16,16,16,11,10,15,16,16,14,5,14,3,0,8,13,8,3,2,10,13,6,8,14,13,4,16,10,15,17,7,12,2,13,3,15,13,4,7,14,12,4,5,18,14,16,5],[3,6,1,0,13,4,3,16,8,5,5,19,17,19,10,12,8,19,17,9,0,2,12,11,14,15,9,1,10,15,6,3,10,11,15,3,13,19,10,5,5,16,3,13,10,4,18,7,8,6,3,14,7,16,16,19,6,1,13,16,5,12,17,17],[4,4,13,15,1,10,4,12,1,5,11,4,13,2,18,9,0,2,18,15,5,9,13,14,19,13,13,8,7,0,14,8,19,13,12,1,14,6,17,13,4,19,19,5,12,17,5,2,0,5,1,18,9,9,15,17,5,17,16,7,13,8,1,19],[13,6,3,19,19,2,8,19,6,13,5,12,13,1,16,1,8,13,9,12,4,10,13,11,0,11,2,3,3,18,10,3,8,2,1,6,8,10,18,14,19,12,0,13,12,19,19,6,3,7,15,6,1,2,11,13,7,4,15,11,8,8,0,7],[17,14,16,11,18,3,11,15,15,19,12,5,0,14,18,2,11,14,4,18,1,4,11,14,12,7,11,11,16,6,8,8,16,2,16,8,16,11,18,10,6,16,5,6,5,11,16,9,10,0,14,14,18,17,15,15,14,6,18,11,19,10,9,5],[9,14,11,19,19,8,8,6,3,17,12,13,8,9,2,14,18,15,15,4,19,7,4,15,12,11,13,6,10,14,16,11,8,6,6,18,14,14,17,16,16,16,7,3,16,12,11,10,5,12,18,9,9,0,13,7,4,3,2,18,5,13,5,10],[12,17,2,7,17,3,0,15,11,6,12,14,10,8,12,4,0,10,3,10,19,15,11,11,16,6,11,14,3,16,15,9,19,8,18,12,13,1,10,12,9,10,14,7,13,17,5,0,3,19,11,2,6,17,10,10,13,11,7,18,4,1,3,4],[0,19,14,3,13,15,3,18,6,19,9,19,2,4,5,16,14,13,4,12,8,1,2,0,3,4,10,18,5,14,17,0,10,6,6,10,18,10,18,10,10,4,5,4,15,0,5,9,9,17,12,6,0,11,18,18,18,7,5,10,9,3,8,13],[6,8,6,11,3,4,0,3,1,2,15,16,11,2,9,2,0,3,14,14,19,11,2,4,6,9,2,6,16,14,17,14,13,2,2,1,16,3,4,14,7,17,17,9,15,13,12,13,7,7,14,14,12,2,4,1,11,10,3,18,15,5,8,3],[5,4,15,7,2,11,7,2,12,4,5,9,9,1,19,18,9,12,12,9,4,11,14,14,5,17,7,14,1,15,16,13,15,14,19,15,0,6,17,8,12,17,6,19,1,6,10,18,12,19,0,7,14,14,16,10,19,11,14,6,15,5,2,0],[7,16,4,4,19,2,14,3,10,14,8,10,6,8,4,8,10,8,6,15,18,11,12,1,11,0,12,11,8,17,14,15,17,17,1,14,10,10,1,4,16,4,7,4,16,12,2,13,5,3,15,15,1,3,16,17,11,16,17,19,16,5,7,7],[1,10,2,4,5,11,7,15,4,14,11,4,0,9,8,1,11,0,10,2,14,9,12,15,5,15,1,11,12,12,18,15,14,19,0,0,1,19,19,7,0,18,9,5,1,12,17,11,9,14,3,8,17,9,2,14,7,4,13,7,4,19,3,12],[6,12,5,9,5,4,18,8,10,6,0,17,3,15,10,15,3,10,10,17,7,16,8,4,6,8,12,8,14,17,1,9,0,8,7,19,10,9,12,11,19,15,15,15,11,8,2,14,5,16,3,1,12,17,14,5,6,11,1,8,16,14,17,19],[3,17,13,10,3,7,17,4,11,13,12,3,12,18,3,0,19,16,14,4,15,4,2,14,7,17,14,12,10,6,6,2,4,17,10,10,17,13,16,18,2,8,14,5,11,2,7,4,5,13,8,10,0,18,10,14,9,2,3,9,15,10,2,1],[16,9,13,7,18,7,10,10,4,15,6,9,19,15,10,7,3,16,3,7,11,5,6,14,16,13,14,17,3,9,19,8,1,12,3,5,9,13,18,19,4,3,10,19,17,9,9,16,16,13,13,15,1,7,15,14,4,7,4,2,3,3,1,4],[12,12,5,12,19,8,13,18,0,12,0,10,0,12,12,4,18,16,5,2,18,12,17,1,0,16,18,14,14,16,17,16,13,19,16,0,15,15,7,2,19,14,6,8,16,17,3,10,3,13,11,4,1,2,4,11,2,3,11,10,0,9,19,9]\n",
    "]\n",
    "\n",
    "\n",
    "import time\n",
    "start_time = time.time()\n",
    "pacificAtlantic(Input)\n",
    "print(\"--- %f seconds ---\" % (time.time() - start_time))"
   ]
  },
  {
   "cell_type": "markdown",
   "metadata": {},
   "source": [
    "## 130. Surrounded Regions\n",
    "\n",
    "Given a 2D board containing 'X' and 'O' (the letter O), capture all regions surrounded by 'X'.\n",
    "\n",
    "A region is captured by flipping all 'O's into 'X's in that surrounded region.\n",
    "\n",
    "Example:\n",
    "\n",
    "X X X X\n",
    "\n",
    "X O O X\n",
    "\n",
    "X X O X\n",
    "\n",
    "X O X X\n",
    "\n",
    "After running your function, the board should be:\n",
    "\n",
    "X X X X\n",
    "\n",
    "X X X X\n",
    "\n",
    "X X X X\n",
    "\n",
    "X O X X\n",
    "\n",
    "Explanation:\n",
    "\n",
    "Surrounded regions shouldn’t be on the border, which means that any 'O' on the border of the board are not flipped to 'X'. Any 'O' that is not on the border and it is not connected to an 'O' on the border will be flipped to 'X'. Two cells are connected if they are adjacent cells connected horizontally or vertically."
   ]
  },
  {
   "cell_type": "code",
   "execution_count": 30,
   "metadata": {},
   "outputs": [
    {
     "name": "stdout",
     "output_type": "stream",
     "text": [
      "['X', 'X', 'X', 'X']\n",
      "['X', 'X', 'X', 'X']\n",
      "['X', 'X', 'X', 'X']\n",
      "['X', 'O', 'X', 'X']\n"
     ]
    }
   ],
   "source": [
    "def solve(board):\n",
    "    \"\"\"\n",
    "    :type board: List[List[str]]\n",
    "    :rtype: void Do not return anything, modify board in-place instead.\n",
    "    \"\"\"\n",
    "    if not board:\n",
    "        return None\n",
    "    height, width = len(board), len(board[0])\n",
    "    def check(i,j):\n",
    "        if 0 <= i < height and 0 <= j < width:\n",
    "            board[i][j] = \"1\"\n",
    "            if board[i-1][j] == 'O':\n",
    "                check(i-1,j)\n",
    "\n",
    "            if i+1<height and board[i+1][j] == 'O':\n",
    "                check(i+1,j)\n",
    "\n",
    "            if board[i][j-1] == 'O':\n",
    "                check(i,j-1)\n",
    "\n",
    "            if j+1<width and board[i][j+1] == 'O':\n",
    "                check(i,j+1)\n",
    "\n",
    "    for i in range(height):\n",
    "        for j in range(width):\n",
    "            if i == 0 or i == height - 1:\n",
    "                if board[i][j] == 'O':\n",
    "                    board[i][j] = \"1\"\n",
    "                    check(i,j)\n",
    "            if j == 0 or j == width - 1:\n",
    "                if board[i][j] == 'O':\n",
    "                    board[i][j] = \"1\"\n",
    "                    check(i,j)\n",
    "\n",
    "    for i in range(height):\n",
    "        for j in range(width):\n",
    "            if board[i][j] == '1':\n",
    "                board[i][j] = 'O'\n",
    "            elif board[i][j] == 'O':\n",
    "                board[i][j] = 'X'\n",
    "\n",
    "    for i in board:\n",
    "        print(i)\n",
    "\n",
    "Input = [\n",
    "    [\"X\",\"X\",\"X\",\"X\"],\n",
    "    [\"X\",\"O\",\"O\",\"X\"],\n",
    "    [\"X\",\"X\",\"O\",\"X\"],\n",
    "    [\"X\",\"O\",\"X\",\"X\"]\n",
    "]\n",
    "\n",
    "# Input = [\n",
    "#     [\"O\",\"X\",\"X\",\"O\",\"X\"],\n",
    "#     [\"X\",\"O\",\"O\",\"X\",\"O\"],\n",
    "#     [\"X\",\"O\",\"X\",\"O\",\"X\"],\n",
    "#     [\"O\",\"X\",\"O\",\"O\",\"O\"],\n",
    "#     [\"X\",\"X\",\"O\",\"X\",\"O\"]\n",
    "# ]\n",
    "\n",
    "# Input = [\n",
    "#     [\"X\",\"O\",\"X\"],\n",
    "#     [\"X\",\"O\",\"X\"],\n",
    "#     [\"X\",\"O\",\"X\"]\n",
    "# ]\n",
    "\n",
    "solve(Input)"
   ]
  },
  {
   "cell_type": "markdown",
   "metadata": {},
   "source": [
    "## 547. Friend Circles\n",
    "\n",
    "There are N students in a class. Some of them are friends, while some are not. Their friendship is transitive in nature. For example, if A is a direct friend of B, and B is a direct friend of C, then A is an indirect friend of C. And we defined a friend circle is a group of students who are direct or indirect friends.\n",
    "\n",
    "Given a N*N matrix M representing the friend relationship between students in the class. If M[i][j] = 1, then the ith and jth students are direct friends with each other, otherwise not. And you have to output the total number of friend circles among all the students.\n",
    "\n",
    "Example 1:\n",
    "\n",
    "Input: \n",
    "\n",
    "[[1,1,0],\n",
    "\n",
    " [1,1,0],\n",
    " \n",
    " [0,0,1]]\n",
    " \n",
    "Output: 2\n",
    "\n",
    "Explanation:The 0th and 1st students are direct friends, so they are in a friend circle. \n",
    "The 2nd student himself is in a friend circle. So return 2.\n",
    "\n",
    "Example 2:\n",
    "\n",
    "Input: \n",
    "\n",
    "[[1,1,0],\n",
    "\n",
    " [1,1,1],\n",
    " \n",
    " [0,1,1]]\n",
    " \n",
    "Output: 1\n",
    "\n",
    "Explanation:The 0th and 1st students are direct friends, the 1st and 2nd students are direct friends, \n",
    "so the 0th and 2nd students are indirect friends. All of them are in the same friend circle, so return 1.\n",
    "\n",
    "Note:\n",
    "\n",
    "N is in range [1,200].\n",
    "\n",
    "M[i][i] = 1 for all students.\n",
    "\n",
    "If M[i][j] = 1, then M[j][i] = 1."
   ]
  },
  {
   "cell_type": "code",
   "execution_count": 10,
   "metadata": {},
   "outputs": [
    {
     "name": "stdout",
     "output_type": "stream",
     "text": [
      "set() 0\n",
      "0 1\n",
      "0 1\n",
      "1 0\n",
      "2 0\n",
      "3 1\n",
      "0 1\n",
      "1 0\n",
      "2 1\n",
      "0 0\n",
      "1 1\n",
      "0 0\n",
      "1 1\n",
      "2 1\n",
      "3 0\n",
      "2 1\n",
      "3 1\n",
      "3 1\n",
      "1 0\n",
      "2 0\n",
      "3 1\n",
      "{0, 1, 2, 3} 1\n",
      "{0, 1, 2, 3} 2\n",
      "{0, 1, 2, 3} 3\n"
     ]
    },
    {
     "data": {
      "text/plain": [
       "1"
      ]
     },
     "execution_count": 10,
     "metadata": {},
     "output_type": "execute_result"
    }
   ],
   "source": [
    "def findCircleNum(M):\n",
    "    \"\"\"\n",
    "    :type M: List[List[int]]\n",
    "    :rtype: int\n",
    "    \"\"\"\n",
    "    N = len(M)\n",
    "    seen = set()\n",
    "    def dfs(node):\n",
    "        for nei, adj in enumerate(M[node]):\n",
    "            print(nei, adj)\n",
    "            if adj and nei not in seen:\n",
    "                seen.add(nei)\n",
    "                dfs(nei)           \n",
    "    ans = 0\n",
    "    for i in range(N):\n",
    "        print(seen,i)\n",
    "        if i not in seen:\n",
    "            dfs(i)\n",
    "            ans+=1 \n",
    "    return ans\n",
    "\n",
    "Input = [\n",
    "    [1,0,0,1],\n",
    "    [0,1,1,0],\n",
    "    [0,1,1,1],\n",
    "    [1,0,1,1]\n",
    "]\n",
    "\n",
    "# Input = [[1,1,0],\n",
    "#  [1,1,0],\n",
    "#  [0,0,1]]\n",
    "\n",
    "findCircleNum(Input)"
   ]
  },
  {
   "cell_type": "markdown",
   "metadata": {},
   "source": [
    "## 200. Number of Islands\n",
    "\n",
    "Given a 2d grid map of '1's (land) and '0's (water), count the number of islands. An island is surrounded by water and is formed by connecting adjacent lands horizontally or vertically. You may assume all four edges of the grid are all surrounded by water.\n",
    "\n",
    "Example 1:\n",
    "\n",
    "Input:\n",
    "11110\n",
    "11010\n",
    "11000\n",
    "00000\n",
    "\n",
    "Output: 1\n",
    "Example 2:\n",
    "\n",
    "Input:\n",
    "11000\n",
    "11000\n",
    "00100\n",
    "00011\n",
    "\n",
    "Output: 3"
   ]
  },
  {
   "cell_type": "code",
   "execution_count": 11,
   "metadata": {},
   "outputs": [
    {
     "data": {
      "text/plain": [
       "1"
      ]
     },
     "execution_count": 11,
     "metadata": {},
     "output_type": "execute_result"
    }
   ],
   "source": [
    "def numIslands(grid):\n",
    "    \"\"\"\n",
    "    :type grid: List[List[str]]\n",
    "    :rtype: int\n",
    "    \"\"\"\n",
    "    if len(grid) == 0:\n",
    "        return 0\n",
    "    height, width = len(grid), len(grid[0])\n",
    "    areas = []\n",
    "    def dfs(i,j):\n",
    "        if 0 <= i < height and 0 <= j < width and grid[i][j] == 1:\n",
    "            grid[i][j] = 0\n",
    "            return 1 + dfs(i,j-1) + dfs(i,j+1) + dfs(i-1, j) + dfs(i+1,j)\n",
    "        return 0\n",
    "    \n",
    "    for i in range(height):\n",
    "        for j in range(width):\n",
    "            if grid[i][j] == 1:\n",
    "                areas.append(dfs(i,j))\n",
    "        \n",
    "    return len(areas) if areas else 0\n",
    "\n",
    "# Input = [[0,0,1,0,0,0,0,1,0,0,0,0,0],\n",
    "#  [0,0,0,0,0,0,0,1,1,1,0,0,0],\n",
    "#  [0,1,1,0,1,0,0,0,0,0,0,0,0],\n",
    "#  [0,1,0,0,1,1,0,0,1,0,1,0,0],\n",
    "#  [0,1,0,0,1,1,0,0,1,1,1,0,0],\n",
    "#  [0,0,0,0,0,0,0,0,0,0,1,0,0],\n",
    "#  [0,0,0,0,0,0,0,1,1,1,0,0,0],\n",
    "#  [0,0,0,0,0,0,0,1,1,0,0,0,0]]\n",
    "\n",
    "Input = [\n",
    "[1,1,0,0,0],\n",
    "[1,1,0,0,0],\n",
    "[0,0,1,0,0],\n",
    "[0,0,0,1,1]\n",
    "]\n",
    "\n",
    "Input = [\n",
    "    [1,1,1,1,0],\n",
    "    [1,1,0,1,0],\n",
    "    [1,1,0,0,0],\n",
    "    [0,0,0,0,0]]\n",
    "[[0,0,1,0,0,0,0,1,0,0,0,0,0],\n",
    " [0,0,0,0,0,0,0,1,1,1,0,0,0],\n",
    " [0,1,1,0,1,0,0,0,0,0,0,0,0],\n",
    " [0,1,0,0,1,1,0,0,1,0,1,0,0],\n",
    " [0,1,0,0,1,1,0,0,1,1,1,0,0],\n",
    " [0,0,0,0,0,0,0,0,0,0,1,0,0],\n",
    " [0,0,0,0,0,0,0,1,1,1,0,0,0],\n",
    " [0,0,0,0,0,0,0,1,1,0,0,0,0]]\n",
    "\n",
    "numIslands(Input)"
   ]
  },
  {
   "cell_type": "markdown",
   "metadata": {},
   "source": [
    "## 695. Max Area of Island\n",
    "Given a non-empty 2D array grid of 0's and 1's, an island is a group of 1's (representing land) connected 4-directionally (horizontal or vertical.) You may assume all four edges of the grid are surrounded by water.\n",
    "\n",
    "Find the maximum area of an island in the given 2D array. (If there is no island, the maximum area is 0.)\n",
    "\n",
    "Example 1:\n",
    "\n",
    "[[0,0,1,0,0,0,0,1,0,0,0,0,0],\n",
    " [0,0,0,0,0,0,0,1,1,1,0,0,0],\n",
    " [0,1,1,0,1,0,0,0,0,0,0,0,0],\n",
    " [0,1,0,0,1,1,0,0,1,0,1,0,0],\n",
    " [0,1,0,0,1,1,0,0,1,1,1,0,0],\n",
    " [0,0,0,0,0,0,0,0,0,0,1,0,0],\n",
    " [0,0,0,0,0,0,0,1,1,1,0,0,0],\n",
    " [0,0,0,0,0,0,0,1,1,0,0,0,0]]\n",
    " \n",
    "Given the above grid, return 6. Note the answer is not 11, because the island must be connected 4-directionally.\n",
    "\n",
    "Example 2:\n",
    "\n",
    "[[0,0,0,0,0,0,0,0]]\n",
    "\n",
    "Given the above grid, return 0.\n",
    "Note: The length of each dimension in the given grid does not exceed 50."
   ]
  },
  {
   "cell_type": "code",
   "execution_count": 7,
   "metadata": {},
   "outputs": [
    {
     "data": {
      "text/plain": [
       "6"
      ]
     },
     "execution_count": 7,
     "metadata": {},
     "output_type": "execute_result"
    }
   ],
   "source": [
    "def maxAreaOfIsland(grid):\n",
    "    rows, columns = len(grid), len(grid[0])\n",
    "    def dfs(i, j):\n",
    "        if 0 <= i < rows and 0<= j < columns and grid[i][j] == 1: \n",
    "            grid[i][j] = 0\n",
    "            return 1 + dfs(i-1,j) + dfs(i, j-1) + dfs(i+1, j) + dfs(i,j+1)\n",
    "\n",
    "        return 0\n",
    "    \n",
    "    area = []\n",
    "    for i in range(rows):\n",
    "        for j in range(columns):\n",
    "            if grid[i][j]:\n",
    "                area.append(dfs(i,j))\n",
    "    return max(area) if area else 0\n",
    "\n",
    "Input = [\n",
    " [0,0,1,0,0,0,0,1,0,0,0,0,0],\n",
    " [0,0,0,0,0,0,0,1,1,1,0,0,0],\n",
    " [0,1,1,0,1,0,0,0,0,0,0,0,0],\n",
    " [0,1,0,0,1,1,0,0,1,0,1,0,0],\n",
    " [0,1,0,0,1,1,0,0,1,1,1,0,0],\n",
    " [0,0,0,0,0,0,0,0,0,0,1,0,0],\n",
    " [0,0,0,0,0,0,0,1,1,1,0,0,0],\n",
    " [0,0,0,0,0,0,0,1,1,0,0,0,0]]\n",
    "\n",
    "maxAreaOfIsland(Input)"
   ]
  },
  {
   "cell_type": "code",
   "execution_count": 2,
   "metadata": {},
   "outputs": [
    {
     "data": {
      "text/plain": [
       "6"
      ]
     },
     "execution_count": 2,
     "metadata": {},
     "output_type": "execute_result"
    }
   ],
   "source": [
    "def maxAreaOfIsland(grid):\n",
    "    \"\"\"\n",
    "    :type grid: List[List[int]]\n",
    "    :rtype: int\n",
    "    \"\"\"\n",
    "    height, width = len(grid), len(grid[0])\n",
    "    def dfs(i,j):\n",
    "        if 0 <= i < height and 0 <= j < width and grid[i][j]:\n",
    "            grid[i][j] = 0\n",
    "            return 1 + dfs(i,j-1) + dfs(i,j+1) + dfs(i-1,j) + dfs(i+1,j)\n",
    "        return 0\n",
    "    \n",
    "    areas = []\n",
    "    for i in range(height):\n",
    "        for j in range(width):\n",
    "            if grid[i][j]:\n",
    "                areas.append(dfs(i,j))\n",
    "    return max(areas) if areas else 0\n",
    "# Input = [[0,0,1,0,0,0,0,1,0,0,0,0,0],\n",
    "#  [0,0,0,0,0,0,0,1,1,1,0,0,0],\n",
    "#  [0,1,1,0,1,0,0,0,0,0,0,0,0],\n",
    "#  [0,1,0,0,1,1,0,0,1,0,1,0,0],\n",
    "#  [0,1,0,0,1,1,0,0,1,1,1,0,0],\n",
    "#  [0,0,0,0,0,0,0,0,0,0,1,0,0],\n",
    "#  [0,0,0,0,0,0,0,1,1,1,0,0,0],\n",
    "#  [0,0,0,0,0,0,0,1,1,0,0,0,0]]\n",
    "\n",
    "\n",
    "Input = [\n",
    " [0,0,1,0,0,0,0,1,0,0,0,0,0],\n",
    " [0,0,0,0,0,0,0,1,1,1,0,0,0],\n",
    " [0,1,1,0,1,0,0,0,0,0,0,0,0],\n",
    " [0,1,0,0,1,1,0,0,1,0,1,0,0],\n",
    " [0,1,0,0,1,1,0,0,1,1,1,0,0],\n",
    " [0,0,0,0,0,0,0,0,0,0,1,0,0],\n",
    " [0,0,0,0,0,0,0,1,1,1,0,0,0],\n",
    " [0,0,0,0,0,0,0,1,1,0,0,0,0]]\n",
    "\n",
    "maxAreaOfIsland(Input)"
   ]
  },
  {
   "cell_type": "code",
   "execution_count": 50,
   "metadata": {},
   "outputs": [
    {
     "name": "stdout",
     "output_type": "stream",
     "text": [
      "[[19 25]\n",
      " [35 47]]\n",
      "66\n",
      "[[19 25]\n",
      " [35 47]]\n"
     ]
    },
    {
     "ename": "ValueError",
     "evalue": "shapes (2,3) and (2,3) not aligned: 3 (dim 1) != 2 (dim 0)",
     "output_type": "error",
     "traceback": [
      "\u001b[1;31m---------------------------------------------------------------------------\u001b[0m",
      "\u001b[1;31mValueError\u001b[0m                                Traceback (most recent call last)",
      "\u001b[1;32m<ipython-input-50-ba25785c900a>\u001b[0m in \u001b[0;36m<module>\u001b[1;34m()\u001b[0m\n\u001b[0;32m     28\u001b[0m \u001b[0mprint\u001b[0m\u001b[1;33m(\u001b[0m\u001b[0mMatrixDotProduct\u001b[0m\u001b[1;33m(\u001b[0m\u001b[0mA\u001b[0m\u001b[1;33m,\u001b[0m\u001b[0mB\u001b[0m\u001b[1;33m)\u001b[0m\u001b[1;33m)\u001b[0m\u001b[1;33m\u001b[0m\u001b[0m\n\u001b[0;32m     29\u001b[0m \u001b[0mprint\u001b[0m\u001b[1;33m(\u001b[0m\u001b[0mnp\u001b[0m\u001b[1;33m.\u001b[0m\u001b[0mdot\u001b[0m\u001b[1;33m(\u001b[0m\u001b[0mA\u001b[0m\u001b[1;33m,\u001b[0m\u001b[0mB\u001b[0m\u001b[1;33m)\u001b[0m\u001b[1;33m)\u001b[0m\u001b[1;33m\u001b[0m\u001b[0m\n\u001b[1;32m---> 30\u001b[1;33m \u001b[0mprint\u001b[0m\u001b[1;33m(\u001b[0m\u001b[0mnp\u001b[0m\u001b[1;33m.\u001b[0m\u001b[0minner\u001b[0m\u001b[1;33m(\u001b[0m\u001b[0mA\u001b[0m\u001b[1;33m,\u001b[0m\u001b[0mB\u001b[0m\u001b[1;33m)\u001b[0m\u001b[1;33m)\u001b[0m\u001b[1;33m\u001b[0m\u001b[0m\n\u001b[0m",
      "\u001b[1;31mValueError\u001b[0m: shapes (2,3) and (2,3) not aligned: 3 (dim 1) != 2 (dim 0)"
     ]
    }
   ],
   "source": [
    "import numpy as np\n",
    "def MatrixMultiple(A, B):\n",
    "    result = []\n",
    "    A_row, A_column = A.shape\n",
    "    B_row, B_column = B.shape\n",
    "    i = 0\n",
    "    while i < A_row :\n",
    "        j = 0\n",
    "        while j < B_column:\n",
    "            result.append(sum(A[i,:]*B[:,j]))\n",
    "            j += 1\n",
    "        i += 1\n",
    "    return np.reshape(result,(A_row, B_column))\n",
    "\n",
    "def MatrixDotProduct(A, B):\n",
    "    result = 0\n",
    "    A_row, A_column = A.shape\n",
    "    B_row, B_column = B.shape\n",
    "    i = 0\n",
    "    while i < A_row and i < B_column:\n",
    "        result += sum(A[i,:]*B[:,i])\n",
    "        i += 1\n",
    "    return result\n",
    "A = np.array([[1, 2, 3],[3, 4, 5]])\n",
    "B = np.array([[1,2],[3,4],[4, 5]])\n",
    "\n",
    "print(MatrixMultiple(A,B))\n",
    "print(MatrixDotProduct(A,B))\n",
    "print(np.dot(A,B))\n",
    "print(np.inner(A,B))"
   ]
  },
  {
   "cell_type": "markdown",
   "metadata": {},
   "source": [
    "## 241. Different Ways to Add Parentheses\n",
    "\n",
    "Given a string of numbers and operators, return all possible results from computing all the different possible ways to group numbers and operators. The valid operators are +, - and *.\n",
    "\n",
    "Example 1:\n",
    "\n",
    "Input: \"2-1-1\"\n",
    "\n",
    "Output: [0, 2]\n",
    "\n",
    "Explanation: \n",
    "\n",
    "((2-1)-1) = 0 \n",
    "\n",
    "(2-(1-1)) = 2\n",
    "\n",
    "Example 2:\n",
    "\n",
    "Input: \"2*3-4*5\"\n",
    "\n",
    "Output: [-34, -14, -10, -10, 10]\n",
    "\n",
    "Explanation: \n",
    "\n",
    "(2*(3-(4*5))) = -34 \n",
    "\n",
    "((2*3)-(4*5)) = -14 \n",
    "\n",
    "((2*(3-4))*5) = -10 \n",
    "\n",
    "(2*((3-4)*5)) = -10 \n",
    "\n",
    "(((2*3)-4)*5) = 10\n"
   ]
  },
  {
   "cell_type": "code",
   "execution_count": 10,
   "metadata": {},
   "outputs": [
    {
     "name": "stdout",
     "output_type": "stream",
     "text": [
      "[]\n",
      "[]\n",
      "[]\n",
      "[]\n",
      "[]\n",
      "[]\n",
      "[20]\n",
      "[-17]\n",
      "[-17]\n",
      "[]\n",
      "[]\n",
      "[-1]\n",
      "[-17, -5]\n",
      "[-34, -10]\n",
      "[-34, -10]\n",
      "[]\n",
      "[]\n",
      "[6]\n",
      "[]\n",
      "[]\n",
      "[20]\n",
      "[-34, -10, -14]\n",
      "[-34, -10, -14]\n",
      "[]\n",
      "[]\n",
      "[]\n",
      "[]\n",
      "[-1]\n",
      "[-2]\n",
      "[-2]\n",
      "[]\n",
      "[]\n",
      "[6]\n",
      "[-2, 2]\n",
      "[-34, -10, -14, -10, 10]\n"
     ]
    },
    {
     "data": {
      "text/plain": [
       "[-34, -10, -14, -10, 10]"
      ]
     },
     "execution_count": 10,
     "metadata": {},
     "output_type": "execute_result"
    }
   ],
   "source": [
    "def diffWaysToCompute(Input):\n",
    "    \"\"\"\n",
    "    :type input: str\n",
    "    :rtype: List[int]\n",
    "    \"\"\"\n",
    "    if Input.isdigit():\n",
    "        return [int(Input)]\n",
    "    result = []\n",
    "    for i in range(len(Input)):\n",
    "        print(result)\n",
    "        value = Input[i]\n",
    "        if value in \"-+*\":\n",
    "            left = diffWaysToCompute(Input[:i])\n",
    "            right = diffWaysToCompute(Input[i+1:])\n",
    "            for l in left:\n",
    "                for r in right:\n",
    "                    result.append(Operate(l,r,value))\n",
    "    return result               \n",
    "def Operate(l,r,operator):\n",
    "    if operator == '+':\n",
    "        return l + r\n",
    "    elif operator == '-':\n",
    "        return l - r\n",
    "    else:\n",
    "        return l * r\n",
    "\n",
    "Input = \"2*3-4*5\"   \n",
    "# Operate(2,3,'*')\n",
    "diffWaysToCompute(Input)\n",
    "    "
   ]
  },
  {
   "cell_type": "code",
   "execution_count": 3,
   "metadata": {},
   "outputs": [
    {
     "data": {
      "text/plain": [
       "[-34, -10, -14, -10, 10]"
      ]
     },
     "execution_count": 3,
     "metadata": {},
     "output_type": "execute_result"
    }
   ],
   "source": [
    "def diffWaysToCompute(Input):\n",
    "    \"\"\"\n",
    "    :type input: str\n",
    "    :rtype: List[int]\n",
    "    \"\"\"\n",
    "    if Input.isdigit():\n",
    "        return [int(Input)]\n",
    "    result = []\n",
    "    for i in range(len(Input)):\n",
    "        value = Input[i]\n",
    "        if value in \"-+*\":\n",
    "            left = diffWaysToCompute(Input[:i])\n",
    "            right = diffWaysToCompute(Input[i+1:])\n",
    "            for l in left:\n",
    "                for r in right:\n",
    "                    result.append(Operate(l,r,value))\n",
    "    return result                \n",
    "                    \n",
    "def Operate(l,r,operator):\n",
    "    if operator == '+':\n",
    "        return l + r\n",
    "    elif operator == '-':\n",
    "        return l - r\n",
    "    else:\n",
    "        return l * r\n",
    "\n",
    "Input = \"2*3-4*5\"    \n",
    "diffWaysToCompute(Input)"
   ]
  },
  {
   "cell_type": "markdown",
   "metadata": {},
   "source": [
    "## Sort"
   ]
  },
  {
   "cell_type": "markdown",
   "metadata": {},
   "source": [
    "## 75. Sort Colors\n",
    "Given an array with n objects colored red, white or blue, sort them in-place so that objects of the same color are adjacent, with the colors in the order red, white and blue.\n",
    "\n",
    "Here, we will use the integers 0, 1, and 2 to represent the color red, white, and blue respectively.\n",
    "\n",
    "Note: You are not suppose to use the library's sort function for this problem.\n",
    "\n",
    "Example:\n",
    "\n",
    "Input: [2,0,2,1,1,0]\n",
    "\n",
    "Output: [0,0,1,1,2,2]\n",
    "\n",
    "Follow up:\n",
    "\n",
    "A rather straight forward solution is a two-pass algorithm using counting sort.\n",
    "First, iterate the array counting number of 0's, 1's, and 2's, then overwrite array with total number of 0's, then 1's and followed by 2's.\n",
    "Could you come up with a one-pass algorithm using only constant space?"
   ]
  },
  {
   "cell_type": "code",
   "execution_count": 12,
   "metadata": {},
   "outputs": [
    {
     "data": {
      "text/plain": [
       "[0, 0, 1, 1, 2, 2]"
      ]
     },
     "execution_count": 12,
     "metadata": {},
     "output_type": "execute_result"
    }
   ],
   "source": [
    "def sortColors(nums):\n",
    "    index = len(nums)\n",
    "    \n",
    "    red, white = 0, 0\n",
    "    for i in range(len(nums)):\n",
    "        v = nums[i]\n",
    "        nums[i] = 2\n",
    "        if v < 2:\n",
    "            nums[white] = 1\n",
    "            white += 1\n",
    "        if v == 0:\n",
    "            nums[red] = 0 \n",
    "            red += 1\n",
    "    return nums\n",
    "        \n",
    "        \n",
    "    \"\"\"\n",
    "    :type nums: List[int]\n",
    "    :rtype: void Do not return anything, modify nums in-place instead.\n",
    "    \"\"\"\n",
    "    red = 0\n",
    "    white = 0\n",
    "    for i in range(len(nums)):\n",
    "        v = nums[i]\n",
    "        nums[i] = 2\n",
    "        if v < 2:\n",
    "            nums[white] = 1\n",
    "            white += 1\n",
    "        if v == 0:\n",
    "            nums[red] = 0\n",
    "            red += 1\n",
    "    \n",
    "    return nums\n",
    "\n",
    "def swap(nums, left, right):\n",
    "    temp = nums[left]\n",
    "    nums[left] = nums[right]\n",
    "    nums[right] = temp\n",
    "    return nums\n",
    "\n",
    "Input = [2,0,2,1,1,0]\n",
    "    \n",
    "sortColors(Input)"
   ]
  },
  {
   "cell_type": "code",
   "execution_count": 15,
   "metadata": {},
   "outputs": [
    {
     "ename": "RecursionError",
     "evalue": "maximum recursion depth exceeded while calling a Python object",
     "output_type": "error",
     "traceback": [
      "\u001b[1;31m---------------------------------------------------------------------------\u001b[0m",
      "\u001b[1;31mRecursionError\u001b[0m                            Traceback (most recent call last)",
      "\u001b[1;32m<ipython-input-15-c1fc8df25244>\u001b[0m in \u001b[0;36m<module>\u001b[1;34m()\u001b[0m\n\u001b[0;32m     48\u001b[0m \u001b[0mInput\u001b[0m \u001b[1;33m=\u001b[0m \u001b[1;33m[\u001b[0m\u001b[1;36m10\u001b[0m\u001b[1;33m,\u001b[0m\u001b[1;36m9\u001b[0m\u001b[1;33m,\u001b[0m\u001b[1;36m5\u001b[0m\u001b[1;33m,\u001b[0m\u001b[1;36m6\u001b[0m\u001b[1;33m,\u001b[0m\u001b[1;36m3\u001b[0m\u001b[1;33m,\u001b[0m\u001b[1;36m4\u001b[0m\u001b[1;33m,\u001b[0m\u001b[1;36m8\u001b[0m\u001b[1;33m,\u001b[0m\u001b[1;36m2\u001b[0m\u001b[1;33m,\u001b[0m\u001b[1;36m63\u001b[0m\u001b[1;33m,\u001b[0m\u001b[1;36m1\u001b[0m\u001b[1;33m]\u001b[0m\u001b[1;33m\u001b[0m\u001b[0m\n\u001b[0;32m     49\u001b[0m \u001b[1;33m\u001b[0m\u001b[0m\n\u001b[1;32m---> 50\u001b[1;33m \u001b[0mnums\u001b[0m\u001b[1;33m=\u001b[0m\u001b[0mquicksort\u001b[0m\u001b[1;33m(\u001b[0m\u001b[0mInput\u001b[0m\u001b[1;33m,\u001b[0m\u001b[1;36m0\u001b[0m\u001b[1;33m,\u001b[0m\u001b[0mlen\u001b[0m\u001b[1;33m(\u001b[0m\u001b[0mInput\u001b[0m\u001b[1;33m)\u001b[0m\u001b[1;33m-\u001b[0m\u001b[1;36m1\u001b[0m\u001b[1;33m)\u001b[0m\u001b[1;33m\u001b[0m\u001b[0m\n\u001b[0m\u001b[0;32m     51\u001b[0m \u001b[0mprint\u001b[0m\u001b[1;33m(\u001b[0m\u001b[0mnums\u001b[0m\u001b[1;33m)\u001b[0m\u001b[1;33m\u001b[0m\u001b[0m\n\u001b[0;32m     52\u001b[0m \u001b[1;31m# Output = [0,0,1,1,2,2]\u001b[0m\u001b[1;33m\u001b[0m\u001b[1;33m\u001b[0m\u001b[0m\n",
      "\u001b[1;32m<ipython-input-15-c1fc8df25244>\u001b[0m in \u001b[0;36mquicksort\u001b[1;34m(nums, i, j)\u001b[0m\n\u001b[0;32m     42\u001b[0m             \u001b[0mi\u001b[0m \u001b[1;33m+=\u001b[0m \u001b[1;36m1\u001b[0m\u001b[1;33m\u001b[0m\u001b[0m\n\u001b[0;32m     43\u001b[0m \u001b[1;33m\u001b[0m\u001b[0m\n\u001b[1;32m---> 44\u001b[1;33m     \u001b[0mquicksort\u001b[0m\u001b[1;33m(\u001b[0m\u001b[0mnums\u001b[0m\u001b[1;33m,\u001b[0m\u001b[0mhead\u001b[0m\u001b[1;33m,\u001b[0m\u001b[0mpivot\u001b[0m\u001b[1;33m-\u001b[0m\u001b[1;36m1\u001b[0m\u001b[1;33m)\u001b[0m\u001b[1;33m\u001b[0m\u001b[0m\n\u001b[0m\u001b[0;32m     45\u001b[0m     \u001b[0mquicksort\u001b[0m\u001b[1;33m(\u001b[0m\u001b[0mnums\u001b[0m\u001b[1;33m,\u001b[0m\u001b[0mpivot\u001b[0m\u001b[1;33m+\u001b[0m\u001b[1;36m1\u001b[0m\u001b[1;33m,\u001b[0m\u001b[0mtail\u001b[0m\u001b[1;33m)\u001b[0m\u001b[1;33m\u001b[0m\u001b[0m\n\u001b[0;32m     46\u001b[0m     \u001b[1;32mreturn\u001b[0m \u001b[0mnums\u001b[0m\u001b[1;33m\u001b[0m\u001b[0m\n",
      "... last 1 frames repeated, from the frame below ...\n",
      "\u001b[1;32m<ipython-input-15-c1fc8df25244>\u001b[0m in \u001b[0;36mquicksort\u001b[1;34m(nums, i, j)\u001b[0m\n\u001b[0;32m     42\u001b[0m             \u001b[0mi\u001b[0m \u001b[1;33m+=\u001b[0m \u001b[1;36m1\u001b[0m\u001b[1;33m\u001b[0m\u001b[0m\n\u001b[0;32m     43\u001b[0m \u001b[1;33m\u001b[0m\u001b[0m\n\u001b[1;32m---> 44\u001b[1;33m     \u001b[0mquicksort\u001b[0m\u001b[1;33m(\u001b[0m\u001b[0mnums\u001b[0m\u001b[1;33m,\u001b[0m\u001b[0mhead\u001b[0m\u001b[1;33m,\u001b[0m\u001b[0mpivot\u001b[0m\u001b[1;33m-\u001b[0m\u001b[1;36m1\u001b[0m\u001b[1;33m)\u001b[0m\u001b[1;33m\u001b[0m\u001b[0m\n\u001b[0m\u001b[0;32m     45\u001b[0m     \u001b[0mquicksort\u001b[0m\u001b[1;33m(\u001b[0m\u001b[0mnums\u001b[0m\u001b[1;33m,\u001b[0m\u001b[0mpivot\u001b[0m\u001b[1;33m+\u001b[0m\u001b[1;36m1\u001b[0m\u001b[1;33m,\u001b[0m\u001b[0mtail\u001b[0m\u001b[1;33m)\u001b[0m\u001b[1;33m\u001b[0m\u001b[0m\n\u001b[0;32m     46\u001b[0m     \u001b[1;32mreturn\u001b[0m \u001b[0mnums\u001b[0m\u001b[1;33m\u001b[0m\u001b[0m\n",
      "\u001b[1;31mRecursionError\u001b[0m: maximum recursion depth exceeded while calling a Python object"
     ]
    }
   ],
   "source": [
    "def quicksort(nums,i,j):\n",
    "    pivot = int(len(nums)/2)\n",
    "    head = i\n",
    "    tail = j\n",
    "    while i <= j:\n",
    "        while nums[i]<nums[pivot]:\n",
    "            i += 1\n",
    "        while nums[j]>nums[pivot]:\n",
    "            j -= 1\n",
    "\n",
    "        if i < j:\n",
    "            swap(nums, i, j)\n",
    "            i += 1\n",
    "            j -= 1\n",
    "        elif i == j:\n",
    "            i += 1\n",
    "\n",
    "    quicksort(nums,head,pivot-1)\n",
    "    quicksort(nums,pivot+1,tail)\n",
    "    return nums      \n",
    "Input = [10,9,5,6,3,4,8,2,63,1]\n",
    "\n",
    "# nums=quicksort(Input,0,len(Input)-1)\n",
    "# Output = [0,0,1,1,2,2]\n",
    "\n",
    "# sortColors(Input)"
   ]
  },
  {
   "cell_type": "markdown",
   "metadata": {},
   "source": [
    "## 451. Sort Characters By Frequency\n",
    "\n",
    "Given a string, sort it in decreasing order based on the frequency of characters.\n",
    "\n",
    "Example 1:\n",
    "\n",
    "Input:\n",
    "\"tree\"\n",
    "\n",
    "Output:\n",
    "\"eert\"\n",
    "\n",
    "Explanation:\n",
    "\n",
    "'e' appears twice while 'r' and 't' both appear once.\n",
    "So 'e' must appear before both 'r' and 't'. Therefore \"eetr\" is also a valid answer.\n",
    "\n",
    "Example 2:\n",
    "\n",
    "Input:\n",
    "\"cccaaa\"\n",
    "\n",
    "Output:\n",
    "\"cccaaa\"\n",
    "\n",
    "Explanation:\n",
    "\n",
    "Both 'c' and 'a' appear three times, so \"aaaccc\" is also a valid answer.\n",
    "Note that \"cacaca\" is incorrect, as the same characters must be together.\n",
    "\n",
    "Example 3:\n",
    "\n",
    "Input:\n",
    "\"Aabb\"\n",
    "\n",
    "Output:\n",
    "\"bbAa\"\n",
    "\n",
    "Explanation:\n",
    "\n",
    "\"bbaA\" is also a valid answer, but \"Aabb\" is incorrect.\n",
    "Note that 'A' and 'a' are treated as two different characters."
   ]
  },
  {
   "cell_type": "code",
   "execution_count": 2,
   "metadata": {},
   "outputs": [
    {
     "data": {
      "text/plain": [
       "'eetr'"
      ]
     },
     "execution_count": 2,
     "metadata": {},
     "output_type": "execute_result"
    }
   ],
   "source": [
    "import collections\n",
    "def frequencySort(s):\n",
    "    \"\"\"\n",
    "    :type s: str\n",
    "    :rtype: str\n",
    "    \"\"\"\n",
    "#     result = \"\"\n",
    "#     temp = collections.Counter(s).most_common()\n",
    "    \n",
    "    return \"\".join(char * times for char, times in collections.Counter(s).most_common())\n",
    "\n",
    "\n",
    "# Input = \"abbccccdddde\"\n",
    "# Input = \"abcde\"\n",
    "# Input = \"Aabb\"\n",
    "# Input = \"cccaaa\"\n",
    "Input = \"tree\"\n",
    "frequencySort(Input)"
   ]
  },
  {
   "cell_type": "markdown",
   "metadata": {},
   "source": [
    "## 347. Top K Frequent Elements\n",
    "\n",
    "Given a non-empty array of integers, return the k most frequent elements.\n",
    "\n",
    "Example 1:\n",
    "\n",
    "Input: nums = [1,1,1,2,2,3], k = 2\n",
    "\n",
    "Output: [1,2]\n",
    "\n",
    "Example 2:\n",
    "\n",
    "Input: nums = [1], k = 1\n",
    "\n",
    "Output: [1]\n",
    "\n",
    "Note:\n",
    "\n",
    "You may assume k is always valid, 1 ≤ k ≤ number of unique elements.\n",
    "Your algorithm's time complexity must be better than O(n log n), where n is the array's size."
   ]
  },
  {
   "cell_type": "code",
   "execution_count": 13,
   "metadata": {},
   "outputs": [
    {
     "data": {
      "text/plain": [
       "[1, 2]"
      ]
     },
     "execution_count": 13,
     "metadata": {},
     "output_type": "execute_result"
    }
   ],
   "source": [
    "import collections\n",
    "\n",
    "def topKFrequent(nums, k):\n",
    "    \"\"\"\n",
    "    :type nums: List[int]\n",
    "    :type k: int\n",
    "    :rtype: List[int]\n",
    "    \"\"\"\n",
    "    temp = collections.Counter(nums).most_common(k)\n",
    "    Result = list()\n",
    "    for i in temp:\n",
    "        Result.append(i[0])\n",
    "    return Result\n",
    "#     return list(list(zip(*collections.Counter(nums).most_common(k)))[0])\n",
    "\n",
    "nums = [1,1,1,2,2,3]\n",
    "k = 2\n",
    "\n",
    "topKFrequent(nums,k)"
   ]
  },
  {
   "cell_type": "markdown",
   "metadata": {},
   "source": [
    "## 215. Kth Largest Element in an Array\n",
    "\n",
    "Find the kth largest element in an unsorted array. Note that it is the kth largest element in the sorted order, not the kth distinct element.\n",
    "\n",
    "Example 1:\n",
    "\n",
    "Input: [3,2,1,5,6,4] and k = 2\n",
    "\n",
    "Output: 5\n",
    "\n",
    "Example 2:\n",
    "\n",
    "Input: [3,2,3,1,2,4,5,5,6] and k = 4\n",
    "\n",
    "Output: 4\n",
    "\n",
    "Note: \n",
    "You may assume k is always valid, 1 ≤ k ≤ array's length.\n",
    "\n"
   ]
  },
  {
   "cell_type": "code",
   "execution_count": 5,
   "metadata": {},
   "outputs": [
    {
     "data": {
      "text/plain": [
       "5"
      ]
     },
     "execution_count": 5,
     "metadata": {},
     "output_type": "execute_result"
    }
   ],
   "source": [
    "import math\n",
    "def findKthLargest(nums, k):\n",
    "    \"\"\"\n",
    "    :type nums: List[int]\n",
    "    :type k: int\n",
    "    :rtype: int\n",
    "    \"\"\"\n",
    "    nums.sort()\n",
    "    return nums[-k]\n",
    "    \n",
    "    \n",
    "# nums = [3,2,1,5,6,4]\n",
    "# k = 3\n",
    "\n",
    "nums = [3,2,3,1,2,4,5,5,6] \n",
    "k = 3\n",
    "findKthLargest(nums,k)"
   ]
  },
  {
   "cell_type": "markdown",
   "metadata": {},
   "source": [
    "## Double pointer"
   ]
  },
  {
   "cell_type": "markdown",
   "metadata": {},
   "source": [
    "## 524. Longest Word in Dictionary through Deleting\n",
    "\n",
    "Given a string and a string dictionary, find the longest string in the dictionary that can be formed by deleting some characters of the given string. If there are more than one possible results, return the longest word with the smallest lexicographical order. If there is no possible result, return the empty string.\n",
    "\n",
    "Example 1:\n",
    "\n",
    "Input:\n",
    "\n",
    "s = \"abpcplea\", d = [\"ale\",\"apple\",\"monkey\",\"plea\"]\n",
    "\n",
    "Output: \n",
    "\"apple\"\n",
    "\n",
    "Example 2:\n",
    "\n",
    "Input:\n",
    "\n",
    "s = \"abpcplea\", d = [\"a\",\"b\",\"c\"]\n",
    "\n",
    "Output: \n",
    "\"a\""
   ]
  },
  {
   "cell_type": "code",
   "execution_count": 15,
   "metadata": {},
   "outputs": [
    {
     "data": {
      "text/plain": [
       "'apple'"
      ]
     },
     "execution_count": 15,
     "metadata": {},
     "output_type": "execute_result"
    }
   ],
   "source": [
    "def findLongestWord(s, d):\n",
    "    \"\"\"\n",
    "    :type s: str\n",
    "    :type d: List[str]\n",
    "    :rtype: str\n",
    "    \"\"\"\n",
    "    longest_word = \"\"\n",
    "    \n",
    "    for i in d:\n",
    "        s_pointer = 0\n",
    "        d_pointer = 0\n",
    "\n",
    "        while s_pointer < len(s) and d_pointer < len(i):\n",
    "            if s[s_pointer] == i[d_pointer]:\n",
    "                d_pointer += 1\n",
    "            s_pointer += 1\n",
    "        if len(longest_word) <= len(i) and d_pointer == len(i):\n",
    "            if (len(longest_word) == len(i) and longest_word > i) or len(longest_word) < len(i): \n",
    "                longest_word = i\n",
    "    return longest_word\n",
    "\n",
    "s = \"abpcplea\"\n",
    "d = [\"ale\",\"apple\",\"monkey\",\"plea\"]\n",
    "\n",
    "# s = \"abpcplea\" \n",
    "# d = [\"a\",\"b\",\"c\"]\n",
    "\n",
    "# s = \"bab\" \n",
    "# d = [\"ba\",\"ab\",\"a\",\"b\"]\n",
    "\n",
    "findLongestWord(s, d)"
   ]
  },
  {
   "cell_type": "markdown",
   "metadata": {},
   "source": [
    "## 141. Linked List Cycle\n",
    "\n",
    "Given a linked list, determine if it has a cycle in it.\n",
    "\n",
    "Follow up:\n",
    "Can you solve it without using extra space?"
   ]
  },
  {
   "cell_type": "code",
   "execution_count": 17,
   "metadata": {},
   "outputs": [
    {
     "data": {
      "text/plain": [
       "True"
      ]
     },
     "execution_count": 17,
     "metadata": {},
     "output_type": "execute_result"
    }
   ],
   "source": [
    "class ListNode(object):\n",
    "    def __init__(self,x):\n",
    "        self.val = x\n",
    "        self.next = None # the pointer initially points to nothing\n",
    "    \n",
    "def hasCycle(head):\n",
    "    \"\"\"\n",
    "    :type head: ListNode\n",
    "    :rtype: bool\n",
    "    \"\"\"  \n",
    "    i = head\n",
    "    j = head\n",
    "    while (j.next != None or j != None):        \n",
    "        i = i.next\n",
    "        j = j.next.next\n",
    "        if j == i:\n",
    "            return True\n",
    "    return False  \n",
    "\n",
    "node1 = ListNode(12) \n",
    "node2 = ListNode(99) \n",
    "node3 = ListNode(37)\n",
    "node4 = node1\n",
    "node1.next = node2 # 12->99\n",
    "node2.next = node3 # 99->37\n",
    "node3.next = node4\n",
    "hasCycle(node1)"
   ]
  },
  {
   "cell_type": "markdown",
   "metadata": {},
   "source": [
    "## 88. Merge Sorted Array\n",
    "\n",
    "Given two sorted integer arrays nums1 and nums2, merge nums2 into nums1 as one sorted array.\n",
    "\n",
    "Note:\n",
    "\n",
    "The number of elements initialized in nums1 and nums2 are m and n respectively.\n",
    "You may assume that nums1 has enough space (size that is greater or equal to m + n) to hold additional elements from nums2.\n",
    "Example:\n",
    "\n",
    "Input:\n",
    "\n",
    "nums1 = [1,2,3,0,0,0], m = 3\n",
    "\n",
    "nums2 = [2,5,6],       n = 3\n",
    "\n",
    "Output: [1,2,2,3,5,6]"
   ]
  },
  {
   "cell_type": "code",
   "execution_count": 6,
   "metadata": {},
   "outputs": [
    {
     "name": "stdout",
     "output_type": "stream",
     "text": [
      "[1, 2, 2, 3, 5, 6]\n"
     ]
    }
   ],
   "source": [
    "def merge(nums1, m, nums2, n):\n",
    "    \"\"\"\n",
    "    :type nums1: List[int]\n",
    "    :type m: int\n",
    "    :type nums2: List[int]\n",
    "    :type n: int\n",
    "    :rtype: void Do not return anything, modify nums1 in-place instead.\n",
    "    \"\"\"\n",
    "\n",
    "    while m > 0 and n> 0:\n",
    "        if nums1[m-1] >= nums2[n-1]:\n",
    "            nums1[m+n-1] = nums1[m-1]\n",
    "            m -= 1\n",
    "        else:\n",
    "            nums1[m+n-1] = nums2[n-1]\n",
    "            n -= 1\n",
    "    if n > 0 :\n",
    "        nums1[:n]=nums[:n]\n",
    "    print(nums1)\n",
    "nums1 = [1,2,3,0,0,0]\n",
    "m = 3\n",
    "\n",
    "nums2 = [2,5,6]\n",
    "n = 3\n",
    "\n",
    "merge(nums1,m,nums2,n)"
   ]
  },
  {
   "cell_type": "markdown",
   "metadata": {},
   "source": [
    "## 680. Valid Palindrome II\n",
    "Given a non-empty string s, you may delete at most one character. Judge whether you can make it a palindrome.\n",
    "\n",
    "Example 1:\n",
    "    \n",
    "Input: \"aba\"\n",
    "    \n",
    "Output: True\n",
    "    \n",
    "Example 2:\n",
    "    \n",
    "Input: \"abca\"\n",
    "    \n",
    "Output: True\n",
    "    \n",
    "Explanation: You could delete the character 'c'."
   ]
  },
  {
   "cell_type": "code",
   "execution_count": 1,
   "metadata": {},
   "outputs": [
    {
     "name": "stdout",
     "output_type": "stream",
     "text": [
      "1 3\n",
      "bb bb\n",
      "bc cb\n"
     ]
    },
    {
     "data": {
      "text/plain": [
       "True"
      ]
     },
     "execution_count": 1,
     "metadata": {},
     "output_type": "execute_result"
    }
   ],
   "source": [
    "def validPalindrome(s):\n",
    "    \"\"\"\n",
    "    :type s: str\n",
    "    :rtype: bool\n",
    "    \"\"\"\n",
    "    i, j = 0, len(s)-1\n",
    "    while i < j:\n",
    "        if s[i] != s[j]:\n",
    "            one, two = s[i:j], s[i+1:j+1]\n",
    "            print(i, j)\n",
    "            print(one, one[::-1])\n",
    "            print(two, two[::-1])\n",
    "            return one == one[::-1] or two == two[::-1]\n",
    "        i, j = i + 1, j-1\n",
    "    return True\n",
    "Input = \"abbca\"\n",
    "\n",
    "validPalindrome(Input)"
   ]
  },
  {
   "cell_type": "markdown",
   "metadata": {},
   "source": [
    "## 633. Sum of Square Numbers\n",
    "\n",
    "Given a non-negative integer c, your task is to decide whether there're two integers a and b such that a2 + b2 = c.\n",
    "\n",
    "Example 1:\n",
    "\n",
    "Input: 5\n",
    "\n",
    "Output: True\n",
    "\n",
    "Explanation: 1 * 1 + 2 * 2 = 5\n",
    "Example 2:\n",
    "Input: 3\n",
    "Output: False"
   ]
  },
  {
   "cell_type": "code",
   "execution_count": 39,
   "metadata": {},
   "outputs": [
    {
     "name": "stdout",
     "output_type": "stream",
     "text": [
      "0 4\n"
     ]
    },
    {
     "data": {
      "text/plain": [
       "True"
      ]
     },
     "execution_count": 39,
     "metadata": {},
     "output_type": "execute_result"
    }
   ],
   "source": [
    "import math\n",
    "def judgeSquareSum(c):\n",
    "    \"\"\"\n",
    "    :type c: int\n",
    "    :rtype: bool\n",
    "    \"\"\"\n",
    "    total_sum = 0\n",
    "    left, right = 0, math.ceil(math.sqrt(c))\n",
    "    while (left <= right):\n",
    "        total_sum = left**2 + right**2\n",
    "#         print(left, right)\n",
    "        if total_sum > c:\n",
    "            right -= 1\n",
    "        elif total_sum < c :\n",
    "            left += 1\n",
    "        elif total_sum == c: \n",
    "            return True\n",
    "    else:\n",
    "        return False\n",
    "\n",
    "Input = 16\n",
    "judgeSquareSum(Input)"
   ]
  },
  {
   "cell_type": "markdown",
   "metadata": {},
   "source": [
    "## 167. Two Sum II - Input array is sorted\n",
    "Given an array of integers that is already sorted in ascending order, find two numbers such that they add up to a specific target number.\n",
    "\n",
    "The function twoSum should return indices of the two numbers such that they add up to the target, where index1 must be less than index2.\n",
    "\n",
    "Note:\n",
    "\n",
    "Your returned answers (both index1 and index2) are not zero-based.\n",
    "\n",
    "You may assume that each input would have exactly one solution and you may not use the same element twice.\n",
    "\n",
    "Example:\n",
    "\n",
    "Input: numbers = [2,7,11,15], target = 9\n",
    "\n",
    "Output: [1,2]\n",
    "\n",
    "Explanation: The sum of 2 and 7 is 9. Therefore index1 = 1, index2 = 2."
   ]
  },
  {
   "cell_type": "code",
   "execution_count": 7,
   "metadata": {},
   "outputs": [
    {
     "data": {
      "text/plain": [
       "[2, 3]"
      ]
     },
     "execution_count": 7,
     "metadata": {},
     "output_type": "execute_result"
    }
   ],
   "source": [
    "def twoSum(numbers, target):\n",
    "    \"\"\"\n",
    "    :type numbers: List[int]\n",
    "    :type target: int\n",
    "    :rtype: List[int]\n",
    "    \"\"\"\n",
    "    left, right = 0, len(numbers)-1\n",
    "    total_sum = 0\n",
    "    while (left<right):\n",
    "        total_sum = numbers[left] + numbers[right]\n",
    "        if total_sum > target:\n",
    "            right -= 1\n",
    "        elif total_sum < target:\n",
    "            left += 1\n",
    "        elif total_sum == target:\n",
    "            return [left+1, right+1]\n",
    "        \n",
    "# numbers = [2,7,11,15]\n",
    "numbers = [5,25,75]\n",
    "target = 100\n",
    "twoSum(numbers, target)"
   ]
  },
  {
   "cell_type": "markdown",
   "metadata": {},
   "source": [
    "## Greedy search"
   ]
  },
  {
   "cell_type": "markdown",
   "metadata": {},
   "source": [
    "## 121. Best Time to Buy and Sell Stock\n",
    "Say you have an array for which the ith element is the price of a given stock on day i.\n",
    "\n",
    "If you were only permitted to complete at most one transaction (i.e., buy one and sell one share of the stock), design an algorithm to find the maximum profit.\n",
    "\n",
    "Note that you cannot sell a stock before you buy one.\n",
    "\n",
    "Example 1:\n",
    "\n",
    "Input: [7,1,5,3,6,4]\n",
    "\n",
    "Output: 5\n",
    "\n",
    "Explanation: Buy on day 2 (price = 1) and sell on day 5 (price = 6), profit = 6-1 = 5.\n",
    "             Not 7-1 = 6, as selling price needs to be larger than buying price.\n",
    "             \n",
    "Example 2:\n",
    "\n",
    "Input: [7,6,4,3,1]\n",
    "\n",
    "Output: 0\n",
    "\n",
    "Explanation: In this case, no transaction is done, i.e. max profit = 0."
   ]
  },
  {
   "cell_type": "code",
   "execution_count": 2,
   "metadata": {},
   "outputs": [
    {
     "data": {
      "text/plain": [
       "0"
      ]
     },
     "execution_count": 2,
     "metadata": {},
     "output_type": "execute_result"
    }
   ],
   "source": [
    "def maxProfit(prices):\n",
    "    \"\"\"\n",
    "    :type prices: List[int]\n",
    "    :rtype: int\n",
    "    \"\"\"\n",
    "    buy = prices[0]\n",
    "    profit = 0\n",
    "    \n",
    "    for i in range(1,len(prices)):\n",
    "        if prices[i] < buy:\n",
    "            buy = prices[i]\n",
    "        elif prices[i] - buy > profit:\n",
    "            profit = prices[i] - buy\n",
    "    return profit        \n",
    "        \n",
    "def maxProfit(prices):\n",
    "    \"\"\"\n",
    "    :type prices: List[int]\n",
    "    :rtype: int\n",
    "    \"\"\"\n",
    "    buy = prices[0]\n",
    "    profit = 0\n",
    "    for j in range(1, len(prices)):\n",
    "        if prices[j] < buy :\n",
    "            buy = prices[j]\n",
    "        elif prices[j] - buy > profit:\n",
    "            profit = prices[j] - buy\n",
    "    return profit\n",
    "\n",
    "# Input = [7,2,10,1,6,8] \n",
    "Input = [7,6,4,3,1]\n",
    "maxProfit(Input)"
   ]
  },
  {
   "cell_type": "markdown",
   "metadata": {},
   "source": [
    "## 122. Best Time to Buy and Sell Stock II\n",
    "\n",
    "Say you have an array for which the ith element is the price of a given stock on day i.\n",
    "\n",
    "Design an algorithm to find the maximum profit. You may complete as many transactions as you like (i.e., buy one and sell one share of the stock multiple times).\n",
    "\n",
    "Note: You may not engage in multiple transactions at the same time (i.e., you must sell the stock before you buy again).\n",
    "\n",
    "Example 1:\n",
    "\n",
    "Input: [7,1,5,3,6,4]\n",
    "\n",
    "Output: 7\n",
    "\n",
    "Explanation: Buy on day 2 (price = 1) and sell on day 3 (price = 5), profit = 5-1 = 4.\n",
    "             Then buy on day 4 (price = 3) and sell on day 5 (price = 6), profit = 6-3 = 3.\n",
    "             \n",
    "Example 2:\n",
    "\n",
    "Input: [1,2,3,4,5]\n",
    "\n",
    "Output: 4\n",
    "\n",
    "Explanation: Buy on day 1 (price = 1) and sell on day 5 (price = 5), profit = 5-1 = 4.\n",
    "             Note that you cannot buy on day 1, buy on day 2 and sell them later, as you are\n",
    "             engaging multiple transactions at the same time. You must sell before buying again.\n",
    "             \n",
    "Example 3:\n",
    "\n",
    "Input: [7,6,4,3,1]\n",
    "\n",
    "Output: 0\n",
    "\n",
    "Explanation: In this case, no transaction is done, i.e. max profit = 0."
   ]
  },
  {
   "cell_type": "code",
   "execution_count": 18,
   "metadata": {},
   "outputs": [
    {
     "data": {
      "text/plain": [
       "4"
      ]
     },
     "execution_count": 18,
     "metadata": {},
     "output_type": "execute_result"
    }
   ],
   "source": [
    "def maxProfit(prices):\n",
    "    \"\"\"\n",
    "    :type prices: List[int]\n",
    "    :rtype: int\n",
    "    \"\"\"\n",
    "    buy = 0\n",
    "    for i in range(1,len(prices)):\n",
    "            if prices[i-1]<prices[i]:\n",
    "                buy += (prices[i] - prices[i-1])\n",
    "    return buy  \n",
    "# prices = [7,1,5,3,6,4]\n",
    "prices =[1,2,3,4,5]\n",
    "maxProfit(prices)"
   ]
  },
  {
   "cell_type": "markdown",
   "metadata": {},
   "source": [
    "## 665. Non-decreasing Array\n",
    "\n",
    "Given an array with n integers, your task is to check if it could become non-decreasing by modifying at most 1 element.\n",
    "\n",
    "We define an array is non-decreasing if array[i] <= array[i + 1] holds for every i (1 <= i < n).\n",
    "\n",
    "Example 1:\n",
    "\n",
    "Input: [4,2,3]\n",
    "\n",
    "Output: True\n",
    "\n",
    "Explanation: You could modify the first 4 to 1 to get a non-decreasing array.\n",
    "\n",
    "Example 2:\n",
    "\n",
    "Input: [4,2,1]\n",
    "\n",
    "Output: False\n",
    "\n",
    "Explanation: You can't get a non-decreasing array by modify at most one element."
   ]
  },
  {
   "cell_type": "code",
   "execution_count": 109,
   "metadata": {},
   "outputs": [
    {
     "name": "stdout",
     "output_type": "stream",
     "text": [
      "[2, 3, 3, 2, 4]\n",
      "[2, 3, 3, 2, 4]\n",
      "[2, 3, 3, 3, 4]\n",
      "[2, 3, 3, 3, 4]\n"
     ]
    },
    {
     "data": {
      "text/plain": [
       "True"
      ]
     },
     "execution_count": 109,
     "metadata": {},
     "output_type": "execute_result"
    }
   ],
   "source": [
    "import math\n",
    "def checkPossibility(nums):\n",
    "    \"\"\"\n",
    "    :type nums: List[int]\n",
    "    :rtype: bool\n",
    "    \"\"\"\n",
    "    count = 0\n",
    "    for i in range(1,len(nums)):\n",
    "        if nums[i] < nums[i-1]:\n",
    "            count+=1\n",
    "            if nums[i-2] <= nums[i] or i<2:\n",
    "                nums[i-1] = nums[i]\n",
    "            else:\n",
    "                nums[i] = nums[i-1]\n",
    "    return count <= 1\n",
    "\n",
    "\n",
    "Input = [2,3,3,2,4]\n",
    "checkPossibility(Input)\n"
   ]
  },
  {
   "cell_type": "markdown",
   "metadata": {},
   "source": [
    "## 435. Non-overlapping Intervals\n",
    "Given a collection of intervals, find the minimum number of intervals you need to remove to make the rest of the intervals non-overlapping.\n",
    "\n",
    "Note:\n",
    "You may assume the interval's end point is always bigger than its start point.\n",
    "Intervals like [1,2] and [2,3] have borders \"touching\" but they don't overlap each other.\n",
    "\n",
    "Example 1:\n",
    "Input: [ [1,2], [2,3], [3,4], [1,3] ]\n",
    "\n",
    "Output: 1\n",
    "\n",
    "Explanation: [1,3] can be removed and the rest of intervals are non-overlapping.\n",
    "\n",
    "Example 2:\n",
    "Input: [ [1,2], [1,2], [1,2] ]\n",
    "\n",
    "Output: 2\n",
    "\n",
    "Explanation: You need to remove two [1,2] to make the rest of intervals non-overlapping.\n",
    "\n",
    "Example 3:\n",
    "Input: [ [1,2], [2,3] ]\n",
    "\n",
    "Output: 0\n",
    "\n",
    "Explanation: You don't need to remove any of the intervals since they're already non-overlapping."
   ]
  },
  {
   "cell_type": "code",
   "execution_count": 3,
   "metadata": {},
   "outputs": [
    {
     "ename": "AttributeError",
     "evalue": "'tuple' object has no attribute 'sort'",
     "output_type": "error",
     "traceback": [
      "\u001b[1;31m---------------------------------------------------------------------------\u001b[0m",
      "\u001b[1;31mAttributeError\u001b[0m                            Traceback (most recent call last)",
      "\u001b[1;32m<ipython-input-3-7b3770e878a2>\u001b[0m in \u001b[0;36m<module>\u001b[1;34m()\u001b[0m\n\u001b[0;32m      7\u001b[0m \u001b[1;33m\u001b[0m\u001b[0m\n\u001b[0;32m      8\u001b[0m \u001b[0mk\u001b[0m \u001b[1;33m=\u001b[0m \u001b[1;33m(\u001b[0m\u001b[1;33m[\u001b[0m\u001b[1;36m0\u001b[0m\u001b[1;33m,\u001b[0m \u001b[1;36m1\u001b[0m\u001b[1;33m]\u001b[0m\u001b[1;33m,\u001b[0m \u001b[1;33m[\u001b[0m\u001b[1;36m2\u001b[0m\u001b[1;33m,\u001b[0m \u001b[1;36m3\u001b[0m\u001b[1;33m]\u001b[0m\u001b[1;33m,\u001b[0m \u001b[1;33m[\u001b[0m\u001b[1;36m10\u001b[0m\u001b[1;33m,\u001b[0m \u001b[1;36m15\u001b[0m\u001b[1;33m]\u001b[0m\u001b[1;33m)\u001b[0m\u001b[1;33m\u001b[0m\u001b[0m\n\u001b[1;32m----> 9\u001b[1;33m \u001b[0meraseOverlapIntervals\u001b[0m\u001b[1;33m(\u001b[0m\u001b[0mk\u001b[0m\u001b[1;33m)\u001b[0m\u001b[1;33m\u001b[0m\u001b[0m\n\u001b[0m\u001b[0;32m     10\u001b[0m \u001b[1;33m\u001b[0m\u001b[0m\n",
      "\u001b[1;32m<ipython-input-3-7b3770e878a2>\u001b[0m in \u001b[0;36meraseOverlapIntervals\u001b[1;34m(intervals)\u001b[0m\n\u001b[0;32m      2\u001b[0m \u001b[1;32mdef\u001b[0m \u001b[0meraseOverlapIntervals\u001b[0m\u001b[1;33m(\u001b[0m\u001b[0mintervals\u001b[0m\u001b[1;33m)\u001b[0m\u001b[1;33m:\u001b[0m\u001b[1;33m\u001b[0m\u001b[0m\n\u001b[0;32m      3\u001b[0m     \u001b[1;32mif\u001b[0m \u001b[1;32mnot\u001b[0m \u001b[0mintervals\u001b[0m\u001b[1;33m:\u001b[0m \u001b[1;32mreturn\u001b[0m \u001b[1;36m0\u001b[0m\u001b[1;33m\u001b[0m\u001b[0m\n\u001b[1;32m----> 4\u001b[1;33m     \u001b[0mintervals\u001b[0m\u001b[1;33m.\u001b[0m\u001b[0msort\u001b[0m\u001b[1;33m(\u001b[0m\u001b[0mkey\u001b[0m\u001b[1;33m=\u001b[0m\u001b[1;32mlambda\u001b[0m \u001b[0mx\u001b[0m\u001b[1;33m:\u001b[0m \u001b[0mx\u001b[0m\u001b[1;33m.\u001b[0m\u001b[0mstart\u001b[0m\u001b[1;33m)\u001b[0m  \u001b[1;31m# sort on start time\u001b[0m\u001b[1;33m\u001b[0m\u001b[0m\n\u001b[0m\u001b[0;32m      5\u001b[0m     \u001b[1;32mfor\u001b[0m \u001b[0mi\u001b[0m \u001b[1;32min\u001b[0m \u001b[0mintervals\u001b[0m\u001b[1;33m:\u001b[0m\u001b[1;33m\u001b[0m\u001b[0m\n\u001b[0;32m      6\u001b[0m         \u001b[0mprint\u001b[0m\u001b[1;33m(\u001b[0m\u001b[0mi\u001b[0m\u001b[1;33m)\u001b[0m\u001b[1;33m\u001b[0m\u001b[0m\n",
      "\u001b[1;31mAttributeError\u001b[0m: 'tuple' object has no attribute 'sort'"
     ]
    }
   ],
   "source": [
    "from interval import interval, inf, imath\n",
    "def eraseOverlapIntervals(intervals):\n",
    "    if not intervals: return 0\n",
    "    intervals.sort(key=lambda x: x.start)  # sort on start time\n",
    "    res = [intervals[0]]\n",
    "    for i in intervals[1:]:\n",
    "        if i.start<res[-1].end:\n",
    "            res[-1].end = max(res[-1].end, i.end)\n",
    "        else:\n",
    "            res.append(i)\n",
    "        \n",
    "k = [[0, 1], [2, 3], [10, 15]]\n",
    "eraseOverlapIntervals(k)\n",
    "\n"
   ]
  },
  {
   "cell_type": "markdown",
   "metadata": {
    "collapsed": true
   },
   "source": [
    "## 455. Assign Cookies\n",
    "Assume you are an awesome parent and want to give your children some cookies. But, you should give each child at most one cookie. Each child i has a greed factor gi, which is the minimum size of a cookie that the child will be content with; and each cookie j has a size sj. If sj >= gi, we can assign the cookie j to the child i, and the child i will be content. Your goal is to maximize the number of your content children and output the maximum number.\n",
    "\n",
    "Note:\n",
    "You may assume the greed factor is always positive. \n",
    "You cannot assign more than one cookie to one child.\n",
    "\n",
    "\n",
    "Example 1:\n",
    "\n",
    "Input: [1,2,3], [1,1]\n",
    "\n",
    "Output: 1\n",
    "\n",
    "Explanation: You have 3 children and 2 cookies. The greed factors of 3 children are 1, 2, 3. \n",
    "And even though you have 2 cookies, since their size is both 1, you could only make the child whose greed factor is 1 content.\n",
    "You need to output 1.\n",
    "\n",
    "\n",
    "Example 2:\n",
    "\n",
    "Input: [1,2], [1,2,3]\n",
    "\n",
    "Output: 2\n",
    "\n",
    "Explanation: You have 2 children and 3 cookies. The greed factors of 2 children are 1, 2. \n",
    "You have 3 cookies and their sizes are big enough to gratify all of the children, \n",
    "You need to output 2."
   ]
  },
  {
   "cell_type": "code",
   "execution_count": 6,
   "metadata": {},
   "outputs": [
    {
     "name": "stdout",
     "output_type": "stream",
     "text": [
      "[7, 8, 9, 10]\n",
      "[5, 6, 7, 8]\n",
      "0\n",
      "1\n",
      "2\n",
      "3\n"
     ]
    },
    {
     "data": {
      "text/plain": [
       "2"
      ]
     },
     "execution_count": 6,
     "metadata": {},
     "output_type": "execute_result"
    }
   ],
   "source": [
    "def findContentChildren(g, s):\n",
    "    \"\"\"\n",
    "    :type g: List[int]\n",
    "    :type s: List[int]\n",
    "    :rtype: int\n",
    "    \"\"\"\n",
    "    g = sorted(g)\n",
    "    s = sorted(s)\n",
    "    gi = 0\n",
    "    si = 0\n",
    "    print(g)\n",
    "    print(s)\n",
    "    while gi<len(g) and si<len(s):\n",
    "        print(si)\n",
    "        if g[gi]<=s[si]:\n",
    "            gi += 1\n",
    "        si += 1\n",
    "    return gi\n",
    "            \n",
    "g = [10,9,8,7]#[1,2]#\n",
    "s = [5,6,7,8]#[1,2,3]#\n",
    "findContentChildren(g,s)"
   ]
  },
  {
   "cell_type": "markdown",
   "metadata": {},
   "source": [
    "## Binary search"
   ]
  },
  {
   "cell_type": "code",
   "execution_count": 39,
   "metadata": {},
   "outputs": [
    {
     "name": "stdout",
     "output_type": "stream",
     "text": [
      "4\n",
      "7\n",
      "5\n",
      "6\n"
     ]
    },
    {
     "data": {
      "text/plain": [
       "-1"
      ]
     },
     "execution_count": 39,
     "metadata": {},
     "output_type": "execute_result"
    }
   ],
   "source": [
    "import math\n",
    "\n",
    "## Solution by chiao\n",
    "def Binary_search(array, target):\n",
    "    mid_point = math.floor(len(array)/2)\n",
    "    print(mid_point)\n",
    "    if array[mid_point] == target:\n",
    "        print(\"Find\")\n",
    "    elif array[0]>target or array[-1]<target :\n",
    "        print(\"Didn't find target.\")\n",
    "    elif array[mid_point] > target :\n",
    "        array = array[ :mid_point ]\n",
    "        print(array)\n",
    "        Binary_search(array, target)\n",
    "    elif array[mid_point] < target:\n",
    "        array = array[ mid_point+1: ]\n",
    "        print(array)\n",
    "        Binary_search(array, target)\n",
    "\n",
    "def Binary_search_best(array, target):\n",
    "    l = 0\n",
    "    r = len(array)-1\n",
    "    \n",
    "    while(r>=l):\n",
    "        mid_point = l + math.floor((r-l)/2)\n",
    "        print(mid_point)\n",
    "        if array[mid_point] == target:\n",
    "            return mid_point\n",
    "        elif array[mid_point] < target:\n",
    "            l = mid_point + 1\n",
    "        else:\n",
    "            r = mid_point -1\n",
    "    return -1\n",
    "\n",
    "# def Binary_search_\n",
    "array = [1,2,3,4,4,5,5,8,9,10]\n",
    "target = 6\n",
    "# Binary_search(array,target)\n",
    "Binary_search_best(array,target)\n"
   ]
  },
  {
   "cell_type": "markdown",
   "metadata": {
    "collapsed": true
   },
   "source": [
    "## 69. Sqrt(x)"
   ]
  },
  {
   "cell_type": "code",
   "execution_count": 10,
   "metadata": {},
   "outputs": [
    {
     "data": {
      "text/plain": [
       "2.375"
      ]
     },
     "execution_count": 10,
     "metadata": {},
     "output_type": "execute_result"
    }
   ],
   "source": [
    "import math\n",
    "def Sqrt(x):\n",
    "    l = 1\n",
    "    r = x\n",
    "    while(l<=r):\n",
    "        mid = l + ((r-l)/2)\n",
    "        sqrt = (x / mid)\n",
    "        if  sqrt == mid:\n",
    "            return sqrt\n",
    "        elif sqrt < mid:\n",
    "            r = mid - 1\n",
    "        else:\n",
    "            l = mid + 1\n",
    "    return r\n",
    "\n",
    "\n",
    "Sqrt(8)            "
   ]
  },
  {
   "cell_type": "markdown",
   "metadata": {
    "collapsed": true
   },
   "source": [
    "## 744. Find Smallest Letter Greater Than Target"
   ]
  },
  {
   "cell_type": "code",
   "execution_count": null,
   "metadata": {
    "collapsed": true
   },
   "outputs": [],
   "source": [
    "def Find_Smallest_Letter(array, target):\n",
    "    l = 0\n",
    "    r = length(array)-1\n",
    "    mid = l + (r-l)/2\n",
    "    while(l<=r):\n",
    "        if target < array[mid]:\n",
    "            r = mid - 1\n",
    "        else\n",
    "            l = mid + 1\n",
    "    return array[r]"
   ]
  },
  {
   "cell_type": "markdown",
   "metadata": {
    "collapsed": true
   },
   "source": [
    "## 540. Single Element in a Sorted Array"
   ]
  },
  {
   "cell_type": "code",
   "execution_count": 3,
   "metadata": {},
   "outputs": [
    {
     "data": {
      "text/plain": [
       "1"
      ]
     },
     "execution_count": 3,
     "metadata": {},
     "output_type": "execute_result"
    }
   ],
   "source": [
    "import math\n",
    "def Find_Smallest_Letter(array):\n",
    "#     l = 0\n",
    "#     r = len(array)-1\n",
    "#     while(l<r):\n",
    "#         mid = l + math.floor((r - l)/2)\n",
    "#         if mid % 2 != 0:\n",
    "#             mid = mid - 1\n",
    "#         if array[mid] == array[mid+1]:\n",
    "#             l = mid + 2\n",
    "#         else:\n",
    "#             r = mid\n",
    "#         print(mid,\" \",l,\" \", r)\n",
    "#     return array[l]\n",
    "    res = array[0]\n",
    "    for i in range(1,len(array)):\n",
    "        res ^= array[i]\n",
    "    return res\n",
    "    \n",
    "# Input = [0 1 2 3 4 5 6 7 8] \n",
    "Input = [1,2,2,3,3,4,4,8,8]\n",
    "Find_Smallest_Letter(Input)"
   ]
  },
  {
   "cell_type": "markdown",
   "metadata": {},
   "source": [
    "## 278. First Bad Version\n",
    "You are a product manager and currently leading a team to develop a new product. Unfortunately, the latest version of your product fails the quality check. Since each version is developed based on the previous version, all the versions after a bad version are also bad.\n",
    "\n",
    "Suppose you have n versions [1, 2, ..., n] and you want to find out the first bad one, which causes all the following ones to be bad.\n",
    "\n",
    "You are given an API bool isBadVersion(version) which will return whether version is bad. Implement a function to find the first bad version. You should minimize the number of calls to the API."
   ]
  },
  {
   "cell_type": "code",
   "execution_count": null,
   "metadata": {
    "collapsed": true
   },
   "outputs": [],
   "source": [
    "import math\n",
    "def First_Bad_Version(n, first_version):\n",
    "    l = 1\n",
    "    r = n\n",
    "    while(l<r):\n",
    "        mid = l+((r-l)/2)\n",
    "        if isBadVersion(mid):\n",
    "            r = mid\n",
    "        else:\n",
    "            l = mid + 1 \n",
    "    return math.floor(r)"
   ]
  },
  {
   "cell_type": "markdown",
   "metadata": {},
   "source": [
    "## 153. Find Minimum in Rotated Sorted Array\n",
    "Suppose an array sorted in ascending order is rotated at some pivot unknown to you beforehand.\n",
    "\n",
    "(i.e.,  [0,1,2,4,5,6,7] might become  [4,5,6,7,0,1,2]).\n",
    "\n",
    "Find the minimum element.\n",
    "\n",
    "You may assume no duplicate exists in the array."
   ]
  },
  {
   "cell_type": "code",
   "execution_count": 10,
   "metadata": {},
   "outputs": [
    {
     "name": "stdout",
     "output_type": "stream",
     "text": [
      "5\n",
      "1\n"
     ]
    },
    {
     "data": {
      "text/plain": [
       "1"
      ]
     },
     "execution_count": 10,
     "metadata": {},
     "output_type": "execute_result"
    }
   ],
   "source": [
    "import math\n",
    "def findMin(nums):\n",
    "    \"\"\"\n",
    "    :type nums: List[int]\n",
    "    :rtype: int\n",
    "    \"\"\"\n",
    "    l = 0\n",
    "    r = len(nums)-1\n",
    "    while(l<r):\n",
    "        mid = l + round((r-l)/2)\n",
    "        print(nums[mid])\n",
    "        if nums[r] < nums[mid]:\n",
    "            l = mid + 1\n",
    "        else:\n",
    "            r = mid\n",
    "    return nums[l]\n",
    "        \n",
    "    \n",
    "Input = [3,4,5,1,2] \n",
    "\n",
    "findMin(Input)"
   ]
  },
  {
   "cell_type": "markdown",
   "metadata": {},
   "source": [
    "## 34. Search for a Range\n",
    "Given an array of integers nums sorted in ascending order, find the starting and ending position of a given target value.\n",
    "\n",
    "Your algorithm's runtime complexity must be in the order of O(log n).\n",
    "\n",
    "If the target is not found in the array, return [-1, -1].\n",
    "\n",
    "Example 1:\n",
    "\n",
    "Input: nums = [5,7,7,8,8,10]\n",
    "\n",
    "target = 8\n",
    "\n",
    "Output: [3,4]\n",
    "\n",
    "Example 2:\n",
    "\n",
    "Input: nums = [5,7,7,8,8,10] \n",
    "\n",
    "target = 6\n",
    "\n",
    "Output: [-1,-1]"
   ]
  },
  {
   "cell_type": "code",
   "execution_count": 17,
   "metadata": {},
   "outputs": [
    {
     "data": {
      "text/plain": [
       "(3, 4)"
      ]
     },
     "execution_count": 17,
     "metadata": {},
     "output_type": "execute_result"
    }
   ],
   "source": [
    "def searchRange(nums, target):\n",
    "    n = len(nums)\n",
    "    if n == 0:\n",
    "        return -1,-1\n",
    "    left, right = -1, -1\n",
    "    l, r = 0, n-1\n",
    "    while l < r:\n",
    "        m = l+(r-l)//2\n",
    "        if nums[m] < target: \n",
    "            l = m+1\n",
    "        else: \n",
    "            r = m\n",
    "    if nums[l] != target: \n",
    "        return -1, -1\n",
    "    \n",
    "    left = l\n",
    "    l, r = left, n-1\n",
    "    while l < r:\n",
    "        m = l+(r-l)//2+1\n",
    "        if nums[m] == target: \n",
    "            l = m\n",
    "        else: \n",
    "            r = m-1\n",
    "    right = l\n",
    "    return left, right \n",
    "\n",
    "Input = [5,7,7,8,8,10]\n",
    "target = 8\n",
    "\n",
    "searchRange(Input,target)"
   ]
  },
  {
   "cell_type": "code",
   "execution_count": 9,
   "metadata": {},
   "outputs": [
    {
     "name": "stdout",
     "output_type": "stream",
     "text": [
      "93\n",
      "29\n",
      "44\n",
      "51\n",
      "55\n",
      "53\n"
     ]
    },
    {
     "data": {
      "text/plain": [
       "-1"
      ]
     },
     "execution_count": 9,
     "metadata": {},
     "output_type": "execute_result"
    }
   ],
   "source": [
    "def bin_search(arr, left, high, key):\n",
    "    #Code here\n",
    "    arr_len = len(arr)\n",
    "\n",
    "    left, high = 0, arr_len-1\n",
    "\n",
    "    print(arr[52])\n",
    "    while left < high:\n",
    "        midd = left + round((high-left)/2)\n",
    "        print(midd)\n",
    "        if arr[midd] == key:\n",
    "            # print(midd)\n",
    "            return midd\n",
    "        if arr[midd] < key:\n",
    "            left = midd+1\n",
    "        else:\n",
    "            high = midd-1\n",
    "    return -1\n",
    "\n",
    "arr = \"1 2 3 4 5 6 8 9 10 14 16 19 22 23 25 26 27 29 31 34 35 36 38 39 40 45 46 48 50 51 52 57 59 60 61 63 67 68 69 71 75 76 77 79 81 82 83 86 87 88 90 92 93 94 95 96 98 99 100\"\n",
    "arr = list(map(int,arr.split(\" \")))\n",
    "target = 93\n",
    "\n",
    "bin_search(arr,0 ,0 ,target)"
   ]
  },
  {
   "cell_type": "markdown",
   "metadata": {},
   "source": [
    "## 53. Maximum Subarray"
   ]
  },
  {
   "cell_type": "code",
   "execution_count": 6,
   "metadata": {},
   "outputs": [
    {
     "name": "stdout",
     "output_type": "stream",
     "text": [
      "-2 -2\n",
      "1 1\n",
      "-2 1\n",
      "4 4\n",
      "3 4\n",
      "5 5\n",
      "6 6\n",
      "1 6\n",
      "5 6\n",
      "6\n"
     ]
    }
   ],
   "source": [
    "# 把之前的值與i相加來比大小，大的就當作最新的current\n",
    "def maxSubArray(nums):\n",
    "    \"\"\"\n",
    "    :type nums: List[int]\n",
    "    :rtype: int\n",
    "    \"\"\"\n",
    "    MaxSub = nums[0]\n",
    "    fn = 0\n",
    "    for i in nums:\n",
    "        fn = max([i,fn+i])\n",
    "        MaxSub = max(MaxSub,fn)\n",
    "        print(fn, MaxSub)\n",
    "\n",
    "    return MaxSub\n",
    "\n",
    "print(maxSubArray([-2,1,-3,4,-1,2,1,-5,4]))\n",
    "    "
   ]
  },
  {
   "cell_type": "markdown",
   "metadata": {},
   "source": [
    "## 771. Jewels and Stones"
   ]
  },
  {
   "cell_type": "code",
   "execution_count": 28,
   "metadata": {
    "collapsed": true
   },
   "outputs": [],
   "source": [
    "def numJewelsInStones(J, S):\n",
    "    \"\"\"\n",
    "    :type J: str\n",
    "    :type S: str\n",
    "    :rtype: int\n",
    "    \"\"\"\n",
    "    \n",
    "    a = list(set(J)) \n",
    "    S = list(S)\n",
    "    print(len(S))\n",
    "    count = 0\n",
    "    for i in range(len(S)):\n",
    "        for j in range(len(a)):\n",
    "            if a[j] == S[i]:\n",
    "                count+=1\n",
    "    return count\n",
    "        \n",
    "def SecondMethod(J,S):\n",
    "    setJ = set(J)\n",
    "    return sum(s in setJ for s in S)\n",
    "\n",
    "display(SecondMethod('aA','aAAbbbb'))"
   ]
  },
  {
   "cell_type": "markdown",
   "metadata": {},
   "source": [
    "## 2. Add Two Numbers"
   ]
  },
  {
   "cell_type": "code",
   "execution_count": 38,
   "metadata": {},
   "outputs": [
    {
     "name": "stdout",
     "output_type": "stream",
     "text": [
      "2\n",
      "1\n",
      "0\n",
      "2\n",
      "1\n",
      "0\n"
     ]
    },
    {
     "data": {
      "text/plain": [
       "['7', '0', '8']"
      ]
     },
     "metadata": {},
     "output_type": "display_data"
    }
   ],
   "source": [
    "def addTwoNumbers(l1, l2):\n",
    "    sum1 = 0\n",
    "    sum2 = 0\n",
    "\n",
    "    for i in range(len(l1)-1,-1,-1):\n",
    "        print(i)\n",
    "        sum1 += l1[i] * 10**(i)\n",
    "\n",
    "    for j in range(len(l2)-1,-1,-1):\n",
    "        print(j)\n",
    "        sum2 += l2[j] * 10**(j)\n",
    "        \n",
    "    total = sum1+sum2\n",
    "    ans=list(str(total)[::-1])\n",
    "    return ans\n",
    "\n",
    "display(addTwoNumbers([2,4,3],[5,6,4]))    "
   ]
  },
  {
   "cell_type": "code",
   "execution_count": null,
   "metadata": {
    "collapsed": true
   },
   "outputs": [],
   "source": []
  }
 ],
 "metadata": {
  "kernelspec": {
   "display_name": "Python 3",
   "language": "python",
   "name": "python3"
  },
  "language_info": {
   "codemirror_mode": {
    "name": "ipython",
    "version": 3
   },
   "file_extension": ".py",
   "mimetype": "text/x-python",
   "name": "python",
   "nbconvert_exporter": "python",
   "pygments_lexer": "ipython3",
   "version": "3.6.2"
  }
 },
 "nbformat": 4,
 "nbformat_minor": 2
}
