{
 "cells": [
  {
   "cell_type": "code",
   "execution_count": null,
   "metadata": {},
   "outputs": [],
   "source": [
    "def MinimizeAdd(array):\n",
    "    origin_array = list(array)\n",
    "    maxnum = array[0]\n",
    "    count = 0\n",
    "    array.sort()\n",
    "    for i in range(1, len(array)):\n",
    "        if array[i] <= array[i-1]:\n",
    "            maxnum = max(maxnum+1, array[i]+1)\n",
    "            count += maxnum-array[i]\n",
    "            array[i] = maxnum\n",
    "    print(array)\n",
    "    print(sum(array) - sum(origin_array))\n",
    "    return count\n",
    "\n",
    "# array = [3,4,5,5,5,5,10]\n",
    "# array = [1,1,1,1,1,1,10]\n",
    "# array = [100,100,100]\n",
    "# array = [1,1,1,1,1,2]\n",
    "# array = [2, 2, 3, 5, 6]\n",
    "array = [1, 2, 10000000,10000000]\n",
    "MinimizeAdd(array)"
   ]
  },
  {
   "cell_type": "code",
   "execution_count": 25,
   "metadata": {},
   "outputs": [
    {
     "name": "stdout",
     "output_type": "stream",
     "text": [
      " xxxxx aaaa bbbb cccc\n"
     ]
    }
   ],
   "source": [
    "#output\n",
    "#極光星辰 海關鎖行李箱\n",
    "#現貨特價供應 !! 天德牌 天德 R2終極完美版 雨衣兩件式 隱藏式雨鞋套3M反光條\n",
    "    \n",
    "    \n",
    "\n",
    "def str_filter(s):\n",
    "    Dict = { \"<<Travelhouse>>\":1, \"<<Travel House>>\":2 }\n",
    "    i_length = len(s)\n",
    "    for i in Dict:\n",
    "        i_length = len(i)\n",
    "        for j in range(len(s)):\n",
    "            temp = s[j:j+i_length]\n",
    "            if temp == i:\n",
    "                s = s[j+i_length:]\n",
    "    return s\n",
    "#     for j in range(len(s)):\n",
    "#         temp = s[j:j+i_length-1]\n",
    "#         if Dict[temp]:\n",
    "#             print(temp)\n",
    "#             s = s[j+i_length:]\n",
    "            \n",
    "    return s\n",
    "\n",
    "\n",
    "Input = \"<<Travelhouse>> xxxxx aaaa bbbb cccc\"\n",
    "print(str_filter(Input))"
   ]
  },
  {
   "cell_type": "code",
   "execution_count": null,
   "metadata": {
    "collapsed": true
   },
   "outputs": [],
   "source": [
    "    n = int(input())\n",
    "    arr = list(map(int, input().split()))\n",
    "    \n",
    "    left_max = [0] * n\n",
    "    right_min = [0] * n\n",
    "    \n",
    "    for i in range(n-2,-1, -1):\n",
    "        right_min[i] = max(right_min[i+1],arr[i+1])\n",
    "    \n",
    "    for j in range(n-1):\n",
    "        left_max[i] = max(left_max[i-1],arr[i-1])\n",
    "    res = -1\n",
    "    for i in range(n-1, -1,-1):\n",
    "        if left_max[i] < arr[i] and right_min[i] > arr[i]:\n",
    "            res = arr[i]\n",
    "    print(res)"
   ]
  },
  {
   "cell_type": "code",
   "execution_count": 1,
   "metadata": {},
   "outputs": [
    {
     "name": "stdout",
     "output_type": "stream",
     "text": [
      "[(33, True), (54, True), (123, True), (123, True), (127, True), (128, True), (131, True), (200, False), (313, True), (334, True), (350, True), (357, True), (452, True), (623, True), (626, True), (632, True), (635, True), (647, False), (704, True), (720, True), (755, False), (800, False), (853, True), (907, True), (924, False), (926, True), (932, True), (941, False), (941, False), (941, True), (949, False), (1008, True), (1030, False), (1032, True), (1141, True), (1202, False), (1238, False), (1300, False), (1315, True), (1332, False), (1337, True), (1348, False), (1350, False), (1359, True), (1411, False), (1500, False), (1500, False), (1500, True), (1509, True), (1543, False), (1549, False), (1551, True), (1552, False), (1700, False), (1718, True), (1751, False), (1829, False), (1854, True), (1857, False), (1924, True), (2010, False), (2013, False), (2022, False), (2100, False), (2105, False), (2125, False), (2151, False), (2300, False), (2300, False), (2335, False)]\n"
     ]
    },
    {
     "data": {
      "text/plain": [
       "19"
      ]
     },
     "execution_count": 1,
     "metadata": {},
     "output_type": "execute_result"
    }
   ],
   "source": [
    "def min_platform(arrive, departure):\n",
    "    arrive = list(map(int,arrive.split(\" \")))\n",
    "    departure = list(map(int,departure.split(\" \")))\n",
    "    interval = []\n",
    "    for i in range(len(arrive)):\n",
    "        interval.append([arrive[i],departure[i]])\n",
    "    \n",
    "    temp = []\n",
    "    for i in interval:\n",
    "        temp.append((i[0], True))\n",
    "        temp.append((i[1],False))\n",
    "    temp = sorted(temp, key = lambda x:(x[0], x[1]))\n",
    "    print(temp)\n",
    "\n",
    "    res = [temp[0]]\n",
    "    platform = 0\n",
    "    min_plat = 0\n",
    "    for i in range(len(temp)-1):\n",
    "        if temp[i][1]:\n",
    "            platform += 1\n",
    "        elif temp[i][0] != temp[i+1][0] and not temp[i][1]:\n",
    "            platform -= 1\n",
    "        min_plat = max(platform, min_plat)\n",
    "    return min_plat\n",
    "arrive = \"1445 1709 124 1422 552 1413 1828 551 847 32 1347 1131 1320 553 1710 825 1658 623 244 643 740 2 233 1327 1408 1543 59 1023 525 323 628 921 1740 1317 1807 811 146 840 1216 931 1910 633 817 1506 1800 935 242 1615 1435 1711 1515 328 1837 301 1801 757 1337 1620 853 1917 1316 1325 1355 1908 1111\"\n",
    "departure = \"1519 1759 2000 1431 1522 1445 1847 558 2117 1600 1348 1315 2100 2100 1735 1700 2100 644 341 1048 1535 1335 1721 1442 1837 1734 2238 1048 1400 2346 1641 958 1829 2300 1826 1018 855 844 1224 1000 1958 645 826 1740 2151 955 527 1633 1453 1718 2212 810 1921 400 2000 2102 1345 1627 1200 1928 1355 1400 1357 1924 2100\" \n",
    "arrive =\"635 1032 632 941 1141 1509 1359 128 123 626 313 350 853 1551 54 123 357 1500 334 1315 131 1008 33 926 907 932 452 127 704 1854 1718 1924 1337 623 720\"\n",
    "departure = \"1202 2100 2151 941 1751 1549 1411 949 1500 647 2105 1350 1552 2300 2022 1238 2013 1543 2300 1332 2125 1300 200 941 924 1030 800 2010 755 1857 1829 2335 1348 1700 1500\"\n",
    "\n",
    "\n",
    "min_platform(arrive, departure)"
   ]
  },
  {
   "cell_type": "code",
   "execution_count": 30,
   "metadata": {},
   "outputs": [
    {
     "name": "stdout",
     "output_type": "stream",
     "text": [
      "[-1, -1, 1, 2, 3, 4]\n"
     ]
    }
   ],
   "source": [
    "def kth_largest(arr, k):\n",
    "    arr = list(map(int, arr.split(\" \")))\n",
    "    n = len(arr)\n",
    "    dp = [-1] * n\n",
    "\n",
    "    arr.sort()\n",
    "    for i in range(k-1,n):\n",
    "\n",
    "        temp = arr[i-k+1:i+1]\n",
    "\n",
    "        if len(temp)<k:\n",
    "            dp[i] = temp[0]\n",
    "        else:\n",
    "            dp[i] = temp[-k]\n",
    "    print(dp)\n",
    "            \n",
    "# k = 47 \n",
    "# Input = \"778 916 794 336 387 493 650 422 363 28 691 60 764 927 541 427 173 737 212 369 568 430 783 531 863 124 68 136 930 803 23 59 70 168 394 457 12 43 230 374 422 920 785 538 199 325 316 371 414 527 92 981 957 874 863 171 997 282 306 926 85 328 337 506 847 730 314 858 125 896 583 546 815 368 435 365 44 751 88 809 277 179 789 585\"\n",
    "\n",
    "k = 3\n",
    "Input = \"6 5 4 3 2 1\"\n",
    "\n",
    "kth_largest(Input, k)"
   ]
  },
  {
   "cell_type": "code",
   "execution_count": 3,
   "metadata": {
    "collapsed": true
   },
   "outputs": [],
   "source": [
    "## LIS"
   ]
  },
  {
   "cell_type": "code",
   "execution_count": 4,
   "metadata": {},
   "outputs": [
    {
     "data": {
      "text/plain": [
       "111"
      ]
     },
     "execution_count": 4,
     "metadata": {},
     "output_type": "execute_result"
    }
   ],
   "source": [
    "def LIS(arr):\n",
    "    msis = arr\n",
    "    # Compute maximum sum  \n",
    "    # values in bottom up manner \n",
    "    for i in range(1, len(arr)): \n",
    "        for j in range(i): \n",
    "            if (arr[i] > arr[j] and\n",
    "                msis[i] < msis[j] + arr[i]): \n",
    "                msis[i] = msis[j] + arr[i]\n",
    "    return max(msis)\n",
    "\n",
    "Input = [1, 101, 2, 3, 100, 4, 5]\n",
    "\n",
    "LIS(Input)"
   ]
  },
  {
   "cell_type": "markdown",
   "metadata": {},
   "source": [
    "## Equilibrium point"
   ]
  },
  {
   "cell_type": "code",
   "execution_count": 5,
   "metadata": {},
   "outputs": [
    {
     "name": "stdout",
     "output_type": "stream",
     "text": [
      "-1\n"
     ]
    }
   ],
   "source": [
    "def Equilibrium_point(arr):\n",
    "    arr = list(map(int, arr.split()))\n",
    "    total_sum = sum(arr)\n",
    "#     print(total_sum)\n",
    "\n",
    "    left_sum = arr[0]\n",
    "    index = -1\n",
    "    for i in range(1, len(arr)):\n",
    "        \n",
    "        if (total_sum - arr[i])/2 == left_sum:\n",
    "            index = i+1\n",
    "\n",
    "\n",
    "        left_sum += arr[i]\n",
    "    print(index)  \n",
    "Input = \"4 42 27 16 28 3 4 5 9 3 31 5 5 29 10 18 35 35 33 19 41 23 8 32 9 5 8 18 35 13 6 7 6 10 11 13 37 2 25 7 28 43\"\n",
    "Input = \"27 4 25 6 6 1 27 22 19 29 6 9 36 24 6 15 5\"\n",
    "Input = \"33 33 26 7 19 23 8 43\"\n",
    "Equilibrium_point(Input)"
   ]
  },
  {
   "cell_type": "markdown",
   "metadata": {},
   "source": [
    "## Sort an array of 0s, 1s and 2s"
   ]
  },
  {
   "cell_type": "code",
   "execution_count": 6,
   "metadata": {
    "collapsed": true
   },
   "outputs": [],
   "source": [
    "def Sort_zeros(array):\n",
    "    zero, one = 0, 0\n",
    "    for i in range(len(array)):\n",
    "        v = array[i]\n",
    "        array[i] = 2\n",
    "        if v < 2:\n",
    "            array[one] = 1\n",
    "            one+=1\n",
    "        if v == 0:\n",
    "            array[zero] = 0\n",
    "            zero += 1\n",
    "    return array\n",
    "    "
   ]
  },
  {
   "cell_type": "markdown",
   "metadata": {},
   "source": [
    "## Subarray with given sum"
   ]
  },
  {
   "cell_type": "code",
   "execution_count": 7,
   "metadata": {},
   "outputs": [
    {
     "data": {
      "text/plain": [
       "[2, 5]"
      ]
     },
     "execution_count": 7,
     "metadata": {},
     "output_type": "execute_result"
    }
   ],
   "source": [
    "def given_sum(array, target_sum):\n",
    "    \n",
    "    cur_sum = array[0]\n",
    "    start = 0\n",
    "    for i in range(1, len(array)):\n",
    "        cur_sum += array[i]\n",
    "        while start <= i and cur_sum >= target_sum:\n",
    "            if cur_sum == target_sum:\n",
    "                return [start+1, i+1]\n",
    "            cur_sum -= array[start]\n",
    "            start+=1\n",
    "\n",
    "    return False\n",
    "\n",
    "array = [1,2,3, 7, 5]\n",
    "target_sum = 12\n",
    "\n",
    "# array = [1, 2, 3, 4, 5, 6, 7, 8, 9, 10]\n",
    "# target_sum = 15\n",
    "array = [15, 2, 4, 8, 9, 5, 10, 23]\n",
    "target_sum = 23\n",
    "given_sum(array, target_sum)"
   ]
  },
  {
   "cell_type": "code",
   "execution_count": null,
   "metadata": {
    "collapsed": true
   },
   "outputs": [],
   "source": []
  }
 ],
 "metadata": {
  "kernelspec": {
   "display_name": "Python 3",
   "language": "python",
   "name": "python3"
  },
  "language_info": {
   "codemirror_mode": {
    "name": "ipython",
    "version": 3
   },
   "file_extension": ".py",
   "mimetype": "text/x-python",
   "name": "python",
   "nbconvert_exporter": "python",
   "pygments_lexer": "ipython3",
   "version": "3.6.2"
  }
 },
 "nbformat": 4,
 "nbformat_minor": 2
}
