{
 "cells": [
  {
   "cell_type": "markdown",
   "metadata": {},
   "source": [
    "## Subarray with given sum"
   ]
  },
  {
   "cell_type": "code",
   "execution_count": 10,
   "metadata": {},
   "outputs": [
    {
     "data": {
      "text/plain": [
       "[2, 5]"
      ]
     },
     "execution_count": 10,
     "metadata": {},
     "output_type": "execute_result"
    }
   ],
   "source": [
    "def given_sum(array, target_sum):\n",
    "    \n",
    "    cur_sum = array[0]\n",
    "    start = 0\n",
    "    for i in range(1, len(array)):\n",
    "        cur_sum += array[i]\n",
    "        while start <= i and cur_sum >= target_sum:\n",
    "            if cur_sum == target_sum:\n",
    "                return [start+1, i+1]\n",
    "            cur_sum -= array[start]\n",
    "            start+=1\n",
    "\n",
    "    return False\n",
    "\n",
    "array = [1,2,3, 7, 5]\n",
    "target_sum = 12\n",
    "\n",
    "# array = [1, 2, 3, 4, 5, 6, 7, 8, 9, 10]\n",
    "# target_sum = 15\n",
    "array = [15, 2, 4, 8, 9, 5, 10, 23]\n",
    "target_sum = 23\n",
    "given_sum(array, target_sum)"
   ]
  },
  {
   "cell_type": "code",
   "execution_count": null,
   "metadata": {
    "collapsed": true
   },
   "outputs": [],
   "source": []
  }
 ],
 "metadata": {
  "kernelspec": {
   "display_name": "Python 3",
   "language": "python",
   "name": "python3"
  },
  "language_info": {
   "codemirror_mode": {
    "name": "ipython",
    "version": 3
   },
   "file_extension": ".py",
   "mimetype": "text/x-python",
   "name": "python",
   "nbconvert_exporter": "python",
   "pygments_lexer": "ipython3",
   "version": "3.5.2"
  }
 },
 "nbformat": 4,
 "nbformat_minor": 2
}
